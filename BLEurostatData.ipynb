{
 "cells": [
  {
   "cell_type": "markdown",
   "id": "2ada3fe7-628c-486e-bbb5-09330281b74f",
   "metadata": {},
   "source": [
    "# Black-Litterman Analysis on Eurostat Data\n",
    "Ellie Cox\n",
    "\n",
    "This file will conduct markowitz and black-litterman analysis on energy supply data retrieved from eurostat. \n",
    "First with the full data, then taking the average when excluding one country at a time, the average when excluding one year of data at a time, and lastly using a randomly selected 75\\% of the data"
   ]
  },
  {
   "cell_type": "markdown",
   "id": "2933a554-48b5-4a95-9df8-0153729a8ed4",
   "metadata": {},
   "source": [
    "## Load Packages"
   ]
  },
  {
   "cell_type": "code",
   "execution_count": 3,
   "id": "9a09fe7f-672a-47b5-b25e-57ab9c95a0a3",
   "metadata": {},
   "outputs": [],
   "source": [
    "import numpy as np\n",
    "import pandas as pd\n",
    "import scipy.stats as stat\n",
    "import matplotlib.pyplot as plt\n",
    "from pylab import rcParams\n",
    "%matplotlib inline"
   ]
  },
  {
   "cell_type": "code",
   "execution_count": 4,
   "id": "5d351834-afb8-4797-8d0b-c20cc246046a",
   "metadata": {},
   "outputs": [],
   "source": [
    "import pypfopt as pyp\n",
    "import warnings\n",
    "warnings.filterwarnings(\"ignore\")"
   ]
  },
  {
   "cell_type": "markdown",
   "id": "4ad79c22-7415-47b0-a428-b34d06011a4c",
   "metadata": {},
   "source": [
    "## Read Data"
   ]
  },
  {
   "cell_type": "code",
   "execution_count": 5,
   "id": "16eb8d55-9d8d-4b79-b12e-fb50d44cc431",
   "metadata": {},
   "outputs": [],
   "source": [
    "# Read data using pandas\n",
    "data = pd.read_csv(\"/Users/elizabeth/Documents/Master's Project/Data/EU_TotalEnergySupply.csv\")\n",
    "\n",
    "# Create list of column names\n",
    "data.columns.values.tolist()\n",
    "# Rename columns to make life easier\n",
    "data.columns = [c.replace(' ', '_') for c in data.columns] # remove spaces\n",
    "data.columns = [c.replace('(', '') for c in data.columns] # remove open parenthesis\n",
    "data.columns = [c.replace(')', '') for c in data.columns] # remove close parenthesis\n",
    "data.columns.values.tolist()\n",
    "\n",
    "# Get rid of ':' and shorten other names\n",
    "data = data.replace([':'],'')\n",
    "data = data.replace(['European Union - 27 countries (from 2020)'],'EU')\n",
    "data = data.replace(['Euro area - 19 countries  (from 2015)'],'Euro area')\n",
    "data = data.replace(['Germany (until 1990 former territory of the FRG)'],'Germany')\n",
    "data = data.replace(['Kosovo (under United Nations Security Council Resolution 1244/99)'],'Kosovo')\n",
    "\n",
    "# Change Data type to numeric\n",
    "data[data.columns[2:]] = data[data.columns[2:]].apply(pd.to_numeric, errors ='coerce')"
   ]
  },
  {
   "cell_type": "markdown",
   "id": "d39bcfbc-55d3-4c9f-b1e2-bf877eadabe7",
   "metadata": {},
   "source": [
    "## Missing Data\n",
    "Missing Data is handled in 2 ways:\n",
    "\n",
    "    1) Replacing missing data with the country's average\n",
    "    2) Dropping it"
   ]
  },
  {
   "cell_type": "markdown",
   "id": "b4b7b664-f505-4660-bf09-427dcfbf4b2b",
   "metadata": {},
   "source": [
    "## Impute Data"
   ]
  },
  {
   "cell_type": "code",
   "execution_count": 6,
   "id": "3d20716a-1b41-433c-b294-6a6ee730a270",
   "metadata": {},
   "outputs": [],
   "source": [
    "## 1) Impute data with the average\n",
    "frames = []\n",
    "for i in list(set(data['Country'])):\n",
    "            df_country = data[data['Country'] == i] \n",
    "            df_country['Total_GWH'].fillna(df_country['Total_GWH'].mean(),inplace = True)\n",
    "            df_country['Solid_fossil_fuels'].fillna(df_country['Solid_fossil_fuels'].mean(), inplace = True)\n",
    "            df_country['Peat_and_peat_products'].fillna(df_country['Peat_and_peat_products'].mean(), inplace = True)\n",
    "            df_country['Solar_Thermal'].fillna(df_country['Solar_Thermal'].mean(), inplace = True)\n",
    "            df_country['Oil_and_petroleum_products'].fillna(df_country['Oil_and_petroleum_products'].mean(), inplace = True)\n",
    "            df_country['Natural_gas'].fillna(df_country['Natural_gas'].mean(), inplace = True)\n",
    "            df_country['Renewables_and_biofuels'].fillna(df_country['Renewables_and_biofuels'].mean(), inplace = True)\n",
    "            df_country['Nuclear_heat'].fillna(df_country['Nuclear_heat'].mean(),inplace = True)\n",
    "            df_country['Hydro'].fillna(df_country['Hydro'].mean(),inplace = True)\n",
    "            df_country['Geothermal'].fillna(df_country['Geothermal'].mean(),inplace = True)\n",
    "            df_country['Ambient_Heat'].fillna(df_country['Ambient_Heat'].mean(),inplace = True)\n",
    "            df_country['Tide_wave_and_ocean'].fillna(df_country['Tide_wave_and_ocean'].mean(),inplace = True)\n",
    "            df_country['Wind'].fillna(df_country['Wind'].mean(),inplace = True)\n",
    "            df_country['Biofuels_solid'].fillna(df_country['Biofuels_solid'].mean(),inplace = True)\n",
    "            df_country['Biofuels_other'].fillna(df_country['Biofuels_other'].mean(),inplace = True)\n",
    "            df_country['Biofuels'].fillna(df_country['Biofuels'].mean(),inplace = True)\n",
    "            frames.append(df_country)\n",
    "            final_df = pd.concat(frames)\n",
    "data_impute = final_df"
   ]
  },
  {
   "cell_type": "markdown",
   "id": "8cf6e7a7-0efc-4c9e-b62d-b431160a13cb",
   "metadata": {},
   "source": [
    "## Define B-L Function"
   ]
  },
  {
   "cell_type": "code",
   "execution_count": 30,
   "id": "276e0228-8ea5-4db8-b4c1-e106285f6cdb",
   "metadata": {},
   "outputs": [],
   "source": [
    "def bl(n_assets, n_obs, return_vec, view):\n",
    "    '''\n",
    "    This function evaluates the equillibrium returns of a portfolio and generates the sample\n",
    "    Inputs: \n",
    "    n_assets: Number of assets\n",
    "    n_obs: Number of observations\n",
    "    return_vec: A matrix of returns of shape n_obs x n_assets (a np.array)\n",
    "    view: a vector of investor views of length n_assets\n",
    "    Returns: \n",
    "    weights: optimal weights\n",
    "    bl_returns: BL returns\n",
    "    S: BL risk\n",
    "    '''\n",
    "    R = pd.Series(np.mean(return_vec, axis = 0)) # Market returns\n",
    "    pi = R - 0 * np.ones(n_assets) # equillibrium risk premiums where R_f = 0\n",
    "    r = np.cov(return_vec.T)\n",
    "    \n",
    "    rng = np.random.default_rng()\n",
    "    cov_struct = rng.multivariate_normal(np.zeros(n_assets), cov = r, size = n_obs)\n",
    "    S = pyp.risk_models.CovarianceShrinkage(cov_struct).ledoit_wolf()\n",
    "    delta = pyp.black_litterman.market_implied_risk_aversion(pi, risk_free_rate=0.5)\n",
    "    \n",
    "    market_prior = pd.Series(np.mean(return_vec, axis = 0))\n",
    "    views = pd.Series(view)\n",
    "    \n",
    "    bl = pyp.BlackLittermanModel(S, pi=market_prior, absolute_views=views)\n",
    "    bl_return = bl.bl_returns()\n",
    "\n",
    "    ef = pyp.EfficientFrontier(bl_return, r)\n",
    "    bl.bl_weights(delta)\n",
    "    weights = bl.clean_weights()\n",
    "\n",
    "    S_bl = bl.bl_cov()\n",
    "    return weights, bl_return, S_bl"
   ]
  },
  {
   "cell_type": "markdown",
   "id": "4cf02211-1f74-44ec-927c-7ab24256b751",
   "metadata": {},
   "source": [
    "## Optimization on Full Data set"
   ]
  },
  {
   "cell_type": "code",
   "execution_count": 52,
   "id": "e2062bb5-12fc-4e86-afd9-383c7a1531ed",
   "metadata": {},
   "outputs": [],
   "source": [
    "## Create subset of data\n",
    "\n",
    "cdat = data_impute.loc[:,['Solid_fossil_fuels','Peat_and_peat_products','Oil_and_petroleum_products', \n",
    "                  'Natural_gas', 'Nuclear_heat', 'Renewables_and_biofuels']]"
   ]
  },
  {
   "cell_type": "code",
   "execution_count": 55,
   "id": "241b8732-2913-4f30-86c2-22bae78ba6d3",
   "metadata": {},
   "outputs": [],
   "source": [
    "## Run one optimization - this returns the results for the full data set and will report the \n",
    "## results of one optimization instead of an average \n",
    "\n",
    "## Set view - I'm going to start by using the median\n",
    "view = np.array(np.median(cdat, axis = 0))\n",
    "\n",
    "full_wt, full_rt, full_rsk = bl(cdat.shape[1], cdat.shape[0], np.array(cdat), view)\n",
    "weight_full = list(full_wt.items())\n",
    "w_full = [x[1] for x in weight_full]\n",
    "full_wt = w_full"
   ]
  },
  {
   "cell_type": "code",
   "execution_count": 62,
   "id": "3c40d843-24e0-482b-935a-8e68c4b43dbb",
   "metadata": {},
   "outputs": [
    {
     "name": "stdout",
     "output_type": "stream",
     "text": [
      "weights = [0.15641, 0.0014, 0.33644, 0.23665, 0.11909, 0.15002] \n",
      "returns = [109502.09953958    978.35123333 235548.34631236 165683.0556866\n",
      "  83373.66182262 105027.50452499] \n",
      "risks =[7033862.17019782 7033862.17019782 7033862.17019782 7033862.17019782\n",
      " 7033862.17019782 7033862.17019782]\n"
     ]
    }
   ],
   "source": [
    "print('weights = '+str(full_wt),\n",
    "      '\\nreturns = '+str(np.array(full_rt).T),\n",
    "      '\\nrisks ='+str(np.diagonal(np.matrix(full_rsk))))"
   ]
  },
  {
   "cell_type": "markdown",
   "id": "53d9c02b-3c63-424f-8cc8-af71fe862feb",
   "metadata": {},
   "source": [
    "## Calculate average over dropping one country at a time"
   ]
  },
  {
   "cell_type": "code",
   "execution_count": 63,
   "id": "a2e0cf39-d7cf-4dca-bfd9-04ac9c46ea49",
   "metadata": {},
   "outputs": [],
   "source": [
    "## Full data set - with country and year for filtering\n",
    "cdat = data_impute.loc[:,['Country','Year','Solid_fossil_fuels','Peat_and_peat_products','Oil_and_petroleum_products', \n",
    "                  'Natural_gas', 'Nuclear_heat', 'Renewables_and_biofuels']]"
   ]
  },
  {
   "cell_type": "code",
   "execution_count": 64,
   "id": "8bdd5f32-c9d0-4599-81f5-e06ec152512e",
   "metadata": {},
   "outputs": [],
   "source": [
    "weight_res = np.zeros((len(data.groupby('Country')),len(cdat.T)-2))\n",
    "return_res = np.zeros((len(data.groupby('Country')),len(cdat.T)-2))\n",
    "risks_res = np.zeros((len(data.groupby('Country')),len(cdat.T)-2))\n",
    "\n",
    "for i in range(len(data.groupby('Country'))):\n",
    "    country_dat = cdat.loc[(cdat.Country != cdat.Country.unique()[i])]\n",
    "    country_dat = country_dat.loc[:,['Solid_fossil_fuels','Peat_and_peat_products','Oil_and_petroleum_products', \n",
    "                  'Natural_gas', 'Nuclear_heat', 'Renewables_and_biofuels']]\n",
    "    ## Set view - I'm going to start by using the median\n",
    "    view = np.array(np.median(country_dat, axis = 0))\n",
    "    weights, returns, risks = bl(country_dat.shape[1], country_dat.shape[0], np.array(country_dat), view)\n",
    "    weights = list(weights.items())\n",
    "    w = [x[1] for x in weights]\n",
    "    weight_res[i,:] = w\n",
    "    return_res[i,:] = np.array(returns).T\n",
    "    risks_res[i,:] = np.diagonal(np.array(risks))\n",
    "    "
   ]
  },
  {
   "cell_type": "code",
   "execution_count": 68,
   "id": "fc44abae-70db-45aa-8512-3d3e5a580f0d",
   "metadata": {},
   "outputs": [
    {
     "name": "stdout",
     "output_type": "stream",
     "text": [
      "weights (mean) = [0.15551571 0.00146238 0.33486452 0.23991143 0.11476381 0.1534819 ] \n",
      "returns (mean) = [109260.12630077    991.10394678 236383.49340321 165225.41353941\n",
      "  83356.82894891 105494.82591162] \n",
      "risks (mean) =[7956311.59741047 7905891.31538599 7930779.88998607 7909083.2893372\n",
      " 8098894.83213647 7905075.69836393]\n"
     ]
    }
   ],
   "source": [
    "print('weights (mean) = '+str(np.mean(weight_res, axis=0)),\n",
    "      '\\nreturns (mean) = '+str(np.mean(return_res, axis=0)),\n",
    "      '\\nrisks (mean) ='+str(np.mean(risks_res, axis=0)))"
   ]
  },
  {
   "cell_type": "code",
   "execution_count": 67,
   "id": "0481bb85-8713-43a9-b55e-fb8a97159b6a",
   "metadata": {},
   "outputs": [
    {
     "name": "stdout",
     "output_type": "stream",
     "text": [
      "weights (std) = [0.01720593 0.00055449 0.03011869 0.01644752 0.01842228 0.01075178] \n",
      "returns (std) = [ 6002.65900369   154.97973476 13600.64202144 10147.97361996\n",
      "  5874.09629043  5894.24746583] \n",
      "risks (std) =[22568094.33363041 22578807.14321893 22571142.59375135 22578010.83195563\n",
      " 22542141.07985709 22579047.80776891]\n"
     ]
    }
   ],
   "source": [
    "print('weights (std) = '+str(np.std(weight_res, axis=0)),\n",
    "      '\\nreturns (std) = '+str(np.std(return_res, axis=0)),\n",
    "      '\\nrisks (std) ='+str(np.std(risks_res, axis=0)))"
   ]
  },
  {
   "cell_type": "markdown",
   "id": "a85c238e-9526-4e38-8c90-9a029dc72a25",
   "metadata": {},
   "source": [
    "## Calculate average over dropping one year at a time"
   ]
  },
  {
   "cell_type": "code",
   "execution_count": 70,
   "id": "53cafa2f-ae0e-490e-bb78-1aa6253436c8",
   "metadata": {},
   "outputs": [],
   "source": [
    "weight_res = np.zeros((len(data.groupby('Year')),len(cdat.T)-2))\n",
    "return_res = np.zeros((len(data.groupby('Year')),len(cdat.T)-2))\n",
    "risks_res = np.zeros((len(data.groupby('Year')),len(cdat.T)-2))\n",
    "\n",
    "for i in range(len(data.groupby('Year'))):\n",
    "    year_dat = cdat.loc[(cdat.Year != cdat.Year.unique()[i])]\n",
    "    year_dat = year_dat.loc[:,['Solid_fossil_fuels','Peat_and_peat_products','Oil_and_petroleum_products', \n",
    "                  'Natural_gas', 'Nuclear_heat', 'Renewables_and_biofuels']]\n",
    "    ## Set view - I'm going to start by using the median\n",
    "    view = np.array(np.median(year_dat, axis = 0))\n",
    "    weights, returns, risks = bl(year_dat.shape[1], year_dat.shape[0], np.array(year_dat), view)\n",
    "    weights = list(weights.items())\n",
    "    w = [x[1] for x in weights]\n",
    "    weight_res[i,:] = w\n",
    "    return_res[i,:] = np.array(returns).T\n",
    "    risks_res[i,:] = np.diagonal(np.array(risks))\n",
    "    "
   ]
  },
  {
   "cell_type": "code",
   "execution_count": 71,
   "id": "496f8b70-d614-4d47-9f9b-12f3b0e8e90c",
   "metadata": {},
   "outputs": [
    {
     "name": "stdout",
     "output_type": "stream",
     "text": [
      "weights (std) = [0.0090399  0.00069333 0.0129027  0.03435812 0.04141464 0.01991285] \n",
      "returns (std) = [1857.85279504  110.11929823 2182.46942213  963.14058153 7628.31058654\n",
      " 1195.63385923] \n",
      "risks (std) =[1.52428842e+08 1.52429770e+08 1.52417767e+08 1.52401091e+08\n",
      " 1.52425398e+08 1.52429462e+08]\n"
     ]
    }
   ],
   "source": [
    "print('weights (std) = '+str(np.std(weight_res, axis=0)),\n",
    "      '\\nreturns (std) = '+str(np.std(return_res, axis=0)),\n",
    "      '\\nrisks (std) ='+str(np.std(risks_res, axis=0)))"
   ]
  },
  {
   "cell_type": "markdown",
   "id": "297601de-7c0f-430f-964f-7fa20f9005d9",
   "metadata": {},
   "source": [
    "## Repeat while Dropping Missing Data"
   ]
  },
  {
   "cell_type": "code",
   "execution_count": 73,
   "id": "0733126d-f553-4e01-abe5-edf17a64c051",
   "metadata": {},
   "outputs": [],
   "source": [
    "data_drop = data.dropna()"
   ]
  },
  {
   "cell_type": "code",
   "execution_count": 74,
   "id": "2c24f372-606f-421d-a2f1-33c1f014eefa",
   "metadata": {},
   "outputs": [],
   "source": [
    "# Subset Data\n",
    "cdat = data_drop.loc[:,['Solid_fossil_fuels','Peat_and_peat_products','Oil_and_petroleum_products', \n",
    "                  'Natural_gas', 'Nuclear_heat', 'Renewables_and_biofuels']]"
   ]
  },
  {
   "cell_type": "code",
   "execution_count": 75,
   "id": "bda96269-9fb0-4877-a16f-1180109b63ba",
   "metadata": {},
   "outputs": [],
   "source": [
    "## Run one optimization - this returns the results for the full data set and will report the \n",
    "## results of one optimization instead of an average \n",
    "\n",
    "## Set view - I'm going to start by using the median\n",
    "view = np.array(np.median(cdat, axis = 0))\n",
    "\n",
    "full_wt, full_rt, full_rsk = bl(cdat.shape[1], cdat.shape[0], np.array(cdat), view)\n",
    "weight_full = list(full_wt.items())\n",
    "w_full = [x[1] for x in weight_full]\n",
    "full_wt = w_full"
   ]
  },
  {
   "cell_type": "code",
   "execution_count": 76,
   "id": "f0619ab7-2f22-429c-9a97-0dd440e4df3c",
   "metadata": {},
   "outputs": [
    {
     "name": "stdout",
     "output_type": "stream",
     "text": [
      "weights = [0.20352, -0.00945, 0.18989, 0.25681, 0.14415, 0.21509] \n",
      "returns = [107684.79483215   -405.9393657  232865.37987819 162990.38697399\n",
      "  81957.95696558 104429.36979218] \n",
      "risks =[ 672929.04933339  590075.7794436  1551239.59521365  786968.47448296\n",
      "  712916.0618647   606445.43234619]\n"
     ]
    }
   ],
   "source": [
    "print('weights = '+str(full_wt),\n",
    "      '\\nreturns = '+str(np.array(full_rt).T),\n",
    "      '\\nrisks ='+str(np.diagonal(np.matrix(full_rsk))))"
   ]
  }
 ],
 "metadata": {
  "kernelspec": {
   "display_name": "Python 3",
   "language": "python",
   "name": "python3"
  },
  "language_info": {
   "codemirror_mode": {
    "name": "ipython",
    "version": 3
   },
   "file_extension": ".py",
   "mimetype": "text/x-python",
   "name": "python",
   "nbconvert_exporter": "python",
   "pygments_lexer": "ipython3",
   "version": "3.8.8"
  }
 },
 "nbformat": 4,
 "nbformat_minor": 5
}
