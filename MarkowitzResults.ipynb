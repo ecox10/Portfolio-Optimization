{
 "cells": [
  {
   "cell_type": "markdown",
   "id": "4cb040b6-fc5c-4086-9993-2d9603364e4a",
   "metadata": {},
   "source": [
    "# Complete Markowitz Analysis\n",
    "This will complete the results under the following:\n",
    "\n",
    "| n=4 $returns \\sim \\mathcal{N}(\\mu,\\sigma)$ Correlation from 0.8-0.9  | n=4 $returns \\sim N(\\mu,\\sigma)$ Independent  | n=4 $returns \\sim \\mathcal{N}(\\mu, sigma)$ Negative correlation (-0.8 to -0.5)  |\n",
    "|----------------------------------------------------------------------|-----------------------------------------------|---------------------------------------------------------------------------------|\n",
    "| n=8 $returns \\sim \\mathcal{N}(\\mu,\\sigma)$ Correlation from 0.8-0.9  | n=8 $returns \\sim N(\\mu,\\sigma)$ Independent  | n=8 $returns \\sim \\mathcal{N}(\\mu, sigma)$ Negative correlation (-0.8 to -0.5)  |\n",
    "| n=16 $returns \\sim \\mathcal{N}(\\mu,\\sigma)$ Correlation from 0.8-0.9 | n=16 $returns \\sim N(\\mu,\\sigma)$ Independent | n=16 $returns \\sim \\mathcal{N}(\\mu, sigma)$ Negative correlation (-0.8 to -0.5) |\n",
    "\n",
    "using the method laid out in 4.1, Markowitz portfolio optimization"
   ]
  },
  {
   "cell_type": "markdown",
   "id": "6712b35c-5d54-4ea8-acc9-996137527cc9",
   "metadata": {},
   "source": [
    "## Read Packages"
   ]
  },
  {
   "cell_type": "code",
   "execution_count": 1,
   "id": "2ac9cfeb-f941-4672-8572-3734950e68bb",
   "metadata": {},
   "outputs": [],
   "source": [
    "%matplotlib inline\n",
    "import numpy as np\n",
    "import matplotlib.pyplot as plt\n",
    "import cvxopt as opt\n",
    "from cvxopt import blas, solvers\n",
    "import pandas as pd\n",
    "from pylab import rcParams\n",
    "from mosek import iparam\n",
    "import time\n",
    "import random\n",
    "import pypfopt as pyp\n",
    "import sklearn.covariance\n",
    "solvers.options['show_progress'] = False"
   ]
  },
  {
   "cell_type": "code",
   "execution_count": 2,
   "id": "d82375be-c237-4626-9d94-c02c07c379a4",
   "metadata": {},
   "outputs": [],
   "source": [
    "import plotly as py\n",
    "import plotly.tools as tls\n",
    "from plotly.graph_objs import *"
   ]
  },
  {
   "cell_type": "markdown",
   "id": "8d1b1919-f3ce-46d0-85c1-0aac03828792",
   "metadata": {},
   "source": [
    "## Simulate Data\n",
    "Normal distribution with 0% correlation"
   ]
  },
  {
   "cell_type": "markdown",
   "id": "109be308-93bc-497f-b0b0-b204f6143556",
   "metadata": {},
   "source": [
    "Create function to generate random weights"
   ]
  },
  {
   "cell_type": "code",
   "execution_count": 3,
   "id": "83ffb267-b522-42d7-ac37-3a4782fb27bd",
   "metadata": {},
   "outputs": [],
   "source": [
    "def rand_weights(n):\n",
    "    '''Produces n random weights that sum to 1'''\n",
    "    k = np.random.rand(n)\n",
    "    return k / sum(k)"
   ]
  },
  {
   "cell_type": "markdown",
   "id": "8c753b26-89be-49c2-85da-afb20992f041",
   "metadata": {},
   "source": [
    "Create function to generate random portfolio"
   ]
  },
  {
   "cell_type": "code",
   "execution_count": 4,
   "id": "6542b69d-7ae6-46a5-b3b8-e0a8b4928704",
   "metadata": {},
   "outputs": [],
   "source": [
    "def random_portfolio(returns):\n",
    "    '''\n",
    "    Returns the mean and standard deviation of returns for a randomly generated portfolio\n",
    "    '''\n",
    "    \n",
    "    p = np.asmatrix(np.mean(returns, axis=1))\n",
    "    w = np.asmatrix(rand_weights(returns.shape[0]))\n",
    "    C = np.asmatrix(np.cov(returns))\n",
    "    \n",
    "    mu = w * p.T\n",
    "    sigma = np.sqrt(w * C * w.T)\n",
    "    \n",
    "    # Test for outliers to make plot prettier\n",
    "    if sigma > 2:\n",
    "        return random_portfolio(returns)\n",
    "    return mu, sigma"
   ]
  },
  {
   "cell_type": "markdown",
   "id": "345211e7-f5eb-4173-922e-6c1e1329a1f7",
   "metadata": {},
   "source": [
    "Generates $n$ random portfolios"
   ]
  },
  {
   "cell_type": "code",
   "execution_count": 5,
   "id": "f6f6793a-95b7-483d-add9-608e729bca87",
   "metadata": {},
   "outputs": [
    {
     "ename": "NameError",
     "evalue": "name 'return_vec' is not defined",
     "output_type": "error",
     "traceback": [
      "\u001b[0;31m---------------------------------------------------------------------------\u001b[0m",
      "\u001b[0;31mNameError\u001b[0m                                 Traceback (most recent call last)",
      "\u001b[0;32m<ipython-input-5-522e1843656b>\u001b[0m in \u001b[0;36m<module>\u001b[0;34m\u001b[0m\n\u001b[1;32m      1\u001b[0m \u001b[0mn_portfolios\u001b[0m \u001b[0;34m=\u001b[0m \u001b[0;36m500\u001b[0m\u001b[0;34m\u001b[0m\u001b[0;34m\u001b[0m\u001b[0m\n\u001b[0;32m----> 2\u001b[0;31m means, stds = np.column_stack([\n\u001b[0m\u001b[1;32m      3\u001b[0m     \u001b[0mrandom_portfolio\u001b[0m\u001b[0;34m(\u001b[0m\u001b[0mreturn_vec\u001b[0m\u001b[0;34m)\u001b[0m\u001b[0;34m\u001b[0m\u001b[0;34m\u001b[0m\u001b[0m\n\u001b[1;32m      4\u001b[0m     \u001b[0;32mfor\u001b[0m \u001b[0m_\u001b[0m \u001b[0;32min\u001b[0m \u001b[0mrange\u001b[0m\u001b[0;34m(\u001b[0m\u001b[0mn_portfolios\u001b[0m\u001b[0;34m)\u001b[0m\u001b[0;34m\u001b[0m\u001b[0;34m\u001b[0m\u001b[0m\n\u001b[1;32m      5\u001b[0m ])\n",
      "\u001b[0;32m<ipython-input-5-522e1843656b>\u001b[0m in \u001b[0;36m<listcomp>\u001b[0;34m(.0)\u001b[0m\n\u001b[1;32m      1\u001b[0m \u001b[0mn_portfolios\u001b[0m \u001b[0;34m=\u001b[0m \u001b[0;36m500\u001b[0m\u001b[0;34m\u001b[0m\u001b[0;34m\u001b[0m\u001b[0m\n\u001b[1;32m      2\u001b[0m means, stds = np.column_stack([\n\u001b[0;32m----> 3\u001b[0;31m     \u001b[0mrandom_portfolio\u001b[0m\u001b[0;34m(\u001b[0m\u001b[0mreturn_vec\u001b[0m\u001b[0;34m)\u001b[0m\u001b[0;34m\u001b[0m\u001b[0;34m\u001b[0m\u001b[0m\n\u001b[0m\u001b[1;32m      4\u001b[0m     \u001b[0;32mfor\u001b[0m \u001b[0m_\u001b[0m \u001b[0;32min\u001b[0m \u001b[0mrange\u001b[0m\u001b[0;34m(\u001b[0m\u001b[0mn_portfolios\u001b[0m\u001b[0;34m)\u001b[0m\u001b[0;34m\u001b[0m\u001b[0;34m\u001b[0m\u001b[0m\n\u001b[1;32m      5\u001b[0m ])\n",
      "\u001b[0;31mNameError\u001b[0m: name 'return_vec' is not defined"
     ]
    }
   ],
   "source": [
    "n_portfolios = 500\n",
    "means, stds = np.column_stack([\n",
    "    random_portfolio(return_vec)\n",
    "    for _ in range(n_portfolios)\n",
    "])"
   ]
  },
  {
   "cell_type": "markdown",
   "id": "5ea36c2e-019a-440a-a10f-eaa232f89b18",
   "metadata": {},
   "source": [
    "## Optimization\n",
    "\n",
    "Create a series of functions that perform optimizations"
   ]
  },
  {
   "cell_type": "code",
   "execution_count": 210,
   "id": "c97b7a88-d140-4173-a319-41d7d51bb055",
   "metadata": {},
   "outputs": [],
   "source": [
    "def optimal_portfolio(returns):\n",
    "    n = len(returns)\n",
    "    returns = np.asmatrix(returns + 5.0)\n",
    "    \n",
    "    N = 1000\n",
    "    mus = [(1/n) + t/N for t in range(N)]#[10**(5.0 * t/N - 1.0) for t in range(N)]\n",
    "    \n",
    "    # Convert to cvxopt matrices\n",
    "    S = opt.matrix(np.cov(returns))\n",
    "    pbar = opt.matrix(np.mean(returns, axis = 1))\n",
    "    \n",
    "    # Create constraint matrices\n",
    "    G = -opt.matrix(np.eye(n)) # negative nxn identity matrix\n",
    "    h = opt.matrix(0.0, (n,1))\n",
    "    A = opt.matrix(1.0, (1,n))\n",
    "    b = opt.matrix(1.0)\n",
    "    \n",
    "    # Calculate efficient frontier weights using quadratic programming\n",
    "    portfolios = [solvers.qp(mu*S, -pbar, G, h, A, b)['x']\n",
    "                  for mu in mus]\n",
    "    ## Calculate risk and returns for frontier\n",
    "    ret = [blas.dot(pbar, x) for x in portfolios]\n",
    "    risks = [np.sqrt(blas.dot(x, S*x)) for x in portfolios]\n",
    "    ## Calculate the 2nd degree polynomail of the frontier curve\n",
    "    m1 = np.polyfit(ret, risks, 2)\n",
    "    x1 = np.sqrt(m1[2] / m1[0])\n",
    "    ## Calculate the optimal portfolio\n",
    "    wt = solvers.qp(opt.matrix(x1 * S), -pbar, G, h, A, b)['x']\n",
    "    ret = np.zeros((n,1))\n",
    "    rsk = np.zeros((n,1))\n",
    "    for j in range(n):\n",
    "        ret[j] = wt.T * np.mean(returns, axis = 1)\n",
    "        rsk[j] = wt.T @ np.cov(returns) @ wt\n",
    "    return np.asarray(wt), ret, rsk"
   ]
  },
  {
   "cell_type": "code",
   "execution_count": 200,
   "id": "5be6c31c-47f3-47f5-8528-8e57b39710cb",
   "metadata": {},
   "outputs": [],
   "source": [
    "# Does not work (?)\n",
    "def optimal_portfolio(returns):\n",
    "    n = len(returns)\n",
    "    returns = np.asmatrix(returns + 5)\n",
    "    \n",
    "    N = 1000\n",
    "    mus = [np.ones(N)*(1/n) + 5.0]#[10**(5.0 * t/n - 1.0) for t in range(N)]\n",
    "    \n",
    "    # Convert to cvxopt matrices\n",
    "    S = opt.matrix(np.cov(returns.T))\n",
    "    pbar = opt.matrix(np.mean(returns.T, axis = 1))\n",
    "    \n",
    "    # Create constraint matrices\n",
    "    G = -opt.matrix(np.eye(n)) # negative nxn identity matrix\n",
    "    h = opt.matrix(0.0, (n,1))\n",
    "    A = opt.matrix(1.0, (1,n))\n",
    "    b = opt.matrix(1.0)\n",
    "    \n",
    "    # Calculate efficient frontier weights using quadratic programming\n",
    "    portfolios = [solvers.qp(mu*S, -pbar, G, h, A, b)['x']\n",
    "                  for mu in mus]\n",
    "    ## Calculate risk and returns for frontier\n",
    "    returns = [blas.dot(pbar, x) for x in portfolios]\n",
    "    risks = [np.sqrt(blas.dot(x, S*x)) for x in portfolios]\n",
    "    ## Calculate the 2nd degree polynomail of the frontier curve\n",
    "    m1 = np.polyfit(returns, risks, 2)\n",
    "    x1 = np.sqrt(m1[2] / m1[0])\n",
    "    ## Calculate the optimal portfolio\n",
    "    wt = solvers.qp(opt.matrix(x1 * S), -pbar, G, h, A, b)['x']\n",
    "    ret = np.array([])\n",
    "    rsk = np.array([])\n",
    "    for j in range(n):\n",
    "        ret[j] = 1/n * np.sum(wt[j] * np.asmatrix(returns)[:,j])\n",
    "        rsk[j] = 1/N * np.sum(1/n * np.sum(np.asmatrix(risks)[:,j]))\n",
    "    return np.asarray(wt), ret.T, risks"
   ]
  },
  {
   "cell_type": "markdown",
   "id": "f40b0383-73d5-4fa9-8fdb-36e388d97504",
   "metadata": {},
   "source": [
    "Create function that performs 1 optimization"
   ]
  },
  {
   "cell_type": "code",
   "execution_count": 183,
   "id": "8cfd4a67-42bb-4260-bf1b-6a43fb274343",
   "metadata": {},
   "outputs": [],
   "source": [
    "def one_optimization(n_assets, n_obs):\n",
    "    '''\n",
    "    First, simulates portfolios then optimizes. \n",
    "    This does 30 replications\n",
    "    '''\n",
    "    weight_res = np.zeros((99,n_assets))\n",
    "    return_res = np.zeros((99,n_assets))\n",
    "    risks_res = np.zeros((99,n_assets))\n",
    "    \n",
    "    for i in range(99):\n",
    "        n_portfolios = 500\n",
    "        np.random.seed(i)\n",
    "        return_vec = np.random.randn(n_assets, n_obs)# need to set the seeds here so others use the same values\n",
    "        means, stds = np.column_stack([\n",
    "            random_portfolio(return_vec)\n",
    "            for _ in range(n_portfolios)\n",
    "            ])\n",
    "        weights, returns, risks = optimal_portfolio(return_vec)\n",
    "        weight_res[i,:] = weights.T\n",
    "        return_res[i,:] = returns.reshape(n_assets,)\n",
    "        risks_res[i,:] = risks.reshape(n_assets,)\n",
    "    return weight_res, return_res, risks_res"
   ]
  },
  {
   "cell_type": "code",
   "execution_count": 7,
   "id": "dd626c5f-81a0-4d0c-b298-5441064b586a",
   "metadata": {},
   "outputs": [],
   "source": [
    "def one_optimization_zeros(n_assets, n_obs):\n",
    "    '''\n",
    "    This is exactly like one_optimization except it replaces 75% of asset 1 and 2 with zeros\n",
    "    First, simulates portfolios then optimizes. \n",
    "    This does 30 replications\n",
    "    '''\n",
    "    weight_res = np.zeros((99,n_assets))\n",
    "    return_res = np.zeros((99,n_assets))\n",
    "    risks_res = np.zeros((999,n_assets))\n",
    "    \n",
    "    for i in range(99):\n",
    "        n_portfolios = 500\n",
    "        np.random.seed(i)\n",
    "        return_vec = np.random.randn(n_assets, n_obs)# need to set the seeds here so others use the same values\n",
    "        _75_perct = int(len(return_vec[:,0])*3/4)\n",
    "        return_vec[0,random.sample(list(range(n_obs)), _75_perct)] = 0\n",
    "        np.random.seed(i*5)\n",
    "        return_vec[1,random.sample(list(range(n_obs)), _75_perct)] = 0\n",
    "        \n",
    "        means, stds = np.column_stack([\n",
    "            random_portfolio(return_vec)\n",
    "            for _ in range(n_portfolios)\n",
    "            ])\n",
    "        weights, returns, risks = optimal_portfolio(return_vec)\n",
    "        weight_res[i,:] = weights.T\n",
    "        return_res[i,:] = returns.reshape(n_assets,)\n",
    "        risks_res[i,:] = risks.reshape(n_assets,)\n",
    "    return weight_res, return_res, risks_res"
   ]
  },
  {
   "cell_type": "markdown",
   "id": "ed8d938b-c455-4340-af81-488ac31108f7",
   "metadata": {},
   "source": [
    "## Perform the optimizations specified\n",
    "## $n = 4$ "
   ]
  },
  {
   "cell_type": "code",
   "execution_count": 211,
   "id": "1b4f7a2c-53ca-4fac-9e16-650806505c9c",
   "metadata": {},
   "outputs": [
    {
     "name": "stdout",
     "output_type": "stream",
     "text": [
      "-51.060664892196655\n"
     ]
    }
   ],
   "source": [
    "start = time.time()\n",
    "n4_normal_weight, n4_normal_return, n4_normal_risks = one_optimization(4, 1000)\n",
    "end = time.time()\n",
    "print(start - end)"
   ]
  },
  {
   "cell_type": "code",
   "execution_count": 212,
   "id": "6748d04d-c06f-4001-afa7-20e45dbc2d4b",
   "metadata": {},
   "outputs": [
    {
     "data": {
      "text/plain": [
       "array([5.001, 5.001, 5.001, 5.001])"
      ]
     },
     "execution_count": 212,
     "metadata": {},
     "output_type": "execute_result"
    }
   ],
   "source": [
    "np.round(n4_normal_return.mean(axis=0),3)"
   ]
  },
  {
   "cell_type": "code",
   "execution_count": 213,
   "id": "a35a50a8-56b7-4ad8-87ff-aaced3c16441",
   "metadata": {},
   "outputs": [
    {
     "data": {
      "text/plain": [
       "array([0.014, 0.014, 0.014, 0.014])"
      ]
     },
     "execution_count": 213,
     "metadata": {},
     "output_type": "execute_result"
    }
   ],
   "source": [
    "np.round(n4_normal_return.std(axis=0), 3)"
   ]
  },
  {
   "cell_type": "code",
   "execution_count": 85,
   "id": "5e6d2b38-2549-46dd-ad58-2de13a6fcd29",
   "metadata": {},
   "outputs": [],
   "source": [
    "n4_normal_weight_os, n4_normal_return_os, n4_normal_risks_os = one_optimization_zeros(4, 1000)"
   ]
  },
  {
   "cell_type": "code",
   "execution_count": 86,
   "id": "d243adf6-b89e-422d-a27e-b73ac122c4a6",
   "metadata": {},
   "outputs": [
    {
     "data": {
      "text/plain": [
       "array([5.023, 5.002, 5.   , 5.   ])"
      ]
     },
     "execution_count": 86,
     "metadata": {},
     "output_type": "execute_result"
    }
   ],
   "source": [
    "np.round(n4_normal_return_os.mean(axis=0),3)"
   ]
  },
  {
   "cell_type": "code",
   "execution_count": 87,
   "id": "af004be3-0159-4fa6-b067-f98e2661e48d",
   "metadata": {},
   "outputs": [
    {
     "data": {
      "text/plain": [
       "array([0.02 , 0.014, 0.014, 0.014])"
      ]
     },
     "execution_count": 87,
     "metadata": {},
     "output_type": "execute_result"
    }
   ],
   "source": [
    "np.round(n4_normal_return_os.std(axis=0),3)"
   ]
  },
  {
   "cell_type": "markdown",
   "id": "9c171770-fca6-4fb8-9cae-9c31ac6edc9a",
   "metadata": {},
   "source": [
    "## $n = 8$ "
   ]
  },
  {
   "cell_type": "code",
   "execution_count": 90,
   "id": "a66152ff-07cb-4fd4-8533-ff495e69069a",
   "metadata": {},
   "outputs": [],
   "source": [
    "n8_normal_weight, n8_normal_return, n8_normal_risks = one_optimization(8, 1000)"
   ]
  },
  {
   "cell_type": "code",
   "execution_count": 91,
   "id": "c3302fd2-4bae-48e7-ab5c-ddb61364f15f",
   "metadata": {},
   "outputs": [
    {
     "data": {
      "text/plain": [
       "array([5.034, 5.016, 5.004, 5.001, 5.   , 5.   , 5.   , 5.   ])"
      ]
     },
     "execution_count": 91,
     "metadata": {},
     "output_type": "execute_result"
    }
   ],
   "source": [
    "np.round(n8_normal_return.mean(axis=0),3)"
   ]
  },
  {
   "cell_type": "code",
   "execution_count": 93,
   "id": "984ce71a-7400-4702-9c97-5c1064ab87c5",
   "metadata": {},
   "outputs": [
    {
     "data": {
      "text/plain": [
       "array([0.017, 0.013, 0.011, 0.011, 0.011, 0.011, 0.011, 0.011])"
      ]
     },
     "execution_count": 93,
     "metadata": {},
     "output_type": "execute_result"
    }
   ],
   "source": [
    "np.round(n8_normal_return.std(axis = 0), 3)"
   ]
  },
  {
   "cell_type": "code",
   "execution_count": 94,
   "id": "5573d10b-d3bc-4de4-b213-da3e0c14866f",
   "metadata": {},
   "outputs": [],
   "source": [
    "n8_normal_weight_os, n8_normal_return_os, n8_normal_risks_os = one_optimization_zeros(8, 1000)"
   ]
  },
  {
   "cell_type": "code",
   "execution_count": 95,
   "id": "814d4b5d-2bd0-488a-8ae2-732b5ca9f0f7",
   "metadata": {},
   "outputs": [
    {
     "data": {
      "text/plain": [
       "array([5.034, 5.016, 5.004, 5.001, 5.   , 5.   , 5.   , 5.   ])"
      ]
     },
     "execution_count": 95,
     "metadata": {},
     "output_type": "execute_result"
    }
   ],
   "source": [
    "np.round(n8_normal_return_os.mean(axis=0),3)"
   ]
  },
  {
   "cell_type": "code",
   "execution_count": 96,
   "id": "5eef0e39-8241-41e7-9949-8933f01cf2e9",
   "metadata": {},
   "outputs": [
    {
     "data": {
      "text/plain": [
       "array([0.017, 0.013, 0.011, 0.011, 0.011, 0.011, 0.011, 0.011])"
      ]
     },
     "execution_count": 96,
     "metadata": {},
     "output_type": "execute_result"
    }
   ],
   "source": [
    "np.round(n8_normal_return_os.std(axis=0),3)"
   ]
  },
  {
   "cell_type": "markdown",
   "id": "5b2811a0-9b01-4e28-9a8c-9ef34ac059df",
   "metadata": {},
   "source": [
    "## $n=16$"
   ]
  },
  {
   "cell_type": "code",
   "execution_count": 97,
   "id": "60c8c9d7-646c-44fe-882f-c0436fa43ea8",
   "metadata": {},
   "outputs": [],
   "source": [
    "n16_normal_weight, n16_normal_return, n16_normal_risks = one_optimization(16, 1000)"
   ]
  },
  {
   "cell_type": "code",
   "execution_count": 98,
   "id": "6a756a1d-aa55-421d-8a8c-fffb42b3a193",
   "metadata": {},
   "outputs": [
    {
     "data": {
      "text/plain": [
       "array([5.043, 5.036, 5.027, 5.017, 5.008, 5.004, 5.002, 5.001, 5.   ,\n",
       "       5.   , 5.   , 5.   , 5.   , 5.   , 5.   , 5.   ])"
      ]
     },
     "execution_count": 98,
     "metadata": {},
     "output_type": "execute_result"
    }
   ],
   "source": [
    "np.round(n16_normal_return.mean(axis=0), 3)"
   ]
  },
  {
   "cell_type": "code",
   "execution_count": 99,
   "id": "adf6b646-10b5-404b-96d6-1298934e6752",
   "metadata": {},
   "outputs": [
    {
     "data": {
      "text/plain": [
       "array([0.014, 0.013, 0.011, 0.01 , 0.009, 0.008, 0.008, 0.008, 0.008,\n",
       "       0.008, 0.008, 0.008, 0.008, 0.008, 0.008, 0.008])"
      ]
     },
     "execution_count": 99,
     "metadata": {},
     "output_type": "execute_result"
    }
   ],
   "source": [
    "np.round(n16_normal_return.std(axis=0),3)"
   ]
  },
  {
   "cell_type": "code",
   "execution_count": 100,
   "id": "d445c684-b0aa-4350-9921-77b3f8a83d5a",
   "metadata": {},
   "outputs": [],
   "source": [
    "n16_normal_weight_os, n16_normal_return_os, n16_normal_risks_os = one_optimization_zeros(16,1000)"
   ]
  },
  {
   "cell_type": "code",
   "execution_count": 101,
   "id": "cfbdb78e-769f-47a8-8a1f-c955bf025c06",
   "metadata": {},
   "outputs": [
    {
     "data": {
      "text/plain": [
       "array([5.043, 5.036, 5.027, 5.017, 5.008, 5.004, 5.002, 5.001, 5.   ,\n",
       "       5.   , 5.   , 5.   , 5.   , 5.   , 5.   , 5.   ])"
      ]
     },
     "execution_count": 101,
     "metadata": {},
     "output_type": "execute_result"
    }
   ],
   "source": [
    "np.round(n16_normal_return_os.mean(axis=0),3)"
   ]
  },
  {
   "cell_type": "code",
   "execution_count": 102,
   "id": "6b1252da-1f41-4e5d-98b4-190f588ef029",
   "metadata": {},
   "outputs": [
    {
     "data": {
      "text/plain": [
       "array([0.014, 0.013, 0.011, 0.01 , 0.009, 0.008, 0.008, 0.008, 0.008,\n",
       "       0.008, 0.008, 0.008, 0.008, 0.008, 0.008, 0.008])"
      ]
     },
     "execution_count": 102,
     "metadata": {},
     "output_type": "execute_result"
    }
   ],
   "source": [
    "np.round(n16_normal_return_os.std(axis=0), 3)"
   ]
  },
  {
   "cell_type": "markdown",
   "id": "a6906b4d-91f1-49a9-8be5-54dbe215a746",
   "metadata": {},
   "source": [
    "## Play with Correlation"
   ]
  },
  {
   "cell_type": "markdown",
   "id": "e776c8a7-77ef-4456-89c0-435a919e700e",
   "metadata": {},
   "source": [
    "## Functions"
   ]
  },
  {
   "cell_type": "code",
   "execution_count": 53,
   "id": "4d1c59c7-7f13-4f34-84f3-8c4a70729f24",
   "metadata": {},
   "outputs": [],
   "source": [
    "def cor_optimization(n_assets, n_obs, r):\n",
    "    '''\n",
    "    First, simulates portfolios then optimizes. \n",
    "    This does 30 replications\n",
    "    n_assets: number of assets\n",
    "    n_obs: number of observations\n",
    "    r: covariance matrix\n",
    "    '''\n",
    "    weight_res = np.zeros((99,n_assets))\n",
    "    return_res = np.zeros((99,n_assets))\n",
    "    risks_res = np.zeros((99,n_assets))\n",
    "    \n",
    "    for i in range(99):\n",
    "        n_portfolios = 500\n",
    "        np.random.seed(i)\n",
    "        \n",
    "        rng = np.random.default_rng()\n",
    "        return_vec = rng.multivariate_normal(np.zeros(n_assets), cov = r, size = n_obs).T\n",
    "        \n",
    "        means, stds = np.column_stack([\n",
    "            random_portfolio(return_vec)\n",
    "            for _ in range(n_portfolios)\n",
    "            ])\n",
    "        weights, returns, risks = optimal_portfolio(return_vec)\n",
    "        weight_res[i,:] = weights.T\n",
    "        return_res[i,:] = np.array(returns).T\n",
    "        risks_res[i,:] = np.array(risks).T\n",
    "    return weight_res, return_res, risks_res"
   ]
  },
  {
   "cell_type": "code",
   "execution_count": 54,
   "id": "559e8a7c-f856-4938-b197-b9e6b9074747",
   "metadata": {},
   "outputs": [],
   "source": [
    "def cor_optimization_zeros(n_assets, n_obs, r):\n",
    "    '''\n",
    "    First, simulates portfolios then optimizes. \n",
    "    This does 30 replications\n",
    "    n_assets: number of assets\n",
    "    n_obs: number of observations\n",
    "    r: covariance matrix\n",
    "    '''\n",
    "    weight_res = np.zeros((99,n_assets))\n",
    "    return_res = np.zeros((99,n_assets))\n",
    "    risks_res = np.zeros((99,n_assets))\n",
    "    \n",
    "    for i in range(99):\n",
    "        n_portfolios = 500\n",
    "        np.random.seed(i)\n",
    "        \n",
    "        rng = np.random.default_rng()\n",
    "        return_vec = rng.multivariate_normal(np.zeros(n_assets), cov = r, size = n_obs).T\n",
    "        _75_perct = int(len(return_vec[:,0])*3/4)\n",
    "        return_vec[0,random.sample(list(range(1000)), _75_perct)] = 0\n",
    "        np.random.seed(i*5)\n",
    "        return_vec[1,random.sample(list(range(1000)), _75_perct)] = 0\n",
    "        \n",
    "        means, stds = np.column_stack([\n",
    "            random_portfolio(return_vec)\n",
    "            for _ in range(n_portfolios)\n",
    "            ])\n",
    "        weights, returns, risks = optimal_portfolio(return_vec)\n",
    "        weight_res[i,:] = weights.T\n",
    "        return_res[i,:] = np.array(returns).T\n",
    "        risks_res[i,:] = np.array(risks).T\n",
    "    return weight_res, return_res, risks_res"
   ]
  },
  {
   "cell_type": "markdown",
   "id": "b9d1659e-aa95-418e-9575-0784f868b08f",
   "metadata": {},
   "source": [
    "## Results for Correlation between 0.8-0.9"
   ]
  },
  {
   "cell_type": "markdown",
   "id": "d5fb5ab0-7f88-4724-9af0-ea69247f6d67",
   "metadata": {},
   "source": [
    "## $n=4$"
   ]
  },
  {
   "cell_type": "code",
   "execution_count": 55,
   "id": "88adb84b-010a-4923-a962-f69bea5db39e",
   "metadata": {},
   "outputs": [],
   "source": [
    "n = 4\n",
    "r = np.random.uniform(0.8, 0.9, (n,n))\n",
    "np.fill_diagonal(r, 1)"
   ]
  },
  {
   "cell_type": "code",
   "execution_count": 56,
   "id": "df731c38-229d-40d5-8f4e-4602c3440c1a",
   "metadata": {},
   "outputs": [
    {
     "name": "stderr",
     "output_type": "stream",
     "text": [
      "<ipython-input-53-6afc58b1f877>:18: RuntimeWarning:\n",
      "\n",
      "covariance is not positive-semidefinite.\n",
      "\n"
     ]
    }
   ],
   "source": [
    "n4_corr_weight, n4_corr_return, n4_corr_risks = cor_optimization(4, 1000, r)"
   ]
  },
  {
   "cell_type": "code",
   "execution_count": 57,
   "id": "8b7d20af-060c-4137-9b9a-9adda4869506",
   "metadata": {},
   "outputs": [
    {
     "data": {
      "text/plain": [
       "array([5.011, 5.   , 4.998, 4.998])"
      ]
     },
     "execution_count": 57,
     "metadata": {},
     "output_type": "execute_result"
    }
   ],
   "source": [
    "np.round(n4_corr_return.mean(axis=0),3)"
   ]
  },
  {
   "cell_type": "code",
   "execution_count": 58,
   "id": "ef6c775c-8f3c-4f5c-a254-6013ec09c2dd",
   "metadata": {},
   "outputs": [
    {
     "data": {
      "text/plain": [
       "array([0.027, 0.026, 0.026, 0.026])"
      ]
     },
     "execution_count": 58,
     "metadata": {},
     "output_type": "execute_result"
    }
   ],
   "source": [
    "np.round(n4_corr_return.std(axis=0), 3)"
   ]
  },
  {
   "cell_type": "code",
   "execution_count": 60,
   "id": "18be7687-85da-4dec-9b9e-8ac17289d0c8",
   "metadata": {},
   "outputs": [
    {
     "name": "stderr",
     "output_type": "stream",
     "text": [
      "<ipython-input-54-6eda513a3af1>:18: RuntimeWarning:\n",
      "\n",
      "covariance is not positive-semidefinite.\n",
      "\n"
     ]
    }
   ],
   "source": [
    "n4_corr_weight_os, n4_corr_return_os, n4_corr_risk_os = cor_optimization_zeros(4, 1000, r)"
   ]
  },
  {
   "cell_type": "code",
   "execution_count": 61,
   "id": "f9f77068-72b9-4faa-8bc0-f77779384cdb",
   "metadata": {},
   "outputs": [
    {
     "data": {
      "text/plain": [
       "array([5.013, 5.003, 5.002, 5.002])"
      ]
     },
     "execution_count": 61,
     "metadata": {},
     "output_type": "execute_result"
    }
   ],
   "source": [
    "np.round(n4_corr_return_os.mean(axis = 0), 3)"
   ]
  },
  {
   "cell_type": "code",
   "execution_count": 62,
   "id": "61f74151-2700-4387-ad18-2b0a675c78ae",
   "metadata": {},
   "outputs": [
    {
     "data": {
      "text/plain": [
       "array([0.028, 0.027, 0.027, 0.027])"
      ]
     },
     "execution_count": 62,
     "metadata": {},
     "output_type": "execute_result"
    }
   ],
   "source": [
    "np.round(n4_corr_return_os.std(axis = 0), 3)"
   ]
  },
  {
   "cell_type": "markdown",
   "id": "29c9460f-1a5c-4609-8708-1f829c5811e9",
   "metadata": {},
   "source": [
    "## $n = 8$"
   ]
  },
  {
   "cell_type": "code",
   "execution_count": 63,
   "id": "70bd0e7c-6d7b-4e19-afb7-21c17d083b7f",
   "metadata": {},
   "outputs": [],
   "source": [
    "n = 8\n",
    "r = np.random.uniform(0.8, 0.9, (n,n))\n",
    "np.fill_diagonal(r, 1)"
   ]
  },
  {
   "cell_type": "code",
   "execution_count": 64,
   "id": "85d1ccf0-6565-4881-b4b0-24e1a076acee",
   "metadata": {},
   "outputs": [
    {
     "name": "stderr",
     "output_type": "stream",
     "text": [
      "<ipython-input-53-6afc58b1f877>:18: RuntimeWarning:\n",
      "\n",
      "covariance is not positive-semidefinite.\n",
      "\n"
     ]
    }
   ],
   "source": [
    "n8_corr_weight, n8_corr_return, n8_corr_risks = cor_optimization(8, 1000, r)"
   ]
  },
  {
   "cell_type": "markdown",
   "id": "bd333d2e-414b-4280-a521-b1e85a11c2d6",
   "metadata": {},
   "source": [
    "zeros"
   ]
  },
  {
   "cell_type": "code",
   "execution_count": 65,
   "id": "282aad98-a892-428e-8044-579d0cde2c66",
   "metadata": {},
   "outputs": [
    {
     "data": {
      "text/plain": [
       "array([5.019, 5.012, 5.005, 5.003, 5.002, 5.002, 5.002, 5.002])"
      ]
     },
     "execution_count": 65,
     "metadata": {},
     "output_type": "execute_result"
    }
   ],
   "source": [
    "np.round(n8_corr_return.mean(axis = 0), 3)"
   ]
  },
  {
   "cell_type": "code",
   "execution_count": 66,
   "id": "f77d36f2-2cfc-481a-a45e-f95670ba0680",
   "metadata": {},
   "outputs": [
    {
     "data": {
      "text/plain": [
       "array([0.032, 0.032, 0.031, 0.031, 0.031, 0.031, 0.031, 0.031])"
      ]
     },
     "execution_count": 66,
     "metadata": {},
     "output_type": "execute_result"
    }
   ],
   "source": [
    "np.round(n8_corr_return.std(axis = 0), 3)"
   ]
  },
  {
   "cell_type": "code",
   "execution_count": 67,
   "id": "6bf2579b-6560-4953-820a-f1d49c644322",
   "metadata": {},
   "outputs": [
    {
     "name": "stderr",
     "output_type": "stream",
     "text": [
      "<ipython-input-54-6eda513a3af1>:18: RuntimeWarning:\n",
      "\n",
      "covariance is not positive-semidefinite.\n",
      "\n"
     ]
    }
   ],
   "source": [
    "n8_corr_weight_os, n8_corr_return_os, n8_corr_risks_os = cor_optimization_zeros(8, 1000, r)"
   ]
  },
  {
   "cell_type": "code",
   "execution_count": 72,
   "id": "59aa2b98-8e87-4613-9916-855650e9a353",
   "metadata": {},
   "outputs": [
    {
     "data": {
      "text/plain": [
       "array([5.022, 5.015, 5.008, 5.006, 5.005, 5.005, 5.005, 5.005])"
      ]
     },
     "execution_count": 72,
     "metadata": {},
     "output_type": "execute_result"
    }
   ],
   "source": [
    "np.round(n8_corr_return_os.mean(axis = 0),3)"
   ]
  },
  {
   "cell_type": "code",
   "execution_count": 73,
   "id": "e4492104-22fe-47be-bc3e-a6c5faa96412",
   "metadata": {},
   "outputs": [
    {
     "data": {
      "text/plain": [
       "array([0.03, 0.03, 0.03, 0.03, 0.03, 0.03, 0.03, 0.03])"
      ]
     },
     "execution_count": 73,
     "metadata": {},
     "output_type": "execute_result"
    }
   ],
   "source": [
    "np.round(n8_corr_return_os.std(axis=0), 3)"
   ]
  },
  {
   "cell_type": "markdown",
   "id": "b5c4fe7e-5df4-4692-b4f5-b5cc024496cf",
   "metadata": {},
   "source": [
    "## $n=16$"
   ]
  },
  {
   "cell_type": "code",
   "execution_count": 74,
   "id": "485df6ad-ce51-4822-aa96-29c50c64938b",
   "metadata": {},
   "outputs": [],
   "source": [
    "n = 16\n",
    "r = np.random.uniform(0.8, 0.9, (n,n))\n",
    "np.fill_diagonal(r, 1)"
   ]
  },
  {
   "cell_type": "code",
   "execution_count": 75,
   "id": "fa0bcd4a-71b8-410b-9926-a05e4ca0374b",
   "metadata": {},
   "outputs": [
    {
     "name": "stderr",
     "output_type": "stream",
     "text": [
      "<ipython-input-53-6afc58b1f877>:18: RuntimeWarning:\n",
      "\n",
      "covariance is not positive-semidefinite.\n",
      "\n"
     ]
    }
   ],
   "source": [
    "n16_corr_weight, n16_corr_return, n16__corr_risks = cor_optimization(16,1000,r)"
   ]
  },
  {
   "cell_type": "code",
   "execution_count": 76,
   "id": "f89a1f72-8db7-4b03-a80f-84393241fa77",
   "metadata": {},
   "outputs": [
    {
     "data": {
      "text/plain": [
       "array([5.027, 5.024, 5.021, 5.016, 5.012, 5.009, 5.008, 5.007, 5.007,\n",
       "       5.006, 5.006, 5.006, 5.006, 5.006, 5.006, 5.006])"
      ]
     },
     "execution_count": 76,
     "metadata": {},
     "output_type": "execute_result"
    }
   ],
   "source": [
    "np.round(n16_corr_return.mean(axis=0),3)"
   ]
  },
  {
   "cell_type": "code",
   "execution_count": 77,
   "id": "577460a7-7842-427c-b98a-a159e75a797a",
   "metadata": {},
   "outputs": [
    {
     "data": {
      "text/plain": [
       "array([0.03 , 0.03 , 0.029, 0.029, 0.029, 0.028, 0.028, 0.028, 0.028,\n",
       "       0.028, 0.028, 0.028, 0.028, 0.028, 0.028, 0.028])"
      ]
     },
     "execution_count": 77,
     "metadata": {},
     "output_type": "execute_result"
    }
   ],
   "source": [
    "np.round(n16_corr_return.std(axis=0), 3)"
   ]
  },
  {
   "cell_type": "code",
   "execution_count": 78,
   "id": "70c59e5d-9923-481b-aa53-9ded80efdbce",
   "metadata": {},
   "outputs": [
    {
     "name": "stderr",
     "output_type": "stream",
     "text": [
      "<ipython-input-54-6eda513a3af1>:18: RuntimeWarning:\n",
      "\n",
      "covariance is not positive-semidefinite.\n",
      "\n"
     ]
    }
   ],
   "source": [
    "n16_corr_weight_os, n16_corr_return_os, n16_corr_risks_os = cor_optimization_zeros(16, 1000, r)"
   ]
  },
  {
   "cell_type": "code",
   "execution_count": 79,
   "id": "b1768e39-42c7-4ddf-98eb-076edabae51e",
   "metadata": {},
   "outputs": [
    {
     "data": {
      "text/plain": [
       "array([5.023, 5.02 , 5.016, 5.011, 5.007, 5.004, 5.002, 5.002, 5.001,\n",
       "       5.001, 5.001, 5.001, 5.001, 5.001, 5.001, 5.001])"
      ]
     },
     "execution_count": 79,
     "metadata": {},
     "output_type": "execute_result"
    }
   ],
   "source": [
    "np.round(n16_corr_return_os.mean(axis = 0), 3)"
   ]
  },
  {
   "cell_type": "code",
   "execution_count": 80,
   "id": "a6a7c92f-3410-40ca-b4da-e60eb3322c30",
   "metadata": {},
   "outputs": [
    {
     "data": {
      "text/plain": [
       "array([0.031, 0.03 , 0.03 , 0.03 , 0.03 , 0.03 , 0.03 , 0.03 , 0.03 ,\n",
       "       0.03 , 0.03 , 0.03 , 0.03 , 0.03 , 0.03 , 0.03 ])"
      ]
     },
     "execution_count": 80,
     "metadata": {},
     "output_type": "execute_result"
    }
   ],
   "source": [
    "np.round(n16_corr_return_os.std(axis = 0), 3)"
   ]
  },
  {
   "cell_type": "markdown",
   "id": "824e1cc9-7b2b-433e-a937-ef631ad7e71d",
   "metadata": {},
   "source": [
    "## Results for Correlation between -0.6 and -0.5"
   ]
  },
  {
   "cell_type": "markdown",
   "id": "3310b9b4-e732-49bb-a440-f9c0ecb52fad",
   "metadata": {},
   "source": [
    "## $n=4$"
   ]
  },
  {
   "cell_type": "code",
   "execution_count": 103,
   "id": "19293800-c8b6-45f7-8d0e-cb580a471460",
   "metadata": {},
   "outputs": [],
   "source": [
    "n = 4\n",
    "r = np.random.uniform(-0.8, -0.5, (n,n))\n",
    "np.fill_diagonal(r, 1)"
   ]
  },
  {
   "cell_type": "code",
   "execution_count": 104,
   "id": "c6d0b7e4-d3af-4de0-9c1b-6dae4878d4da",
   "metadata": {},
   "outputs": [
    {
     "name": "stderr",
     "output_type": "stream",
     "text": [
      "<ipython-input-53-6afc58b1f877>:18: RuntimeWarning:\n",
      "\n",
      "covariance is not positive-semidefinite.\n",
      "\n"
     ]
    }
   ],
   "source": [
    "n4_neg_weight, n4_neg_return, n4_neg_risks = cor_optimization(4, 1000, r)"
   ]
  },
  {
   "cell_type": "code",
   "execution_count": 105,
   "id": "7c6e5afd-29b7-4d00-8d22-af6ee01637a7",
   "metadata": {},
   "outputs": [
    {
     "data": {
      "text/plain": [
       "array([5.023, 5.001, 5.   , 4.999])"
      ]
     },
     "execution_count": 105,
     "metadata": {},
     "output_type": "execute_result"
    }
   ],
   "source": [
    "np.round(n4_neg_return.mean(axis = 0),3)"
   ]
  },
  {
   "cell_type": "code",
   "execution_count": 106,
   "id": "435ef935-3978-4f1f-9c6e-15866247fe5f",
   "metadata": {},
   "outputs": [
    {
     "data": {
      "text/plain": [
       "array([0.022, 0.016, 0.016, 0.016])"
      ]
     },
     "execution_count": 106,
     "metadata": {},
     "output_type": "execute_result"
    }
   ],
   "source": [
    "np.round(n4_neg_return.std(axis=0),3)"
   ]
  },
  {
   "cell_type": "code",
   "execution_count": 110,
   "id": "adf05c9a-6de0-466e-8600-4dfb9d44e660",
   "metadata": {},
   "outputs": [
    {
     "name": "stderr",
     "output_type": "stream",
     "text": [
      "<ipython-input-54-6eda513a3af1>:18: RuntimeWarning:\n",
      "\n",
      "covariance is not positive-semidefinite.\n",
      "\n"
     ]
    }
   ],
   "source": [
    "n4_neg_weight_os, n4_neg_return_os, n4_neg_risks_os = cor_optimization_zeros(4, 1000, r)"
   ]
  },
  {
   "cell_type": "code",
   "execution_count": 111,
   "id": "53663ad6-5319-464c-9cc6-33ca487bc7aa",
   "metadata": {},
   "outputs": [
    {
     "data": {
      "text/plain": [
       "array([5.024, 5.001, 4.999, 4.999])"
      ]
     },
     "execution_count": 111,
     "metadata": {},
     "output_type": "execute_result"
    }
   ],
   "source": [
    "np.round(n4_neg_return_os.mean(axis = 0), 3)"
   ]
  },
  {
   "cell_type": "code",
   "execution_count": 112,
   "id": "c3d74bd3-4c22-4317-93ca-f98d31501e50",
   "metadata": {},
   "outputs": [
    {
     "data": {
      "text/plain": [
       "array([0.022, 0.016, 0.016, 0.016])"
      ]
     },
     "execution_count": 112,
     "metadata": {},
     "output_type": "execute_result"
    }
   ],
   "source": [
    "np.round(n4_neg_return_os.std(axis = 0), 3)"
   ]
  },
  {
   "cell_type": "markdown",
   "id": "3b34f01e-0b14-4219-89bd-e91d5c97b84a",
   "metadata": {},
   "source": [
    "## $n=8$"
   ]
  },
  {
   "cell_type": "code",
   "execution_count": 113,
   "id": "3bdcf5d3-eec2-4ef1-a967-136d298c6b39",
   "metadata": {},
   "outputs": [],
   "source": [
    "n = 8\n",
    "r = np.random.uniform(-0.8, -0.5, (n,n))\n",
    "np.fill_diagonal(r, 1)"
   ]
  },
  {
   "cell_type": "code",
   "execution_count": 114,
   "id": "6f8136bd-8e76-4454-b8f2-44f9f08760bf",
   "metadata": {},
   "outputs": [
    {
     "name": "stderr",
     "output_type": "stream",
     "text": [
      "<ipython-input-53-6afc58b1f877>:18: RuntimeWarning:\n",
      "\n",
      "covariance is not positive-semidefinite.\n",
      "\n"
     ]
    }
   ],
   "source": [
    "n8_neg_weight, n8_neg_return, n8_neg_risks = cor_optimization(8, 1000, r)"
   ]
  },
  {
   "cell_type": "code",
   "execution_count": 115,
   "id": "e6f513e0-a183-4e32-9371-f5c130325b34",
   "metadata": {},
   "outputs": [
    {
     "data": {
      "text/plain": [
       "array([5.036, 5.014, 5.002, 4.999, 4.999, 4.998, 4.998, 4.998])"
      ]
     },
     "execution_count": 115,
     "metadata": {},
     "output_type": "execute_result"
    }
   ],
   "source": [
    "np.round(n8_neg_return.mean(axis=0), 3)"
   ]
  },
  {
   "cell_type": "code",
   "execution_count": 116,
   "id": "5a2d0a85-06ac-43c5-a2c9-349851bedaf6",
   "metadata": {},
   "outputs": [
    {
     "data": {
      "text/plain": [
       "array([0.028, 0.023, 0.021, 0.021, 0.021, 0.021, 0.02 , 0.02 ])"
      ]
     },
     "execution_count": 116,
     "metadata": {},
     "output_type": "execute_result"
    }
   ],
   "source": [
    "np.round(n8_neg_return.std(axis=0), 3)"
   ]
  },
  {
   "cell_type": "code",
   "execution_count": 118,
   "id": "43f730c6-2ad6-4c10-9d1a-d8f17c77995a",
   "metadata": {},
   "outputs": [
    {
     "name": "stderr",
     "output_type": "stream",
     "text": [
      "<ipython-input-54-6eda513a3af1>:18: RuntimeWarning:\n",
      "\n",
      "covariance is not positive-semidefinite.\n",
      "\n"
     ]
    }
   ],
   "source": [
    "n8_neg_weight_os, n8_neg_return_os, n8_neg_risks_os = cor_optimization_zeros(8, 1000, r)"
   ]
  },
  {
   "cell_type": "code",
   "execution_count": 119,
   "id": "38878571-6af8-49d4-9b24-aadb04f8649f",
   "metadata": {},
   "outputs": [
    {
     "data": {
      "text/plain": [
       "array([5.042, 5.017, 5.004, 5.   , 4.999, 4.999, 4.999, 4.999])"
      ]
     },
     "execution_count": 119,
     "metadata": {},
     "output_type": "execute_result"
    }
   ],
   "source": [
    "np.round(n8_neg_return_os.mean(axis=0),3)"
   ]
  },
  {
   "cell_type": "code",
   "execution_count": 120,
   "id": "291914c1-62e3-4a31-90f6-f6dd98bab1bd",
   "metadata": {},
   "outputs": [
    {
     "data": {
      "text/plain": [
       "array([0.026, 0.02 , 0.019, 0.019, 0.019, 0.019, 0.019, 0.019])"
      ]
     },
     "execution_count": 120,
     "metadata": {},
     "output_type": "execute_result"
    }
   ],
   "source": [
    "np.round(n8_neg_return_os.std(axis=0),3)"
   ]
  },
  {
   "cell_type": "markdown",
   "id": "7419130d-fb88-479e-ba6e-61f7fe074cdd",
   "metadata": {},
   "source": [
    "## $n=16$"
   ]
  },
  {
   "cell_type": "code",
   "execution_count": 121,
   "id": "2c6c0916-95ff-42a2-8ea2-bec551854e4c",
   "metadata": {},
   "outputs": [],
   "source": [
    "n = 16\n",
    "r = np.random.uniform(-0.8, -0.5, (n,n))\n",
    "np.fill_diagonal(r, 1)"
   ]
  },
  {
   "cell_type": "code",
   "execution_count": 122,
   "id": "b5b511f9-9ae3-43b9-b0b3-facec3bd4092",
   "metadata": {},
   "outputs": [
    {
     "name": "stderr",
     "output_type": "stream",
     "text": [
      "<ipython-input-53-6afc58b1f877>:18: RuntimeWarning:\n",
      "\n",
      "covariance is not positive-semidefinite.\n",
      "\n"
     ]
    }
   ],
   "source": [
    "n16_neg_weight, n16_neg_return, n16_neg_risks = cor_optimization(16, 1000, r)"
   ]
  },
  {
   "cell_type": "code",
   "execution_count": 123,
   "id": "00371a0b-3496-4ad1-8b8f-4d0c00dcdae2",
   "metadata": {},
   "outputs": [
    {
     "data": {
      "text/plain": [
       "array([5.054, 5.043, 5.029, 5.016, 5.007, 5.003, 5.   , 4.999, 4.999,\n",
       "       4.999, 4.998, 4.998, 4.998, 4.998, 4.998, 4.998])"
      ]
     },
     "execution_count": 123,
     "metadata": {},
     "output_type": "execute_result"
    }
   ],
   "source": [
    "np.round(n16_neg_return.mean(axis=0), 3)"
   ]
  },
  {
   "cell_type": "code",
   "execution_count": 124,
   "id": "899374a9-046e-4db9-b704-5ac24d698827",
   "metadata": {},
   "outputs": [
    {
     "data": {
      "text/plain": [
       "array([0.026, 0.025, 0.024, 0.022, 0.022, 0.021, 0.021, 0.021, 0.021,\n",
       "       0.021, 0.021, 0.021, 0.021, 0.021, 0.021, 0.021])"
      ]
     },
     "execution_count": 124,
     "metadata": {},
     "output_type": "execute_result"
    }
   ],
   "source": [
    "np.round(n16_neg_return.std(axis=0), 3)"
   ]
  },
  {
   "cell_type": "code",
   "execution_count": 125,
   "id": "fbe470c5-cc04-44da-8551-3362d87dbcaf",
   "metadata": {},
   "outputs": [
    {
     "name": "stderr",
     "output_type": "stream",
     "text": [
      "<ipython-input-54-6eda513a3af1>:18: RuntimeWarning:\n",
      "\n",
      "covariance is not positive-semidefinite.\n",
      "\n"
     ]
    }
   ],
   "source": [
    "n16_neg_weight_os, n16_neg_return_os, n16_neg_risks_os = cor_optimization_zeros(16, 1000, r)"
   ]
  },
  {
   "cell_type": "code",
   "execution_count": 127,
   "id": "2a91da33-41d3-4817-8ffd-1da733322749",
   "metadata": {},
   "outputs": [
    {
     "data": {
      "text/plain": [
       "array([5.054, 5.042, 5.03 , 5.018, 5.01 , 5.005, 5.003, 5.002, 5.002,\n",
       "       5.002, 5.002, 5.002, 5.002, 5.002, 5.002, 5.002])"
      ]
     },
     "execution_count": 127,
     "metadata": {},
     "output_type": "execute_result"
    }
   ],
   "source": [
    "np.round(n16_neg_return_os.mean(axis=0), 3)"
   ]
  },
  {
   "cell_type": "code",
   "execution_count": 126,
   "id": "5337d586-3c92-4171-bc7e-abae8b55182d",
   "metadata": {},
   "outputs": [
    {
     "data": {
      "text/plain": [
       "array([0.028, 0.027, 0.026, 0.026, 0.026, 0.026, 0.026, 0.026, 0.026,\n",
       "       0.026, 0.026, 0.026, 0.026, 0.026, 0.026, 0.026])"
      ]
     },
     "execution_count": 126,
     "metadata": {},
     "output_type": "execute_result"
    }
   ],
   "source": [
    "np.round(n16_neg_return_os.std(axis=0), 3)"
   ]
  },
  {
   "cell_type": "code",
   "execution_count": 430,
   "id": "ea9feb81-883a-4565-8313-2f7161aab3fc",
   "metadata": {},
   "outputs": [
    {
     "ename": "Error",
     "evalue": "rescode.err_missing_license_file(1008): License cannot be located. The default search path is ':/Users/elizabeth/mosek/mosek.lic:'.",
     "output_type": "error",
     "traceback": [
      "\u001b[0;31m---------------------------------------------------------------------------\u001b[0m",
      "\u001b[0;31mError\u001b[0m                                     Traceback (most recent call last)",
      "\u001b[0;32m<ipython-input-430-c3ba36c13c6c>\u001b[0m in \u001b[0;36m<module>\u001b[0;34m\u001b[0m\n\u001b[1;32m      8\u001b[0m \u001b[0mef\u001b[0m \u001b[0;34m=\u001b[0m \u001b[0mpyp\u001b[0m\u001b[0;34m.\u001b[0m\u001b[0mEfficientFrontier\u001b[0m\u001b[0;34m(\u001b[0m\u001b[0mpbar\u001b[0m\u001b[0;34m,\u001b[0m \u001b[0mS\u001b[0m\u001b[0;34m)\u001b[0m\u001b[0;34m\u001b[0m\u001b[0;34m\u001b[0m\u001b[0m\n\u001b[1;32m      9\u001b[0m \u001b[0mef\u001b[0m\u001b[0;34m.\u001b[0m\u001b[0madd_constraint\u001b[0m\u001b[0;34m(\u001b[0m\u001b[0;32mlambda\u001b[0m \u001b[0mw\u001b[0m\u001b[0;34m:\u001b[0m \u001b[0msum\u001b[0m\u001b[0;34m(\u001b[0m\u001b[0mw\u001b[0m\u001b[0;34m)\u001b[0m \u001b[0;34m==\u001b[0m \u001b[0;36m1\u001b[0m\u001b[0;34m)\u001b[0m\u001b[0;34m\u001b[0m\u001b[0;34m\u001b[0m\u001b[0m\n\u001b[0;32m---> 10\u001b[0;31m \u001b[0mef\u001b[0m\u001b[0;34m.\u001b[0m\u001b[0mefficient_return\u001b[0m\u001b[0;34m(\u001b[0m\u001b[0;36m0.25\u001b[0m\u001b[0;34m)\u001b[0m\u001b[0;34m\u001b[0m\u001b[0;34m\u001b[0m\u001b[0m\n\u001b[0m",
      "\u001b[0;32m~/opt/anaconda3/lib/python3.8/site-packages/pypfopt/efficient_frontier/efficient_frontier.py\u001b[0m in \u001b[0;36mefficient_return\u001b[0;34m(self, target_return, market_neutral)\u001b[0m\n\u001b[1;32m    393\u001b[0m             \u001b[0;32mraise\u001b[0m \u001b[0mValueError\u001b[0m\u001b[0;34m(\u001b[0m\u001b[0;34m\"target_return should be a positive float\"\u001b[0m\u001b[0;34m)\u001b[0m\u001b[0;34m\u001b[0m\u001b[0;34m\u001b[0m\u001b[0m\n\u001b[1;32m    394\u001b[0m         \u001b[0;32mif\u001b[0m \u001b[0;32mnot\u001b[0m \u001b[0mself\u001b[0m\u001b[0;34m.\u001b[0m\u001b[0m_max_return_value\u001b[0m\u001b[0;34m:\u001b[0m\u001b[0;34m\u001b[0m\u001b[0;34m\u001b[0m\u001b[0m\n\u001b[0;32m--> 395\u001b[0;31m             \u001b[0mself\u001b[0m\u001b[0;34m.\u001b[0m\u001b[0m_max_return_value\u001b[0m \u001b[0;34m=\u001b[0m \u001b[0mcopy\u001b[0m\u001b[0;34m.\u001b[0m\u001b[0mdeepcopy\u001b[0m\u001b[0;34m(\u001b[0m\u001b[0mself\u001b[0m\u001b[0;34m)\u001b[0m\u001b[0;34m.\u001b[0m\u001b[0m_max_return\u001b[0m\u001b[0;34m(\u001b[0m\u001b[0;34m)\u001b[0m\u001b[0;34m\u001b[0m\u001b[0;34m\u001b[0m\u001b[0m\n\u001b[0m\u001b[1;32m    396\u001b[0m         \u001b[0;32mif\u001b[0m \u001b[0mtarget_return\u001b[0m \u001b[0;34m>\u001b[0m \u001b[0mself\u001b[0m\u001b[0;34m.\u001b[0m\u001b[0m_max_return_value\u001b[0m\u001b[0;34m:\u001b[0m\u001b[0;34m\u001b[0m\u001b[0;34m\u001b[0m\u001b[0m\n\u001b[1;32m    397\u001b[0m             raise ValueError(\n",
      "\u001b[0;32m~/opt/anaconda3/lib/python3.8/site-packages/pypfopt/efficient_frontier/efficient_frontier.py\u001b[0m in \u001b[0;36m_max_return\u001b[0;34m(self, return_value)\u001b[0m\n\u001b[1;32m    220\u001b[0m         \u001b[0mself\u001b[0m\u001b[0;34m.\u001b[0m\u001b[0madd_constraint\u001b[0m\u001b[0;34m(\u001b[0m\u001b[0;32mlambda\u001b[0m \u001b[0mw\u001b[0m\u001b[0;34m:\u001b[0m \u001b[0mcp\u001b[0m\u001b[0;34m.\u001b[0m\u001b[0msum\u001b[0m\u001b[0;34m(\u001b[0m\u001b[0mw\u001b[0m\u001b[0;34m)\u001b[0m \u001b[0;34m==\u001b[0m \u001b[0;36m1\u001b[0m\u001b[0;34m)\u001b[0m\u001b[0;34m\u001b[0m\u001b[0;34m\u001b[0m\u001b[0m\n\u001b[1;32m    221\u001b[0m \u001b[0;34m\u001b[0m\u001b[0m\n\u001b[0;32m--> 222\u001b[0;31m         \u001b[0mres\u001b[0m \u001b[0;34m=\u001b[0m \u001b[0mself\u001b[0m\u001b[0;34m.\u001b[0m\u001b[0m_solve_cvxpy_opt_problem\u001b[0m\u001b[0;34m(\u001b[0m\u001b[0;34m)\u001b[0m\u001b[0;34m\u001b[0m\u001b[0;34m\u001b[0m\u001b[0m\n\u001b[0m\u001b[1;32m    223\u001b[0m \u001b[0;34m\u001b[0m\u001b[0m\n\u001b[1;32m    224\u001b[0m         \u001b[0;32mif\u001b[0m \u001b[0mreturn_value\u001b[0m\u001b[0;34m:\u001b[0m\u001b[0;34m\u001b[0m\u001b[0;34m\u001b[0m\u001b[0m\n",
      "\u001b[0;32m~/opt/anaconda3/lib/python3.8/site-packages/pypfopt/base_optimizer.py\u001b[0m in \u001b[0;36m_solve_cvxpy_opt_problem\u001b[0;34m(self)\u001b[0m\n\u001b[1;32m    290\u001b[0m                         \u001b[0;34m\"Please create a new instance instead.\"\u001b[0m\u001b[0;34m\u001b[0m\u001b[0;34m\u001b[0m\u001b[0m\n\u001b[1;32m    291\u001b[0m                     )\n\u001b[0;32m--> 292\u001b[0;31m             self._opt.solve(\n\u001b[0m\u001b[1;32m    293\u001b[0m                 \u001b[0msolver\u001b[0m\u001b[0;34m=\u001b[0m\u001b[0mself\u001b[0m\u001b[0;34m.\u001b[0m\u001b[0m_solver\u001b[0m\u001b[0;34m,\u001b[0m \u001b[0mverbose\u001b[0m\u001b[0;34m=\u001b[0m\u001b[0mself\u001b[0m\u001b[0;34m.\u001b[0m\u001b[0m_verbose\u001b[0m\u001b[0;34m,\u001b[0m \u001b[0;34m**\u001b[0m\u001b[0mself\u001b[0m\u001b[0;34m.\u001b[0m\u001b[0m_solver_options\u001b[0m\u001b[0;34m\u001b[0m\u001b[0;34m\u001b[0m\u001b[0m\n\u001b[1;32m    294\u001b[0m             )\n",
      "\u001b[0;32m~/opt/anaconda3/lib/python3.8/site-packages/cvxpy/problems/problem.py\u001b[0m in \u001b[0;36msolve\u001b[0;34m(self, *args, **kwargs)\u001b[0m\n\u001b[1;32m    479\u001b[0m         \u001b[0;32melse\u001b[0m\u001b[0;34m:\u001b[0m\u001b[0;34m\u001b[0m\u001b[0;34m\u001b[0m\u001b[0m\n\u001b[1;32m    480\u001b[0m             \u001b[0msolve_func\u001b[0m \u001b[0;34m=\u001b[0m \u001b[0mProblem\u001b[0m\u001b[0;34m.\u001b[0m\u001b[0m_solve\u001b[0m\u001b[0;34m\u001b[0m\u001b[0;34m\u001b[0m\u001b[0m\n\u001b[0;32m--> 481\u001b[0;31m         \u001b[0;32mreturn\u001b[0m \u001b[0msolve_func\u001b[0m\u001b[0;34m(\u001b[0m\u001b[0mself\u001b[0m\u001b[0;34m,\u001b[0m \u001b[0;34m*\u001b[0m\u001b[0margs\u001b[0m\u001b[0;34m,\u001b[0m \u001b[0;34m**\u001b[0m\u001b[0mkwargs\u001b[0m\u001b[0;34m)\u001b[0m\u001b[0;34m\u001b[0m\u001b[0;34m\u001b[0m\u001b[0m\n\u001b[0m\u001b[1;32m    482\u001b[0m \u001b[0;34m\u001b[0m\u001b[0m\n\u001b[1;32m    483\u001b[0m     \u001b[0;34m@\u001b[0m\u001b[0mclassmethod\u001b[0m\u001b[0;34m\u001b[0m\u001b[0;34m\u001b[0m\u001b[0m\n",
      "\u001b[0;32m~/opt/anaconda3/lib/python3.8/site-packages/cvxpy/problems/problem.py\u001b[0m in \u001b[0;36m_solve\u001b[0;34m(self, solver, warm_start, verbose, gp, qcp, requires_grad, enforce_dpp, ignore_dpp, **kwargs)\u001b[0m\n\u001b[1;32m   1014\u001b[0m                     solving_chain.reductions[-1].name())\n\u001b[1;32m   1015\u001b[0m         \u001b[0mstart\u001b[0m \u001b[0;34m=\u001b[0m \u001b[0mtime\u001b[0m\u001b[0;34m.\u001b[0m\u001b[0mtime\u001b[0m\u001b[0;34m(\u001b[0m\u001b[0;34m)\u001b[0m\u001b[0;34m\u001b[0m\u001b[0;34m\u001b[0m\u001b[0m\n\u001b[0;32m-> 1016\u001b[0;31m         solution = solving_chain.solve_via_data(\n\u001b[0m\u001b[1;32m   1017\u001b[0m             self, data, warm_start, verbose, kwargs)\n\u001b[1;32m   1018\u001b[0m         \u001b[0mend\u001b[0m \u001b[0;34m=\u001b[0m \u001b[0mtime\u001b[0m\u001b[0;34m.\u001b[0m\u001b[0mtime\u001b[0m\u001b[0;34m(\u001b[0m\u001b[0;34m)\u001b[0m\u001b[0;34m\u001b[0m\u001b[0;34m\u001b[0m\u001b[0m\n",
      "\u001b[0;32m~/opt/anaconda3/lib/python3.8/site-packages/cvxpy/reductions/solvers/solving_chain.py\u001b[0m in \u001b[0;36msolve_via_data\u001b[0;34m(self, problem, data, warm_start, verbose, solver_opts)\u001b[0m\n\u001b[1;32m    359\u001b[0m             \u001b[0ma\u001b[0m \u001b[0mSolution\u001b[0m \u001b[0mobject\u001b[0m\u001b[0;34m.\u001b[0m\u001b[0;34m\u001b[0m\u001b[0;34m\u001b[0m\u001b[0m\n\u001b[1;32m    360\u001b[0m         \"\"\"\n\u001b[0;32m--> 361\u001b[0;31m         return self.solver.solve_via_data(data, warm_start, verbose,\n\u001b[0m\u001b[1;32m    362\u001b[0m                                           solver_opts, problem._solver_cache)\n",
      "\u001b[0;32m~/opt/anaconda3/lib/python3.8/site-packages/cvxpy/reductions/solvers/conic_solvers/mosek_conif.py\u001b[0m in \u001b[0;36msolve_via_data\u001b[0;34m(self, data, warm_start, verbose, solver_opts, solver_cache)\u001b[0m\n\u001b[1;32m    236\u001b[0m         \u001b[0;32mif\u001b[0m \u001b[0msave_file\u001b[0m\u001b[0;34m:\u001b[0m\u001b[0;34m\u001b[0m\u001b[0;34m\u001b[0m\u001b[0m\n\u001b[1;32m    237\u001b[0m             \u001b[0mtask\u001b[0m\u001b[0;34m.\u001b[0m\u001b[0mwritedata\u001b[0m\u001b[0;34m(\u001b[0m\u001b[0msave_file\u001b[0m\u001b[0;34m)\u001b[0m\u001b[0;34m\u001b[0m\u001b[0;34m\u001b[0m\u001b[0m\n\u001b[0;32m--> 238\u001b[0;31m         \u001b[0mtask\u001b[0m\u001b[0;34m.\u001b[0m\u001b[0moptimize\u001b[0m\u001b[0;34m(\u001b[0m\u001b[0;34m)\u001b[0m\u001b[0;34m\u001b[0m\u001b[0;34m\u001b[0m\u001b[0m\n\u001b[0m\u001b[1;32m    239\u001b[0m \u001b[0;34m\u001b[0m\u001b[0m\n\u001b[1;32m    240\u001b[0m         \u001b[0;32mif\u001b[0m \u001b[0mverbose\u001b[0m\u001b[0;34m:\u001b[0m\u001b[0;34m\u001b[0m\u001b[0;34m\u001b[0m\u001b[0m\n",
      "\u001b[0;32m~/opt/anaconda3/lib/python3.8/site-packages/mosek/__init__.py\u001b[0m in \u001b[0;36moptimize\u001b[0;34m(self)\u001b[0m\n\u001b[1;32m   7625\u001b[0m       \u001b[0;32mif\u001b[0m \u001b[0mres\u001b[0m \u001b[0;34m!=\u001b[0m \u001b[0;36m0\u001b[0m\u001b[0;34m:\u001b[0m\u001b[0;34m\u001b[0m\u001b[0;34m\u001b[0m\u001b[0m\n\u001b[1;32m   7626\u001b[0m         \u001b[0mresult\u001b[0m\u001b[0;34m,\u001b[0m\u001b[0mmsg\u001b[0m \u001b[0;34m=\u001b[0m \u001b[0mself\u001b[0m\u001b[0;34m.\u001b[0m\u001b[0m__getlasterror\u001b[0m\u001b[0;34m(\u001b[0m\u001b[0mres\u001b[0m\u001b[0;34m)\u001b[0m\u001b[0;34m\u001b[0m\u001b[0;34m\u001b[0m\u001b[0m\n\u001b[0;32m-> 7627\u001b[0;31m         \u001b[0;32mraise\u001b[0m \u001b[0mError\u001b[0m\u001b[0;34m(\u001b[0m\u001b[0mrescode\u001b[0m\u001b[0;34m(\u001b[0m\u001b[0mres\u001b[0m\u001b[0;34m)\u001b[0m\u001b[0;34m,\u001b[0m\u001b[0mmsg\u001b[0m\u001b[0;34m)\u001b[0m\u001b[0;34m\u001b[0m\u001b[0;34m\u001b[0m\u001b[0m\n\u001b[0m\u001b[1;32m   7628\u001b[0m       \u001b[0m__arg1_trmcode_return_value\u001b[0m \u001b[0;34m=\u001b[0m \u001b[0mresargs\u001b[0m\u001b[0;34m\u001b[0m\u001b[0;34m\u001b[0m\u001b[0m\n\u001b[1;32m   7629\u001b[0m       \u001b[0m__arg1_trmcode_return_value\u001b[0m \u001b[0;34m=\u001b[0m \u001b[0mrescode\u001b[0m\u001b[0;34m(\u001b[0m\u001b[0m__arg1_trmcode_return_value\u001b[0m\u001b[0;34m)\u001b[0m\u001b[0;34m\u001b[0m\u001b[0;34m\u001b[0m\u001b[0m\n",
      "\u001b[0;31mError\u001b[0m: rescode.err_missing_license_file(1008): License cannot be located. The default search path is ':/Users/elizabeth/mosek/mosek.lic:'."
     ]
    }
   ],
   "source": [
    "returns = np.random.randn(n_assets, n_obs)\n",
    "n = len(returns)\n",
    "returns = np.asmatrix(returns + 5)\n",
    "    \n",
    "S = np.array(np.cov(returns))\n",
    "pbar = np.array(np.mean(returns, axis = 1))\n",
    "    \n",
    "ef = pyp.EfficientFrontier(pbar, S)\n",
    "ef.add_constraint(lambda w: sum(w) == 1)\n",
    "ef.efficient_return(0.25)"
   ]
  },
  {
   "cell_type": "code",
   "execution_count": 134,
   "id": "e827218c-3aca-4a44-9b07-ee2e4ca9b53e",
   "metadata": {},
   "outputs": [
    {
     "data": {
      "text/plain": [
       "array([ 3.48258000e-01,  2.74181231e-01,  1.18999905e-02,  6.59073496e-01,\n",
       "       -2.39475494e-02, -4.85130816e-01, -4.26386162e-01,  3.58909190e-01,\n",
       "        5.45860521e-01,  1.87972789e+00,  6.60204897e-01,  1.81526114e-01,\n",
       "       -5.72606307e-02,  7.18939831e-01,  1.87051847e-01, -2.36209022e-01,\n",
       "       -3.00449480e-01,  8.70202967e-02,  1.37178348e+00, -5.81478325e-02,\n",
       "        2.37535583e-01,  1.41579003e+00,  1.30727715e+00, -6.11826576e-01,\n",
       "       -3.65325717e-01, -8.72504438e-01,  8.61429637e-01, -3.00372058e-01,\n",
       "        3.49067239e-02, -9.57343275e-01,  1.17292762e-01,  5.35940309e-01,\n",
       "       -1.03589279e+00,  8.92674833e-01, -4.40629358e-01, -5.65390805e-01,\n",
       "        9.87161738e-01, -4.42075408e-01, -1.14756243e-01, -3.27362654e-01,\n",
       "       -5.84108205e-02, -3.39745207e-02,  4.35377231e-01,  4.06290120e-01,\n",
       "       -2.30709381e-01, -3.68330344e-01,  6.23549274e-01, -8.52644424e-01,\n",
       "        4.88621269e-02, -1.59690378e+00, -4.31735524e-01,  2.84774104e-01,\n",
       "        2.35070727e-01, -3.91507251e-01, -3.09822073e-02, -9.41630644e-01,\n",
       "        1.01455875e+00,  7.97163958e-01,  7.15401404e-01,  7.67281183e-01,\n",
       "        3.55721172e-01, -6.59837937e-01, -6.12743613e-01,  1.70122993e-01,\n",
       "       -5.72664790e-01, -4.61992328e-01,  5.31714901e-01, -1.14523596e+00,\n",
       "       -6.30494037e-02,  6.49143033e-02, -1.19590037e-01,  1.58733936e+00,\n",
       "       -9.55187989e-01, -7.10030924e-01,  4.70376433e-02,  3.43186104e-01,\n",
       "        3.07375856e-01,  5.88597622e-01,  4.17781869e-01,  2.47781072e-02,\n",
       "       -1.53538652e+00,  7.15685397e-01,  7.28887625e-01, -8.10908915e-01,\n",
       "       -3.60987436e-01, -4.20874128e-01,  6.23345422e-01, -2.07071886e+00,\n",
       "       -9.60454939e-02,  4.60830912e-01,  4.36187880e-01, -5.14566148e-01,\n",
       "        8.04978813e-01,  9.41143663e-01,  1.00357658e+00,  4.66308760e-01,\n",
       "        5.21199402e-01,  5.97259387e-01,  7.69155740e-02,  3.76476541e-01,\n",
       "       -1.29645143e-01, -6.66620070e-01,  5.86457658e-01, -9.99150771e-02,\n",
       "        8.84942752e-01, -3.53240575e-01,  3.62125453e-01, -9.34440726e-01,\n",
       "        6.10103350e-01,  1.75173577e-01, -6.21313051e-01,  4.88342143e-01,\n",
       "        1.57037279e-01, -9.79525600e-01,  1.05271468e+00,  3.19289382e-02,\n",
       "       -6.00383424e-01, -2.90977081e-01,  2.28073480e-01, -2.67320795e-01,\n",
       "       -1.05757896e+00,  1.25502796e-01, -2.45486304e-01,  5.65617975e-01,\n",
       "        4.20056831e-01, -7.74888385e-02, -1.55989090e+00, -1.28825793e+00,\n",
       "       -7.16171598e-01,  2.81739893e-01,  1.82668820e-01, -1.04763267e+00,\n",
       "       -6.48630312e-01, -8.91692178e-01,  5.94576399e-01,  5.33950046e-01,\n",
       "        1.05743755e+00,  4.09734356e-02, -3.54733037e-02,  7.86533748e-01,\n",
       "       -2.37364332e-01, -4.76019395e-01, -6.69965497e-01, -1.20979702e+00,\n",
       "        4.02612860e-02,  1.76033547e-01, -6.55828911e-01, -2.33412321e-01,\n",
       "        1.10819632e-01,  3.26981786e-01,  3.92110870e-01, -1.36143924e+00,\n",
       "        5.26979200e-01, -4.92994434e-01, -6.18568003e-01,  8.91336666e-04,\n",
       "        2.15611105e-01, -4.96820745e-01, -2.69616047e-01, -1.16215675e+00,\n",
       "       -1.53287216e-01,  9.41808211e-01, -3.72549520e-01, -2.29408518e-01,\n",
       "       -3.97080780e-01,  3.32393698e-01,  4.41359254e-02, -8.58163421e-01,\n",
       "       -2.53704552e-01,  1.18126197e+00, -4.46151012e-01,  1.29425494e-01,\n",
       "       -1.07434232e+00, -2.34621427e-01,  6.23985751e-01,  3.23807475e-01,\n",
       "       -5.01542395e-01, -1.57023973e-01,  3.16173218e-01, -1.01378802e+00,\n",
       "       -3.47769687e-01, -9.21206762e-01,  8.69210823e-02, -4.67747971e-01,\n",
       "       -7.66931669e-01, -3.37540307e-01,  2.28629737e-01,  2.09398433e-01,\n",
       "       -7.34989113e-01, -5.17772238e-01,  2.21709307e-01,  4.17979717e-01,\n",
       "        6.96988866e-01,  5.32194220e-02,  9.27413202e-02,  5.28382142e-01,\n",
       "        3.53407981e-01, -8.82673652e-02,  1.29492575e-01, -3.01577454e-01,\n",
       "       -5.15802312e-01, -7.27014025e-01,  5.46181403e-01,  1.05213427e+00,\n",
       "       -3.86037224e-01,  4.20844231e-01,  6.36270268e-01, -3.35660210e-01,\n",
       "       -2.41071138e-01, -3.20612062e-01, -2.85431137e-01,  2.13379121e-01,\n",
       "        1.95968682e-03, -5.41960752e-01,  2.61002790e-01,  8.20741952e-01,\n",
       "        6.55504643e-01,  3.78962053e-01,  3.69794220e-03, -1.85527494e-01,\n",
       "       -3.74179626e-01, -8.15106569e-01, -1.29998991e-01, -8.85063220e-01,\n",
       "        1.67872424e-01, -9.93651713e-03,  9.09975128e-01, -3.05070753e-01,\n",
       "        9.54637660e-01,  1.10165251e-02,  1.34318807e+00, -3.34857601e-01,\n",
       "        4.61166564e-02, -5.51061717e-01, -7.13587164e-01, -1.47621782e+00,\n",
       "        7.99220519e-02,  3.25586186e-01, -2.02485693e-01,  3.32504127e-01,\n",
       "       -5.40366693e-01,  9.64474281e-01,  2.87188746e-01,  9.76546628e-01,\n",
       "        3.49055313e-01, -6.30015010e-01, -1.06235315e-01, -2.66136463e-01,\n",
       "       -3.59558810e-01,  7.97601850e-01, -4.68886041e-01, -1.31681337e+00,\n",
       "       -5.19279452e-01,  6.55712257e-01,  1.21443507e+00,  7.87283367e-01,\n",
       "       -7.28311538e-01,  5.74849992e-01, -7.68165871e-01, -3.94676738e-01,\n",
       "       -3.59970880e-02, -5.86162291e-01, -2.20268777e-01,  1.04791279e-01,\n",
       "        1.05878819e+00, -2.09094911e-01,  2.98437970e-01, -6.25707802e-01,\n",
       "       -1.46378262e+00, -1.25034608e-01,  5.00162190e-01,  4.24984701e-01,\n",
       "       -1.84769130e-01, -2.61325453e-01,  1.83275947e-02, -1.11082393e+00,\n",
       "       -4.56254864e-02,  1.70917230e-01,  7.25576992e-02,  3.30930785e-01,\n",
       "        7.13539613e-01, -2.93992801e-01,  6.62632056e-01, -9.05313458e-01,\n",
       "        3.78956072e-01, -5.15672898e-01,  1.11927957e+00, -2.40373710e-01,\n",
       "       -3.15457859e-01,  2.46309956e-03, -2.04749515e+00, -3.12660238e-01,\n",
       "       -9.66869585e-01, -8.29206491e-01,  1.01590992e-01, -9.68774574e-02,\n",
       "       -5.51010415e-01, -9.84396283e-01, -7.30717263e-01, -9.76812974e-01,\n",
       "       -7.22636069e-01, -3.67205865e-01, -1.29233126e-01, -3.38206589e-01,\n",
       "       -1.96145271e-01,  5.00454124e-01,  5.30692291e-01, -4.77230254e-01,\n",
       "        1.07081912e+00,  1.33929645e-01,  5.33274535e-02, -5.75473929e-01,\n",
       "       -1.82822001e-02,  7.28185166e-03, -6.91075873e-01,  7.20566049e-01,\n",
       "       -5.56479115e-01, -5.17512874e-02, -4.08154422e-02,  6.50191656e-01,\n",
       "       -1.14189119e-01, -4.10751502e-01, -9.56993679e-01,  3.39919630e-01,\n",
       "        1.03284640e-01,  3.33186005e-01, -2.30715106e-01,  3.52128151e-01,\n",
       "        6.34702830e-01, -7.45908609e-01, -4.11621974e-01,  1.79209540e-01,\n",
       "       -3.38255076e-01, -3.10720035e-01,  7.86887310e-01, -2.90775996e-01,\n",
       "       -2.53739649e-01,  6.54554588e-01,  4.35551137e-02,  1.02055738e+00,\n",
       "        6.49751365e-01, -1.07131205e+00, -2.30275977e-02,  1.27794282e+00,\n",
       "        1.77046206e-01,  3.58116975e-01, -3.85461790e-01,  1.76784047e-01,\n",
       "       -1.17568509e-01,  1.20907765e+00, -7.45451875e-01, -1.33796580e-01,\n",
       "        1.53568230e-01,  3.52465991e-01, -4.71140652e-01,  5.96533709e-01,\n",
       "        4.57853461e-01, -2.64630592e-01, -6.00157827e-01,  4.96067140e-01,\n",
       "       -3.77526696e-01,  8.32813950e-01, -2.98775427e-01, -2.78985803e-01,\n",
       "        5.85491053e-01, -6.48775630e-01,  2.03653070e-01, -5.83778003e-01,\n",
       "        1.28461483e+00, -1.59377287e-01,  7.84477701e-01,  7.29494753e-01,\n",
       "        4.31426401e-01, -3.48589705e-01, -4.35974488e-01,  3.20187800e-01,\n",
       "        3.02819371e-01,  5.45964216e-01,  5.50352446e-01, -7.08079158e-01,\n",
       "       -1.25341698e+00, -2.37655229e-01, -3.35622231e-01, -3.83295305e-01,\n",
       "        8.65610175e-01, -1.48895086e+00,  1.82461663e-01, -5.51554485e-01,\n",
       "       -4.54512339e-02,  2.51590654e-01, -2.89308246e-01, -6.32139482e-01,\n",
       "       -3.60053529e-01,  3.44695184e-01,  5.66790716e-01, -1.02813564e+00,\n",
       "        6.19694183e-01,  4.25362480e-01,  3.11477451e-01,  2.91877218e-01,\n",
       "        1.66111622e+00, -3.98266110e-01, -1.40664169e-01,  2.37358212e-01,\n",
       "       -2.64783444e-01, -1.49474512e-01, -3.52263880e-01,  7.78643722e-01,\n",
       "       -1.40386199e-01,  3.63823387e-01,  1.68550293e-01,  5.57348753e-01,\n",
       "        7.70140093e-01, -2.26942596e-01,  3.58277261e-01, -1.26481066e+00,\n",
       "        7.53787078e-01, -9.00594293e-01,  7.34880936e-01,  3.67460178e-01,\n",
       "        5.04587369e-01,  5.95995130e-01,  4.08161420e-01,  4.10404302e-01,\n",
       "        1.87858161e-02, -7.79614721e-01, -1.25359501e+00,  7.62465520e-01,\n",
       "       -8.20296913e-01,  6.26146003e-02, -7.80755904e-01,  4.08478870e-01,\n",
       "        2.62194021e+00, -7.01709097e-01,  6.70000948e-01,  5.27755735e-01,\n",
       "       -3.18120571e-01,  1.23221204e-01,  9.53949014e-01, -5.94106984e-01,\n",
       "        1.40324495e-01,  2.19347474e-01, -1.78055640e-01, -5.45591247e-01,\n",
       "       -8.53809351e-01,  3.89280793e-02,  1.00395836e+00,  4.93244430e-01,\n",
       "       -4.99204884e-01,  5.46570379e-01, -2.73969281e-02, -4.68713223e-01,\n",
       "       -1.73061263e-01,  3.58409541e-02, -4.66370408e-01, -8.92200176e-01,\n",
       "        9.63642969e-01,  4.79044985e-01, -1.57482748e-02,  1.27270418e+00,\n",
       "       -2.09721748e+00, -4.49987508e-01,  6.29893812e-01, -3.44278202e-01,\n",
       "        5.16633527e-02,  2.94304560e-01,  9.61245345e-01,  3.56458903e-02,\n",
       "        1.73785888e-01, -5.42940872e-01,  8.02596228e-02, -3.70163588e-01,\n",
       "       -7.08072032e-01,  2.85632963e-01,  2.60566929e-01,  2.72178625e-01,\n",
       "        9.65428316e-01,  4.46504861e-01,  3.23532670e-01, -1.01040905e+00,\n",
       "       -2.65625654e-01, -6.11790193e-01, -1.82826747e-01,  2.74107243e-02,\n",
       "       -2.15033469e-01,  3.08256537e-01, -9.40188839e-01, -1.33886061e+00,\n",
       "        9.94825986e-01,  5.72823028e-01, -3.40354222e-01, -1.18044971e+00,\n",
       "       -1.44162197e+00, -6.16234140e-01,  1.07839135e+00, -3.02156799e-01,\n",
       "        1.67719879e-01,  1.64998991e-01,  5.16882653e-01, -4.24500559e-01,\n",
       "        1.09943444e+00,  1.22704948e-01, -6.26717438e-02, -1.61291561e-01,\n",
       "        4.63972294e-02, -5.08281324e-01,  4.83406744e-01, -5.26454617e-01,\n",
       "       -3.25499076e-01,  8.36980607e-01,  4.58673257e-01,  3.25365604e-01,\n",
       "        2.39262358e-01, -4.72617102e-01,  3.47227866e-01,  4.35245682e-01,\n",
       "       -4.14805934e-01, -1.02511169e+00, -3.08918447e-01,  6.11603277e-01,\n",
       "        2.15540278e-02,  2.24990539e-01,  1.99090848e-01,  2.53128391e-01,\n",
       "        2.61510949e-01, -7.31903147e-01, -5.28056474e-01,  3.75371987e-01,\n",
       "        2.26887844e-01,  3.10109223e-02, -3.99286292e-01,  6.93057065e-01,\n",
       "        3.42718808e-01,  2.33261669e-01, -3.13732889e-01,  6.15686586e-01,\n",
       "        6.03508355e-01, -4.21086767e-01, -1.35033162e-02,  9.01764502e-01,\n",
       "        9.25476307e-01,  1.59772841e-02, -6.71470694e-01, -1.11367988e-01,\n",
       "       -1.32301395e+00, -2.60061714e-01,  4.42738085e-01, -1.29972862e+00,\n",
       "       -1.67911058e-01, -1.62770739e-01,  5.20333537e-01, -1.95447206e-01,\n",
       "       -5.33204588e-01,  1.05876897e+00,  1.19331564e-01, -2.10475397e-01,\n",
       "        3.03249472e-01, -8.36434050e-01,  4.09426840e-01,  3.74572931e-01,\n",
       "        5.56096936e-01,  7.94137599e-01,  3.41010818e-01, -1.14456800e-02,\n",
       "        6.11121173e-01, -2.17368112e-01, -3.22754450e-01,  2.37343989e-02,\n",
       "       -3.67986189e-01, -3.75937842e-01, -5.30254915e-01, -1.51741981e-01,\n",
       "        6.70602283e-01,  1.78750605e+00,  3.83913529e-01,  3.95411419e-01,\n",
       "       -4.09041774e-01,  1.28225966e-02,  1.12017191e-01,  4.54665799e-01,\n",
       "       -4.73530401e-01,  3.97311835e-02,  3.99081102e-01,  1.08263679e-01,\n",
       "       -1.26607959e-01, -1.56814969e-01,  2.67719028e-01, -3.07674059e-01,\n",
       "       -6.77950986e-01,  4.45195631e-01,  1.21477677e+00,  7.54849158e-01,\n",
       "       -5.76354528e-01, -5.28624801e-01,  1.02188511e+00,  1.03563259e+00,\n",
       "       -5.24709743e-01, -6.39370808e-01,  1.05367786e+00, -3.91250505e-01,\n",
       "        4.30694405e-01, -1.39136859e+00, -4.39439387e-01, -2.68254540e-01,\n",
       "        2.81958651e-01, -3.87474992e-01, -3.35797733e-02, -1.69713230e-01,\n",
       "        1.29688409e+00, -8.96677645e-01, -2.91585407e-01,  7.32158365e-01,\n",
       "       -1.91453847e-01, -1.67762733e-01,  4.43656356e-01, -1.47251306e-01,\n",
       "       -1.10886783e+00, -9.81630821e-01,  1.49179549e+00, -3.41923202e-01,\n",
       "        1.00563309e-01,  4.79891003e-02,  4.06848898e-01,  8.38377577e-01,\n",
       "       -6.59165639e-01,  7.10821144e-02, -3.35914706e-01, -5.65928816e-01,\n",
       "        3.52498315e-01,  6.27865368e-01, -1.32997277e+00,  4.72814955e-01,\n",
       "        5.68376663e-01, -8.76832417e-01,  1.02903017e-01,  5.41392491e-01,\n",
       "        2.41302714e-01,  1.86759624e-01,  3.98725790e-01, -2.57566730e-01,\n",
       "       -3.79657805e-01, -3.11374504e-01, -2.40021711e-01, -1.77335053e-01,\n",
       "        1.93099080e-01, -6.51806014e-01,  3.04849023e-01,  7.22608027e-01,\n",
       "       -2.92477564e-01, -4.74611231e-01, -2.94955457e-02, -7.67377457e-01,\n",
       "        2.02510417e-01, -5.33866775e-01, -1.26055453e+00,  2.05523263e-01,\n",
       "        2.61921283e-01, -4.16405198e-01, -1.38377126e+00,  6.48451349e-01,\n",
       "        8.42687328e-01, -2.77726245e-01, -3.12883803e-01,  1.13212291e-01,\n",
       "       -1.00651057e+00,  5.55950263e-01, -2.42115989e-02,  3.99987222e-01,\n",
       "       -9.37567124e-02, -4.50897509e-01,  4.36710432e-01,  1.11458671e+00,\n",
       "        8.03536994e-01,  5.03888022e-03, -5.69219088e-01, -1.26949035e-01,\n",
       "        1.05905451e+00, -7.64780003e-01, -1.53771146e-01, -3.14012437e-01,\n",
       "       -2.76707221e-01, -5.69095818e-01, -2.02469296e-01,  3.86790468e-01,\n",
       "       -3.49399309e-01, -2.44873282e-01,  2.15260604e-01, -3.41945329e-01,\n",
       "        9.81387646e-01,  1.05445712e-01,  1.09399552e+00, -6.95644168e-01,\n",
       "       -3.10320785e-01,  8.67492844e-01,  8.05892011e-01,  4.58574370e-01,\n",
       "        5.81760443e-01, -8.68748473e-02,  4.62587583e-01,  5.43903469e-01,\n",
       "        1.42071591e-01,  2.46543818e-01,  3.50974937e-01, -8.88355329e-02,\n",
       "        5.46390580e-01, -2.76112877e-01, -9.40793540e-01, -1.04202327e-01,\n",
       "       -1.26960985e-01,  3.50488295e-01, -8.10925058e-02,  3.87061032e-01,\n",
       "        5.20017085e-01,  5.33468435e-01,  2.35351296e-02,  7.65322832e-01,\n",
       "       -4.16100722e-01, -1.58633811e-01, -1.31616896e-01, -5.29659249e-01,\n",
       "        4.51036911e-03,  1.37959314e+00, -4.19093146e-01, -3.39971703e-02,\n",
       "       -5.02719624e-01, -2.05792453e-01,  2.79425631e-01,  6.18532156e-01,\n",
       "        4.71547607e-01, -3.16363570e-01, -4.30707039e-02,  5.98801782e-01,\n",
       "        8.99654462e-02, -1.46772218e-01, -3.33305835e-01,  6.66037516e-01,\n",
       "       -4.86565812e-01, -3.48021745e-01, -3.74787932e-01,  5.56438002e-01,\n",
       "       -5.46286494e-02,  1.18144458e-01,  5.90560257e-02, -9.24409703e-02,\n",
       "       -1.35171609e+00,  1.14341410e+00,  6.67558585e-01,  1.43156096e-01,\n",
       "       -1.00208974e-01,  1.80746394e-01,  3.42407864e-01,  3.07532644e-01,\n",
       "        3.69631268e-01, -5.67032654e-01,  3.34664222e-01, -5.79807100e-01,\n",
       "       -4.31634339e-01, -5.14908769e-01, -5.00916739e-01, -6.80162367e-01,\n",
       "        1.61461629e-01,  4.27031575e-01, -1.97639937e-01, -7.83887417e-01,\n",
       "        7.96447103e-02,  3.22360946e-02, -8.30022550e-01, -4.58570248e-01,\n",
       "        6.41561818e-01,  6.38413020e-02,  1.43224795e+00, -5.41077606e-02,\n",
       "        4.99829416e-01,  4.97446177e-01,  1.30923143e+00, -1.29889510e+00,\n",
       "        6.23310825e-01,  1.98688313e-01, -1.10276639e-01,  1.52037813e+00,\n",
       "        4.50840704e-02, -4.15112690e-01,  8.03578782e-02, -1.98262126e-01,\n",
       "        2.72322827e-01,  8.40361349e-02, -5.49812628e-03,  9.60074581e-01,\n",
       "        1.26083166e+00,  2.42062267e-01, -1.56719579e+00, -3.20073549e-01,\n",
       "       -7.63287196e-01,  9.66127157e-03, -3.73301123e-01,  4.87076479e-01,\n",
       "        1.56102643e-01,  1.48297977e-01,  2.64998288e-01, -3.64268048e-01,\n",
       "       -3.42868939e-01, -8.96849574e-01,  3.89549532e-01, -3.55867391e-01,\n",
       "        6.97623901e-02, -4.20616227e-01, -4.74528690e-01,  4.21449605e-01,\n",
       "        2.14005804e-01,  1.26181481e+00, -2.01262644e-01, -7.24620593e-01,\n",
       "        3.84278301e-01,  2.08937244e-01, -2.22859613e-01,  6.64311271e-01,\n",
       "       -3.94808283e-01,  9.70971147e-01,  8.43569632e-02,  5.11112609e-01,\n",
       "       -3.70091555e-01, -1.17752277e+00,  7.36576496e-01,  8.80852582e-01,\n",
       "        1.36363430e+00,  3.21450558e-01, -8.24025707e-02,  1.20217310e-01,\n",
       "       -7.05795631e-01, -1.09202879e+00, -1.34544558e-01, -1.24867438e+00,\n",
       "        2.44824126e-02, -2.95488483e-01,  5.27505082e-01, -6.64428463e-01,\n",
       "        3.00892104e-01,  3.30113452e-01, -1.25900445e-01, -2.52863560e-02,\n",
       "       -1.21536363e-01, -4.35608471e-01,  5.22500453e-01,  9.35140318e-02,\n",
       "        3.17832472e-01, -9.03336814e-01,  5.12391370e-02, -5.03951274e-01,\n",
       "       -4.26296923e-01, -5.61245524e-01,  1.11065611e+00,  3.81007502e-01,\n",
       "        1.95143515e-02,  5.76741447e-02,  4.20776174e-01,  1.91665174e-01,\n",
       "        7.55056390e-01, -5.42419754e-01,  8.93072908e-01,  2.11405493e-02,\n",
       "       -4.77181761e-01,  5.65411636e-02,  6.54322945e-01, -5.20443994e-01,\n",
       "        3.38108883e-01, -1.23667171e-01,  6.78873088e-01,  2.01314799e+00,\n",
       "       -3.63031602e-01, -1.02070595e+00, -4.10753350e-02,  6.75547138e-01,\n",
       "        4.28844362e-01,  4.35186031e-01,  7.83177585e-01,  2.06706950e-01,\n",
       "        1.07750655e-01, -1.20448203e+00,  5.82074422e-01,  1.24246006e-01,\n",
       "        3.99140344e-01,  1.63727755e+00,  6.49254347e-03, -9.77814102e-01,\n",
       "       -4.94797569e-02,  2.14477435e-01, -5.97549447e-01,  7.18914733e-01,\n",
       "        7.13855157e-01,  3.65122477e-02, -2.13241606e-01, -4.34433996e-01,\n",
       "       -4.69108051e-01, -4.21253413e-01, -2.77436408e-01, -5.25942719e-03,\n",
       "        5.77245721e-01,  3.76254024e-01, -3.00740906e-01,  8.22181145e-02,\n",
       "        7.43966752e-02, -4.03848148e-01, -1.31787653e-01, -9.34168715e-01,\n",
       "        2.58374706e-01, -7.69578508e-02,  3.41925471e-01, -5.37831759e-01,\n",
       "        8.04848443e-01, -3.84905917e-01,  1.16192575e-02, -1.13305658e+00,\n",
       "        1.23564738e+00,  7.01680765e-01, -4.28171957e-02, -9.65250157e-02,\n",
       "       -1.41126291e-01,  1.69686995e-01,  2.55856315e-01,  2.10021148e-01,\n",
       "        1.46746589e-01, -2.46414108e-01,  5.21839757e-01, -1.52197247e-01,\n",
       "       -7.47824596e-01,  3.56951252e-01, -5.46373497e-01, -8.32309869e-01,\n",
       "        3.92308537e-02, -6.76205146e-01,  2.04000481e+00, -1.39947889e-01,\n",
       "        7.09734721e-01,  1.35273603e+00, -7.64365993e-01, -1.61131405e-01,\n",
       "        2.25287541e-01, -8.30641968e-01,  4.25965322e-01,  6.14972914e-01,\n",
       "        1.35226727e-01, -2.90845187e-01,  1.96499213e-01, -4.26317322e-01,\n",
       "        3.52213312e-01,  3.04994918e-01, -3.55233487e-01,  5.58693292e-01,\n",
       "        9.32052975e-01, -2.13217395e-02, -9.13837082e-01,  3.41158421e-01,\n",
       "        1.54572897e-01, -8.96984601e-01,  9.76103385e-01,  1.37360211e+00,\n",
       "       -2.14714282e-01,  8.71797745e-03,  7.16624581e-01, -1.13043649e-01,\n",
       "       -5.89703808e-01, -2.23899919e-01,  2.94211933e-01,  5.88699366e-01,\n",
       "       -5.49246262e-02, -1.27569487e+00,  1.36858201e-01,  1.55774982e-01,\n",
       "        6.27067712e-01,  6.32490876e-01, -1.34079241e+00,  8.10635635e-01,\n",
       "        4.20801880e-01,  9.46741768e-01, -1.45398376e+00,  2.16623491e-01,\n",
       "        2.11890516e-01, -2.20838858e-01,  8.02223226e-02, -3.27063004e-01,\n",
       "        4.51843850e-01,  4.08657200e-01, -8.10931053e-01, -5.51845508e-02,\n",
       "       -6.74217488e-01, -1.06136540e+00, -3.18637651e-01,  5.84867196e-01,\n",
       "       -1.81894061e-01, -2.91066955e-01,  6.68745463e-01, -6.70276738e-01,\n",
       "        2.27748739e+00,  1.48009192e+00,  8.49588810e-01, -1.10338014e+00,\n",
       "       -3.64713059e-01, -6.97434652e-02, -3.00333335e-01, -1.45809397e-01])"
      ]
     },
     "execution_count": 134,
     "metadata": {},
     "output_type": "execute_result"
    }
   ],
   "source": [
    "np.array(return_vec.mean(axis = 1))"
   ]
  }
 ],
 "metadata": {
  "kernelspec": {
   "display_name": "Python 3",
   "language": "python",
   "name": "python3"
  },
  "language_info": {
   "codemirror_mode": {
    "name": "ipython",
    "version": 3
   },
   "file_extension": ".py",
   "mimetype": "text/x-python",
   "name": "python",
   "nbconvert_exporter": "python",
   "pygments_lexer": "ipython3",
   "version": "3.8.8"
  }
 },
 "nbformat": 4,
 "nbformat_minor": 5
}
