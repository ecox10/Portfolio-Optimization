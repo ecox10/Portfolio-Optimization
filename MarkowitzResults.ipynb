{
 "cells": [
  {
   "cell_type": "markdown",
   "id": "4cb040b6-fc5c-4086-9993-2d9603364e4a",
   "metadata": {},
   "source": [
    "# Complete Markowitz Analysis\n",
    "This will complete the results under the following:\n",
    "\n",
    "| n=4 returns ~ N(\\mu,\\sigma)  | n=4 returns ~ N(\\mu, sigma) 25% correlation  | n=4 returns ~ N(\\mu, sigma) 50% correlation  | n=4 returns ~ N(\\mu, sigma) 75% correlation  |\n",
    "|------------------------------|----------------------------------------------|----------------------------------------------|----------------------------------------------|\n",
    "| n=8 returns ~ N(\\mu,\\sigma)  | n=8 returns ~ N(\\mu, sigma) 25% correlation  | n=8 returns ~ N(\\mu, sigma) 50% correlation  | n=8 returns ~ N(\\mu, sigma) 75% correlation  |\n",
    "| n=16 returns ~ N(\\mu,\\sigma) | n=16 returns ~ N(\\mu, sigma) 25% correlation | n=16 returns ~ N(\\mu, sigma) 50% correlation | n=16 returns ~ N(\\mu, sigma) 75% correlation |\n",
    "\n",
    "using the method laid out in 4.1, Markowitz portfolio optimization"
   ]
  },
  {
   "cell_type": "markdown",
   "id": "6712b35c-5d54-4ea8-acc9-996137527cc9",
   "metadata": {},
   "source": [
    "## Read Packages"
   ]
  },
  {
   "cell_type": "code",
   "execution_count": 272,
   "id": "2ac9cfeb-f941-4672-8572-3734950e68bb",
   "metadata": {},
   "outputs": [],
   "source": [
    "%matplotlib inline\n",
    "import numpy as np\n",
    "import matplotlib.pyplot as plt\n",
    "import cvxopt as opt\n",
    "from cvxopt import blas, solvers\n",
    "import pandas as pd\n",
    "from pylab import rcParams\n",
    "from mosek import iparam\n",
    "import time\n",
    "solvers.options['show_progress'] = False"
   ]
  },
  {
   "cell_type": "code",
   "execution_count": 2,
   "id": "d82375be-c237-4626-9d94-c02c07c379a4",
   "metadata": {},
   "outputs": [],
   "source": [
    "import plotly as py\n",
    "import plotly.tools as tls\n",
    "from plotly.graph_objs import *"
   ]
  },
  {
   "cell_type": "markdown",
   "id": "8d1b1919-f3ce-46d0-85c1-0aac03828792",
   "metadata": {},
   "source": [
    "## Simulate Data\n",
    "Normal distribution with 0% correlation"
   ]
  },
  {
   "cell_type": "code",
   "execution_count": 200,
   "id": "311f2c7c-8657-4119-8fa2-a59b12cba2a9",
   "metadata": {},
   "outputs": [
    {
     "data": {
      "text/plain": [
       "(4, 1000)"
      ]
     },
     "execution_count": 200,
     "metadata": {},
     "output_type": "execute_result"
    }
   ],
   "source": [
    "## Set number of assets\n",
    "n_assets = 4\n",
    "\n",
    "## Set number of observations\n",
    "n_obs = 1000\n",
    "\n",
    "return_vec = np.random.randn(n_assets, n_obs)\n",
    "return_vec.shape"
   ]
  },
  {
   "cell_type": "markdown",
   "id": "109be308-93bc-497f-b0b0-b204f6143556",
   "metadata": {},
   "source": [
    "Create function to generate random weights"
   ]
  },
  {
   "cell_type": "code",
   "execution_count": 4,
   "id": "83ffb267-b522-42d7-ac37-3a4782fb27bd",
   "metadata": {},
   "outputs": [],
   "source": [
    "def rand_weights(n):\n",
    "    '''Produces n random weights that sum to 1'''\n",
    "    k = np.random.rand(n)\n",
    "    return k / sum(k)"
   ]
  },
  {
   "cell_type": "markdown",
   "id": "8c753b26-89be-49c2-85da-afb20992f041",
   "metadata": {},
   "source": [
    "Create function to generate random portfolio"
   ]
  },
  {
   "cell_type": "code",
   "execution_count": 5,
   "id": "6542b69d-7ae6-46a5-b3b8-e0a8b4928704",
   "metadata": {},
   "outputs": [],
   "source": [
    "def random_portfolio(returns):\n",
    "    '''\n",
    "    Returns the mean and standard deviation of returns for a randomly generated portfolio\n",
    "    '''\n",
    "    \n",
    "    p = np.asmatrix(np.mean(returns, axis=1))\n",
    "    w = np.asmatrix(rand_weights(returns.shape[0]))\n",
    "    C = np.asmatrix(np.cov(returns))\n",
    "    \n",
    "    mu = w * p.T\n",
    "    sigma = np.sqrt(w * C * w.T)\n",
    "    \n",
    "    # Test for outliers to make plot prettier\n",
    "    if sigma > 2:\n",
    "        return random_portfolio(returns)\n",
    "    return mu, sigma"
   ]
  },
  {
   "cell_type": "markdown",
   "id": "345211e7-f5eb-4173-922e-6c1e1329a1f7",
   "metadata": {},
   "source": [
    "Generates $n$ random portfolios"
   ]
  },
  {
   "cell_type": "code",
   "execution_count": 6,
   "id": "f6f6793a-95b7-483d-add9-608e729bca87",
   "metadata": {},
   "outputs": [],
   "source": [
    "n_portfolios = 500\n",
    "means, stds = np.column_stack([\n",
    "    random_portfolio(return_vec)\n",
    "    for _ in range(n_portfolios)\n",
    "])"
   ]
  },
  {
   "cell_type": "markdown",
   "id": "5ea36c2e-019a-440a-a10f-eaa232f89b18",
   "metadata": {},
   "source": [
    "## Optimization\n",
    "\n",
    "Create a series of functions that perform optimizations"
   ]
  },
  {
   "cell_type": "code",
   "execution_count": 264,
   "id": "4e9af0f1-3f2d-4479-bbb0-85256f720dea",
   "metadata": {},
   "outputs": [],
   "source": [
    "def optimal_portfolio(returns):\n",
    "    n = len(returns)\n",
    "    returns = np.asmatrix(returns + 5)\n",
    "    \n",
    "    N = n_obs\n",
    "    mus = [10**(5.0 * t/N - 1.0) for t in range(N)]\n",
    "    \n",
    "    # Convert to cvxopt matrices\n",
    "    S = opt.matrix(np.cov(returns))\n",
    "    pbar = opt.matrix(np.mean(returns, axis = 1))\n",
    "    \n",
    "    # Create constraint matrices\n",
    "    G = -opt.matrix(np.eye(n)) # negative nxn identity matrix\n",
    "    h = opt.matrix(0.0, (n,1))\n",
    "    A = opt.matrix(1.0, (1,n))\n",
    "    b = opt.matrix(1.0)\n",
    "    \n",
    "    # Calculate efficient frontier weights using quadratic programming\n",
    "    portfolios = [solvers.qp(mu*S, -pbar, G, h, A, b)['x']\n",
    "                  for mu in mus]\n",
    "    ## Calculate risk and returns for frontier\n",
    "    returns = [blas.dot(pbar, x) for x in portfolios]\n",
    "    risks = [np.sqrt(blas.dot(x, S*x)) for x in portfolios]\n",
    "    ## Calculate the 2nd degree polynomail of the frontier curve\n",
    "    m1 = np.polyfit(returns, risks, 2)\n",
    "    x1 = np.sqrt(m1[2] / m1[0])\n",
    "    ## Calculate the optimal portfolio\n",
    "    wt = solvers.qp(opt.matrix(x1 * S), -pbar, G, h, A, b)['x']\n",
    "    return np.asarray(wt), returns, risks"
   ]
  },
  {
   "cell_type": "markdown",
   "id": "f40b0383-73d5-4fa9-8fdb-36e388d97504",
   "metadata": {},
   "source": [
    "Create function that performs 1 optimization"
   ]
  },
  {
   "cell_type": "code",
   "execution_count": 270,
   "id": "8cfd4a67-42bb-4260-bf1b-6a43fb274343",
   "metadata": {},
   "outputs": [],
   "source": [
    "def one_optimization(n_assets, n_obs):\n",
    "    '''\n",
    "    First, simulates portfolios then optimizes. \n",
    "    This does 30 replications\n",
    "    '''\n",
    "    weight_res = np.zeros((99,n_assets))\n",
    "    return_res = np.zeros((99,n_obs))\n",
    "    risks_res = np.zeros((99,n_obs))\n",
    "    \n",
    "    for i in range(99):\n",
    "        n_portfolios = 500\n",
    "        np.random.seed(i)\n",
    "        return_vec = np.random.randn(n_assets, n_obs)# need to set the seeds here so others use the same values\n",
    "        means, stds = np.column_stack([\n",
    "            random_portfolio(return_vec)\n",
    "            for _ in range(n_portfolios)\n",
    "            ])\n",
    "        weights, returns, risks = optimal_portfolio(return_vec)\n",
    "        weight_res[i,:] = weights.T\n",
    "        return_res[i,:] = np.array(returns).T\n",
    "        risks_res[i,:] = np.array(risks).T\n",
    "    return weight_res, return_res, risks_res"
   ]
  },
  {
   "cell_type": "code",
   "execution_count": null,
   "id": "dd626c5f-81a0-4d0c-b298-5441064b586a",
   "metadata": {},
   "outputs": [],
   "source": [
    "def one_optimization_zeros(n_assets, n_obs):\n",
    "    '''\n",
    "    This is exactly like one_optimization except it replaces 75% of asset 1 and 2 with zeros\n",
    "    First, simulates portfolios then optimizes. \n",
    "    This does 30 replications\n",
    "    '''\n",
    "    weight_res = np.zeros((99,n_assets))\n",
    "    return_res = np.zeros((99,n_obs))\n",
    "    risks_res = np.zeros((99,n_obs))\n",
    "    \n",
    "    for i in range(99):\n",
    "        n_portfolios = 500\n",
    "        np.random.seed(i)\n",
    "        return_vec = np.random.randn(n_assets, n_obs)# need to set the seeds here so others use the same values\n",
    "        b = [0 if np.random.randint(0, len(return_vec[2])) < 2 else i for i in return_vec[2]]\n",
    "        np.random.seed(75)\n",
    "        c = [0 if np.random.randint(0, len(return_vec[2])) < 2 else i for i in return_vec[2]]\n",
    "        return_vec[1,:] = b\n",
    "        return_vec[2,:] = c\n",
    "        means, stds = np.column_stack([\n",
    "            random_portfolio(return_vec)\n",
    "            for _ in range(n_portfolios)\n",
    "            ])\n",
    "        weights, returns, risks = optimal_portfolio(return_vec)\n",
    "        weight_res[i,:] = weights.T\n",
    "        return_res[i,:] = np.array(returns).T\n",
    "        risks_res[i,:] = np.array(risks).T\n",
    "    return weight_res, return_res, risks_res"
   ]
  },
  {
   "cell_type": "markdown",
   "id": "ed8d938b-c455-4340-af81-488ac31108f7",
   "metadata": {},
   "source": [
    "## Perform the optimizations specified\n",
    "## $n = 4$ "
   ]
  },
  {
   "cell_type": "code",
   "execution_count": 274,
   "id": "1b4f7a2c-53ca-4fac-9e16-650806505c9c",
   "metadata": {},
   "outputs": [
    {
     "name": "stdout",
     "output_type": "stream",
     "text": [
      "-62.01717400550842\n"
     ]
    }
   ],
   "source": [
    "start = time.time()\n",
    "n4_normal_weight, n4_normal_return, n4_normal_risks = one_optimization(4, 1000)\n",
    "end = time.time()\n",
    "print(start - end)"
   ]
  },
  {
   "cell_type": "code",
   "execution_count": 309,
   "id": "6748d04d-c06f-4001-afa7-20e45dbc2d4b",
   "metadata": {},
   "outputs": [
    {
     "data": {
      "text/plain": [
       "array([0.251, 0.25 , 0.249, 0.251])"
      ]
     },
     "execution_count": 309,
     "metadata": {},
     "output_type": "execute_result"
    }
   ],
   "source": [
    "np.round(n4_normal_weight.mean(axis=0),3)"
   ]
  },
  {
   "cell_type": "code",
   "execution_count": 310,
   "id": "5e6d2b38-2549-46dd-ad58-2de13a6fcd29",
   "metadata": {},
   "outputs": [],
   "source": [
    "n4_normal_weight_os, n4_normal_return_os, n4_normal_risks_os = one_optimization_zeros(4, 1000)"
   ]
  },
  {
   "cell_type": "code",
   "execution_count": 311,
   "id": "d243adf6-b89e-422d-a27e-b73ac122c4a6",
   "metadata": {},
   "outputs": [
    {
     "data": {
      "text/plain": [
       "array([0.335, 0.132, 0.204, 0.329])"
      ]
     },
     "execution_count": 311,
     "metadata": {},
     "output_type": "execute_result"
    }
   ],
   "source": [
    "np.round(n4_normal_weight_os.mean(axis=0),3)"
   ]
  },
  {
   "cell_type": "markdown",
   "id": "9c171770-fca6-4fb8-9cae-9c31ac6edc9a",
   "metadata": {},
   "source": [
    "## $n = 8$ "
   ]
  },
  {
   "cell_type": "code",
   "execution_count": 312,
   "id": "a66152ff-07cb-4fd4-8533-ff495e69069a",
   "metadata": {},
   "outputs": [],
   "source": [
    "n8_normal_weight, n4_normal_return, n4_normal_risks = one_optimization(8, 1000)"
   ]
  },
  {
   "cell_type": "code",
   "execution_count": 313,
   "id": "c3302fd2-4bae-48e7-ab5c-ddb61364f15f",
   "metadata": {},
   "outputs": [
    {
     "data": {
      "text/plain": [
       "array([0.126, 0.126, 0.125, 0.125, 0.126, 0.125, 0.125, 0.123])"
      ]
     },
     "execution_count": 313,
     "metadata": {},
     "output_type": "execute_result"
    }
   ],
   "source": [
    "np.round(n8_normal_weight.mean(axis=0),3)"
   ]
  },
  {
   "cell_type": "code",
   "execution_count": 314,
   "id": "5573d10b-d3bc-4de4-b213-da3e0c14866f",
   "metadata": {},
   "outputs": [],
   "source": [
    "n8_normal_weight_os, n4_normal_return_os, n4_normal_risks_os = one_optimization_zeros(8, 1000)"
   ]
  },
  {
   "cell_type": "code",
   "execution_count": 315,
   "id": "814d4b5d-2bd0-488a-8ae2-732b5ca9f0f7",
   "metadata": {},
   "outputs": [
    {
     "data": {
      "text/plain": [
       "array([0.146, 0.073, 0.071, 0.141, 0.144, 0.142, 0.144, 0.14 ])"
      ]
     },
     "execution_count": 315,
     "metadata": {},
     "output_type": "execute_result"
    }
   ],
   "source": [
    "np.round(n8_normal_weight_os.mean(axis=0),3)"
   ]
  },
  {
   "cell_type": "markdown",
   "id": "5b2811a0-9b01-4e28-9a8c-9ef34ac059df",
   "metadata": {},
   "source": [
    "## $n=16$"
   ]
  },
  {
   "cell_type": "code",
   "execution_count": 316,
   "id": "60c8c9d7-646c-44fe-882f-c0436fa43ea8",
   "metadata": {},
   "outputs": [],
   "source": [
    "n16_normal_weight, n4_normal_return, n4_normal_risks = one_optimization(16, 1000)"
   ]
  },
  {
   "cell_type": "code",
   "execution_count": 317,
   "id": "6a756a1d-aa55-421d-8a8c-fffb42b3a193",
   "metadata": {},
   "outputs": [
    {
     "data": {
      "text/plain": [
       "array([0.063, 0.063, 0.063, 0.063, 0.063, 0.063, 0.064, 0.061, 0.062,\n",
       "       0.064, 0.061, 0.061, 0.064, 0.063, 0.062, 0.062])"
      ]
     },
     "execution_count": 317,
     "metadata": {},
     "output_type": "execute_result"
    }
   ],
   "source": [
    "np.round(n16_normal_weight.mean(axis=0), 3)"
   ]
  },
  {
   "cell_type": "code",
   "execution_count": 319,
   "id": "d445c684-b0aa-4350-9921-77b3f8a83d5a",
   "metadata": {},
   "outputs": [],
   "source": [
    "n16_normal_weight_os, n16_normal_return_os, n16_normal_risks_os = one_optimization_zeros(16,1000)"
   ]
  },
  {
   "cell_type": "code",
   "execution_count": 320,
   "id": "cfbdb78e-769f-47a8-8a1f-c955bf025c06",
   "metadata": {},
   "outputs": [
    {
     "data": {
      "text/plain": [
       "array([0.067, 0.038, 0.028, 0.063, 0.067, 0.066, 0.069, 0.063, 0.069,\n",
       "       0.07 , 0.068, 0.064, 0.065, 0.069, 0.068, 0.064])"
      ]
     },
     "execution_count": 320,
     "metadata": {},
     "output_type": "execute_result"
    }
   ],
   "source": [
    "np.round(n16_normal_weight_os.mean(axis=0),3)"
   ]
  },
  {
   "cell_type": "markdown",
   "id": "a6906b4d-91f1-49a9-8be5-54dbe215a746",
   "metadata": {},
   "source": [
    "## Play with Correlation"
   ]
  },
  {
   "cell_type": "markdown",
   "id": "e776c8a7-77ef-4456-89c0-435a919e700e",
   "metadata": {},
   "source": [
    "## Functions"
   ]
  },
  {
   "cell_type": "code",
   "execution_count": 288,
   "id": "4d1c59c7-7f13-4f34-84f3-8c4a70729f24",
   "metadata": {},
   "outputs": [],
   "source": [
    "def cor_optimization(n_assets, n_obs, r):\n",
    "    '''\n",
    "    First, simulates portfolios then optimizes. \n",
    "    This does 30 replications\n",
    "    n_assets: number of assets\n",
    "    n_obs: number of observations\n",
    "    r: covariance matrix\n",
    "    '''\n",
    "    weight_res = np.zeros((99,n_assets))\n",
    "    return_res = np.zeros((99,n_obs))\n",
    "    risks_res = np.zeros((99,n_obs))\n",
    "    \n",
    "    for i in range(99):\n",
    "        n_portfolios = 500\n",
    "        np.random.seed(i)\n",
    "        \n",
    "        rng = np.random.default_rng()\n",
    "        return_vec = rng.multivariate_normal(np.zeros(n_assets), cov = r, size = n_obs).T\n",
    "        \n",
    "        means, stds = np.column_stack([\n",
    "            random_portfolio(return_vec)\n",
    "            for _ in range(n_portfolios)\n",
    "            ])\n",
    "        weights, returns, risks = optimal_portfolio(return_vec)\n",
    "        weight_res[i,:] = weights.T\n",
    "        return_res[i,:] = np.array(returns).T\n",
    "        risks_res[i,:] = np.array(risks).T\n",
    "    return weight_res, return_res, risks_res"
   ]
  },
  {
   "cell_type": "code",
   "execution_count": null,
   "id": "559e8a7c-f856-4938-b197-b9e6b9074747",
   "metadata": {},
   "outputs": [],
   "source": [
    "def cor_optimization_zeros(n_assets, n_obs, r):\n",
    "    '''\n",
    "    First, simulates portfolios then optimizes. \n",
    "    This does 30 replications\n",
    "    n_assets: number of assets\n",
    "    n_obs: number of observations\n",
    "    r: covariance matrix\n",
    "    '''\n",
    "    weight_res = np.zeros((99,n_assets))\n",
    "    return_res = np.zeros((99,n_obs))\n",
    "    risks_res = np.zeros((99,n_obs))\n",
    "    \n",
    "    for i in range(99):\n",
    "        n_portfolios = 500\n",
    "        np.random.seed(i)\n",
    "        \n",
    "        rng = np.random.default_rng()\n",
    "        return_vec = rng.multivariate_normal(np.zeros(n_assets), cov = r, size = n_obs).T\n",
    "        b = [0 if np.random.randint(0, len(return_vec[2])) < 2 else i for i in return_vec[2]]\n",
    "        np.random.seed(75)\n",
    "        c = [0 if np.random.randint(0, len(return_vec[2])) < 2 else i for i in return_vec[2]]\n",
    "        return_vec[1,:] = b\n",
    "        return_vec[2,:] = c\n",
    "        \n",
    "        means, stds = np.column_stack([\n",
    "            random_portfolio(return_vec)\n",
    "            for _ in range(n_portfolios)\n",
    "            ])\n",
    "        weights, returns, risks = optimal_portfolio(return_vec)\n",
    "        weight_res[i,:] = weights.T\n",
    "        return_res[i,:] = np.array(returns).T\n",
    "        risks_res[i,:] = np.array(risks).T\n",
    "    return weight_res, return_res, risks_res"
   ]
  },
  {
   "cell_type": "markdown",
   "id": "b9d1659e-aa95-418e-9575-0784f868b08f",
   "metadata": {},
   "source": [
    "## Results for Correlation between 0.8-0.9"
   ]
  },
  {
   "cell_type": "markdown",
   "id": "d5fb5ab0-7f88-4724-9af0-ea69247f6d67",
   "metadata": {},
   "source": [
    "## $n=4$"
   ]
  },
  {
   "cell_type": "code",
   "execution_count": null,
   "id": "88adb84b-010a-4923-a962-f69bea5db39e",
   "metadata": {},
   "outputs": [],
   "source": [
    "n = 4\n",
    "r = np.random.uniform(0.8, 0.9, (n,n))\n",
    "np.fill_diagonal(r, 1)"
   ]
  },
  {
   "cell_type": "code",
   "execution_count": 283,
   "id": "df731c38-229d-40d5-8f4e-4602c3440c1a",
   "metadata": {},
   "outputs": [
    {
     "name": "stderr",
     "output_type": "stream",
     "text": [
      "<ipython-input-281-4a1b8cf2d84f>:18: RuntimeWarning:\n",
      "\n",
      "covariance is not positive-semidefinite.\n",
      "\n"
     ]
    }
   ],
   "source": [
    "n4_corr_weight, n4_corr_return, n4_corr_risks = cor_optimization(4, 1000, r)"
   ]
  },
  {
   "cell_type": "code",
   "execution_count": 284,
   "id": "8b7d20af-060c-4137-9b9a-9adda4869506",
   "metadata": {},
   "outputs": [
    {
     "data": {
      "text/plain": [
       "array([0.181, 0.275, 0.276, 0.269])"
      ]
     },
     "execution_count": 284,
     "metadata": {},
     "output_type": "execute_result"
    }
   ],
   "source": [
    "np.round(n4_corr_weight.mean(axis=0),3)"
   ]
  },
  {
   "cell_type": "code",
   "execution_count": 290,
   "id": "18be7687-85da-4dec-9b9e-8ac17289d0c8",
   "metadata": {},
   "outputs": [
    {
     "name": "stderr",
     "output_type": "stream",
     "text": [
      "<ipython-input-289-eec99e35fddc>:18: RuntimeWarning:\n",
      "\n",
      "covariance is not positive-semidefinite.\n",
      "\n"
     ]
    }
   ],
   "source": [
    "n4_corr_weight_os, n4_smallmvn_return_os, n4_smallmvn_risks_os = cor_optimization_zeros(4, 1000, r)"
   ]
  },
  {
   "cell_type": "code",
   "execution_count": 292,
   "id": "f9f77068-72b9-4faa-8bc0-f77779384cdb",
   "metadata": {},
   "outputs": [
    {
     "data": {
      "text/plain": [
       "array([0.298, 0.165, 0.213, 0.324])"
      ]
     },
     "execution_count": 292,
     "metadata": {},
     "output_type": "execute_result"
    }
   ],
   "source": [
    "np.round(n4_corr_weight_os.mean(axis = 0), 3)"
   ]
  },
  {
   "cell_type": "markdown",
   "id": "29c9460f-1a5c-4609-8708-1f829c5811e9",
   "metadata": {},
   "source": [
    "## $n = 8$"
   ]
  },
  {
   "cell_type": "code",
   "execution_count": 294,
   "id": "70bd0e7c-6d7b-4e19-afb7-21c17d083b7f",
   "metadata": {},
   "outputs": [],
   "source": [
    "n = 8\n",
    "r = np.random.uniform(0.8, 0.9, (n,n))\n",
    "np.fill_diagonal(r, 1)"
   ]
  },
  {
   "cell_type": "code",
   "execution_count": 295,
   "id": "85d1ccf0-6565-4881-b4b0-24e1a076acee",
   "metadata": {},
   "outputs": [
    {
     "name": "stderr",
     "output_type": "stream",
     "text": [
      "<ipython-input-288-4a1b8cf2d84f>:18: RuntimeWarning:\n",
      "\n",
      "covariance is not positive-semidefinite.\n",
      "\n"
     ]
    }
   ],
   "source": [
    "n8_corr_weight, n8_corr_return, n8_corr_risks = cor_optimization(8, 1000, r)"
   ]
  },
  {
   "cell_type": "markdown",
   "id": "bd333d2e-414b-4280-a521-b1e85a11c2d6",
   "metadata": {},
   "source": [
    "zeros"
   ]
  },
  {
   "cell_type": "code",
   "execution_count": 296,
   "id": "282aad98-a892-428e-8044-579d0cde2c66",
   "metadata": {},
   "outputs": [
    {
     "data": {
      "text/plain": [
       "array([0.14 , 0.201, 0.106, 0.002, 0.097, 0.174, 0.158, 0.121])"
      ]
     },
     "execution_count": 296,
     "metadata": {},
     "output_type": "execute_result"
    }
   ],
   "source": [
    "np.round(n8_corr_weight.mean(axis = 0), 3)"
   ]
  },
  {
   "cell_type": "code",
   "execution_count": 297,
   "id": "6bf2579b-6560-4953-820a-f1d49c644322",
   "metadata": {},
   "outputs": [
    {
     "name": "stderr",
     "output_type": "stream",
     "text": [
      "<ipython-input-289-eec99e35fddc>:18: RuntimeWarning:\n",
      "\n",
      "covariance is not positive-semidefinite.\n",
      "\n"
     ]
    }
   ],
   "source": [
    "n8_corr_weight_os, n8_smallmvn_return_os, n8_smallmvn_risks_os = cor_optimization_zeros(8, 1000, r)"
   ]
  },
  {
   "cell_type": "code",
   "execution_count": 300,
   "id": "59aa2b98-8e87-4613-9916-855650e9a353",
   "metadata": {},
   "outputs": [
    {
     "data": {
      "text/plain": [
       "array([0.128, 0.072, 0.104, 0.007, 0.151, 0.191, 0.188, 0.16 ])"
      ]
     },
     "execution_count": 300,
     "metadata": {},
     "output_type": "execute_result"
    }
   ],
   "source": [
    "np.round(n8_corr_weight_os.mean(axis = 0),3)"
   ]
  },
  {
   "cell_type": "markdown",
   "id": "b5c4fe7e-5df4-4692-b4f5-b5cc024496cf",
   "metadata": {},
   "source": [
    "## $n=16$"
   ]
  },
  {
   "cell_type": "code",
   "execution_count": 301,
   "id": "485df6ad-ce51-4822-aa96-29c50c64938b",
   "metadata": {},
   "outputs": [],
   "source": [
    "n = 16\n",
    "r = np.random.uniform(0.8, 0.9, (n,n))\n",
    "np.fill_diagonal(r, 1)"
   ]
  },
  {
   "cell_type": "code",
   "execution_count": 303,
   "id": "fa0bcd4a-71b8-410b-9926-a05e4ca0374b",
   "metadata": {},
   "outputs": [
    {
     "name": "stderr",
     "output_type": "stream",
     "text": [
      "<ipython-input-288-4a1b8cf2d84f>:18: RuntimeWarning:\n",
      "\n",
      "covariance is not positive-semidefinite.\n",
      "\n"
     ]
    }
   ],
   "source": [
    "n16_corr_weight, n16_corr_return, n16__corr_risks = cor_optimization(16,1000,r)"
   ]
  },
  {
   "cell_type": "code",
   "execution_count": 304,
   "id": "f89a1f72-8db7-4b03-a80f-84393241fa77",
   "metadata": {},
   "outputs": [
    {
     "data": {
      "text/plain": [
       "array([0.04 , 0.073, 0.104, 0.064, 0.027, 0.023, 0.059, 0.079, 0.071,\n",
       "       0.022, 0.147, 0.061, 0.076, 0.047, 0.066, 0.042])"
      ]
     },
     "execution_count": 304,
     "metadata": {},
     "output_type": "execute_result"
    }
   ],
   "source": [
    "np.round(n16_corr_weight.mean(axis=0),3)"
   ]
  },
  {
   "cell_type": "code",
   "execution_count": 305,
   "id": "70c59e5d-9923-481b-aa53-9ded80efdbce",
   "metadata": {},
   "outputs": [
    {
     "name": "stderr",
     "output_type": "stream",
     "text": [
      "<ipython-input-289-eec99e35fddc>:18: RuntimeWarning:\n",
      "\n",
      "covariance is not positive-semidefinite.\n",
      "\n"
     ]
    }
   ],
   "source": [
    "n16_corr_weight_os, n16_smallmvn_return_os, n16_smallmvn_risks_os = cor_optimization_zeros(16, 1000, r)"
   ]
  },
  {
   "cell_type": "code",
   "execution_count": 307,
   "id": "b1768e39-42c7-4ddf-98eb-076edabae51e",
   "metadata": {},
   "outputs": [
    {
     "data": {
      "text/plain": [
       "array([0.039, 0.045, 0.077, 0.062, 0.037, 0.03 , 0.086, 0.082, 0.075,\n",
       "       0.023, 0.146, 0.051, 0.07 , 0.072, 0.064, 0.041])"
      ]
     },
     "execution_count": 307,
     "metadata": {},
     "output_type": "execute_result"
    }
   ],
   "source": [
    "np.round(n16_corr_weight_os.mean(axis = 0), 3)"
   ]
  },
  {
   "cell_type": "markdown",
   "id": "824e1cc9-7b2b-433e-a937-ef631ad7e71d",
   "metadata": {},
   "source": [
    "## Results for Correlation between -0.6 and -0.5"
   ]
  },
  {
   "cell_type": "markdown",
   "id": "3310b9b4-e732-49bb-a440-f9c0ecb52fad",
   "metadata": {},
   "source": [
    "## $n=4$"
   ]
  },
  {
   "cell_type": "code",
   "execution_count": 327,
   "id": "19293800-c8b6-45f7-8d0e-cb580a471460",
   "metadata": {},
   "outputs": [],
   "source": [
    "n = 4\n",
    "r = np.random.uniform(-0.8, -0.5, (n,n))\n",
    "np.fill_diagonal(r, 1)"
   ]
  },
  {
   "cell_type": "code",
   "execution_count": 328,
   "id": "c6d0b7e4-d3af-4de0-9c1b-6dae4878d4da",
   "metadata": {},
   "outputs": [
    {
     "name": "stderr",
     "output_type": "stream",
     "text": [
      "<ipython-input-288-4a1b8cf2d84f>:18: RuntimeWarning:\n",
      "\n",
      "covariance is not positive-semidefinite.\n",
      "\n"
     ]
    }
   ],
   "source": [
    "n4_neg_weight, n4_neg_return, n4_neg_risks = cor_optimization(4, 1000, r)"
   ]
  },
  {
   "cell_type": "code",
   "execution_count": 329,
   "id": "7c6e5afd-29b7-4d00-8d22-af6ee01637a7",
   "metadata": {},
   "outputs": [
    {
     "data": {
      "text/plain": [
       "array([0.266, 0.245, 0.239, 0.25 ])"
      ]
     },
     "execution_count": 329,
     "metadata": {},
     "output_type": "execute_result"
    }
   ],
   "source": [
    "np.round(n4_neg_weight.mean(axis = 0),3)"
   ]
  },
  {
   "cell_type": "code",
   "execution_count": 330,
   "id": "adf05c9a-6de0-466e-8600-4dfb9d44e660",
   "metadata": {},
   "outputs": [
    {
     "name": "stderr",
     "output_type": "stream",
     "text": [
      "<ipython-input-289-eec99e35fddc>:18: RuntimeWarning:\n",
      "\n",
      "covariance is not positive-semidefinite.\n",
      "\n"
     ]
    }
   ],
   "source": [
    "n4_neg_weight_os, n4_neg_return, n4_neg_risks = cor_optimization_zeros(4, 1000, r)"
   ]
  },
  {
   "cell_type": "code",
   "execution_count": 331,
   "id": "53663ad6-5319-464c-9cc6-33ca487bc7aa",
   "metadata": {},
   "outputs": [
    {
     "data": {
      "text/plain": [
       "array([0.335, 0.165, 0.166, 0.333])"
      ]
     },
     "execution_count": 331,
     "metadata": {},
     "output_type": "execute_result"
    }
   ],
   "source": [
    "np.round(n4_neg_weight_os.mean(axis = 0), 3)"
   ]
  },
  {
   "cell_type": "markdown",
   "id": "3b34f01e-0b14-4219-89bd-e91d5c97b84a",
   "metadata": {},
   "source": [
    "## $n=8$"
   ]
  },
  {
   "cell_type": "code",
   "execution_count": 337,
   "id": "3bdcf5d3-eec2-4ef1-a967-136d298c6b39",
   "metadata": {},
   "outputs": [],
   "source": [
    "n = 8\n",
    "r = np.random.uniform(-0.8, -0.5, (n,n))\n",
    "np.fill_diagonal(r, 1)"
   ]
  },
  {
   "cell_type": "code",
   "execution_count": 333,
   "id": "6f8136bd-8e76-4454-b8f2-44f9f08760bf",
   "metadata": {},
   "outputs": [
    {
     "name": "stderr",
     "output_type": "stream",
     "text": [
      "<ipython-input-288-4a1b8cf2d84f>:18: RuntimeWarning:\n",
      "\n",
      "covariance is not positive-semidefinite.\n",
      "\n"
     ]
    }
   ],
   "source": [
    "n8_neg_weight, n8_neg_return, n8_neg_risks = cor_optimization(8, 1000, r)"
   ]
  },
  {
   "cell_type": "code",
   "execution_count": 334,
   "id": "e6f513e0-a183-4e32-9371-f5c130325b34",
   "metadata": {},
   "outputs": [
    {
     "data": {
      "text/plain": [
       "array([0.114, 0.101, 0.166, 0.114, 0.133, 0.118, 0.124, 0.129])"
      ]
     },
     "execution_count": 334,
     "metadata": {},
     "output_type": "execute_result"
    }
   ],
   "source": [
    "np.round(n8_neg_weight.mean(axis=0), 3)"
   ]
  },
  {
   "cell_type": "code",
   "execution_count": 338,
   "id": "43f730c6-2ad6-4c10-9d1a-d8f17c77995a",
   "metadata": {},
   "outputs": [
    {
     "name": "stderr",
     "output_type": "stream",
     "text": [
      "<ipython-input-289-eec99e35fddc>:18: RuntimeWarning:\n",
      "\n",
      "covariance is not positive-semidefinite.\n",
      "\n"
     ]
    }
   ],
   "source": [
    "n8_neg_weight_os, n8_neg_return, n8_neg_risks = cor_optimization_zeros(8, 1000, r)"
   ]
  },
  {
   "cell_type": "code",
   "execution_count": 339,
   "id": "38878571-6af8-49d4-9b24-aadb04f8649f",
   "metadata": {},
   "outputs": [
    {
     "data": {
      "text/plain": [
       "array([0.17 , 0.086, 0.086, 0.135, 0.146, 0.129, 0.131, 0.117])"
      ]
     },
     "execution_count": 339,
     "metadata": {},
     "output_type": "execute_result"
    }
   ],
   "source": [
    "np.round(n8_neg_weight_os.mean(axis=0),3)"
   ]
  },
  {
   "cell_type": "markdown",
   "id": "7419130d-fb88-479e-ba6e-61f7fe074cdd",
   "metadata": {},
   "source": [
    "## $n=16$"
   ]
  },
  {
   "cell_type": "code",
   "execution_count": 346,
   "id": "2c6c0916-95ff-42a2-8ea2-bec551854e4c",
   "metadata": {},
   "outputs": [],
   "source": [
    "n = 16\n",
    "r = np.random.uniform(-0.8, -0.5, (n,n))\n",
    "np.fill_diagonal(r, 1)"
   ]
  },
  {
   "cell_type": "code",
   "execution_count": 341,
   "id": "b5b511f9-9ae3-43b9-b0b3-facec3bd4092",
   "metadata": {},
   "outputs": [
    {
     "name": "stderr",
     "output_type": "stream",
     "text": [
      "<ipython-input-288-4a1b8cf2d84f>:18: RuntimeWarning:\n",
      "\n",
      "covariance is not positive-semidefinite.\n",
      "\n"
     ]
    }
   ],
   "source": [
    "n16_neg_weight, n16_neg_return, n16_neg_risks = cor_optimization(16, 1000, r)"
   ]
  },
  {
   "cell_type": "code",
   "execution_count": 342,
   "id": "00371a0b-3496-4ad1-8b8f-4d0c00dcdae2",
   "metadata": {},
   "outputs": [
    {
     "data": {
      "text/plain": [
       "array([0.069, 0.062, 0.054, 0.064, 0.072, 0.077, 0.065, 0.059, 0.059,\n",
       "       0.076, 0.042, 0.054, 0.061, 0.059, 0.061, 0.066])"
      ]
     },
     "execution_count": 342,
     "metadata": {},
     "output_type": "execute_result"
    }
   ],
   "source": [
    "np.round(n16_neg_weight.mean(axis=0), 3)"
   ]
  },
  {
   "cell_type": "code",
   "execution_count": 343,
   "id": "fbe470c5-cc04-44da-8551-3362d87dbcaf",
   "metadata": {},
   "outputs": [
    {
     "name": "stderr",
     "output_type": "stream",
     "text": [
      "<ipython-input-289-eec99e35fddc>:18: RuntimeWarning:\n",
      "\n",
      "covariance is not positive-semidefinite.\n",
      "\n"
     ]
    }
   ],
   "source": [
    "n16_neg_weight_os, n16_neg_return, n16_neg_risks = cor_optimization_zeros(16, 1000, r)"
   ]
  },
  {
   "cell_type": "code",
   "execution_count": 344,
   "id": "2a91da33-41d3-4817-8ffd-1da733322749",
   "metadata": {},
   "outputs": [
    {
     "data": {
      "text/plain": [
       "array([0.073, 0.025, 0.033, 0.068, 0.075, 0.083, 0.069, 0.063, 0.062,\n",
       "       0.081, 0.048, 0.06 , 0.057, 0.065, 0.063, 0.074])"
      ]
     },
     "execution_count": 344,
     "metadata": {},
     "output_type": "execute_result"
    }
   ],
   "source": [
    "np.round(n16_neg_weight_os.mean(axis=0), 3)"
   ]
  }
 ],
 "metadata": {
  "kernelspec": {
   "display_name": "Python 3",
   "language": "python",
   "name": "python3"
  },
  "language_info": {
   "codemirror_mode": {
    "name": "ipython",
    "version": 3
   },
   "file_extension": ".py",
   "mimetype": "text/x-python",
   "name": "python",
   "nbconvert_exporter": "python",
   "pygments_lexer": "ipython3",
   "version": "3.8.8"
  }
 },
 "nbformat": 4,
 "nbformat_minor": 5
}
