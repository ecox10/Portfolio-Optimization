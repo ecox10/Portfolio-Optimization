{
 "cells": [
  {
   "cell_type": "markdown",
   "id": "4cb040b6-fc5c-4086-9993-2d9603364e4a",
   "metadata": {},
   "source": [
    "# Complete Markowitz Analysis\n",
    "This will complete the results under the following:\n",
    "\n",
    "| | | | \n",
    "|----------------------------------------------------------------------|-----------------------------------------------|---------------------------------------------------------------------------------|\n",
    "| n=4 $returns \\sim \\mathcal{N}(\\mu,\\sigma)$ Correlation from 0.8-0.9  | n=4 $returns \\sim N(\\mu,\\sigma)$ Independent  | n=4 $returns \\sim \\mathcal{N}(\\mu, sigma)$ Negative correlation (-0.8 to -0.5)  |\n",
    "| n=8 $returns \\sim \\mathcal{N}(\\mu,\\sigma)$ Correlation from 0.8-0.9  | n=8 $returns \\sim N(\\mu,\\sigma)$ Independent  | n=8 $returns \\sim \\mathcal{N}(\\mu, sigma)$ Negative correlation (-0.8 to -0.5)  |\n",
    "| n=16 $returns \\sim \\mathcal{N}(\\mu,\\sigma)$ Correlation from 0.8-0.9 | n=16 $returns \\sim N(\\mu,\\sigma)$ Independent | n=16 $returns \\sim \\mathcal{N}(\\mu, sigma)$ Negative correlation (-0.8 to -0.5) |\n",
    "\n",
    "using the method laid out in 4.1, Markowitz portfolio optimization"
   ]
  },
  {
   "cell_type": "markdown",
   "id": "6712b35c-5d54-4ea8-acc9-996137527cc9",
   "metadata": {},
   "source": [
    "## Read Packages"
   ]
  },
  {
   "cell_type": "code",
   "execution_count": 14,
   "id": "2ac9cfeb-f941-4672-8572-3734950e68bb",
   "metadata": {},
   "outputs": [],
   "source": [
    "%matplotlib inline\n",
    "import numpy as np\n",
    "import matplotlib.pyplot as plt\n",
    "import cvxopt as opt\n",
    "from cvxopt import blas, solvers\n",
    "import pandas as pd\n",
    "from pylab import rcParams\n",
    "from mosek import iparam\n",
    "import time\n",
    "import random\n",
    "import pypfopt as pyp\n",
    "import sklearn.covariance\n",
    "solvers.options['show_progress'] = False"
   ]
  },
  {
   "cell_type": "code",
   "execution_count": 15,
   "id": "d82375be-c237-4626-9d94-c02c07c379a4",
   "metadata": {},
   "outputs": [],
   "source": [
    "import plotly as py\n",
    "import plotly.tools as tls\n",
    "from plotly.graph_objs import *"
   ]
  },
  {
   "cell_type": "markdown",
   "id": "8d1b1919-f3ce-46d0-85c1-0aac03828792",
   "metadata": {},
   "source": [
    "## Simulate Data\n",
    "Normal distribution with 0% correlation"
   ]
  },
  {
   "cell_type": "markdown",
   "id": "109be308-93bc-497f-b0b0-b204f6143556",
   "metadata": {},
   "source": [
    "Create function to generate random weights"
   ]
  },
  {
   "cell_type": "code",
   "execution_count": 16,
   "id": "83ffb267-b522-42d7-ac37-3a4782fb27bd",
   "metadata": {},
   "outputs": [],
   "source": [
    "def rand_weights(n):\n",
    "    '''Produces n random weights that sum to 1'''\n",
    "    k = np.random.rand(n)\n",
    "    return k / sum(k)"
   ]
  },
  {
   "cell_type": "markdown",
   "id": "8c753b26-89be-49c2-85da-afb20992f041",
   "metadata": {},
   "source": [
    "Create function to generate random portfolio"
   ]
  },
  {
   "cell_type": "code",
   "execution_count": 17,
   "id": "6542b69d-7ae6-46a5-b3b8-e0a8b4928704",
   "metadata": {},
   "outputs": [],
   "source": [
    "def random_portfolio(returns):\n",
    "    '''\n",
    "    Returns the mean and standard deviation of returns for a randomly generated portfolio\n",
    "    '''\n",
    "    \n",
    "    p = np.asmatrix(np.mean(returns, axis=1))\n",
    "    w = np.asmatrix(rand_weights(returns.shape[0]))\n",
    "    C = np.asmatrix(np.cov(returns))\n",
    "    \n",
    "    mu = w * p.T\n",
    "    sigma = np.sqrt(w * C * w.T)\n",
    "    \n",
    "    # Test for outliers to make plot prettier\n",
    "    if sigma > 2:\n",
    "        return random_portfolio(returns)\n",
    "    return mu, sigma"
   ]
  },
  {
   "cell_type": "markdown",
   "id": "345211e7-f5eb-4173-922e-6c1e1329a1f7",
   "metadata": {},
   "source": [
    "Generates $n$ random portfolios"
   ]
  },
  {
   "cell_type": "code",
   "execution_count": 66,
   "id": "f6f6793a-95b7-483d-add9-608e729bca87",
   "metadata": {},
   "outputs": [],
   "source": [
    "## This is a test - this doesn't need to run\n",
    "#n_portfolios = 500\n",
    "#means, stds = np.column_stack([\n",
    "#    random_portfolio(return_vec)\n",
    "#    for _ in range(n_portfolios)\n",
    "#])"
   ]
  },
  {
   "cell_type": "markdown",
   "id": "5ea36c2e-019a-440a-a10f-eaa232f89b18",
   "metadata": {},
   "source": [
    "## Optimization\n",
    "\n",
    "Create a series of functions that perform optimizations"
   ]
  },
  {
   "cell_type": "code",
   "execution_count": 50,
   "id": "c97b7a88-d140-4173-a319-41d7d51bb055",
   "metadata": {},
   "outputs": [],
   "source": [
    "def optimal_portfolio(returns):\n",
    "    n = len(returns)\n",
    "    returns = np.asmatrix(returns + 5.0)\n",
    "    \n",
    "    N = 1000\n",
    "    mus = [(1/n) + (t/N) for t in range(N)]#[10**(5.0 * t/N - 1.0) for t in range(N)]\n",
    "    \n",
    "    # Convert to cvxopt matrices\n",
    "    S = opt.matrix(np.cov(returns))\n",
    "    pbar = opt.matrix(np.mean(returns, axis = 1))\n",
    "    \n",
    "    # Create constraint matrices\n",
    "    G = -opt.matrix(np.eye(n)) # negative nxn identity matrix\n",
    "    h = opt.matrix(0.0, (n,1))\n",
    "    A = opt.matrix(1.0, (1,n))\n",
    "    b = opt.matrix(1.0)\n",
    "    \n",
    "    # Calculate efficient frontier weights using quadratic programming\n",
    "    portfolios = [solvers.qp(mu*S, -pbar, G, h, A, b)['x']\n",
    "                  for mu in mus]\n",
    "    ## Calculate risk and returns for frontier\n",
    "    ret = [blas.dot(pbar, x) for x in portfolios]\n",
    "    risks = [np.sqrt(blas.dot(x, S*x)) for x in portfolios]\n",
    "    ## Calculate the 2nd degree polynomail of the frontier curve\n",
    "    m1 = np.polyfit(ret, risks, 2)\n",
    "    x1 = np.sqrt(m1[2] / m1[0])\n",
    "    ## Calculate the optimal portfolio\n",
    "    wt = solvers.qp(opt.matrix(x1 * S), -pbar, G, h, A, b)['x']\n",
    "    ret = np.zeros((n,1))\n",
    "    rsk = np.zeros((n,1))\n",
    "    for j in range(n):\n",
    "        ret[j] = np.sum(np.array(wt)[j] * np.mean(returns, axis = 1)[j])\n",
    "        rsk[j] = wt.T @ np.cov(returns) @ wt\n",
    "    return np.asarray(wt), ret, rsk"
   ]
  },
  {
   "cell_type": "code",
   "execution_count": 8,
   "id": "5be6c31c-47f3-47f5-8528-8e57b39710cb",
   "metadata": {},
   "outputs": [],
   "source": [
    "# This one was a test - run previous cell\n",
    "def optimal_portfolio(returns):\n",
    "    n = len(returns)\n",
    "    returns = np.asmatrix(returns + 5)\n",
    "    \n",
    "    N = 1000\n",
    "    mus = [np.ones(N)*(1/n) + 5.0]#[10**(5.0 * t/n - 1.0) for t in range(N)]\n",
    "    \n",
    "    # Convert to cvxopt matrices\n",
    "    S = opt.matrix(np.cov(returns))\n",
    "    pbar = opt.matrix(np.mean(returns, axis = 1))\n",
    "    \n",
    "    # Create constraint matrices\n",
    "    G = -opt.matrix(np.eye(n)) # negative nxn identity matrix\n",
    "    h = opt.matrix(0.0, (n,1))\n",
    "    A = opt.matrix(1.0, (1,n))\n",
    "    b = opt.matrix(1.0)\n",
    "    \n",
    "    # Calculate efficient frontier weights using quadratic programming\n",
    "    portfolios = [solvers.qp(mu*S, -pbar, G, h, A, b)['x']\n",
    "                  for mu in mus]\n",
    "    ## Calculate risk and returns for frontier\n",
    "    returns = [blas.dot(pbar, x) for x in portfolios]\n",
    "    risks = [np.sqrt(blas.dot(x, S*x)) for x in portfolios]\n",
    "    ## Calculate the 2nd degree polynomail of the frontier curve\n",
    "    m1 = np.polyfit(returns, risks, 2)\n",
    "    x1 = np.sqrt(m1[2] / m1[0])\n",
    "    ## Calculate the optimal portfolio\n",
    "    wt = solvers.qp(opt.matrix(x1 * S), -pbar, G, h, A, b)['x']\n",
    "    ret = np.array([])\n",
    "    rsk = np.array([])\n",
    "    for j in range(n):\n",
    "        ret[j] = 1/n * np.sum(wt[j] * np.asmatrix(returns)[:,j])\n",
    "        rsk[j] = 1/N * np.sum(1/n * np.sum(np.asmatrix(risks)[:,j]))\n",
    "    return np.asarray(wt), ret.T, risks"
   ]
  },
  {
   "cell_type": "markdown",
   "id": "f40b0383-73d5-4fa9-8fdb-36e388d97504",
   "metadata": {},
   "source": [
    "Create function that performs 1 optimization"
   ]
  },
  {
   "cell_type": "code",
   "execution_count": 19,
   "id": "8cfd4a67-42bb-4260-bf1b-6a43fb274343",
   "metadata": {},
   "outputs": [],
   "source": [
    "def one_optimization(n_assets, n_obs):\n",
    "    '''\n",
    "    First, simulates portfolios then optimizes. \n",
    "    This does 100 replications\n",
    "    '''\n",
    "    weight_res = np.zeros((99,n_assets))\n",
    "    return_res = np.zeros((99,n_assets))\n",
    "    risks_res = np.zeros((99,n_assets))\n",
    "    \n",
    "    for i in range(99):\n",
    "        n_portfolios = 500\n",
    "        np.random.seed(i)\n",
    "        return_vec = np.random.randn(n_assets, n_obs)# need to set the seeds here so others use the same values\n",
    "        #means, stds = np.column_stack([\n",
    "        #    random_portfolio(return_vec)\n",
    "        #    for _ in range(n_portfolios)\n",
    "        #    ])\n",
    "        weights, returns, risks = optimal_portfolio(return_vec)\n",
    "        weight_res[i,:] = weights.T\n",
    "        return_res[i,:] = returns.reshape(n_assets,)\n",
    "        risks_res[i,:] = risks.reshape(n_assets,)\n",
    "    return weight_res, return_res, risks_res"
   ]
  },
  {
   "cell_type": "code",
   "execution_count": 20,
   "id": "dd626c5f-81a0-4d0c-b298-5441064b586a",
   "metadata": {},
   "outputs": [],
   "source": [
    "def one_optimization_zeros(n_assets, n_obs):\n",
    "    '''\n",
    "    This is exactly like one_optimization except it replaces 75% of asset 1 and 2 with zeros\n",
    "    First, simulates portfolios then optimizes. \n",
    "    This does 100 replications\n",
    "    '''\n",
    "    weight_res = np.zeros((99,n_assets))\n",
    "    return_res = np.zeros((99,n_assets))\n",
    "    risks_res = np.zeros((999,n_assets))\n",
    "    \n",
    "    for i in range(99):\n",
    "        n_portfolios = 500\n",
    "        np.random.seed(i)\n",
    "        return_vec = np.random.randn(n_assets, n_obs)# need to set the seeds here so others use the same values\n",
    "        _75_perct = int(len(return_vec[:,0])*3/4)\n",
    "        return_vec[0,random.sample(list(range(n_obs)), _75_perct)] = 0\n",
    "        np.random.seed(i*5)\n",
    "        return_vec[1,random.sample(list(range(n_obs)), _75_perct)] = 0\n",
    "        \n",
    "        #means, stds = np.column_stack([\n",
    "        #    random_portfolio(return_vec)\n",
    "        #    for _ in range(n_portfolios)\n",
    "        #    ])\n",
    "        weights, returns, risks = optimal_portfolio(return_vec)\n",
    "        weight_res[i,:] = weights.T\n",
    "        return_res[i,:] = returns.reshape(n_assets,)\n",
    "        risks_res[i,:] = risks.reshape(n_assets,)\n",
    "    return weight_res, return_res, risks_res"
   ]
  },
  {
   "cell_type": "markdown",
   "id": "ed8d938b-c455-4340-af81-488ac31108f7",
   "metadata": {},
   "source": [
    "## Perform the optimizations specified\n",
    "\n",
    "Each section performs an optimization for the selected number of assets with no zeros and then randomly selected zeros\n",
    "\n",
    "## $n = 4$ "
   ]
  },
  {
   "cell_type": "code",
   "execution_count": 51,
   "id": "1b4f7a2c-53ca-4fac-9e16-650806505c9c",
   "metadata": {},
   "outputs": [
    {
     "name": "stdout",
     "output_type": "stream",
     "text": [
      "-52.1361620426178\n"
     ]
    }
   ],
   "source": [
    "start = time.time()\n",
    "n4_normal_weight, n4_normal_return, n4_normal_risks = one_optimization(4, 1000)\n",
    "end = time.time()\n",
    "print(start - end)"
   ]
  },
  {
   "cell_type": "code",
   "execution_count": 52,
   "id": "6748d04d-c06f-4001-afa7-20e45dbc2d4b",
   "metadata": {},
   "outputs": [
    {
     "name": "stdout",
     "output_type": "stream",
     "text": [
      "weights (mean) = [0.251 0.25  0.249 0.251] \n",
      "returns (mean) = [1.255 1.249 1.243 1.254] \n",
      "risks (mean) =[0.248 0.248 0.248 0.248]\n"
     ]
    }
   ],
   "source": [
    "print('weights (mean) = '+str(np.round(np.mean(n4_normal_weight, axis=0),3)),\n",
    "      '\\nreturns (mean) = '+str(np.round(np.mean(n4_normal_return, axis=0),3)),\n",
    "      '\\nrisks (mean) ='+str(np.round(np.mean(n4_normal_risks, axis=0),3)))"
   ]
  },
  {
   "cell_type": "code",
   "execution_count": 53,
   "id": "136ce657-23e0-448f-8363-cc7ebbe8ab47",
   "metadata": {},
   "outputs": [
    {
     "name": "stdout",
     "output_type": "stream",
     "text": [
      "weights (std) = [0.013 0.015 0.015 0.014] \n",
      "returns (std) = [0.068 0.079 0.076 0.074] \n",
      "risks (std) =[0.012 0.012 0.012 0.012]\n"
     ]
    }
   ],
   "source": [
    "print('weights (std) = '+str(np.round(np.std(n4_normal_weight, axis=0),3)),\n",
    "      '\\nreturns (std) = '+str(np.round(np.std(n4_normal_return, axis=0),3)),\n",
    "      '\\nrisks (std) ='+str(np.round(np.std(n4_normal_risks, axis=0),3)))"
   ]
  },
  {
   "cell_type": "code",
   "execution_count": 54,
   "id": "5e6d2b38-2549-46dd-ad58-2de13a6fcd29",
   "metadata": {},
   "outputs": [],
   "source": [
    "n4_normal_weight_os, n4_normal_return_os, n4_normal_risks_os = one_optimization_zeros(4, 1000)"
   ]
  },
  {
   "cell_type": "code",
   "execution_count": 55,
   "id": "d243adf6-b89e-422d-a27e-b73ac122c4a6",
   "metadata": {},
   "outputs": [
    {
     "name": "stdout",
     "output_type": "stream",
     "text": [
      "weights (mean) = [0.251 0.25  0.248 0.25 ] \n",
      "returns (mean) = [1.257 1.25  1.241 1.252] \n",
      "risks (mean) =[0.025 0.025 0.025 0.025]\n"
     ]
    }
   ],
   "source": [
    "print('weights (mean) = '+str(np.round(np.mean(n4_normal_weight_os, axis=0),3)),\n",
    "      '\\nreturns (mean) = '+str(np.round(np.mean(n4_normal_return_os, axis=0),3)),\n",
    "      '\\nrisks (mean) ='+str(np.round(np.mean(n4_normal_risks_os, axis=0),3)))"
   ]
  },
  {
   "cell_type": "code",
   "execution_count": 56,
   "id": "156a1a9c-b4fb-4c85-9faf-9bed2b6cc49f",
   "metadata": {},
   "outputs": [
    {
     "name": "stdout",
     "output_type": "stream",
     "text": [
      "weights (std) = [0.013 0.015 0.015 0.014] \n",
      "returns (std) = [0.068 0.079 0.076 0.074] \n",
      "risks (std) =[0.074 0.074 0.074 0.074]\n"
     ]
    }
   ],
   "source": [
    "print('weights (std) = '+str(np.round(np.std(n4_normal_weight_os, axis=0),3)),\n",
    "      '\\nreturns (std) = '+str(np.round(np.std(n4_normal_return_os, axis=0),3)),\n",
    "      '\\nrisks (std) ='+str(np.round(np.std(n4_normal_risks_os, axis=0),3)))"
   ]
  },
  {
   "cell_type": "markdown",
   "id": "9c171770-fca6-4fb8-9cae-9c31ac6edc9a",
   "metadata": {},
   "source": [
    "## $n = 8$ "
   ]
  },
  {
   "cell_type": "code",
   "execution_count": 57,
   "id": "a66152ff-07cb-4fd4-8533-ff495e69069a",
   "metadata": {},
   "outputs": [],
   "source": [
    "n8_normal_weight, n8_normal_return, n8_normal_risks = one_optimization(8, 1000)"
   ]
  },
  {
   "cell_type": "code",
   "execution_count": 58,
   "id": "984ce71a-7400-4702-9c97-5c1064ab87c5",
   "metadata": {},
   "outputs": [
    {
     "name": "stdout",
     "output_type": "stream",
     "text": [
      "weights (mean) = [0.126 0.126 0.125 0.125 0.126 0.125 0.125 0.123] \n",
      "returns (mean) = [0.63  0.629 0.624 0.627 0.631 0.623 0.625 0.613] \n",
      "risks (mean) =[0.124 0.124 0.124 0.124 0.124 0.124 0.124 0.124]\n"
     ]
    }
   ],
   "source": [
    "print('weights (mean) = '+str(np.round(np.mean(n8_normal_weight, axis=0),3)),\n",
    "      '\\nreturns (mean) = '+str(np.round(np.mean(n8_normal_return, axis=0),3)),\n",
    "      '\\nrisks (mean) ='+str(np.round(np.mean(n8_normal_risks, axis=0),3)))"
   ]
  },
  {
   "cell_type": "code",
   "execution_count": 59,
   "id": "40e1bebd-f57d-4d46-9fed-921febc0a50d",
   "metadata": {},
   "outputs": [
    {
     "name": "stdout",
     "output_type": "stream",
     "text": [
      "weights (std) = [0.013 0.013 0.012 0.01  0.011 0.013 0.012 0.011] \n",
      "returns (std) = [0.065 0.067 0.062 0.054 0.059 0.068 0.064 0.056] \n",
      "risks (std) =[0.006 0.006 0.006 0.006 0.006 0.006 0.006 0.006]\n"
     ]
    }
   ],
   "source": [
    "print('weights (std) = '+str(np.round(np.std(n8_normal_weight, axis=0),3)),\n",
    "      '\\nreturns (std) = '+str(np.round(np.std(n8_normal_return, axis=0),3)),\n",
    "      '\\nrisks (std) ='+str(np.round(np.std(n8_normal_risks, axis=0),3)))"
   ]
  },
  {
   "cell_type": "code",
   "execution_count": 60,
   "id": "5573d10b-d3bc-4de4-b213-da3e0c14866f",
   "metadata": {},
   "outputs": [],
   "source": [
    "n8_normal_weight_os, n8_normal_return_os, n8_normal_risks_os = one_optimization_zeros(8, 1000)"
   ]
  },
  {
   "cell_type": "code",
   "execution_count": 61,
   "id": "09813a18-660f-4535-96fd-28060369ab28",
   "metadata": {},
   "outputs": [
    {
     "name": "stdout",
     "output_type": "stream",
     "text": [
      "weights (mean) = [0.127 0.126 0.125 0.125 0.126 0.124 0.125 0.122] \n",
      "returns (mean) = [0.633 0.632 0.623 0.626 0.629 0.621 0.624 0.612] \n",
      "risks (mean) =[0.012 0.012 0.012 0.012 0.012 0.012 0.012 0.012]\n"
     ]
    }
   ],
   "source": [
    "print('weights (mean) = '+str(np.round(np.mean(n8_normal_weight_os, axis=0),3)),\n",
    "      '\\nreturns (mean) = '+str(np.round(np.mean(n8_normal_return_os, axis=0),3)),\n",
    "      '\\nrisks (mean) ='+str(np.round(np.mean(n8_normal_risks_os, axis=0),3)))"
   ]
  },
  {
   "cell_type": "code",
   "execution_count": 62,
   "id": "a75ca19c-e520-4811-a14d-256a3e220898",
   "metadata": {},
   "outputs": [
    {
     "name": "stdout",
     "output_type": "stream",
     "text": [
      "weights (std) = [0.013 0.013 0.012 0.01  0.011 0.013 0.012 0.011] \n",
      "returns (std) = [0.065 0.067 0.062 0.054 0.059 0.068 0.064 0.056] \n",
      "risks (std) =[0.037 0.037 0.037 0.037 0.037 0.037 0.037 0.037]\n"
     ]
    }
   ],
   "source": [
    "print('weights (std) = '+str(np.round(np.std(n8_normal_weight_os, axis=0),3)),\n",
    "      '\\nreturns (std) = '+str(np.round(np.std(n8_normal_return_os, axis=0),3)),\n",
    "      '\\nrisks (std) ='+str(np.round(np.std(n8_normal_risks_os, axis=0),3)))"
   ]
  },
  {
   "cell_type": "markdown",
   "id": "5b2811a0-9b01-4e28-9a8c-9ef34ac059df",
   "metadata": {},
   "source": [
    "## $n=16$"
   ]
  },
  {
   "cell_type": "code",
   "execution_count": 63,
   "id": "60c8c9d7-646c-44fe-882f-c0436fa43ea8",
   "metadata": {},
   "outputs": [],
   "source": [
    "n16_normal_weight, n16_normal_return, n16_normal_risks = one_optimization(16, 1000)"
   ]
  },
  {
   "cell_type": "code",
   "execution_count": 64,
   "id": "b69a58db-a740-468a-bef2-8fa649f058ba",
   "metadata": {},
   "outputs": [
    {
     "name": "stdout",
     "output_type": "stream",
     "text": [
      "weights (mean) = [0.063 0.063 0.063 0.063 0.063 0.063 0.064 0.061 0.062 0.064 0.061 0.061\n",
      " 0.064 0.063 0.062 0.062] \n",
      "returns (mean) = [0.316 0.315 0.313 0.316 0.315 0.314 0.319 0.303 0.31  0.32  0.305 0.306\n",
      " 0.319 0.316 0.308 0.309] \n",
      "risks (mean) =[0.062 0.062 0.062 0.062 0.062 0.062 0.062 0.062 0.062 0.062 0.062 0.062\n",
      " 0.062 0.062 0.062 0.062]\n"
     ]
    }
   ],
   "source": [
    "print('weights (mean) = '+str(np.round(np.mean(n16_normal_weight, axis=0),3)),\n",
    "      '\\nreturns (mean) = '+str(np.round(np.mean(n16_normal_return, axis=0),3)),\n",
    "      '\\nrisks (mean) ='+str(np.round(np.mean(n16_normal_risks, axis=0),3)))"
   ]
  },
  {
   "cell_type": "code",
   "execution_count": 65,
   "id": "a0bd214c-be96-40be-b5d2-249d25034108",
   "metadata": {},
   "outputs": [
    {
     "name": "stdout",
     "output_type": "stream",
     "text": [
      "weights (std) = [0.01  0.01  0.01  0.009 0.009 0.01  0.01  0.01  0.01  0.01  0.009 0.011\n",
      " 0.01  0.011 0.01  0.009] \n",
      "returns (std) = [0.052 0.051 0.05  0.045 0.048 0.053 0.051 0.05  0.049 0.051 0.046 0.054\n",
      " 0.05  0.055 0.05  0.045] \n",
      "risks (std) =[0.003 0.003 0.003 0.003 0.003 0.003 0.003 0.003 0.003 0.003 0.003 0.003\n",
      " 0.003 0.003 0.003 0.003]\n"
     ]
    }
   ],
   "source": [
    "print('weights (std) = '+str(np.round(np.std(n16_normal_weight, axis=0),3)),\n",
    "      '\\nreturns (std) = '+str(np.round(np.std(n16_normal_return, axis=0),3)),\n",
    "      '\\nrisks (std) ='+str(np.round(np.std(n16_normal_risks, axis=0),3)))"
   ]
  },
  {
   "cell_type": "code",
   "execution_count": 67,
   "id": "d445c684-b0aa-4350-9921-77b3f8a83d5a",
   "metadata": {},
   "outputs": [],
   "source": [
    "n16_normal_weight_os, n16_normal_return_os, n16_normal_risks_os = one_optimization_zeros(16,1000)"
   ]
  },
  {
   "cell_type": "code",
   "execution_count": 68,
   "id": "b558cee0-5d58-4df1-806f-bac8dae8cc00",
   "metadata": {},
   "outputs": [
    {
     "name": "stdout",
     "output_type": "stream",
     "text": [
      "weights (mean) = [0.064 0.064 0.063 0.063 0.063 0.063 0.064 0.06  0.062 0.064 0.061 0.061\n",
      " 0.064 0.063 0.062 0.062] \n",
      "returns (mean) = [0.319 0.318 0.313 0.316 0.314 0.314 0.318 0.302 0.309 0.32  0.304 0.305\n",
      " 0.318 0.315 0.308 0.309] \n",
      "risks (mean) =[0.006 0.006 0.006 0.006 0.006 0.006 0.006 0.006 0.006 0.006 0.006 0.006\n",
      " 0.006 0.006 0.006 0.006]\n"
     ]
    }
   ],
   "source": [
    "print('weights (mean) = '+str(np.round(np.mean(n16_normal_weight_os, axis=0),3)),\n",
    "      '\\nreturns (mean) = '+str(np.round(np.mean(n16_normal_return_os, axis=0),3)),\n",
    "      '\\nrisks (mean) ='+str(np.round(np.mean(n16_normal_risks_os, axis=0),3)))"
   ]
  },
  {
   "cell_type": "code",
   "execution_count": 69,
   "id": "8f28fc01-4de0-456a-9bdf-ee655fa17370",
   "metadata": {},
   "outputs": [
    {
     "name": "stdout",
     "output_type": "stream",
     "text": [
      "weights (std) = [0.01  0.01  0.01  0.009 0.009 0.01  0.01  0.01  0.01  0.01  0.009 0.011\n",
      " 0.01  0.011 0.01  0.009] \n",
      "returns (std) = [0.052 0.052 0.05  0.045 0.048 0.052 0.051 0.05  0.049 0.051 0.047 0.054\n",
      " 0.05  0.055 0.05  0.045] \n",
      "risks (std) =[0.019 0.019 0.019 0.019 0.019 0.019 0.019 0.019 0.019 0.019 0.019 0.019\n",
      " 0.019 0.019 0.019 0.019]\n"
     ]
    }
   ],
   "source": [
    "print('weights (std) = '+str(np.round(np.std(n16_normal_weight_os, axis=0),3)),\n",
    "      '\\nreturns (std) = '+str(np.round(np.std(n16_normal_return_os, axis=0),3)),\n",
    "      '\\nrisks (std) ='+str(np.round(np.std(n16_normal_risks_os, axis=0),3)))"
   ]
  },
  {
   "cell_type": "markdown",
   "id": "a6906b4d-91f1-49a9-8be5-54dbe215a746",
   "metadata": {},
   "source": [
    "## Play with Correlation"
   ]
  },
  {
   "cell_type": "markdown",
   "id": "e776c8a7-77ef-4456-89c0-435a919e700e",
   "metadata": {},
   "source": [
    "## Functions"
   ]
  },
  {
   "cell_type": "code",
   "execution_count": 71,
   "id": "4d1c59c7-7f13-4f34-84f3-8c4a70729f24",
   "metadata": {},
   "outputs": [],
   "source": [
    "def cor_optimization(n_assets, n_obs, r):\n",
    "    '''\n",
    "    First, simulates portfolios then optimizes. \n",
    "    This does 30 replications\n",
    "    n_assets: number of assets\n",
    "    n_obs: number of observations\n",
    "    r: covariance matrix\n",
    "    '''\n",
    "    weight_res = np.zeros((99,n_assets))\n",
    "    return_res = np.zeros((99,n_assets))\n",
    "    risks_res = np.zeros((99,n_assets))\n",
    "    \n",
    "    for i in range(99):\n",
    "        n_portfolios = 500\n",
    "        np.random.seed(i)\n",
    "        \n",
    "        rng = np.random.default_rng()\n",
    "        return_vec = rng.multivariate_normal(np.zeros(n_assets), cov = r, size = n_obs).T\n",
    "        \n",
    "        means, stds = np.column_stack([\n",
    "            random_portfolio(return_vec)\n",
    "            for _ in range(n_portfolios)\n",
    "            ])\n",
    "        weights, returns, risks = optimal_portfolio(return_vec)\n",
    "        weight_res[i,:] = weights.T\n",
    "        return_res[i,:] = np.array(returns).T\n",
    "        risks_res[i,:] = np.array(risks).T\n",
    "    return weight_res, return_res, risks_res"
   ]
  },
  {
   "cell_type": "code",
   "execution_count": 72,
   "id": "559e8a7c-f856-4938-b197-b9e6b9074747",
   "metadata": {},
   "outputs": [],
   "source": [
    "def cor_optimization_zeros(n_assets, n_obs, r):\n",
    "    '''\n",
    "    First, simulates portfolios then optimizes. \n",
    "    This does 30 replications\n",
    "    n_assets: number of assets\n",
    "    n_obs: number of observations\n",
    "    r: covariance matrix\n",
    "    '''\n",
    "    weight_res = np.zeros((99,n_assets))\n",
    "    return_res = np.zeros((99,n_assets))\n",
    "    risks_res = np.zeros((99,n_assets))\n",
    "    \n",
    "    for i in range(99):\n",
    "        n_portfolios = 500\n",
    "        np.random.seed(i)\n",
    "        \n",
    "        rng = np.random.default_rng()\n",
    "        return_vec = rng.multivariate_normal(np.zeros(n_assets), cov = r, size = n_obs).T\n",
    "        _75_perct = int(len(return_vec[:,0])*3/4)\n",
    "        return_vec[0,random.sample(list(range(1000)), _75_perct)] = 0\n",
    "        np.random.seed(i*5)\n",
    "        return_vec[1,random.sample(list(range(1000)), _75_perct)] = 0\n",
    "        \n",
    "        means, stds = np.column_stack([\n",
    "            random_portfolio(return_vec)\n",
    "            for _ in range(n_portfolios)\n",
    "            ])\n",
    "        weights, returns, risks = optimal_portfolio(return_vec)\n",
    "        weight_res[i,:] = weights.T\n",
    "        return_res[i,:] = np.array(returns).T\n",
    "        risks_res[i,:] = np.array(risks).T\n",
    "    return weight_res, return_res, risks_res"
   ]
  },
  {
   "cell_type": "markdown",
   "id": "b9d1659e-aa95-418e-9575-0784f868b08f",
   "metadata": {},
   "source": [
    "## Results for Correlation between 0.8-0.9\n",
    "Each section performs an optimization for the selected number of assets with no zeros and then randomly selected zeros"
   ]
  },
  {
   "cell_type": "markdown",
   "id": "d5fb5ab0-7f88-4724-9af0-ea69247f6d67",
   "metadata": {},
   "source": [
    "## $n=4$"
   ]
  },
  {
   "cell_type": "code",
   "execution_count": 73,
   "id": "88adb84b-010a-4923-a962-f69bea5db39e",
   "metadata": {},
   "outputs": [],
   "source": [
    "# First, create a covariance structure you'd like to use, this one is 0.8-0.9\n",
    "n = 4\n",
    "r = np.random.uniform(0.8, 0.9, (n,n))\n",
    "np.fill_diagonal(r, 1)"
   ]
  },
  {
   "cell_type": "code",
   "execution_count": 74,
   "id": "df731c38-229d-40d5-8f4e-4602c3440c1a",
   "metadata": {},
   "outputs": [
    {
     "name": "stderr",
     "output_type": "stream",
     "text": [
      "<ipython-input-71-6afc58b1f877>:18: RuntimeWarning:\n",
      "\n",
      "covariance is not positive-semidefinite.\n",
      "\n"
     ]
    }
   ],
   "source": [
    "n4_corr_weight, n4_corr_return, n4_corr_risks = cor_optimization(4, 1000, r)"
   ]
  },
  {
   "cell_type": "code",
   "execution_count": 75,
   "id": "833ba5cf-8e0b-49a2-b906-6ba100b78071",
   "metadata": {},
   "outputs": [
    {
     "name": "stdout",
     "output_type": "stream",
     "text": [
      "weights (mean) = [0.274 0.104 0.199 0.423] \n",
      "returns (mean) = [1.37  0.522 0.993 2.113] \n",
      "risks (mean) =[0.878 0.878 0.878 0.878]\n"
     ]
    }
   ],
   "source": [
    "print('weights (mean) = '+str(np.round(np.mean(n4_corr_weight, axis=0),3)),\n",
    "      '\\nreturns (mean) = '+str(np.round(np.mean(n4_corr_return, axis=0),3)),\n",
    "      '\\nrisks (mean) ='+str(np.round(np.mean(n4_corr_risks, axis=0),3)))"
   ]
  },
  {
   "cell_type": "code",
   "execution_count": 76,
   "id": "6ba2456d-4799-44fb-aae5-b9d87a3e59f4",
   "metadata": {},
   "outputs": [
    {
     "name": "stdout",
     "output_type": "stream",
     "text": [
      "weights (std) = [0.073 0.068 0.062 0.062] \n",
      "returns (std) = [0.369 0.342 0.311 0.31 ] \n",
      "risks (std) =[0.037 0.037 0.037 0.037]\n"
     ]
    }
   ],
   "source": [
    "print('weights (std) = '+str(np.round(np.std(n4_corr_weight, axis=0),3)),\n",
    "      '\\nreturns (std) = '+str(np.round(np.std(n4_corr_return, axis=0),3)),\n",
    "      '\\nrisks (std) ='+str(np.round(np.std(n4_corr_risks, axis=0),3)))"
   ]
  },
  {
   "cell_type": "code",
   "execution_count": 77,
   "id": "18be7687-85da-4dec-9b9e-8ac17289d0c8",
   "metadata": {},
   "outputs": [
    {
     "name": "stderr",
     "output_type": "stream",
     "text": [
      "<ipython-input-72-6eda513a3af1>:18: RuntimeWarning:\n",
      "\n",
      "covariance is not positive-semidefinite.\n",
      "\n"
     ]
    }
   ],
   "source": [
    "n4_corr_weight_os, n4_corr_return_os, n4_corr_risks_os = cor_optimization_zeros(4, 1000, r)"
   ]
  },
  {
   "cell_type": "code",
   "execution_count": 79,
   "id": "61f74151-2700-4387-ad18-2b0a675c78ae",
   "metadata": {},
   "outputs": [
    {
     "name": "stdout",
     "output_type": "stream",
     "text": [
      "weights (mean) = [0.27  0.099 0.22  0.41 ] \n",
      "returns (mean) = [1.351 0.494 1.102 2.05 ] \n",
      "risks (mean) =[0.876 0.876 0.876 0.876]\n"
     ]
    }
   ],
   "source": [
    "print('weights (mean) = '+str(np.round(np.mean(n4_corr_weight_os, axis=0),3)),\n",
    "      '\\nreturns (mean) = '+str(np.round(np.mean(n4_corr_return_os, axis=0),3)),\n",
    "      '\\nrisks (mean) ='+str(np.round(np.mean(n4_corr_risks_os, axis=0),3)))"
   ]
  },
  {
   "cell_type": "code",
   "execution_count": 80,
   "id": "b7acc3bd-2f9d-49ba-bd2a-a793ab974a7b",
   "metadata": {},
   "outputs": [
    {
     "name": "stdout",
     "output_type": "stream",
     "text": [
      "weights (std) = [0.066 0.056 0.064 0.056] \n",
      "returns (std) = [0.328 0.28  0.319 0.279] \n",
      "risks (std) =[0.038 0.038 0.038 0.038]\n"
     ]
    }
   ],
   "source": [
    "print('weights (std) = '+str(np.round(np.std(n4_corr_weight_os, axis=0),3)),\n",
    "      '\\nreturns (std) = '+str(np.round(np.std(n4_corr_return_os, axis=0),3)),\n",
    "      '\\nrisks (std) ='+str(np.round(np.std(n4_corr_risks_os, axis=0),3)))"
   ]
  },
  {
   "cell_type": "markdown",
   "id": "29c9460f-1a5c-4609-8708-1f829c5811e9",
   "metadata": {},
   "source": [
    "## $n = 8$"
   ]
  },
  {
   "cell_type": "code",
   "execution_count": 81,
   "id": "70bd0e7c-6d7b-4e19-afb7-21c17d083b7f",
   "metadata": {},
   "outputs": [],
   "source": [
    "n = 8\n",
    "r = np.random.uniform(0.8, 0.9, (n,n))\n",
    "np.fill_diagonal(r, 1)"
   ]
  },
  {
   "cell_type": "code",
   "execution_count": 82,
   "id": "85d1ccf0-6565-4881-b4b0-24e1a076acee",
   "metadata": {},
   "outputs": [
    {
     "name": "stderr",
     "output_type": "stream",
     "text": [
      "<ipython-input-71-6afc58b1f877>:18: RuntimeWarning:\n",
      "\n",
      "covariance is not positive-semidefinite.\n",
      "\n"
     ]
    }
   ],
   "source": [
    "n8_corr_weight, n8_corr_return, n8_corr_risks = cor_optimization(8, 1000, r)"
   ]
  },
  {
   "cell_type": "code",
   "execution_count": 83,
   "id": "cf72808b-9157-41ee-afb5-9f4f4ce70af9",
   "metadata": {},
   "outputs": [
    {
     "name": "stdout",
     "output_type": "stream",
     "text": [
      "weights (mean) = [0.227 0.159 0.027 0.113 0.138 0.06  0.182 0.094] \n",
      "returns (mean) = [1.135 0.794 0.136 0.565 0.692 0.299 0.911 0.469] \n",
      "risks (mean) =[0.855 0.855 0.855 0.855 0.855 0.855 0.855 0.855]\n"
     ]
    }
   ],
   "source": [
    "print('weights (mean) = '+str(np.round(np.mean(n8_corr_weight, axis=0),3)),\n",
    "      '\\nreturns (mean) = '+str(np.round(np.mean(n8_corr_return, axis=0),3)),\n",
    "      '\\nrisks (mean) ='+str(np.round(np.mean(n8_corr_risks, axis=0),3)))"
   ]
  },
  {
   "cell_type": "code",
   "execution_count": 84,
   "id": "297b554e-6dee-4d12-b34c-71c4ef627077",
   "metadata": {},
   "outputs": [
    {
     "name": "stdout",
     "output_type": "stream",
     "text": [
      "weights (std) = [0.071 0.071 0.04  0.071 0.071 0.059 0.064 0.065] \n",
      "returns (std) = [0.358 0.354 0.198 0.355 0.354 0.296 0.319 0.323] \n",
      "risks (std) =[0.036 0.036 0.036 0.036 0.036 0.036 0.036 0.036]\n"
     ]
    }
   ],
   "source": [
    "print('weights (std) = '+str(np.round(np.std(n8_corr_weight, axis=0),3)),\n",
    "      '\\nreturns (std) = '+str(np.round(np.std(n8_corr_return, axis=0),3)),\n",
    "      '\\nrisks (std) ='+str(np.round(np.std(n8_corr_risks, axis=0),3)))"
   ]
  },
  {
   "cell_type": "code",
   "execution_count": 85,
   "id": "6bf2579b-6560-4953-820a-f1d49c644322",
   "metadata": {},
   "outputs": [
    {
     "name": "stderr",
     "output_type": "stream",
     "text": [
      "<ipython-input-72-6eda513a3af1>:18: RuntimeWarning:\n",
      "\n",
      "covariance is not positive-semidefinite.\n",
      "\n"
     ]
    }
   ],
   "source": [
    "n8_corr_weight_os, n8_corr_return_os, n8_corr_risks_os = cor_optimization_zeros(8, 1000, r)"
   ]
  },
  {
   "cell_type": "code",
   "execution_count": 86,
   "id": "d9dea8dc-29ca-4168-a53f-7defb2952c0f",
   "metadata": {},
   "outputs": [
    {
     "name": "stdout",
     "output_type": "stream",
     "text": [
      "weights (mean) = [0.237 0.153 0.021 0.119 0.124 0.053 0.192 0.101] \n",
      "returns (mean) = [1.186 0.765 0.107 0.596 0.621 0.263 0.961 0.506] \n",
      "risks (mean) =[0.851 0.851 0.851 0.851 0.851 0.851 0.851 0.851]\n"
     ]
    }
   ],
   "source": [
    "print('weights (mean) = '+str(np.round(np.mean(n8_corr_weight_os, axis=0),3)),\n",
    "      '\\nreturns (mean) = '+str(np.round(np.mean(n8_corr_return_os, axis=0),3)),\n",
    "      '\\nrisks (mean) ='+str(np.round(np.mean(n8_corr_risks_os, axis=0),3)))"
   ]
  },
  {
   "cell_type": "code",
   "execution_count": 87,
   "id": "bf16e0db-6223-43f6-a613-7e23f775c2a7",
   "metadata": {},
   "outputs": [
    {
     "name": "stdout",
     "output_type": "stream",
     "text": [
      "weights (std) = [0.073 0.066 0.032 0.072 0.068 0.065 0.07  0.059] \n",
      "returns (std) = [0.368 0.331 0.163 0.359 0.343 0.323 0.348 0.298] \n",
      "risks (std) =[0.042 0.042 0.042 0.042 0.042 0.042 0.042 0.042]\n"
     ]
    }
   ],
   "source": [
    "print('weights (std) = '+str(np.round(np.std(n8_corr_weight_os, axis=0),3)),\n",
    "      '\\nreturns (std) = '+str(np.round(np.std(n8_corr_return_os, axis=0),3)),\n",
    "      '\\nrisks (std) ='+str(np.round(np.std(n8_corr_risks_os, axis=0),3)))"
   ]
  },
  {
   "cell_type": "markdown",
   "id": "b5c4fe7e-5df4-4692-b4f5-b5cc024496cf",
   "metadata": {},
   "source": [
    "## $n=16$"
   ]
  },
  {
   "cell_type": "code",
   "execution_count": 88,
   "id": "485df6ad-ce51-4822-aa96-29c50c64938b",
   "metadata": {},
   "outputs": [],
   "source": [
    "n = 16\n",
    "r = np.random.uniform(0.8, 0.9, (n,n))\n",
    "np.fill_diagonal(r, 1)"
   ]
  },
  {
   "cell_type": "code",
   "execution_count": 91,
   "id": "fa0bcd4a-71b8-410b-9926-a05e4ca0374b",
   "metadata": {},
   "outputs": [
    {
     "name": "stderr",
     "output_type": "stream",
     "text": [
      "<ipython-input-71-6afc58b1f877>:18: RuntimeWarning:\n",
      "\n",
      "covariance is not positive-semidefinite.\n",
      "\n"
     ]
    }
   ],
   "source": [
    "n16_corr_weight, n16_corr_return, n16_corr_risks = cor_optimization(16,1000,r)"
   ]
  },
  {
   "cell_type": "code",
   "execution_count": 92,
   "id": "5cca8fc3-5bfa-4d15-904b-6e1c895eae32",
   "metadata": {},
   "outputs": [
    {
     "name": "stdout",
     "output_type": "stream",
     "text": [
      "weights (mean) = [0.065 0.052 0.111 0.03  0.055 0.071 0.019 0.079 0.051 0.128 0.041 0.028\n",
      " 0.037 0.101 0.076 0.056] \n",
      "returns (mean) = [0.324 0.26  0.556 0.15  0.277 0.354 0.095 0.394 0.253 0.642 0.206 0.139\n",
      " 0.187 0.503 0.379 0.28 ] \n",
      "risks (mean) =[0.837 0.837 0.837 0.837 0.837 0.837 0.837 0.837 0.837 0.837 0.837 0.837\n",
      " 0.837 0.837 0.837 0.837]\n"
     ]
    }
   ],
   "source": [
    "print('weights (mean) = '+str(np.round(np.mean(n16_corr_weight, axis=0),3)),\n",
    "      '\\nreturns (mean) = '+str(np.round(np.mean(n16_corr_return, axis=0),3)),\n",
    "      '\\nrisks (mean) ='+str(np.round(np.mean(n16_corr_risks, axis=0),3)))"
   ]
  },
  {
   "cell_type": "code",
   "execution_count": 93,
   "id": "a1f54a85-b02d-43c0-bae8-98146eeee6f0",
   "metadata": {},
   "outputs": [
    {
     "name": "stdout",
     "output_type": "stream",
     "text": [
      "weights (std) = [0.064 0.053 0.068 0.043 0.068 0.054 0.03  0.07  0.054 0.076 0.05  0.043\n",
      " 0.048 0.063 0.058 0.059] \n",
      "returns (std) = [0.319 0.263 0.341 0.214 0.342 0.273 0.148 0.351 0.273 0.382 0.249 0.217\n",
      " 0.238 0.316 0.291 0.297] \n",
      "risks (std) =[0.036 0.036 0.036 0.036 0.036 0.036 0.036 0.036 0.036 0.036 0.036 0.036\n",
      " 0.036 0.036 0.036 0.036]\n"
     ]
    }
   ],
   "source": [
    "print('weights (std) = '+str(np.round(np.std(n16_corr_weight, axis=0),3)),\n",
    "      '\\nreturns (std) = '+str(np.round(np.std(n16_corr_return, axis=0),3)),\n",
    "      '\\nrisks (std) ='+str(np.round(np.std(n16_corr_risks, axis=0),3)))"
   ]
  },
  {
   "cell_type": "code",
   "execution_count": 94,
   "id": "70c59e5d-9923-481b-aa53-9ded80efdbce",
   "metadata": {},
   "outputs": [
    {
     "name": "stderr",
     "output_type": "stream",
     "text": [
      "<ipython-input-72-6eda513a3af1>:18: RuntimeWarning:\n",
      "\n",
      "covariance is not positive-semidefinite.\n",
      "\n"
     ]
    }
   ],
   "source": [
    "n16_corr_weight_os, n16_corr_return_os, n16_corr_risks_os = cor_optimization_zeros(16, 1000, r)"
   ]
  },
  {
   "cell_type": "code",
   "execution_count": 95,
   "id": "a6a7c92f-3410-40ca-b4da-e60eb3322c30",
   "metadata": {},
   "outputs": [
    {
     "name": "stdout",
     "output_type": "stream",
     "text": [
      "weights (mean) = [0.094 0.077 0.114 0.029 0.073 0.072 0.014 0.065 0.04  0.11  0.041 0.026\n",
      " 0.035 0.106 0.06  0.043] \n",
      "returns (mean) = [0.471 0.383 0.569 0.147 0.366 0.359 0.068 0.327 0.202 0.55  0.204 0.13\n",
      " 0.177 0.528 0.301 0.216] \n",
      "risks (mean) =[0.846 0.846 0.846 0.846 0.846 0.846 0.846 0.846 0.846 0.846 0.846 0.846\n",
      " 0.846 0.846 0.846 0.846]\n"
     ]
    }
   ],
   "source": [
    "print('weights (mean) = '+str(np.round(np.mean(n16_corr_weight_os, axis=0),3)),\n",
    "      '\\nreturns (mean) = '+str(np.round(np.mean(n16_corr_return_os, axis=0),3)),\n",
    "      '\\nrisks (mean) ='+str(np.round(np.mean(n16_corr_risks_os, axis=0),3)))"
   ]
  },
  {
   "cell_type": "code",
   "execution_count": 96,
   "id": "df2629e7-b4df-42be-817c-5777913348ac",
   "metadata": {},
   "outputs": [
    {
     "name": "stdout",
     "output_type": "stream",
     "text": [
      "weights (std) = [0.067 0.059 0.066 0.042 0.065 0.06  0.026 0.061 0.047 0.073 0.051 0.048\n",
      " 0.047 0.068 0.057 0.049] \n",
      "returns (std) = [0.335 0.297 0.331 0.21  0.325 0.298 0.128 0.307 0.233 0.368 0.255 0.24\n",
      " 0.233 0.342 0.286 0.245] \n",
      "risks (std) =[0.04 0.04 0.04 0.04 0.04 0.04 0.04 0.04 0.04 0.04 0.04 0.04 0.04 0.04\n",
      " 0.04 0.04]\n"
     ]
    }
   ],
   "source": [
    "print('weights (std) = '+str(np.round(np.std(n16_corr_weight_os, axis=0),3)),\n",
    "      '\\nreturns (std) = '+str(np.round(np.std(n16_corr_return_os, axis=0),3)),\n",
    "      '\\nrisks (std) ='+str(np.round(np.std(n16_corr_risks_os, axis=0),3)))"
   ]
  },
  {
   "cell_type": "markdown",
   "id": "824e1cc9-7b2b-433e-a937-ef631ad7e71d",
   "metadata": {},
   "source": [
    "## Results for Correlation between -0.6 and -0.5"
   ]
  },
  {
   "cell_type": "markdown",
   "id": "3310b9b4-e732-49bb-a440-f9c0ecb52fad",
   "metadata": {},
   "source": [
    "## $n=4$"
   ]
  },
  {
   "cell_type": "code",
   "execution_count": 97,
   "id": "19293800-c8b6-45f7-8d0e-cb580a471460",
   "metadata": {},
   "outputs": [],
   "source": [
    "n = 4\n",
    "r = np.random.uniform(-0.8, -0.5, (n,n))\n",
    "np.fill_diagonal(r, 1)"
   ]
  },
  {
   "cell_type": "code",
   "execution_count": 98,
   "id": "c6d0b7e4-d3af-4de0-9c1b-6dae4878d4da",
   "metadata": {},
   "outputs": [
    {
     "name": "stderr",
     "output_type": "stream",
     "text": [
      "<ipython-input-71-6afc58b1f877>:18: RuntimeWarning:\n",
      "\n",
      "covariance is not positive-semidefinite.\n",
      "\n"
     ]
    }
   ],
   "source": [
    "n4_neg_weight, n4_neg_return, n4_neg_risks = cor_optimization(4, 1000, r)"
   ]
  },
  {
   "cell_type": "code",
   "execution_count": 99,
   "id": "7c6e5afd-29b7-4d00-8d22-af6ee01637a7",
   "metadata": {},
   "outputs": [
    {
     "name": "stdout",
     "output_type": "stream",
     "text": [
      "weights (mean) = [0.237 0.286 0.266 0.21 ] \n",
      "returns (mean) = [1.186 1.431 1.332 1.05 ] \n",
      "risks (mean) =[0.232 0.232 0.232 0.232]\n"
     ]
    }
   ],
   "source": [
    "print('weights (mean) = '+str(np.round(np.mean(n4_neg_weight, axis=0),3)),\n",
    "      '\\nreturns (mean) = '+str(np.round(np.mean(n4_neg_return, axis=0),3)),\n",
    "      '\\nrisks (mean) ='+str(np.round(np.mean(n4_neg_risks, axis=0),3)))"
   ]
  },
  {
   "cell_type": "code",
   "execution_count": 100,
   "id": "bf748bd0-7085-4066-82e1-05d128e5c1f9",
   "metadata": {},
   "outputs": [
    {
     "name": "stdout",
     "output_type": "stream",
     "text": [
      "weights (std) = [0.011 0.011 0.011 0.01 ] \n",
      "returns (std) = [0.06  0.057 0.058 0.054] \n",
      "risks (std) =[0.011 0.011 0.011 0.011]\n"
     ]
    }
   ],
   "source": [
    "print('weights (std) = '+str(np.round(np.std(n4_neg_weight, axis=0),3)),\n",
    "      '\\nreturns (std) = '+str(np.round(np.std(n4_neg_return, axis=0),3)),\n",
    "      '\\nrisks (std) ='+str(np.round(np.std(n4_neg_risks, axis=0),3)))"
   ]
  },
  {
   "cell_type": "code",
   "execution_count": 101,
   "id": "adf05c9a-6de0-466e-8600-4dfb9d44e660",
   "metadata": {},
   "outputs": [
    {
     "name": "stderr",
     "output_type": "stream",
     "text": [
      "<ipython-input-72-6eda513a3af1>:18: RuntimeWarning:\n",
      "\n",
      "covariance is not positive-semidefinite.\n",
      "\n"
     ]
    }
   ],
   "source": [
    "n4_neg_weight_os, n4_neg_return_os, n4_neg_risks_os = cor_optimization_zeros(4, 1000, r)"
   ]
  },
  {
   "cell_type": "code",
   "execution_count": 102,
   "id": "9cc4c94e-d9da-4143-8699-5add54c0a842",
   "metadata": {},
   "outputs": [
    {
     "name": "stdout",
     "output_type": "stream",
     "text": [
      "weights (mean) = [0.237 0.289 0.262 0.212] \n",
      "returns (mean) = [1.185 1.446 1.31  1.058] \n",
      "risks (mean) =[0.231 0.231 0.231 0.231]\n"
     ]
    }
   ],
   "source": [
    "print('weights (mean) = '+str(np.round(np.mean(n4_neg_weight_os, axis=0),3)),\n",
    "      '\\nreturns (mean) = '+str(np.round(np.mean(n4_neg_return_os, axis=0),3)),\n",
    "      '\\nrisks (mean) ='+str(np.round(np.mean(n4_neg_risks_os, axis=0),3)))"
   ]
  },
  {
   "cell_type": "code",
   "execution_count": 103,
   "id": "233458f5-fc3f-4fc6-872d-cc624d3fc36c",
   "metadata": {},
   "outputs": [
    {
     "name": "stdout",
     "output_type": "stream",
     "text": [
      "weights (std) = [0.011 0.012 0.011 0.011] \n",
      "returns (std) = [0.06  0.065 0.057 0.058] \n",
      "risks (std) =[0.009 0.009 0.009 0.009]\n"
     ]
    }
   ],
   "source": [
    "print('weights (std) = '+str(np.round(np.std(n4_neg_weight_os, axis=0),3)),\n",
    "      '\\nreturns (std) = '+str(np.round(np.std(n4_neg_return_os, axis=0),3)),\n",
    "      '\\nrisks (std) ='+str(np.round(np.std(n4_neg_risks_os, axis=0),3)))"
   ]
  },
  {
   "cell_type": "markdown",
   "id": "3b34f01e-0b14-4219-89bd-e91d5c97b84a",
   "metadata": {},
   "source": [
    "## $n=8$"
   ]
  },
  {
   "cell_type": "code",
   "execution_count": 105,
   "id": "3bdcf5d3-eec2-4ef1-a967-136d298c6b39",
   "metadata": {},
   "outputs": [],
   "source": [
    "n = 8\n",
    "r = np.random.uniform(-0.8, -0.5, (n,n))\n",
    "np.fill_diagonal(r, 1)"
   ]
  },
  {
   "cell_type": "code",
   "execution_count": 106,
   "id": "6f8136bd-8e76-4454-b8f2-44f9f08760bf",
   "metadata": {},
   "outputs": [
    {
     "name": "stderr",
     "output_type": "stream",
     "text": [
      "<ipython-input-71-6afc58b1f877>:18: RuntimeWarning:\n",
      "\n",
      "covariance is not positive-semidefinite.\n",
      "\n"
     ]
    }
   ],
   "source": [
    "n8_neg_weight, n8_neg_return, n8_neg_risks = cor_optimization(8, 1000, r)"
   ]
  },
  {
   "cell_type": "code",
   "execution_count": 107,
   "id": "562d72b2-2d26-4c71-87a0-cbc85cce9cc0",
   "metadata": {},
   "outputs": [
    {
     "name": "stdout",
     "output_type": "stream",
     "text": [
      "weights (mean) = [0.104 0.117 0.141 0.13  0.122 0.143 0.114 0.129] \n",
      "returns (mean) = [0.521 0.585 0.706 0.65  0.61  0.715 0.569 0.645] \n",
      "risks (mean) =[0.448 0.448 0.448 0.448 0.448 0.448 0.448 0.448]\n"
     ]
    }
   ],
   "source": [
    "print('weights (mean) = '+str(np.round(np.mean(n8_neg_weight, axis=0),3)),\n",
    "      '\\nreturns (mean) = '+str(np.round(np.mean(n8_neg_return, axis=0),3)),\n",
    "      '\\nrisks (mean) ='+str(np.round(np.mean(n8_neg_risks, axis=0),3)))"
   ]
  },
  {
   "cell_type": "code",
   "execution_count": 108,
   "id": "4b06f98a-f108-4034-b279-399cc614f4a2",
   "metadata": {},
   "outputs": [
    {
     "name": "stdout",
     "output_type": "stream",
     "text": [
      "weights (std) = [0.017 0.017 0.017 0.018 0.017 0.015 0.015 0.015] \n",
      "returns (std) = [0.084 0.087 0.085 0.093 0.086 0.073 0.076 0.078] \n",
      "risks (std) =[0.019 0.019 0.019 0.019 0.019 0.019 0.019 0.019]\n"
     ]
    }
   ],
   "source": [
    "print('weights (std) = '+str(np.round(np.std(n8_neg_weight, axis=0),3)),\n",
    "      '\\nreturns (std) = '+str(np.round(np.std(n8_neg_return, axis=0),3)),\n",
    "      '\\nrisks (std) ='+str(np.round(np.std(n8_neg_risks, axis=0),3)))"
   ]
  },
  {
   "cell_type": "code",
   "execution_count": 109,
   "id": "43f730c6-2ad6-4c10-9d1a-d8f17c77995a",
   "metadata": {},
   "outputs": [
    {
     "name": "stderr",
     "output_type": "stream",
     "text": [
      "<ipython-input-72-6eda513a3af1>:18: RuntimeWarning:\n",
      "\n",
      "covariance is not positive-semidefinite.\n",
      "\n"
     ]
    }
   ],
   "source": [
    "n8_neg_weight_os, n8_neg_return_os, n8_neg_risks_os = cor_optimization_zeros(8, 1000, r)"
   ]
  },
  {
   "cell_type": "code",
   "execution_count": 110,
   "id": "d9e3002b-865f-4ae0-8b27-84b52621d2a7",
   "metadata": {},
   "outputs": [
    {
     "name": "stdout",
     "output_type": "stream",
     "text": [
      "weights (mean) = [0.106 0.119 0.142 0.128 0.119 0.143 0.114 0.129] \n",
      "returns (mean) = [0.532 0.595 0.709 0.642 0.594 0.713 0.57  0.647] \n",
      "risks (mean) =[0.449 0.449 0.449 0.449 0.449 0.449 0.449 0.449]\n"
     ]
    }
   ],
   "source": [
    "print('weights (mean) = '+str(np.round(np.mean(n8_neg_weight_os, axis=0),3)),\n",
    "      '\\nreturns (mean) = '+str(np.round(np.mean(n8_neg_return_os, axis=0),3)),\n",
    "      '\\nrisks (mean) ='+str(np.round(np.mean(n8_neg_risks_os, axis=0),3)))"
   ]
  },
  {
   "cell_type": "code",
   "execution_count": 111,
   "id": "bade975c-3c0c-4dd4-83d7-278765d1c9b6",
   "metadata": {},
   "outputs": [
    {
     "name": "stdout",
     "output_type": "stream",
     "text": [
      "weights (std) = [0.014 0.016 0.014 0.018 0.013 0.014 0.016 0.016] \n",
      "returns (std) = [0.068 0.083 0.072 0.092 0.068 0.073 0.083 0.079] \n",
      "risks (std) =[0.018 0.018 0.018 0.018 0.018 0.018 0.018 0.018]\n"
     ]
    }
   ],
   "source": [
    "print('weights (std) = '+str(np.round(np.std(n8_neg_weight_os, axis=0),3)),\n",
    "      '\\nreturns (std) = '+str(np.round(np.std(n8_neg_return_os, axis=0),3)),\n",
    "      '\\nrisks (std) ='+str(np.round(np.std(n8_neg_risks_os, axis=0),3)))"
   ]
  },
  {
   "cell_type": "markdown",
   "id": "7419130d-fb88-479e-ba6e-61f7fe074cdd",
   "metadata": {},
   "source": [
    "## $n=16$"
   ]
  },
  {
   "cell_type": "code",
   "execution_count": 112,
   "id": "2c6c0916-95ff-42a2-8ea2-bec551854e4c",
   "metadata": {},
   "outputs": [],
   "source": [
    "n = 16\n",
    "r = np.random.uniform(-0.8, -0.5, (n,n))\n",
    "np.fill_diagonal(r, 1)"
   ]
  },
  {
   "cell_type": "code",
   "execution_count": 113,
   "id": "b5b511f9-9ae3-43b9-b0b3-facec3bd4092",
   "metadata": {},
   "outputs": [
    {
     "name": "stderr",
     "output_type": "stream",
     "text": [
      "<ipython-input-71-6afc58b1f877>:18: RuntimeWarning:\n",
      "\n",
      "covariance is not positive-semidefinite.\n",
      "\n"
     ]
    }
   ],
   "source": [
    "n16_neg_weight, n16_neg_return, n16_neg_risks = cor_optimization(16, 1000, r)"
   ]
  },
  {
   "cell_type": "code",
   "execution_count": 114,
   "id": "d4f33c84-4b2b-4560-9f71-46b9d2eb9421",
   "metadata": {},
   "outputs": [
    {
     "name": "stdout",
     "output_type": "stream",
     "text": [
      "weights (mean) = [0.064 0.071 0.05  0.072 0.052 0.058 0.077 0.058 0.069 0.041 0.068 0.071\n",
      " 0.072 0.045 0.064 0.067] \n",
      "returns (mean) = [0.32  0.353 0.252 0.361 0.262 0.29  0.386 0.291 0.347 0.204 0.342 0.357\n",
      " 0.359 0.226 0.319 0.334] \n",
      "risks (mean) =[0.543 0.543 0.543 0.543 0.543 0.543 0.543 0.543 0.543 0.543 0.543 0.543\n",
      " 0.543 0.543 0.543 0.543]\n"
     ]
    }
   ],
   "source": [
    "print('weights (mean) = '+str(np.round(np.mean(n16_neg_weight, axis=0),3)),\n",
    "      '\\nreturns (mean) = '+str(np.round(np.mean(n16_neg_return, axis=0),3)),\n",
    "      '\\nrisks (mean) ='+str(np.round(np.mean(n16_neg_risks, axis=0),3)))"
   ]
  },
  {
   "cell_type": "code",
   "execution_count": 115,
   "id": "74584bbe-2358-4123-afc1-2de3a65893cc",
   "metadata": {},
   "outputs": [
    {
     "name": "stdout",
     "output_type": "stream",
     "text": [
      "weights (std) = [0.019 0.019 0.018 0.018 0.018 0.019 0.018 0.018 0.018 0.018 0.016 0.018\n",
      " 0.019 0.018 0.02  0.018] \n",
      "returns (std) = [0.093 0.098 0.092 0.09  0.092 0.094 0.09  0.092 0.093 0.092 0.079 0.091\n",
      " 0.098 0.088 0.101 0.09 ] \n",
      "risks (std) =[0.027 0.027 0.027 0.027 0.027 0.027 0.027 0.027 0.027 0.027 0.027 0.027\n",
      " 0.027 0.027 0.027 0.027]\n"
     ]
    }
   ],
   "source": [
    "print('weights (std) = '+str(np.round(np.std(n16_neg_weight, axis=0),3)),\n",
    "      '\\nreturns (std) = '+str(np.round(np.std(n16_neg_return, axis=0),3)),\n",
    "      '\\nrisks (std) ='+str(np.round(np.std(n16_neg_risks, axis=0),3)))"
   ]
  },
  {
   "cell_type": "code",
   "execution_count": 116,
   "id": "fbe470c5-cc04-44da-8551-3362d87dbcaf",
   "metadata": {},
   "outputs": [
    {
     "name": "stderr",
     "output_type": "stream",
     "text": [
      "<ipython-input-72-6eda513a3af1>:18: RuntimeWarning:\n",
      "\n",
      "covariance is not positive-semidefinite.\n",
      "\n"
     ]
    }
   ],
   "source": [
    "n16_neg_weight_os, n16_neg_return_os, n16_neg_risks_os = cor_optimization_zeros(16, 1000, r)"
   ]
  },
  {
   "cell_type": "code",
   "execution_count": 117,
   "id": "a73f02ad-3eaa-432d-be7c-256cb2bd1009",
   "metadata": {},
   "outputs": [
    {
     "name": "stdout",
     "output_type": "stream",
     "text": [
      "weights (mean) = [0.064 0.073 0.051 0.075 0.053 0.059 0.075 0.056 0.068 0.041 0.066 0.075\n",
      " 0.071 0.046 0.061 0.066] \n",
      "returns (mean) = [0.319 0.366 0.254 0.375 0.268 0.297 0.374 0.282 0.338 0.205 0.328 0.377\n",
      " 0.355 0.228 0.306 0.333] \n",
      "risks (mean) =[0.539 0.539 0.539 0.539 0.539 0.539 0.539 0.539 0.539 0.539 0.539 0.539\n",
      " 0.539 0.539 0.539 0.539]\n"
     ]
    }
   ],
   "source": [
    "print('weights (mean) = '+str(np.round(np.mean(n16_neg_weight_os, axis=0),3)),\n",
    "      '\\nreturns (mean) = '+str(np.round(np.mean(n16_neg_return_os, axis=0),3)),\n",
    "      '\\nrisks (mean) ='+str(np.round(np.mean(n16_neg_risks_os, axis=0),3)))"
   ]
  },
  {
   "cell_type": "code",
   "execution_count": 118,
   "id": "0964f7c2-17e8-4721-9d62-e8fff998d568",
   "metadata": {},
   "outputs": [
    {
     "name": "stdout",
     "output_type": "stream",
     "text": [
      "weights (std) = [0.019 0.018 0.02  0.015 0.017 0.02  0.019 0.018 0.018 0.019 0.018 0.015\n",
      " 0.016 0.018 0.019 0.019] \n",
      "returns (std) = [0.094 0.09  0.098 0.078 0.085 0.098 0.094 0.09  0.089 0.096 0.09  0.077\n",
      " 0.083 0.092 0.097 0.097] \n",
      "risks (std) =[0.026 0.026 0.026 0.026 0.026 0.026 0.026 0.026 0.026 0.026 0.026 0.026\n",
      " 0.026 0.026 0.026 0.026]\n"
     ]
    }
   ],
   "source": [
    "print('weights (std) = '+str(np.round(np.std(n16_neg_weight_os, axis=0),3)),\n",
    "      '\\nreturns (std) = '+str(np.round(np.std(n16_neg_return_os, axis=0),3)),\n",
    "      '\\nrisks (std) ='+str(np.round(np.std(n16_neg_risks_os, axis=0),3)))"
   ]
  },
  {
   "cell_type": "code",
   "execution_count": 104,
   "id": "ea9feb81-883a-4565-8313-2f7161aab3fc",
   "metadata": {},
   "outputs": [],
   "source": [
    "## I was testing something out here, but decided to abandon it\n",
    "#returns = np.random.randn(n_assets, n_obs)\n",
    "#n = len(returns)\n",
    "#returns = np.asmatrix(returns + 5)\n",
    "    \n",
    "#S = np.array(np.cov(returns))\n",
    "#pbar = np.array(np.mean(returns, axis = 1))\n",
    "    \n",
    "#ef = pyp.EfficientFrontier(pbar, S)\n",
    "#ef.add_constraint(lambda w: sum(w) == 1)\n",
    "#ef.efficient_return(0.25)"
   ]
  }
 ],
 "metadata": {
  "kernelspec": {
   "display_name": "Python 3",
   "language": "python",
   "name": "python3"
  },
  "language_info": {
   "codemirror_mode": {
    "name": "ipython",
    "version": 3
   },
   "file_extension": ".py",
   "mimetype": "text/x-python",
   "name": "python",
   "nbconvert_exporter": "python",
   "pygments_lexer": "ipython3",
   "version": "3.8.8"
  }
 },
 "nbformat": 4,
 "nbformat_minor": 5
}
