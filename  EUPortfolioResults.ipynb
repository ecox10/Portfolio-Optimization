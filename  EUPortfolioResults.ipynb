{
 "cells": [
  {
   "cell_type": "markdown",
   "id": "7ade7953-1c19-4251-a3bb-ce692a1278f5",
   "metadata": {},
   "source": [
    "# EU Results\n",
    "Creates csv file to read into R for plotting and creates LaTex table code"
   ]
  },
  {
   "cell_type": "code",
   "execution_count": 2,
   "id": "bf5214c3-8b5d-459b-8016-92a493bf63a6",
   "metadata": {},
   "outputs": [],
   "source": [
    "from pathlib import Path\n",
    "import pickle\n",
    "import pandas as pd\n",
    "import numpy as np\n"
   ]
  },
  {
   "cell_type": "markdown",
   "id": "e13bf287-a78c-47f7-91a8-8f1438a8a09b",
   "metadata": {},
   "source": [
    "## Load pickle files with results"
   ]
  },
  {
   "cell_type": "code",
   "execution_count": 20,
   "id": "3594939e-4751-4ebd-9764-90a0c7bc7a8c",
   "metadata": {},
   "outputs": [],
   "source": [
    " ## Read the Data\n",
    "file_name = \"EUMarkowitzResultsWeights.pkl\"\n",
    "\n",
    "open_file = open(file_name, \"rb\")\n",
    "loaded_list = pickle.load(open_file)\n",
    "open_file.close()\n"
   ]
  },
  {
   "cell_type": "code",
   "execution_count": 21,
   "id": "5850a7b6-1176-4ef5-b05a-d5f09e91b99b",
   "metadata": {},
   "outputs": [],
   "source": [
    "markowitz_full = loaded_list[0]\n",
    "markowitz_country = loaded_list[1]\n",
    "markowitz_year = loaded_list[2]\n",
    "markowitz_rand = loaded_list[3]\n",
    "markowitz_full_drop = loaded_list[4]\n",
    "markowitz_country_drop = loaded_list[5]\n",
    "markowitz_year_drop = loaded_list[6]\n",
    "markowitz_rand_drop = loaded_list[7]\n"
   ]
  },
  {
   "cell_type": "code",
   "execution_count": 38,
   "id": "f9effc2a-490b-47dc-9dbb-ea26e413aed0",
   "metadata": {},
   "outputs": [],
   "source": [
    "file_name = \"EUBLResultsWeights.pkl\"\n",
    "\n",
    "open_file = open(file_name, \"rb\")\n",
    "loaded_list = pickle.load(open_file)\n",
    "open_file.close()\n"
   ]
  },
  {
   "cell_type": "code",
   "execution_count": 39,
   "id": "66cefe66-2607-451b-9101-a9bbb0ce30e6",
   "metadata": {},
   "outputs": [],
   "source": [
    "BL_full = loaded_list[0]\n",
    "BL_country = loaded_list[1]\n",
    "BL_year = loaded_list[2]\n",
    "BL_rand = loaded_list[3]\n",
    "BL_full_drop = loaded_list[4]\n",
    "BL_country_drop = loaded_list[5]\n",
    "BL_year_drop = loaded_list[6]\n",
    "BL_rand_drop = loaded_list[7]\n"
   ]
  },
  {
   "cell_type": "code",
   "execution_count": 7,
   "id": "de00c7f1-60a5-4e27-b25a-aa42b8eabbcd",
   "metadata": {},
   "outputs": [],
   "source": [
    "file_name = \"EUDeepLearningResultsWeights.pkl\"\n",
    "\n",
    "open_file = open(file_name, \"rb\")\n",
    "loaded_list = pickle.load(open_file)\n",
    "open_file.close()\n"
   ]
  },
  {
   "cell_type": "code",
   "execution_count": 8,
   "id": "7b5350bd-d2d2-47ed-b070-1035f559f6ea",
   "metadata": {},
   "outputs": [],
   "source": [
    "ML_full = loaded_list[0]\n",
    "ML_country = loaded_list[1]\n",
    "ML_year = loaded_list[2]\n",
    "ML_rand = loaded_list[3]\n",
    "ML_full_drop = loaded_list[4]\n",
    "ML_country_drop = loaded_list[5]\n",
    "ML_year_drop = loaded_list[6]\n",
    "ML_rand_drop = loaded_list[7]\n"
   ]
  },
  {
   "cell_type": "markdown",
   "id": "e7d82491-e89c-4158-b5eb-84979a8410c4",
   "metadata": {},
   "source": [
    "## Save to .csv files"
   ]
  },
  {
   "cell_type": "markdown",
   "id": "b93d73ec-1d44-4668-8b28-e1090e3b3fc2",
   "metadata": {},
   "source": [
    "Markowitz"
   ]
  },
  {
   "cell_type": "code",
   "execution_count": 22,
   "id": "04dacb2b-58a8-446d-82f7-90763bfc9dfe",
   "metadata": {},
   "outputs": [],
   "source": [
    "filepath = Path(\"/Users/elizabeth/Documents/Master's Project/Results/EUMarkowitzResults_Full.csv\")  \n",
    "filepath.parent.mkdir(parents=True, exist_ok=True)  \n",
    "pd.DataFrame(markowitz_full).to_csv(filepath)\n",
    "filepath = Path(\"/Users/elizabeth/Documents/Master's Project/Results/EUMarkowitzResults_Country.csv\")  \n",
    "filepath.parent.mkdir(parents=True, exist_ok=True)  \n",
    "pd.DataFrame(markowitz_country).to_csv(filepath)\n",
    "filepath = Path(\"/Users/elizabeth/Documents/Master's Project/Results/EUMarkowitzResults_Year.csv\")  \n",
    "filepath.parent.mkdir(parents=True, exist_ok=True)  \n",
    "pd.DataFrame(markowitz_year).to_csv(filepath)\n",
    "filepath = Path(\"/Users/elizabeth/Documents/Master's Project/Results/EUMarkowitzResults_Random.csv\")  \n",
    "filepath.parent.mkdir(parents=True, exist_ok=True)  \n",
    "pd.DataFrame(markowitz_rand).to_csv(filepath)\n",
    "\n",
    "filepath = Path(\"/Users/elizabeth/Documents/Master's Project/Results/EUMarkowitzResults_Full_drop.csv\")  \n",
    "filepath.parent.mkdir(parents=True, exist_ok=True)  \n",
    "pd.DataFrame(markowitz_full_drop).to_csv(filepath)\n",
    "filepath = Path(\"/Users/elizabeth/Documents/Master's Project/Results/EUMarkowitzResults_Country_drop.csv\")  \n",
    "filepath.parent.mkdir(parents=True, exist_ok=True)  \n",
    "pd.DataFrame(markowitz_country_drop).to_csv(filepath)\n",
    "filepath = Path(\"/Users/elizabeth/Documents/Master's Project/Results/EUMarkowitzResults_Year_drop.csv\")  \n",
    "filepath.parent.mkdir(parents=True, exist_ok=True)  \n",
    "pd.DataFrame(markowitz_year_drop).to_csv(filepath)\n",
    "filepath = Path(\"/Users/elizabeth/Documents/Master's Project/Results/EUMarkowitzResults_Random_drop.csv\")  \n",
    "filepath.parent.mkdir(parents=True, exist_ok=True)  \n",
    "pd.DataFrame(markowitz_rand_drop).to_csv(filepath)"
   ]
  },
  {
   "cell_type": "markdown",
   "id": "d0b319f3-ee7b-4268-9e8b-a84f044d20ee",
   "metadata": {},
   "source": [
    "Black-Litterman"
   ]
  },
  {
   "cell_type": "code",
   "execution_count": 10,
   "id": "a70c3b43-c1c5-43a2-a034-f8d85aafcf15",
   "metadata": {},
   "outputs": [],
   "source": [
    "filepath = Path(\"/Users/elizabeth/Documents/Master's Project/Results/EUBLResults_Full.csv\")  \n",
    "filepath.parent.mkdir(parents=True, exist_ok=True)  \n",
    "pd.DataFrame(BL_full).to_csv(filepath)\n",
    "filepath = Path(\"/Users/elizabeth/Documents/Master's Project/Results/EUBLResults_Country.csv\")  \n",
    "filepath.parent.mkdir(parents=True, exist_ok=True)  \n",
    "pd.DataFrame(BL_country).to_csv(filepath)\n",
    "filepath = Path(\"/Users/elizabeth/Documents/Master's Project/Results/EUBLResults_Year.csv\")  \n",
    "filepath.parent.mkdir(parents=True, exist_ok=True)  \n",
    "pd.DataFrame(BL_year).to_csv(filepath)\n",
    "filepath = Path(\"/Users/elizabeth/Documents/Master's Project/Results/EUBLResults_Random.csv\")  \n",
    "filepath.parent.mkdir(parents=True, exist_ok=True)  \n",
    "pd.DataFrame(BL_rand).to_csv(filepath)\n",
    "\n",
    "filepath = Path(\"/Users/elizabeth/Documents/Master's Project/Results/EUBLResults_Full_drop.csv\")  \n",
    "filepath.parent.mkdir(parents=True, exist_ok=True)  \n",
    "pd.DataFrame(BL_full_drop).to_csv(filepath)\n",
    "filepath = Path(\"/Users/elizabeth/Documents/Master's Project/Results/EUBLResults_Country_drop.csv\")  \n",
    "filepath.parent.mkdir(parents=True, exist_ok=True)  \n",
    "pd.DataFrame(BL_country_drop).to_csv(filepath)\n",
    "filepath = Path(\"/Users/elizabeth/Documents/Master's Project/Results/EUBLResults_Year_drop.csv\")  \n",
    "filepath.parent.mkdir(parents=True, exist_ok=True)  \n",
    "pd.DataFrame(BL_year_drop).to_csv(filepath)\n",
    "filepath = Path(\"/Users/elizabeth/Documents/Master's Project/Results/EUBLResults_Random_drop.csv\")  \n",
    "filepath.parent.mkdir(parents=True, exist_ok=True)  \n",
    "pd.DataFrame(BL_rand_drop).to_csv(filepath)"
   ]
  },
  {
   "cell_type": "markdown",
   "id": "652f34c9-ad14-406b-b131-aa6d3e0726c5",
   "metadata": {},
   "source": [
    "Deep Learning"
   ]
  },
  {
   "cell_type": "code",
   "execution_count": null,
   "id": "ee11eb05-d519-4bf7-a2ce-ffd3c5cbfb90",
   "metadata": {},
   "outputs": [],
   "source": []
  },
  {
   "cell_type": "code",
   "execution_count": 11,
   "id": "9e7d8ba4-080f-4045-ae06-92499088e56d",
   "metadata": {},
   "outputs": [],
   "source": [
    "filepath = Path(\"/Users/elizabeth/Documents/Master's Project/Results/EUMLResults_Full.csv\")  \n",
    "filepath.parent.mkdir(parents=True, exist_ok=True)  \n",
    "pd.DataFrame(ML_full).to_csv(filepath)\n",
    "filepath = Path(\"/Users/elizabeth/Documents/Master's Project/Results/EUMLResults_Country.csv\")  \n",
    "filepath.parent.mkdir(parents=True, exist_ok=True)  \n",
    "pd.DataFrame(ML_country).to_csv(filepath)\n",
    "filepath = Path(\"/Users/elizabeth/Documents/Master's Project/Results/EUMLResults_Year.csv\")  \n",
    "filepath.parent.mkdir(parents=True, exist_ok=True)  \n",
    "pd.DataFrame(ML_year).to_csv(filepath)\n",
    "filepath = Path(\"/Users/elizabeth/Documents/Master's Project/Results/EUMLResults_Random.csv\")  \n",
    "filepath.parent.mkdir(parents=True, exist_ok=True)  \n",
    "pd.DataFrame(ML_rand).to_csv(filepath)\n",
    "\n",
    "filepath = Path(\"/Users/elizabeth/Documents/Master's Project/Results/EUMLResults_Full_drop.csv\")  \n",
    "filepath.parent.mkdir(parents=True, exist_ok=True)  \n",
    "pd.DataFrame(ML_full_drop).to_csv(filepath)\n",
    "filepath = Path(\"/Users/elizabeth/Documents/Master's Project/Results/EUMLResults_Country_drop.csv\")  \n",
    "filepath.parent.mkdir(parents=True, exist_ok=True)  \n",
    "pd.DataFrame(ML_country_drop).to_csv(filepath)\n",
    "filepath = Path(\"/Users/elizabeth/Documents/Master's Project/Results/EUMLResults_Year_drop.csv\")  \n",
    "filepath.parent.mkdir(parents=True, exist_ok=True)  \n",
    "pd.DataFrame(ML_year_drop).to_csv(filepath)\n",
    "filepath = Path(\"/Users/elizabeth/Documents/Master's Project/Results/EUMLResults_Random_drop.csv\")  \n",
    "filepath.parent.mkdir(parents=True, exist_ok=True)  \n",
    "pd.DataFrame(ML_rand_drop).to_csv(filepath)"
   ]
  },
  {
   "cell_type": "code",
   "execution_count": 34,
   "id": "5af9f5d9-c61b-438d-a1f3-7a10dd45aab2",
   "metadata": {},
   "outputs": [
    {
     "data": {
      "text/plain": [
       "(12, 1)"
      ]
     },
     "execution_count": 34,
     "metadata": {},
     "output_type": "execute_result"
    }
   ],
   "source": [
    "pd.DataFrame(markowitz_full).shape"
   ]
  },
  {
   "cell_type": "markdown",
   "id": "998e44c9-805f-4f61-b4f9-a235f2426a24",
   "metadata": {},
   "source": [
    "## Make Result DataFrames"
   ]
  },
  {
   "cell_type": "markdown",
   "id": "a5af0fdb-17f6-4c10-a6b2-400085e392c9",
   "metadata": {},
   "source": [
    "Full - This is one estimate so we report the estimate and no standard deviation"
   ]
  },
  {
   "cell_type": "code",
   "execution_count": 40,
   "id": "eb5280f6-4185-42d3-af69-6fc5e40a14c9",
   "metadata": {},
   "outputs": [],
   "source": [
    "Full = np.zeros((12,6))\n",
    "\n",
    "#########################\n",
    "## Imputed Data\n",
    "#########################\n",
    "## Fill Markowitz results \n",
    "Full[:,0] = np.round(np.reshape(markowitz_full, (12)),3)\n",
    "## Fill BL results\n",
    "BL_full = [x[1] for x in BL_full]\n",
    "Full[:,1] = np.round(BL_full,3)\n",
    "## Fill deep learning results \n",
    "Full[:,2] = np.round(ML_full,3)\n",
    "\n",
    "#########################\n",
    "## Dropped Missing Data\n",
    "#########################\n",
    "## Fill Markowitz results \n",
    "Full[:,3] = np.round(np.reshape(markowitz_full_drop, (12)),3)\n",
    "## Fill BL results\n",
    "Full[:,4] = np.round(BL_full_drop,3)\n",
    "#BL_full_drop = [x[1] for x in BL_full_drop]\n",
    "## Fill deep learning results \n",
    "Full[:,5] = np.round(ML_full,3)\n"
   ]
  },
  {
   "cell_type": "markdown",
   "id": "78a669bb-0f17-43d2-94e1-b01d304ccb55",
   "metadata": {},
   "source": [
    "Drop one country at a time"
   ]
  },
  {
   "cell_type": "code",
   "execution_count": 41,
   "id": "d2184ec0-4707-4cab-ae6e-601928de5a46",
   "metadata": {},
   "outputs": [],
   "source": [
    "Country = np.zeros((12,12))\n",
    "\n",
    "#########################\n",
    "## Imputed Data\n",
    "#########################\n",
    "## Fill Markowitz results \n",
    "Country[:,0] = np.round(np.mean(markowitz_country, axis=0),3)\n",
    "Country[:,1] = np.round(np.std(markowitz_country, axis=0),3)\n",
    "## Fill BL results\n",
    "Country[:,2] = np.round(np.mean(BL_country, axis=0),3)\n",
    "Country[:,3] = np.round(np.std(BL_country, axis=0),3)\n",
    "## Fill deep learning results \n",
    "Country[:,4] = np.round(np.mean(ML_country, axis=0),3)\n",
    "Country[:,5] = np.round(np.std(ML_country, axis=0),3)\n",
    "\n",
    "#########################\n",
    "## Dropped Missing Data\n",
    "#########################\n",
    "## Fill Markowitz results \n",
    "Country[:,6] = np.round(np.mean(markowitz_country_drop, axis=0),3)\n",
    "Country[:,7] = np.round(np.std(markowitz_country_drop, axis=0),3)\n",
    "## Fill BL results\n",
    "Country[:,8] = np.round(np.mean(BL_country_drop, axis=0),3)\n",
    "Country[:,9] = np.round(np.std(BL_country_drop, axis=0),3)\n",
    "## Fill deep learning results \n",
    "Country[:,10] = np.round(np.mean(ML_country_drop, axis=0),3)\n",
    "Country[:,11] = np.round(np.std(ML_country_drop, axis=0),3)"
   ]
  },
  {
   "cell_type": "markdown",
   "id": "f487d841-a791-4ba7-bf32-e3c7854c8b57",
   "metadata": {},
   "source": [
    "Drop one year at a time"
   ]
  },
  {
   "cell_type": "code",
   "execution_count": 42,
   "id": "9e7509a8-8e3c-48d2-b6e2-047ab1897adf",
   "metadata": {},
   "outputs": [],
   "source": [
    "Year = np.zeros((12,12))\n",
    "\n",
    "#########################\n",
    "## Imputed Data\n",
    "#########################\n",
    "## Fill Markowitz results \n",
    "Year[:,0] = np.round(np.mean(markowitz_year, axis=0),3)\n",
    "Year[:,1] = np.round(np.std(markowitz_year, axis=0),3)\n",
    "## Fill BL results\n",
    "Year[:,2] = np.round(np.mean(BL_year, axis=0),3)\n",
    "Year[:,3] = np.round(np.std(BL_year, axis=0),3)\n",
    "## Fill deep learning results \n",
    "Year[:,4] = np.round(np.mean(ML_year, axis=0),3)\n",
    "Year[:,5] = np.round(np.std(ML_year, axis=0),3)\n",
    "\n",
    "#########################\n",
    "## Dropped Missing Data\n",
    "#########################\n",
    "## Fill Markowitz results \n",
    "Year[:,6] = np.round(np.mean(markowitz_year_drop, axis=0),3)\n",
    "Year[:,7] = np.round(np.std(markowitz_year_drop, axis=0),3)\n",
    "## Fill BL results\n",
    "Year[:,8] = np.round(np.mean(BL_year_drop, axis=0),3)\n",
    "Year[:,9] = np.round(np.std(BL_year_drop, axis=0),3)\n",
    "## Fill deep learning results \n",
    "Year[:,10] = np.round(np.mean(ML_year_drop, axis=0),3)\n",
    "Year[:,11] = np.round(np.std(ML_year_drop, axis=0),3)"
   ]
  },
  {
   "cell_type": "markdown",
   "id": "66934df3-0cb2-4ada-8bd4-1322ca1b7f0c",
   "metadata": {},
   "source": [
    "Drop random 20% of the data 100 times"
   ]
  },
  {
   "cell_type": "code",
   "execution_count": 43,
   "id": "f4ab52a3-a2d9-4679-8dc9-115efd2e60b4",
   "metadata": {},
   "outputs": [],
   "source": [
    "Rand = np.zeros((12,12))\n",
    "\n",
    "#########################\n",
    "## Imputed Data\n",
    "#########################\n",
    "## Fill Markowitz results \n",
    "Rand[:,0] = np.round(np.mean(markowitz_rand, axis=0),3)\n",
    "Rand[:,1] = np.round(np.std(markowitz_rand, axis=0),3)\n",
    "## Fill BL results\n",
    "Rand[:,2] = np.round(np.mean(BL_rand, axis=0),3)\n",
    "Rand[:,3] = np.round(np.std(BL_rand, axis=0),3)\n",
    "## Fill deep learning results \n",
    "Rand[:,4] = np.round(np.mean(ML_rand, axis=0),3)\n",
    "Rand[:,5] = np.round(np.std(ML_rand, axis=0),3)\n",
    "\n",
    "#########################\n",
    "## Dropped Missing Data\n",
    "#########################\n",
    "## Fill Markowitz results \n",
    "Rand[:,6] = np.round(np.mean(markowitz_rand_drop, axis=0),3)\n",
    "Rand[:,7] = np.round(np.std(markowitz_rand_drop, axis=0),3)\n",
    "## Fill BL results\n",
    "Rand[:,8] = np.round(np.mean(BL_rand_drop, axis=0),3)\n",
    "Rand[:,9] = np.round(np.std(BL_rand_drop, axis=0),3)\n",
    "## Fill deep learning results \n",
    "Rand[:,10] = np.round(np.mean(ML_rand_drop, axis=0),3)\n",
    "Rand[:,11] = np.round(np.std(ML_rand_drop, axis=0),3)"
   ]
  },
  {
   "cell_type": "markdown",
   "id": "f79c39ec-2212-416a-ae20-aed23454991f",
   "metadata": {},
   "source": [
    "## Get LaTex Tables"
   ]
  },
  {
   "cell_type": "code",
   "execution_count": 44,
   "id": "26c4c01f-aaf8-4cae-be5c-29ad02e78cef",
   "metadata": {},
   "outputs": [
    {
     "name": "stdout",
     "output_type": "stream",
     "text": [
      "\\begin{tabular}{rrrrrr}\n",
      "\\toprule\n",
      "   0 &      1 &     2 &    3 &      4 &     5 \\\\\n",
      "\\midrule\n",
      " 0.0 &  0.087 & 0.003 &  0.0 &  0.087 & 0.003 \\\\\n",
      " 0.0 &  0.051 & 0.002 &  0.0 &  0.051 & 0.002 \\\\\n",
      "-0.0 &  0.178 & 0.000 & -0.0 &  0.178 & 0.000 \\\\\n",
      "-0.0 &  0.177 & 0.009 & -0.0 &  0.177 & 0.009 \\\\\n",
      " 0.0 &  0.149 & 0.000 & -0.0 &  0.149 & 0.000 \\\\\n",
      " 0.0 &  0.074 & 0.000 &  0.0 &  0.074 & 0.000 \\\\\n",
      " 0.0 &  0.029 & 0.827 &  0.0 &  0.029 & 0.827 \\\\\n",
      "-0.0 & -0.036 & 0.003 &  0.0 & -0.036 & 0.003 \\\\\n",
      " 0.0 &  0.039 & 0.011 &  0.0 &  0.039 & 0.011 \\\\\n",
      " 0.0 &  0.022 & 0.002 &  1.0 &  0.022 & 0.002 \\\\\n",
      " 0.0 &  0.189 & 0.009 & -0.0 &  0.189 & 0.009 \\\\\n",
      " 1.0 &  0.041 & 0.134 &  0.0 &  0.041 & 0.134 \\\\\n",
      "\\bottomrule\n",
      "\\end{tabular}\n",
      "\n"
     ]
    }
   ],
   "source": [
    "print(pd.DataFrame(Full).to_latex(index=False))"
   ]
  },
  {
   "cell_type": "code",
   "execution_count": 45,
   "id": "05bb4fa7-49d9-472f-8b1b-1efbf2ddd40e",
   "metadata": {},
   "outputs": [
    {
     "name": "stdout",
     "output_type": "stream",
     "text": [
      "\\begin{tabular}{rrrrrrrrrrrr}\n",
      "\\toprule\n",
      "  0  &  1  &    2  &    3  &    4  &    5  &   6  &  7  &    8  &    9  &    10 &    11 \\\\\n",
      "\\midrule\n",
      " 0.0 & 0.0 & 0.139 & 0.051 & 0.067 & 0.212 &  0.0 & 0.0 & 0.120 & 0.043 & 0.104 & 0.255 \\\\\n",
      " 0.0 & 0.0 & 0.038 & 0.050 & 0.058 & 0.188 &  0.0 & 0.0 & 0.047 & 0.053 & 0.073 & 0.222 \\\\\n",
      "-0.0 & 0.0 & 0.217 & 0.047 & 0.055 & 0.202 & -0.0 & 0.0 & 0.215 & 0.064 & 0.064 & 0.210 \\\\\n",
      "-0.0 & 0.0 & 0.185 & 0.048 & 0.148 & 0.310 & -0.0 & 0.0 & 0.174 & 0.057 & 0.048 & 0.158 \\\\\n",
      "-0.0 & 0.0 & 0.116 & 0.049 & 0.021 & 0.079 & -0.0 & 0.0 & 0.109 & 0.043 & 0.099 & 0.248 \\\\\n",
      " 0.0 & 0.0 & 0.046 & 0.055 & 0.074 & 0.227 &  0.0 & 0.0 & 0.065 & 0.059 & 0.060 & 0.182 \\\\\n",
      " 0.0 & 0.0 & 0.045 & 0.055 & 0.101 & 0.275 &  0.0 & 0.0 & 0.044 & 0.058 & 0.073 & 0.207 \\\\\n",
      " 0.0 & 0.0 & 0.032 & 0.039 & 0.080 & 0.227 &  0.0 & 0.0 & 0.043 & 0.047 & 0.145 & 0.316 \\\\\n",
      " 0.0 & 0.0 & 0.043 & 0.049 & 0.067 & 0.184 &  0.0 & 0.0 & 0.048 & 0.041 & 0.097 & 0.259 \\\\\n",
      " 1.0 & 0.0 & 0.028 & 0.042 & 0.138 & 0.292 &  1.0 & 0.0 & 0.042 & 0.049 & 0.106 & 0.250 \\\\\n",
      "-0.0 & 0.0 & 0.071 & 0.048 & 0.101 & 0.255 &  0.0 & 0.0 & 0.068 & 0.046 & 0.050 & 0.166 \\\\\n",
      " 0.0 & 0.0 & 0.040 & 0.053 & 0.090 & 0.254 &  0.0 & 0.0 & 0.025 & 0.051 & 0.083 & 0.212 \\\\\n",
      "\\bottomrule\n",
      "\\end{tabular}\n",
      "\n"
     ]
    }
   ],
   "source": [
    "print(pd.DataFrame(Country).to_latex(index=False))"
   ]
  },
  {
   "cell_type": "code",
   "execution_count": 46,
   "id": "101e87e6-2eb8-446b-9ce7-2ae58bab4028",
   "metadata": {},
   "outputs": [
    {
     "name": "stdout",
     "output_type": "stream",
     "text": [
      "\\begin{tabular}{rrrrrrrrrrrr}\n",
      "\\toprule\n",
      "  0  &  1  &    2  &    3  &    4  &    5  &   6  &  7  &    8  &    9  &    10 &    11 \\\\\n",
      "\\midrule\n",
      " 0.0 & 0.0 & 0.132 & 0.040 & 0.153 & 0.311 &  0.0 & 0.0 & 0.120 & 0.027 & 0.056 & 0.055 \\\\\n",
      " 0.0 & 0.0 & 0.004 & 0.044 & 0.005 & 0.009 &  0.0 & 0.0 & 0.030 & 0.036 & 0.050 & 0.053 \\\\\n",
      "-0.0 & 0.0 & 0.196 & 0.045 & 0.199 & 0.393 & -0.0 & 0.0 & 0.245 & 0.050 & 0.029 & 0.035 \\\\\n",
      "-0.0 & 0.0 & 0.186 & 0.052 & 0.007 & 0.014 & -0.0 & 0.0 & 0.166 & 0.021 & 0.071 & 0.145 \\\\\n",
      "-0.0 & 0.0 & 0.126 & 0.035 & 0.192 & 0.385 & -0.0 & 0.0 & 0.123 & 0.055 & 0.147 & 0.287 \\\\\n",
      "-0.0 & 0.0 & 0.045 & 0.038 & 0.183 & 0.356 &  0.0 & 0.0 & 0.036 & 0.029 & 0.261 & 0.327 \\\\\n",
      " 0.0 & 0.0 & 0.040 & 0.048 & 0.002 & 0.004 &  0.0 & 0.0 & 0.025 & 0.052 & 0.088 & 0.089 \\\\\n",
      " 0.0 & 0.0 & 0.041 & 0.044 & 0.024 & 0.057 &  0.0 & 0.0 & 0.057 & 0.047 & 0.035 & 0.042 \\\\\n",
      " 0.0 & 0.0 & 0.056 & 0.038 & 0.025 & 0.072 &  0.0 & 0.0 & 0.031 & 0.043 & 0.065 & 0.076 \\\\\n",
      " 1.0 & 0.0 & 0.056 & 0.063 & 0.100 & 0.292 &  1.0 & 0.0 & 0.037 & 0.051 & 0.115 & 0.139 \\\\\n",
      "-0.0 & 0.0 & 0.063 & 0.030 & 0.103 & 0.299 & -0.0 & 0.0 & 0.076 & 0.055 & 0.038 & 0.040 \\\\\n",
      " 0.0 & 0.0 & 0.056 & 0.058 & 0.007 & 0.010 &  0.0 & 0.0 & 0.054 & 0.048 & 0.046 & 0.092 \\\\\n",
      "\\bottomrule\n",
      "\\end{tabular}\n",
      "\n"
     ]
    }
   ],
   "source": [
    "print(pd.DataFrame(Year).to_latex(index=False))"
   ]
  },
  {
   "cell_type": "code",
   "execution_count": 47,
   "id": "18320bb9-d803-454c-be1f-0698a7f44ff2",
   "metadata": {},
   "outputs": [
    {
     "name": "stdout",
     "output_type": "stream",
     "text": [
      "\\begin{tabular}{rrrrrrrrrrrr}\n",
      "\\toprule\n",
      "  0  &  1  &    2  &    3  &    4  &    5  &   6  &  7  &    8  &    9  &    10 &    11 \\\\\n",
      "\\midrule\n",
      " 0.0 & 0.0 & 0.139 & 0.060 & 0.070 & 0.215 &  0.0 & 0.0 & 0.132 & 0.052 & 0.078 & 0.209 \\\\\n",
      " 0.0 & 0.0 & 0.029 & 0.047 & 0.070 & 0.211 &  0.0 & 0.0 & 0.039 & 0.052 & 0.055 & 0.170 \\\\\n",
      "-0.0 & 0.0 & 0.235 & 0.069 & 0.068 & 0.203 & -0.0 & 0.0 & 0.222 & 0.052 & 0.072 & 0.203 \\\\\n",
      "-0.0 & 0.0 & 0.168 & 0.060 & 0.093 & 0.249 & -0.0 & 0.0 & 0.177 & 0.048 & 0.110 & 0.264 \\\\\n",
      "-0.0 & 0.0 & 0.123 & 0.051 & 0.074 & 0.217 & -0.0 & 0.0 & 0.106 & 0.048 & 0.105 & 0.256 \\\\\n",
      " 0.0 & 0.0 & 0.051 & 0.046 & 0.063 & 0.197 &  0.0 & 0.0 & 0.051 & 0.052 & 0.107 & 0.267 \\\\\n",
      " 0.0 & 0.0 & 0.038 & 0.057 & 0.081 & 0.232 &  0.0 & 0.0 & 0.036 & 0.054 & 0.130 & 0.283 \\\\\n",
      " 0.0 & 0.0 & 0.024 & 0.049 & 0.073 & 0.201 &  0.0 & 0.0 & 0.038 & 0.053 & 0.072 & 0.210 \\\\\n",
      " 0.0 & 0.0 & 0.043 & 0.050 & 0.126 & 0.281 &  0.0 & 0.0 & 0.046 & 0.046 & 0.077 & 0.225 \\\\\n",
      " 1.0 & 0.0 & 0.038 & 0.054 & 0.091 & 0.239 &  1.0 & 0.0 & 0.038 & 0.047 & 0.093 & 0.249 \\\\\n",
      " 0.0 & 0.0 & 0.076 & 0.059 & 0.108 & 0.260 & -0.0 & 0.0 & 0.074 & 0.049 & 0.048 & 0.180 \\\\\n",
      " 0.0 & 0.0 & 0.038 & 0.057 & 0.085 & 0.237 &  0.0 & 0.0 & 0.041 & 0.049 & 0.054 & 0.171 \\\\\n",
      "\\bottomrule\n",
      "\\end{tabular}\n",
      "\n"
     ]
    }
   ],
   "source": [
    "print(pd.DataFrame(Rand).to_latex(index=False))"
   ]
  }
 ],
 "metadata": {
  "kernelspec": {
   "display_name": "Python 3",
   "language": "python",
   "name": "python3"
  },
  "language_info": {
   "codemirror_mode": {
    "name": "ipython",
    "version": 3
   },
   "file_extension": ".py",
   "mimetype": "text/x-python",
   "name": "python",
   "nbconvert_exporter": "python",
   "pygments_lexer": "ipython3",
   "version": "3.8.8"
  }
 },
 "nbformat": 4,
 "nbformat_minor": 5
}
