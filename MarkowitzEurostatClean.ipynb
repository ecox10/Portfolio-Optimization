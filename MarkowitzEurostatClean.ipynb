{
 "cells": [
  {
   "cell_type": "markdown",
   "id": "3004a0c0-02ee-44cc-bbe6-6abf940cefd0",
   "metadata": {},
   "source": [
    "# Markowitz Analysis on Eurostat Data\n",
    "Ellie Cox\n",
    "\n",
    "This file will conduct markowitz and black-litterman analysis on energy supply data retrieved from eurostat. \n",
    "First with the full data, then taking the average when excluding one country at a time, the average when excluding one year of data at a time, and lastly using a randomly selected 75\\% of the data"
   ]
  },
  {
   "cell_type": "markdown",
   "id": "111f91ab-04d2-412e-a77d-a5767b415b06",
   "metadata": {},
   "source": [
    "## Read Packages"
   ]
  },
  {
   "cell_type": "code",
   "execution_count": null,
   "id": "b30c777f-1a63-4c73-975d-d2e1697058c2",
   "metadata": {},
   "outputs": [],
   "source": [
    "import pandas as pd\n",
    "import numpy as np\n",
    "import matplotlib.pyplot as plt\n",
    "import pypfopt as pyp\n",
    "import math\n",
    "from pypfopt import risk_models\n",
    "from pypfopt import expected_returns\n",
    "from pypfopt import plotting\n",
    "import cvxopt as opt\n",
    "from cvxopt import blas, solvers\n",
    "import random\n",
    "import pickle\n",
    "solvers.options['show_progress'] = False"
   ]
  },
  {
   "cell_type": "markdown",
   "id": "65845eb8-c695-4299-bfe2-150d15b41135",
   "metadata": {},
   "source": [
    "## Read Data"
   ]
  },
  {
   "cell_type": "code",
   "execution_count": null,
   "id": "d42e4e89-2aaa-4448-bc07-e63608c38363",
   "metadata": {},
   "outputs": [],
   "source": [
    "# Read data using pandas\n",
    "data = pd.read_csv(\"/Users/elizabeth/Documents/Master's Project/Data/EU_TotalEnergySupply.csv\")\n",
    "\n",
    "# Create list of column names\n",
    "data.columns.values.tolist()\n",
    "# Rename columns to make life easier\n",
    "data.columns = [c.replace(' ', '_') for c in data.columns] # remove spaces\n",
    "data.columns = [c.replace('(', '') for c in data.columns] # remove open parenthesis\n",
    "data.columns = [c.replace(')', '') for c in data.columns] # remove close parenthesis\n",
    "data.columns.values.tolist()\n",
    "\n",
    "# Get rid of ':' and shorten other names\n",
    "data = data.replace([':'],'')\n",
    "data = data.replace(['European Union - 27 countries (from 2020)'],'EU')\n",
    "data = data.replace(['Euro area - 19 countries  (from 2015)'],'Euro area')\n",
    "data = data.replace(['Germany (until 1990 former territory of the FRG)'],'Germany')\n",
    "data = data.replace(['Kosovo (under United Nations Security Council Resolution 1244/99)'],'Kosovo')\n",
    "\n",
    "# Change Data type to numeric\n",
    "data[data.columns[2:]] = data[data.columns[2:]].apply(pd.to_numeric, errors ='coerce')"
   ]
  },
  {
   "cell_type": "markdown",
   "id": "3bf31692-ffa6-4b38-83e6-7f1fe1313eb0",
   "metadata": {},
   "source": [
    "## Make an optimizing function"
   ]
  },
  {
   "cell_type": "code",
   "execution_count": null,
   "id": "237e010a-6cb0-47ea-9d16-3fd3f2aed338",
   "metadata": {},
   "outputs": [],
   "source": [
    "def markowitz(ret_mat):\n",
    "    '''\n",
    "    Calculates the markowitz optimal portfolio weights, returns, and risks for one set of return data\n",
    "    returns are of shape: n_obs x n_assets\n",
    "    '''\n",
    "    n = len(ret_mat.T) # n assets\n",
    "    return_vec = np.array(ret_mat).T\n",
    "    \n",
    "    N = len(ret_mat) # n obs\n",
    "    mus = [10**(5.0 * t/N - 1.0) for t in range(N)] #[(1/n) + t/N for t in range(N)]\n",
    "    \n",
    "    # Convert to cvxopt matrices\n",
    "    S = opt.matrix(np.cov(return_vec))\n",
    "    pbar = opt.matrix(np.mean(return_vec, axis = 1))\n",
    "    \n",
    "    # Create constraint matrices\n",
    "    G = -opt.matrix(np.eye(n)) # negative nxn identity matrix\n",
    "    h = opt.matrix(0.0, (n,1))\n",
    "    A = opt.matrix(1.0, (1,n))\n",
    "    b = opt.matrix(1.0)\n",
    "    \n",
    "    # Calculate efficient frontier weights using quadratic programming\n",
    "    portfolios = [solvers.qp(mu*S, -pbar, G, h, A, b)['x']\n",
    "                  for mu in mus]\n",
    "    ## Calculate risk and returns for frontier\n",
    "    ret = [blas.dot(pbar, x) for x in portfolios]\n",
    "    risks = [np.sqrt(blas.dot(x, S*x)) for x in portfolios]\n",
    "    ## Calculate the 2nd degree polynomail of the frontier curve\n",
    "    m1 = np.polyfit(ret, risks, 2)\n",
    "    x1 = np.sqrt(m1[2] / m1[0])\n",
    "    ## Calculate the optimal portfolio\n",
    "    wt = solvers.qp(opt.matrix(x1 * S), -pbar, G, h, A, b)['x']\n",
    "    #ret = np.zeros((n,1))\n",
    "    #rsk = np.zeros((n,1))\n",
    "    #for j in range(n):\n",
    "    #    ret[j] = np.sum(wt[j] * return_vec[:,j])\n",
    "    #    rsk[j] = wt[j] * np.diagonal(np.cov(return_vec))[j] * wt[j]\n",
    "    return np.asarray(wt)#, ret, rsk"
   ]
  },
  {
   "cell_type": "markdown",
   "id": "86cd4329-1d80-46d8-8a8b-3c52dc6e3756",
   "metadata": {},
   "source": [
    "## Imputed Data\n",
    "Missing Data is handled in 2 ways:\n",
    "\n",
    "    1) Replacing missing data with the country's average\n",
    "    2) Dropping it"
   ]
  },
  {
   "cell_type": "code",
   "execution_count": null,
   "id": "e4320736-8ef9-486f-bd2a-13a5f9763213",
   "metadata": {},
   "outputs": [],
   "source": [
    "## 1) Impute data with the average\n",
    "frames = []\n",
    "for i in list(set(data['Country'])):\n",
    "            df_country = data[data['Country'] == i] \n",
    "            df_country['Total_GWH'].fillna(df_country['Total_GWH'].mean(),inplace = True)\n",
    "            df_country['Solid_fossil_fuels'].fillna(df_country['Solid_fossil_fuels'].mean(), inplace = True)\n",
    "            df_country['Peat_and_peat_products'].fillna(df_country['Peat_and_peat_products'].mean(), inplace = True)\n",
    "            df_country['Solar_Thermal'].fillna(df_country['Solar_Thermal'].mean(), inplace = True)\n",
    "            df_country['Oil_and_petroleum_products'].fillna(df_country['Oil_and_petroleum_products'].mean(), inplace = True)\n",
    "            df_country['Natural_gas'].fillna(df_country['Natural_gas'].mean(), inplace = True)\n",
    "            df_country['Renewables_and_biofuels'].fillna(df_country['Renewables_and_biofuels'].mean(), inplace = True)\n",
    "            df_country['Nuclear_heat'].fillna(df_country['Nuclear_heat'].mean(),inplace = True)\n",
    "            df_country['Hydro'].fillna(df_country['Hydro'].mean(),inplace = True)\n",
    "            df_country['Geothermal'].fillna(df_country['Geothermal'].mean(),inplace = True)\n",
    "            df_country['Ambient_Heat'].fillna(df_country['Ambient_Heat'].mean(),inplace = True)\n",
    "            df_country['Tide_wave_and_ocean'].fillna(df_country['Tide_wave_and_ocean'].mean(),inplace = True)\n",
    "            df_country['Wind'].fillna(df_country['Wind'].mean(),inplace = True)\n",
    "            df_country['Biofuels_solid'].fillna(df_country['Biofuels_solid'].mean(),inplace = True)\n",
    "            df_country['Biofuels_other'].fillna(df_country['Biofuels_other'].mean(),inplace = True)\n",
    "            df_country['Biofuels'].fillna(df_country['Biofuels'].mean(),inplace = True)\n",
    "            frames.append(df_country)\n",
    "            final_df = pd.concat(frames)\n",
    "#final_df[(final_df.Country == 'United Kingdom') & (final_df.Year == 2020)]\n",
    "data_impute = final_df"
   ]
  },
  {
   "cell_type": "code",
   "execution_count": null,
   "id": "bd04b3a2-8e52-4f63-9945-b93860cd684d",
   "metadata": {},
   "outputs": [],
   "source": [
    "cdat = data_impute.loc[:,['Solid_fossil_fuels','Peat_and_peat_products','Oil_and_petroleum_products', \n",
    "                          'Natural_gas', 'Nuclear_heat', 'Hydro', 'Solar_Thermal', 'Geothermal', \n",
    "                          'Ambient_Heat', 'Wind', 'Biofuels_solid', 'Biofuels_other']]"
   ]
  },
  {
   "cell_type": "markdown",
   "id": "f758303c-fc24-4bf7-b10b-f16fd0d32996",
   "metadata": {},
   "source": [
    "Full data"
   ]
  },
  {
   "cell_type": "code",
   "execution_count": null,
   "id": "09b206cc-5427-49ad-ba09-04e34abb6430",
   "metadata": {},
   "outputs": [],
   "source": [
    "n = len(cdat.T) # n assets\n",
    "returns = np.array(cdat).T\n",
    "    \n",
    "N = len(cdat) # n obs\n",
    "mus = [10**(5.0 * t/N - 1.0) for t in range(N)]#[(1/n) + t/N for t in range(N)]#\n",
    "    \n",
    "# Convert to cvxopt matrices\n",
    "S = opt.matrix(np.cov(returns))\n",
    "pbar = opt.matrix(np.mean(returns, axis = 1))\n",
    "    \n",
    "# Create constraint matrices\n",
    "G = -opt.matrix(np.eye(n)) # negative nxn identity matrix\n",
    "h = opt.matrix(0.0, (n,1))\n",
    "A = opt.matrix(1.0, (1,n))\n",
    "b = opt.matrix(1.0)\n",
    "    \n",
    "# Calculate efficient frontier weights using quadratic programming\n",
    "portfolios = [solvers.qp(mu*S, -pbar, G, h, A, b)['x']\n",
    "                  for mu in mus]\n",
    "## Calculate risk and returns for frontier\n",
    "ret = [blas.dot(pbar, x) for x in portfolios]\n",
    "risks = [np.sqrt(blas.dot(x, S*x)) for x in portfolios]\n",
    "## Calculate the 2nd degree polynomail of the frontier curve\n",
    "m1 = np.polyfit(ret, risks, 2)\n",
    "x1 = np.sqrt(m1[2] / m1[0])\n",
    "## Calculate the optimal portfolio\n",
    "wt = solvers.qp(opt.matrix(x1 * S), -pbar, G, h, A, b)['x']\n",
    "ret = np.zeros((n,1))\n",
    "rsk = np.zeros((n,1))\n",
    "for j in range(n):\n",
    "    ret[j] = 1/n * np.sum(wt[j] * np.asmatrix(returns)[:,j])\n",
    "    rsk[j] = 1/N * np.sum(1/n * np.sum(np.asmatrix(risks)[:,j]))\n"
   ]
  },
  {
   "cell_type": "markdown",
   "id": "fa34e3ce-27c9-467d-813d-75098362533d",
   "metadata": {},
   "source": [
    "Exclude one country at a time"
   ]
  },
  {
   "cell_type": "code",
   "execution_count": null,
   "id": "026c2ac5-1ce7-4a1f-a122-183e4bece66d",
   "metadata": {},
   "outputs": [],
   "source": [
    "cdat = data_impute.loc[:,['Country','Year','Solid_fossil_fuels','Peat_and_peat_products','Oil_and_petroleum_products', \n",
    "                          'Natural_gas', 'Nuclear_heat', 'Hydro', 'Solar_Thermal', 'Geothermal', \n",
    "                          'Ambient_Heat', 'Tide_wave_and_ocean', 'Biofuels_solid', 'Biofuels_other']]"
   ]
  },
  {
   "cell_type": "code",
   "execution_count": null,
   "id": "a8ca8d21-b2f3-4b87-b2cc-baaa67bec7ad",
   "metadata": {},
   "outputs": [],
   "source": [
    "weight_country = np.zeros((len(data_impute.groupby('Country')),len(cdat.T)-2))\n",
    "return_res = np.zeros((len(data_impute.groupby('Country')),len(cdat.T)-2))\n",
    "risks_res = np.zeros((len(data_impute.groupby('Country')),len(cdat.T)-2))\n",
    "\n",
    "for i in range(len(data_impute.groupby('Country'))):\n",
    "    country_dat = cdat.loc[(cdat.Country != cdat.Country.unique()[i])]\n",
    "    country_dat = country_dat.loc[:,['Solid_fossil_fuels','Peat_and_peat_products','Oil_and_petroleum_products', \n",
    "                          'Natural_gas', 'Nuclear_heat', 'Hydro', 'Solar_Thermal', 'Geothermal', \n",
    "                          'Ambient_Heat', 'Tide_wave_and_ocean', 'Biofuels_solid', 'Biofuels_other']]\n",
    "    weights = markowitz(country_dat)\n",
    "    weight_country[i,:] = weights.T\n",
    "    return_res[i,:] = np.array(returns).T\n",
    "    risks_res[i,:] = np.array(risks).T"
   ]
  },
  {
   "cell_type": "markdown",
   "id": "ce58cc8e-7173-440f-91c0-6b9a4cbd95fa",
   "metadata": {},
   "source": [
    "Exclude one year at a time"
   ]
  },
  {
   "cell_type": "code",
   "execution_count": null,
   "id": "9f891b92-9b89-4690-b093-165aff4bb14a",
   "metadata": {},
   "outputs": [],
   "source": [
    "weight_year = np.zeros((len(data_impute.groupby('Year')),len(cdat.T)-2))\n",
    "return_res = np.zeros((len(data_impute.groupby('Year')),len(cdat.T)-2))\n",
    "risks_res = np.zeros((len(data_impute.groupby('Year')),len(cdat.T)-2))\n",
    "\n",
    "for i in range(len(data_impute.groupby('Year'))):\n",
    "    year_dat = cdat.loc[(cdat.Year != cdat.Year.unique()[i])]\n",
    "    year_dat = year_dat.loc[:,['Solid_fossil_fuels','Peat_and_peat_products','Oil_and_petroleum_products', \n",
    "                          'Natural_gas', 'Nuclear_heat', 'Hydro', 'Solar_Thermal', 'Geothermal', \n",
    "                          'Ambient_Heat', 'Tide_wave_and_ocean', 'Biofuels_solid', 'Biofuels_other']]\n",
    "    weights = markowitz(year_dat)\n",
    "    weight_year[i,:] = weights.T\n",
    "    return_res[i,:] = np.array(returns).T\n",
    "    risks_res[i,:] = np.array(risks).T"
   ]
  },
  {
   "cell_type": "markdown",
   "id": "ff561ebd-b5a2-493a-9cf1-7e3973c546bc",
   "metadata": {},
   "source": [
    "Drop random 20% of data"
   ]
  },
  {
   "cell_type": "code",
   "execution_count": null,
   "id": "3650bae5-77c6-4ce7-a959-ebd3bfb78a87",
   "metadata": {},
   "outputs": [],
   "source": [
    "weight = np.zeros((100,len(cdat.T)))\n",
    "return_res = np.zeros((100,len(cdat.T)))\n",
    "risks_res = np.zeros((100,len(cdat.T)))\n",
    "\n",
    "for i in range(100):\n",
    "    \n",
    "    # Randomly take out 20% of the data\n",
    "    _80_perct = int(cdat.shape[0]*4/5)\n",
    "    cdat = cdat.iloc[random.sample(list(range(cdat.shape[0])), _80_perct)]\n",
    "    data = cdat.loc[:,['Solid_fossil_fuels','Peat_and_peat_products','Oil_and_petroleum_products', \n",
    "                          'Natural_gas', 'Nuclear_heat', 'Hydro', 'Solar_Thermal', 'Geothermal', \n",
    "                          'Ambient_Heat', 'Tide_wave_and_ocean', 'Biofuels_solid', 'Biofuels_other']]\n",
    "    \n",
    "    weights = markowitz(data)\n",
    "    weight[i,:] = weights.T\n",
    "    return_res[i,:] = np.array(returns).T\n",
    "    risks_res[i,:] = np.array(risks).T"
   ]
  },
  {
   "cell_type": "markdown",
   "id": "d832aa1b-67a0-4b93-9da9-f4a3e7f828bc",
   "metadata": {},
   "source": [
    "## Dropped data"
   ]
  },
  {
   "cell_type": "code",
   "execution_count": null,
   "id": "b6565579-1439-4ea3-b3d1-f49e9b0e4a23",
   "metadata": {},
   "outputs": [],
   "source": [
    "data_drop = data.dropna()"
   ]
  },
  {
   "cell_type": "code",
   "execution_count": null,
   "id": "1084e88a-24b1-45c0-9d7f-374757fefc60",
   "metadata": {},
   "outputs": [],
   "source": [
    "cdat = data_drop.loc[:,['Solid_fossil_fuels','Peat_and_peat_products','Oil_and_petroleum_products', \n",
    "                          'Natural_gas', 'Nuclear_heat', 'Hydro', 'Solar_Thermal', 'Geothermal', \n",
    "                          'Ambient_Heat', 'Tide_wave_and_ocean', 'Biofuels_solid', 'Biofuels_other']]\n"
   ]
  },
  {
   "cell_type": "markdown",
   "id": "74d07a4e-faaf-45fa-a840-f5145e9eee75",
   "metadata": {},
   "source": [
    "Full data"
   ]
  },
  {
   "cell_type": "code",
   "execution_count": null,
   "id": "9659d4d9-960f-428b-ae8c-db9395a910f7",
   "metadata": {},
   "outputs": [],
   "source": [
    "n = len(cdat.T) # n assets\n",
    "returns = np.array(cdat).T\n",
    "    \n",
    "N = len(cdat) # n obs\n",
    "mus = [(1/n) + t/N for t in range(N)]#[np.mean(returns, axis=0)]#[10**(5.0 * t/N - 1.0) for t in range(N)]\n",
    "    \n",
    "# Convert to cvxopt matrices\n",
    "S = opt.matrix(np.cov(returns))\n",
    "pbar = opt.matrix(np.mean(returns, axis = 1))\n",
    "    \n",
    "# Create constraint matrices\n",
    "G = -opt.matrix(np.eye(n)) # negative nxn identity matrix\n",
    "h = opt.matrix(0.0, (n,1))\n",
    "A = opt.matrix(1.0, (1,n))\n",
    "b = opt.matrix(1.0)\n",
    "    \n",
    "# Calculate efficient frontier weights using quadratic programming\n",
    "portfolios = [solvers.qp(mu*S, -pbar, G, h, A, b)['x']\n",
    "                  for mu in mus]\n",
    "## Calculate risk and returns for frontier\n",
    "ret = [blas.dot(pbar, x) for x in portfolios]\n",
    "risks = [np.sqrt(blas.dot(x, S*x)) for x in portfolios]\n",
    "## Calculate the 2nd degree polynomail of the frontier curve\n",
    "m1 = np.polyfit(ret, risks, 2)\n",
    "x1 = np.sqrt(m1[2] / m1[0])\n",
    "## Calculate the optimal portfolio\n",
    "weight_full_drop = solvers.qp(opt.matrix(x1 * S), -pbar, G, h, A, b)['x']\n",
    "ret = np.zeros((n,1))\n",
    "rsk = np.zeros((n,1))\n",
    "for j in range(n):\n",
    "    ret[j] = np.sum(np.array(wt)[j] * np.mean(returns, axis = 1))\n",
    "    rsk = wt.T @ np.cov(returns) @ wt"
   ]
  },
  {
   "cell_type": "markdown",
   "id": "6928af75-3206-4638-bc36-cf46216b2ff0",
   "metadata": {},
   "source": [
    "Drop one country at a time"
   ]
  },
  {
   "cell_type": "code",
   "execution_count": null,
   "id": "6660ce1f-4587-4ffe-abaa-972b7e6d2fc9",
   "metadata": {},
   "outputs": [],
   "source": [
    "cdat = data_drop.loc[:,['Country','Year','Solid_fossil_fuels','Peat_and_peat_products','Oil_and_petroleum_products', \n",
    "                          'Natural_gas', 'Nuclear_heat', 'Hydro', 'Solar_Thermal', 'Geothermal', \n",
    "                          'Ambient_Heat', 'Tide_wave_and_ocean', 'Biofuels_solid', 'Biofuels_other']]"
   ]
  },
  {
   "cell_type": "code",
   "execution_count": null,
   "id": "62ed8dcd-fe79-4a4a-971c-0013f6dd5d7f",
   "metadata": {},
   "outputs": [],
   "source": [
    "weight_country_drop = np.zeros((len(data.groupby('Country')),len(cdat.T)-2))\n",
    "return_res = np.zeros((len(data.groupby('Country')),len(cdat.T)-2))\n",
    "risks_res = np.zeros((len(data.groupby('Country')),len(cdat.T)-2))\n",
    "\n",
    "for i in range(len(data.groupby('Country'))):\n",
    "    country_dat = cdat.loc[(cdat.Country != cdat.Country.unique()[i])]\n",
    "    country_dat = country_dat.loc[:,['Solid_fossil_fuels','Peat_and_peat_products','Oil_and_petroleum_products', \n",
    "                          'Natural_gas', 'Nuclear_heat', 'Hydro', 'Solar_Thermal', 'Geothermal', \n",
    "                          'Ambient_Heat', 'Tide_wave_and_ocean', 'Biofuels_solid', 'Biofuels_other']]\n",
    "    weights = markowitz(country_dat)\n",
    "    weight_country_drop[i,:] = weights.T\n",
    "    return_res[i,:] = np.array(returns).T\n",
    "    risks_res[i,:] = np.array(risks).T"
   ]
  },
  {
   "cell_type": "markdown",
   "id": "47980af7-c6c5-426a-87f6-a3629a93c02a",
   "metadata": {},
   "source": [
    "Drop one year at a time"
   ]
  },
  {
   "cell_type": "code",
   "execution_count": null,
   "id": "5827ea63-e50a-443d-ba3f-5ddda2777953",
   "metadata": {},
   "outputs": [],
   "source": [
    "weight_year_drop = np.zeros((len(data.groupby('Year')),len(cdat.T)-2))\n",
    "return_res = np.zeros((len(data.groupby('Year')),len(cdat.T)-2))\n",
    "risks_res = np.zeros((len(data.groupby('Year')),len(cdat.T)-2))\n",
    "\n",
    "for i in range(len(data.groupby('Year'))):\n",
    "    year_dat = cdat.loc[(cdat.Year != cdat.Year.unique()[i])]\n",
    "    year_dat = year_dat.loc[:,['Solid_fossil_fuels','Peat_and_peat_products','Oil_and_petroleum_products', \n",
    "                          'Natural_gas', 'Nuclear_heat', 'Hydro', 'Solar_Thermal', 'Geothermal', \n",
    "                          'Ambient_Heat', 'Tide_wave_and_ocean', 'Biofuels_solid', 'Biofuels_other']]\n",
    "    weights = markowitz(year_dat)\n",
    "    weight_year_drop[i,:] = weights.T\n",
    "    return_res[i,:] = np.array(returns).T\n",
    "    risks_res[i,:] = np.array(risks).T"
   ]
  },
  {
   "cell_type": "markdown",
   "id": "2faa9a63-e9b8-41af-869f-823a878d4c5a",
   "metadata": {},
   "source": [
    "Drop random 20% of data"
   ]
  },
  {
   "cell_type": "code",
   "execution_count": null,
   "id": "de84d19f-5447-4953-b14d-7d634afc8d3d",
   "metadata": {},
   "outputs": [],
   "source": [
    "weight = np.zeros((100,len(cdat.T)))\n",
    "return_res = np.zeros((100,len(cdat.T)))\n",
    "risks_res = np.zeros((100,len(cdat.T)))\n",
    "\n",
    "for i in range(100):\n",
    "    \n",
    "    # Randomly take out 20% of the data\n",
    "    _80_perct = int(cdat.shape[0]*4/5)\n",
    "    cdat = cdat.iloc[random.sample(list(range(cdat.shape[0])), _80_perct)]\n",
    "    data = cdat.loc[:,['Solid_fossil_fuels','Peat_and_peat_products','Oil_and_petroleum_products', \n",
    "                          'Natural_gas', 'Nuclear_heat', 'Hydro', 'Solar_Thermal', 'Geothermal', \n",
    "                          'Ambient_Heat', 'Tide_wave_and_ocean', 'Biofuels_solid', 'Biofuels_other']]\n",
    "    \n",
    "    weights = markowitz(data)\n",
    "    weight[i,:] = weights.T\n",
    "    #return_res[i,:] = np.array(returns).T\n",
    "    #risks_res[i,:] = np.array(risks).T"
   ]
  },
  {
   "cell_type": "markdown",
   "id": "c7788deb-83fa-43c5-9cfc-aaada9394ba9",
   "metadata": {},
   "source": [
    "## Save results"
   ]
  },
  {
   "cell_type": "code",
   "execution_count": null,
   "id": "54c9d9e2-294c-47a6-aaac-46a168ec4d4c",
   "metadata": {},
   "outputs": [],
   "source": [
    "MarkowitzResults_Weights = [weight_full, weight_country, weight_year, weight_rand, \n",
    "                              weight_full_drop, weight_country_drop, weight_year_drop, weight_rand_drop]\n",
    "\n",
    "file_name = \"EUMarkowitzResultsWeights.pkl\"\n",
    "open_file = open(file_name, \"wb\")\n",
    "pickle.dump(MarkowitzResults_Weights, open_file)\n",
    "open_file.close()"
   ]
  }
 ],
 "metadata": {
  "kernelspec": {
   "display_name": "Python 3",
   "language": "python",
   "name": "python3"
  },
  "language_info": {
   "codemirror_mode": {
    "name": "ipython",
    "version": 3
   },
   "file_extension": ".py",
   "mimetype": "text/x-python",
   "name": "python",
   "nbconvert_exporter": "python",
   "pygments_lexer": "ipython3",
   "version": "3.8.8"
  }
 },
 "nbformat": 4,
 "nbformat_minor": 5
}
