{
 "cells": [
  {
   "cell_type": "markdown",
   "id": "01c6d7c4-a2dc-4ca3-ac00-07357282529b",
   "metadata": {},
   "source": [
    "# Create Data\n",
    "Create data to save and run for each method instead of using seeds which makes me nervous"
   ]
  },
  {
   "cell_type": "code",
   "execution_count": 66,
   "id": "957c16b5-44bb-42cb-a4ab-8bf9d9639bb7",
   "metadata": {},
   "outputs": [],
   "source": [
    "import numpy as np\n",
    "import pickle\n",
    "import random"
   ]
  },
  {
   "cell_type": "markdown",
   "id": "44df9cb3-1098-4140-b2c4-6d8b6961e6f6",
   "metadata": {},
   "source": [
    "## Correlated"
   ]
  },
  {
   "cell_type": "code",
   "execution_count": 54,
   "id": "73f27575-03ff-4fc9-9799-4ce1f25eae3d",
   "metadata": {},
   "outputs": [
    {
     "name": "stderr",
     "output_type": "stream",
     "text": [
      "<ipython-input-54-a8a0549f6288>:10: RuntimeWarning: covariance is not positive-semidefinite.\n",
      "  data_n4_corr[i] = rng.multivariate_normal(np.zeros(n_assets), cov = r, size = n_obs) + 5.0\n"
     ]
    }
   ],
   "source": [
    "## n = 4 assets, with positive correlation\n",
    "n_assets = 4\n",
    "n_obs = 1000\n",
    "r = np.random.uniform(0.8, 0.9, (n_assets,n_assets))\n",
    "np.fill_diagonal(r, 1)\n",
    "\n",
    "data_n4_corr = np.empty([100,n_obs, n_assets])\n",
    "for i in range(100):\n",
    "    rng = np.random.default_rng()\n",
    "    data_n4_corr[i] = rng.multivariate_normal(np.zeros(n_assets), cov = r, size = n_obs) + 5.0"
   ]
  },
  {
   "cell_type": "code",
   "execution_count": 55,
   "id": "db30078f-f2ec-4b5d-970c-12ff24593791",
   "metadata": {},
   "outputs": [
    {
     "name": "stderr",
     "output_type": "stream",
     "text": [
      "<ipython-input-55-e57106e924ae>:10: RuntimeWarning: covariance is not positive-semidefinite.\n",
      "  data_n8_corr[i] = rng.multivariate_normal(np.zeros(n_assets), cov = r, size = n_obs) + 5.0\n"
     ]
    }
   ],
   "source": [
    "## n = 8 assets, with positive correlation\n",
    "n_assets = 8\n",
    "n_obs = 1000\n",
    "r = np.random.uniform(0.8, 0.9, (n_assets,n_assets))\n",
    "np.fill_diagonal(r, 1)\n",
    "\n",
    "data_n8_corr = np.empty([100,n_obs,n_assets])\n",
    "for i in range(100):\n",
    "    rng = np.random.default_rng()\n",
    "    data_n8_corr[i] = rng.multivariate_normal(np.zeros(n_assets), cov = r, size = n_obs) + 5.0"
   ]
  },
  {
   "cell_type": "code",
   "execution_count": 56,
   "id": "23c14628-17b4-446d-a2be-d363980e10ac",
   "metadata": {},
   "outputs": [
    {
     "name": "stderr",
     "output_type": "stream",
     "text": [
      "<ipython-input-56-a5018f175c69>:10: RuntimeWarning: covariance is not positive-semidefinite.\n",
      "  data_n16_corr[i] = rng.multivariate_normal(np.zeros(n_assets), cov = r, size = n_obs) + 5.0\n"
     ]
    }
   ],
   "source": [
    "# n = 16 assets with positive correlation\n",
    "n_assets = 4\n",
    "n_obs = 1000\n",
    "r = np.random.uniform(0.8, 0.9, (n_assets,n_assets))\n",
    "np.fill_diagonal(r, 1)\n",
    "\n",
    "data_n16_corr = np.empty([100,n_obs,n_assets])\n",
    "for i in range(100):\n",
    "    rng = np.random.default_rng()\n",
    "    data_n16_corr[i] = rng.multivariate_normal(np.zeros(n_assets), cov = r, size = n_obs) + 5.0"
   ]
  },
  {
   "cell_type": "markdown",
   "id": "4626b9a9-1f87-4003-9c79-e027b95979a6",
   "metadata": {},
   "source": [
    "## Independent Assets"
   ]
  },
  {
   "cell_type": "code",
   "execution_count": 57,
   "id": "a808f170-bb55-4226-98a6-38434a6ad006",
   "metadata": {},
   "outputs": [],
   "source": [
    "# n = 4 assets that are independent\n",
    "n_assets = 4\n",
    "n_obs = 1000\n",
    "r = np.eye(n_assets)\n",
    "\n",
    "data_n4_ind = np.empty([100,n_obs,n_assets])\n",
    "for i in range(100):\n",
    "    rng = np.random.default_rng()\n",
    "    data_n4_ind[i] = rng.multivariate_normal(np.zeros(n_assets), cov = r, size = n_obs) + 5.0"
   ]
  },
  {
   "cell_type": "code",
   "execution_count": 58,
   "id": "bc026244-0348-45ea-80f3-486982855a28",
   "metadata": {},
   "outputs": [],
   "source": [
    "# n = 8 assets that are independent\n",
    "n_assets = 8\n",
    "n_obs = 1000\n",
    "r = np.eye(n_assets)\n",
    "\n",
    "data_n8_ind = np.empty([100,n_obs,n_assets])\n",
    "for i in range(100):\n",
    "    rng = np.random.default_rng()\n",
    "    data_n8_ind[i] = rng.multivariate_normal(np.zeros(n_assets), cov = r, size = n_obs) + 5.0"
   ]
  },
  {
   "cell_type": "code",
   "execution_count": 59,
   "id": "e68aaacf-ee4e-4ff9-8464-d2de6453931e",
   "metadata": {},
   "outputs": [],
   "source": [
    "# n = 16 assets that are independent\n",
    "n_assets = 16\n",
    "n_obs = 1000\n",
    "r = np.eye(n_assets)\n",
    "\n",
    "data_n16_ind = np.empty([100,n_obs,n_assets])\n",
    "for i in range(100):\n",
    "    rng = np.random.default_rng()\n",
    "    data_n16_ind[i] = rng.multivariate_normal(np.zeros(n_assets), cov = r, size = n_obs) + 5.0"
   ]
  },
  {
   "cell_type": "markdown",
   "id": "bfd2e85b-3d8d-4eb5-93e9-1dfb086f7333",
   "metadata": {},
   "source": [
    "## Negatively Correlated"
   ]
  },
  {
   "cell_type": "code",
   "execution_count": 60,
   "id": "e578fef1-2ba1-4b0c-9a34-225e04560147",
   "metadata": {},
   "outputs": [
    {
     "name": "stderr",
     "output_type": "stream",
     "text": [
      "<ipython-input-60-a38e1ed03ba5>:10: RuntimeWarning: covariance is not positive-semidefinite.\n",
      "  data_n4_neg[i] = rng.multivariate_normal(np.zeros(n_assets), cov = r, size = n_obs) + 5.0\n"
     ]
    }
   ],
   "source": [
    "# n = 4 assets that are negatively correlated\n",
    "n_assets = 4\n",
    "n_obs = 1000\n",
    "r = np.random.uniform(-0.8, -0.5, (n_assets,n_assets))\n",
    "np.fill_diagonal(r, 1)\n",
    "\n",
    "data_n4_neg = np.empty([100,n_obs,n_assets])\n",
    "for i in range(100):\n",
    "    rng = np.random.default_rng()\n",
    "    data_n4_neg[i] = rng.multivariate_normal(np.zeros(n_assets), cov = r, size = n_obs) + 5.0"
   ]
  },
  {
   "cell_type": "code",
   "execution_count": 61,
   "id": "abf1be51-e32d-45eb-98a3-4108d6b1d385",
   "metadata": {},
   "outputs": [
    {
     "name": "stderr",
     "output_type": "stream",
     "text": [
      "<ipython-input-61-d1fc8b71ff3e>:10: RuntimeWarning: covariance is not positive-semidefinite.\n",
      "  data_n8_neg[i] = rng.multivariate_normal(np.zeros(n_assets), cov = r, size = n_obs) + 5.0\n"
     ]
    }
   ],
   "source": [
    "# n = 8 assets that are negatively correlated\n",
    "n_assets = 8\n",
    "n_obs = 1000\n",
    "r = np.random.uniform(-0.8, -0.5, (n_assets,n_assets))\n",
    "np.fill_diagonal(r, 1)\n",
    "\n",
    "data_n8_neg = np.empty([100,n_obs,n_assets])\n",
    "for i in range(100):\n",
    "    rng = np.random.default_rng()\n",
    "    data_n8_neg[i] = rng.multivariate_normal(np.zeros(n_assets), cov = r, size = n_obs) + 5.0"
   ]
  },
  {
   "cell_type": "code",
   "execution_count": 62,
   "id": "da8d11df-3ca2-4256-a271-97df0d014c63",
   "metadata": {},
   "outputs": [
    {
     "name": "stderr",
     "output_type": "stream",
     "text": [
      "<ipython-input-62-ad97e49d5a59>:10: RuntimeWarning: covariance is not positive-semidefinite.\n",
      "  data_n16_neg[i] = rng.multivariate_normal(np.zeros(n_assets), cov = r, size = n_obs) + 5.0\n"
     ]
    }
   ],
   "source": [
    "# n = 16 assets that are negatively correlated\n",
    "n_assets = 16\n",
    "n_obs = 1000\n",
    "r = np.random.uniform(-0.8, -0.5, (n_assets,n_assets))\n",
    "np.fill_diagonal(r, 1)\n",
    "\n",
    "data_n16_neg = np.empty([100,n_obs,n_assets])\n",
    "for i in range(100):\n",
    "    rng = np.random.default_rng()\n",
    "    data_n16_neg[i] = rng.multivariate_normal(np.zeros(n_assets), cov = r, size = n_obs) + 5.0"
   ]
  },
  {
   "cell_type": "markdown",
   "id": "2a73d93d-ec0e-455b-b1eb-06e1b8b5aa62",
   "metadata": {},
   "source": [
    "## Save all this data"
   ]
  },
  {
   "cell_type": "code",
   "execution_count": 63,
   "id": "f9331f00-b8c3-4458-95ed-9492e3f0b7bc",
   "metadata": {},
   "outputs": [],
   "source": [
    "Data = [data_n4_corr, data_n8_corr, data_n16_corr, data_n4_ind, data_n8_ind, data_n8_ind, \n",
    "           data_n16_ind, data_n4_neg, data_n8_neg, data_n16_neg]\n",
    "\n",
    "file_name = \"PortfolioOptimizationData.pkl\"\n",
    "open_file = open(file_name, \"wb\")\n",
    "pickle.dump(Data, open_file)\n",
    "open_file.close()"
   ]
  },
  {
   "cell_type": "markdown",
   "id": "3e78d098-cb9d-4ee9-8357-da84f2204abf",
   "metadata": {},
   "source": [
    "# Repeat the entire thing with zeros"
   ]
  },
  {
   "cell_type": "markdown",
   "id": "5272d22c-b528-486c-8d24-5cae7f26e40d",
   "metadata": {},
   "source": [
    "# Correlated"
   ]
  },
  {
   "cell_type": "code",
   "execution_count": 69,
   "id": "f9bcc1e5-15c6-4758-9f1d-83dcde43b347",
   "metadata": {},
   "outputs": [
    {
     "name": "stderr",
     "output_type": "stream",
     "text": [
      "<ipython-input-69-6866623710f3>:10: RuntimeWarning: covariance is not positive-semidefinite.\n",
      "  data_n4_corr_os[i] = rng.multivariate_normal(np.zeros(n_assets), cov = r, size = n_obs) + 5.0\n"
     ]
    }
   ],
   "source": [
    "## n = 4 assets, with positive correlation\n",
    "n_assets = 4\n",
    "n_obs = 1000\n",
    "r = np.random.uniform(0.8, 0.9, (n_assets,n_assets))\n",
    "np.fill_diagonal(r, 1)\n",
    "\n",
    "data_n4_corr_os = np.empty([100,n_obs, n_assets])\n",
    "for i in range(100):\n",
    "    rng = np.random.default_rng()\n",
    "    data_n4_corr_os[i] = rng.multivariate_normal(np.zeros(n_assets), cov = r, size = n_obs) + 5.0\n",
    "    _75_perct = int(len(data_n4_corr_os[i][:,0])*3/4)\n",
    "    data_n4_corr_os[i][random.sample(list(range(1000)), _75_perct),0] = 0\n",
    "    np.random.seed(i*5)\n",
    "    data_n4_corr_os[i][random.sample(list(range(1000)), _75_perct),1] = 0"
   ]
  },
  {
   "cell_type": "code",
   "execution_count": 70,
   "id": "a0b1f0d0-ec37-4447-a066-7781293ea14a",
   "metadata": {},
   "outputs": [
    {
     "name": "stderr",
     "output_type": "stream",
     "text": [
      "<ipython-input-70-d4a06ae51316>:10: RuntimeWarning: covariance is not positive-semidefinite.\n",
      "  data_n8_corr_os[i] = rng.multivariate_normal(np.zeros(n_assets), cov = r, size = n_obs) + 5.0\n"
     ]
    }
   ],
   "source": [
    "## n = 8 assets, with positive correlation\n",
    "n_assets = 8\n",
    "n_obs = 1000\n",
    "r = np.random.uniform(0.8, 0.9, (n_assets,n_assets))\n",
    "np.fill_diagonal(r, 1)\n",
    "\n",
    "data_n8_corr_os = np.empty([100,n_obs, n_assets])\n",
    "for i in range(100):\n",
    "    rng = np.random.default_rng()\n",
    "    data_n8_corr_os[i] = rng.multivariate_normal(np.zeros(n_assets), cov = r, size = n_obs) + 5.0\n",
    "    _75_perct = int(len(data_n8_corr_os[i][:,0])*3/4)\n",
    "    data_n8_corr_os[i][random.sample(list(range(1000)), _75_perct),0] = 0\n",
    "    np.random.seed(i*5)\n",
    "    data_n8_corr_os[i][random.sample(list(range(1000)), _75_perct),1] = 0"
   ]
  },
  {
   "cell_type": "code",
   "execution_count": 71,
   "id": "a6d401cb-a8eb-4980-81c9-f5ead85396f9",
   "metadata": {},
   "outputs": [
    {
     "name": "stderr",
     "output_type": "stream",
     "text": [
      "<ipython-input-71-cf63a403438b>:10: RuntimeWarning: covariance is not positive-semidefinite.\n",
      "  data_n16_corr_os[i] = rng.multivariate_normal(np.zeros(n_assets), cov = r, size = n_obs) + 5.0\n"
     ]
    }
   ],
   "source": [
    "## n = 16 assets, with positive correlation\n",
    "n_assets = 4\n",
    "n_obs = 1000\n",
    "r = np.random.uniform(0.8, 0.9, (n_assets,n_assets))\n",
    "np.fill_diagonal(r, 1)\n",
    "\n",
    "data_n16_corr_os = np.empty([100,n_obs, n_assets])\n",
    "for i in range(100):\n",
    "    rng = np.random.default_rng()\n",
    "    data_n16_corr_os[i] = rng.multivariate_normal(np.zeros(n_assets), cov = r, size = n_obs) + 5.0\n",
    "    _75_perct = int(len(data_n16_corr_os[i][:,0])*3/4)\n",
    "    data_n16_corr_os[i][random.sample(list(range(1000)), _75_perct),0] = 0\n",
    "    np.random.seed(i*5)\n",
    "    data_n16_corr_os[i][random.sample(list(range(1000)), _75_perct),1] = 0"
   ]
  },
  {
   "cell_type": "markdown",
   "id": "ba6943b5-66d4-4692-9649-c610d26f7df9",
   "metadata": {},
   "source": [
    "## Independent"
   ]
  },
  {
   "cell_type": "code",
   "execution_count": 72,
   "id": "4197f81a-981e-4929-8c0f-49c6432d0125",
   "metadata": {},
   "outputs": [],
   "source": [
    "## n = 4 assets with independent assets\n",
    "n_assets = 4\n",
    "n_obs = 1000\n",
    "r = np.eye(n_assets)\n",
    "\n",
    "data_n4_ind_os = np.empty([100,n_obs, n_assets])\n",
    "for i in range(100):\n",
    "    rng = np.random.default_rng()\n",
    "    data_n4_ind_os[i] = rng.multivariate_normal(np.zeros(n_assets), cov = r, size = n_obs) + 5.0\n",
    "    _75_perct = int(len(data_n4_ind_os[i][:,0])*3/4)\n",
    "    data_n4_ind_os[i][random.sample(list(range(1000)), _75_perct),0] = 0\n",
    "    np.random.seed(i*5)\n",
    "    data_n4_ind_os[i][random.sample(list(range(1000)), _75_perct),1] = 0"
   ]
  },
  {
   "cell_type": "code",
   "execution_count": 73,
   "id": "8f902ab7-98e1-424d-827f-22324aa8d8b2",
   "metadata": {},
   "outputs": [],
   "source": [
    "## n = 8 assets with independent assets\n",
    "n_assets = 4\n",
    "n_obs = 1000\n",
    "r = np.eye(n_assets)\n",
    "\n",
    "data_n8_ind_os = np.empty([100,n_obs, n_assets])\n",
    "for i in range(100):\n",
    "    rng = np.random.default_rng()\n",
    "    data_n8_ind_os[i] = rng.multivariate_normal(np.zeros(n_assets), cov = r, size = n_obs) + 5.0\n",
    "    _75_perct = int(len(data_n8_ind_os[i][:,0])*3/4)\n",
    "    data_n8_ind_os[i][random.sample(list(range(1000)), _75_perct),0] = 0\n",
    "    np.random.seed(i*5)\n",
    "    data_n8_ind_os[i][random.sample(list(range(1000)), _75_perct),1] = 0"
   ]
  },
  {
   "cell_type": "code",
   "execution_count": 74,
   "id": "cd3b49ba-42de-4b92-bcaa-72ca3fa8bd76",
   "metadata": {},
   "outputs": [],
   "source": [
    "## n = 16 assets with independent assets\n",
    "n_assets = 4\n",
    "n_obs = 1000\n",
    "r = np.eye(n_assets)\n",
    "\n",
    "data_n16_ind_os = np.empty([100,n_obs, n_assets])\n",
    "for i in range(100):\n",
    "    rng = np.random.default_rng()\n",
    "    data_n16_ind_os[i] = rng.multivariate_normal(np.zeros(n_assets), cov = r, size = n_obs) + 5.0\n",
    "    _75_perct = int(len(data_n16_ind_os[i][:,0])*3/4)\n",
    "    data_n16_ind_os[i][random.sample(list(range(1000)), _75_perct),0] = 0\n",
    "    np.random.seed(i*5)\n",
    "    data_n16_ind_os[i][random.sample(list(range(1000)), _75_perct),1] = 0"
   ]
  },
  {
   "cell_type": "markdown",
   "id": "41f322ef-2089-4222-a298-bca849c6c576",
   "metadata": {},
   "source": [
    "## Negatively Correlated"
   ]
  },
  {
   "cell_type": "code",
   "execution_count": 75,
   "id": "da97ed96-f106-4e90-bd2e-b6da48a24f88",
   "metadata": {},
   "outputs": [
    {
     "name": "stderr",
     "output_type": "stream",
     "text": [
      "<ipython-input-75-1efba7d50aa5>:10: RuntimeWarning: covariance is not positive-semidefinite.\n",
      "  data_n4_neg_os[i] = rng.multivariate_normal(np.zeros(n_assets), cov = r, size = n_obs) + 5.0\n"
     ]
    }
   ],
   "source": [
    "## n = 4 assets, with positive correlation\n",
    "n_assets = 4\n",
    "n_obs = 1000\n",
    "r = np.random.uniform(-0.8, -0.5, (n_assets,n_assets))\n",
    "np.fill_diagonal(r, 1)\n",
    "\n",
    "data_n4_neg_os = np.empty([100,n_obs, n_assets])\n",
    "for i in range(100):\n",
    "    rng = np.random.default_rng()\n",
    "    data_n4_neg_os[i] = rng.multivariate_normal(np.zeros(n_assets), cov = r, size = n_obs) + 5.0\n",
    "    _75_perct = int(len(data_n4_neg_os[i][:,0])*3/4)\n",
    "    data_n4_neg_os[i][random.sample(list(range(1000)), _75_perct),0] = 0\n",
    "    np.random.seed(i*5)\n",
    "    data_n4_neg_os[i][random.sample(list(range(1000)), _75_perct),1] = 0"
   ]
  },
  {
   "cell_type": "code",
   "execution_count": 76,
   "id": "7aa9114e-a777-4606-85f9-2f8a091299fc",
   "metadata": {},
   "outputs": [
    {
     "name": "stderr",
     "output_type": "stream",
     "text": [
      "<ipython-input-76-a660c0c516d7>:10: RuntimeWarning: covariance is not positive-semidefinite.\n",
      "  data_n8_neg_os[i] = rng.multivariate_normal(np.zeros(n_assets), cov = r, size = n_obs) + 5.0\n"
     ]
    }
   ],
   "source": [
    "## n = 8 assets, with positive correlation\n",
    "n_assets = 8\n",
    "n_obs = 1000\n",
    "r = np.random.uniform(-0.8, -0.5, (n_assets,n_assets))\n",
    "np.fill_diagonal(r, 1)\n",
    "\n",
    "data_n8_neg_os = np.empty([100,n_obs, n_assets])\n",
    "for i in range(100):\n",
    "    rng = np.random.default_rng()\n",
    "    data_n8_neg_os[i] = rng.multivariate_normal(np.zeros(n_assets), cov = r, size = n_obs) + 5.0\n",
    "    _75_perct = int(len(data_n8_neg_os[i][:,0])*3/4)\n",
    "    data_n8_neg_os[i][random.sample(list(range(1000)), _75_perct),0] = 0\n",
    "    np.random.seed(i*5)\n",
    "    data_n8_neg_os[i][random.sample(list(range(1000)), _75_perct),1] = 0"
   ]
  },
  {
   "cell_type": "code",
   "execution_count": 77,
   "id": "e4cbe5e0-93bf-4768-9587-d6f8bc90fedf",
   "metadata": {},
   "outputs": [
    {
     "name": "stderr",
     "output_type": "stream",
     "text": [
      "<ipython-input-77-e91c199e9364>:10: RuntimeWarning: covariance is not positive-semidefinite.\n",
      "  data_n16_neg_os[i] = rng.multivariate_normal(np.zeros(n_assets), cov = r, size = n_obs) + 5.0\n"
     ]
    }
   ],
   "source": [
    "## n = 4 assets, with positive correlation\n",
    "n_assets = 16\n",
    "n_obs = 1000\n",
    "r = np.random.uniform(-0.8, -0.5, (n_assets,n_assets))\n",
    "np.fill_diagonal(r, 1)\n",
    "\n",
    "data_n16_neg_os = np.empty([100,n_obs, n_assets])\n",
    "for i in range(100):\n",
    "    rng = np.random.default_rng()\n",
    "    data_n16_neg_os[i] = rng.multivariate_normal(np.zeros(n_assets), cov = r, size = n_obs) + 5.0\n",
    "    _75_perct = int(len(data_n16_neg_os[i][:,0])*3/4)\n",
    "    data_n16_neg_os[i][random.sample(list(range(1000)), _75_perct),0] = 0\n",
    "    np.random.seed(i*5)\n",
    "    data_n16_neg_os[i][random.sample(list(range(1000)), _75_perct),1] = 0"
   ]
  },
  {
   "cell_type": "code",
   "execution_count": 78,
   "id": "b1093764-7658-4d4b-bc60-187aeb108fa0",
   "metadata": {},
   "outputs": [],
   "source": [
    "Data = [data_n4_corr_os, data_n8_corr_os, data_n16_corr_os, data_n4_ind_os, data_n8_ind_os, data_n8_ind_os, \n",
    "           data_n16_ind_os, data_n4_neg_os, data_n8_neg_os, data_n16_neg_os]\n",
    "\n",
    "file_name = \"PortfolioOptimizationData_Zeros.pkl\"\n",
    "open_file = open(file_name, \"wb\")\n",
    "pickle.dump(Data, open_file)\n",
    "open_file.close()"
   ]
  },
  {
   "cell_type": "code",
   "execution_count": 86,
   "id": "d7760f7e-cb9c-40ec-a329-972ec4fd1739",
   "metadata": {},
   "outputs": [
    {
     "data": {
      "text/plain": [
       "4"
      ]
     },
     "execution_count": 86,
     "metadata": {},
     "output_type": "execute_result"
    }
   ],
   "source": [
    "data_n4_corr[0].shape[1]"
   ]
  }
 ],
 "metadata": {
  "kernelspec": {
   "display_name": "Python 3",
   "language": "python",
   "name": "python3"
  },
  "language_info": {
   "codemirror_mode": {
    "name": "ipython",
    "version": 3
   },
   "file_extension": ".py",
   "mimetype": "text/x-python",
   "name": "python",
   "nbconvert_exporter": "python",
   "pygments_lexer": "ipython3",
   "version": "3.8.8"
  }
 },
 "nbformat": 4,
 "nbformat_minor": 5
}
