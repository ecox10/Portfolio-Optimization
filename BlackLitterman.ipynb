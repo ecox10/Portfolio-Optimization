{
 "cells": [
  {
   "cell_type": "markdown",
   "id": "fa60bf70-e532-4071-b428-bd948a1bbb85",
   "metadata": {},
   "source": [
    "# Complete Black-Litterman Optimization\n",
    "\n",
    "| | | | \n",
    "|----------------------------------------------------------------------|-----------------------------------------------|---------------------------------------------------------------------------------|\n",
    "| n=4 $returns \\sim \\mathcal{N}(\\mu,\\sigma)$ Correlation from 0.8-0.9  | n=4 $returns \\sim N(\\mu,\\sigma)$ Independent  | n=4 $returns \\sim \\mathcal{N}(\\mu, sigma)$ Negative correlation (-0.8 to -0.5)  |\n",
    "| n=8 $returns \\sim \\mathcal{N}(\\mu,\\sigma)$ Correlation from 0.8-0.9  | n=8 $returns \\sim N(\\mu,\\sigma)$ Independent  | n=8 $returns \\sim \\mathcal{N}(\\mu, sigma)$ Negative correlation (-0.8 to -0.5)  |\n",
    "| n=16 $returns \\sim \\mathcal{N}(\\mu,\\sigma)$ Correlation from 0.8-0.9 | n=16 $returns \\sim N(\\mu,\\sigma)$ Independent | n=16 $returns \\sim \\mathcal{N}(\\mu, sigma)$ Negative correlation (-0.8 to -0.5) |\n",
    "\n",
    "using the method laid out in 4.2, Black-Litterman portfolio optimization\n",
    "\n",
    "using https://python-advanced.quantecon.org/black_litterman.html"
   ]
  },
  {
   "cell_type": "markdown",
   "id": "5110f681-585e-4387-a111-3e4684b44d39",
   "metadata": {},
   "source": [
    "## Read Packages"
   ]
  },
  {
   "cell_type": "code",
   "execution_count": 6,
   "id": "6f897b9d-5ab0-41e4-b642-017a3b9d13e7",
   "metadata": {},
   "outputs": [],
   "source": [
    "import numpy as np\n",
    "import pandas as pd\n",
    "import scipy.stats as stat\n",
    "import matplotlib.pyplot as plt\n",
    "from pylab import rcParams\n",
    "%matplotlib inline\n",
    "import random\n",
    "import trace\n",
    "import pickle\n",
    "import sklearn.covariance"
   ]
  },
  {
   "cell_type": "code",
   "execution_count": 7,
   "id": "00ea9b91-8564-4ee5-8039-5a892fa1e06e",
   "metadata": {},
   "outputs": [],
   "source": [
    "import pypfopt as pyp\n",
    "import warnings\n",
    "from pypfopt.black_litterman import BlackLittermanModel\n",
    "warnings.filterwarnings(\"ignore\")\n"
   ]
  },
  {
   "cell_type": "markdown",
   "id": "fca51a9d-f253-4dc4-a37b-3b2fae525595",
   "metadata": {},
   "source": [
    "## Read Data"
   ]
  },
  {
   "cell_type": "code",
   "execution_count": 8,
   "id": "3c8ae77d-1074-4079-9c6c-a06fe344b2b8",
   "metadata": {},
   "outputs": [],
   "source": [
    "## Read the Data\n",
    "file_name = \"PortfolioOptimizationData.pkl\"\n",
    "\n",
    "open_file = open(file_name, \"rb\")\n",
    "loaded_list = pickle.load(open_file)\n",
    "open_file.close()\n",
    "\n",
    "file_name_os = \"PortfolioOptimizationData_Zeros.pkl\"\n",
    "\n",
    "open_file_os = open(file_name_os, \"rb\")\n",
    "loaded_list_os = pickle.load(open_file_os)\n",
    "open_file_os.close()"
   ]
  },
  {
   "cell_type": "code",
   "execution_count": 9,
   "id": "a1a5aec7-2253-4d7a-a921-8849dcbe3184",
   "metadata": {},
   "outputs": [],
   "source": [
    "data_n4_corr = loaded_list[0]\n",
    "data_n8_corr = loaded_list[1]\n",
    "data_n16_corr = loaded_list[2]\n",
    "\n",
    "data_n4_ind = loaded_list[3]\n",
    "data_n8_ind = loaded_list[4]\n",
    "data_n16_ind = loaded_list[5]\n",
    "\n",
    "data_n4_neg = loaded_list[6]\n",
    "data_n8_neg = loaded_list[7]\n",
    "data_n16_neg = loaded_list[8]\n",
    "\n",
    "data_n4_corr_os = loaded_list_os[0]\n",
    "data_n8_corr_os = loaded_list_os[1]\n",
    "data_n16_corr_os = loaded_list_os[2]\n",
    "\n",
    "data_n4_ind_os = loaded_list_os[3]\n",
    "data_n8_ind_os = loaded_list_os[4]\n",
    "data_n16_ind_os = loaded_list_os[5]\n",
    "\n",
    "data_n4_neg_os = loaded_list_os[6]\n",
    "data_n8_neg_os = loaded_list_os[7]\n",
    "data_n16_neg_os = loaded_list_os[8]"
   ]
  },
  {
   "cell_type": "code",
   "execution_count": 5,
   "id": "b9b7af18-f068-4c29-a566-5aa7da1d2d9b",
   "metadata": {},
   "outputs": [
    {
     "name": "stdout",
     "output_type": "stream",
     "text": [
      "[1.24823196 1.25177391 4.92820725 4.94449342] [1.23564355 1.26132808 5.02096074 5.01899361 5.03187764 5.01680219\n",
      " 5.02930775 4.99411216]\n"
     ]
    }
   ],
   "source": [
    "print(data_n4_corr_os[0].mean(axis=0),data_n8_corr_os[1].mean(axis=0))"
   ]
  },
  {
   "cell_type": "markdown",
   "id": "17d1f318-f56c-454a-abab-be02c5b02644",
   "metadata": {},
   "source": [
    "## Define Functions"
   ]
  },
  {
   "cell_type": "markdown",
   "id": "682e800f-8ac8-4d8b-b613-8a8cd1515803",
   "metadata": {},
   "source": [
    "Function that Calculated equillibrium values \n",
    "\n",
    "This step generates the sample"
   ]
  },
  {
   "cell_type": "code",
   "execution_count": 10,
   "id": "4cf25c09-5059-4b2b-9875-07fea7f40157",
   "metadata": {},
   "outputs": [
    {
     "data": {
      "text/plain": [
       "array([1.24823196, 1.25177391, 4.92820725, 4.94449342])"
      ]
     },
     "execution_count": 10,
     "metadata": {},
     "output_type": "execute_result"
    }
   ],
   "source": [
    "n_assets = 4\n",
    "return_vec = data_n4_corr_os[0]\n",
    "np.mean(return_vec, axis = 0)"
   ]
  },
  {
   "cell_type": "code",
   "execution_count": 47,
   "id": "052d4595-026e-4add-af5d-019bfe882407",
   "metadata": {},
   "outputs": [],
   "source": [
    "def bl(n_assets, n_obs, return_vec):\n",
    "    '''\n",
    "    This function evaluates the equillibrium returns of a portfolio and generates the sample\n",
    "    Inputs: \n",
    "    n_assets: Number of assets\n",
    "    n_obs: Number of observations\n",
    "    return_vec: A matrix of returns of shape n_obs x n_assets (a np.array)\n",
    "    Returns: \n",
    "    weights: optimal weights\n",
    "    bl_returns: BL returns\n",
    "    S: BL risk\n",
    "    '''\n",
    "    S = pyp.risk_models.CovarianceShrinkage(return_vec).ledoit_wolf() # pd.DataFrame(return_vec).corr()\n",
    "    #view = pd.Series(np.mean(return_vec, axis = 0))\n",
    "    Q = np.reshape(np.mean(return_vec, axis = 0),(n_assets,1))[0:4,:] # 4 views\n",
    "    P = np.array(\n",
    "        [\n",
    "            np.random.dirichlet(np.ones(n_assets), size=1)[0],\n",
    "            np.random.dirichlet(np.ones(n_assets), size=1)[0],\n",
    "            np.random.dirichlet(np.ones(n_assets), size=1)[0],\n",
    "            np.random.dirichlet(np.ones(n_assets), size=1)[0],\n",
    "        ]\n",
    "    )\n",
    "    delta = np.random.normal(1)\n",
    "    \n",
    "    bl = pyp.BlackLittermanModel(S, pi = \"equal\", Q = Q, P = P)\n",
    "    bl_return = bl.bl_returns()\n",
    "\n",
    "    ef = pyp.EfficientFrontier(bl_return, S)\n",
    "    bl.bl_weights(delta)\n",
    "    weights = bl.clean_weights()\n",
    "\n",
    "    S_bl = bl.bl_cov()\n",
    "    return weights, bl_return, S_bl"
   ]
  },
  {
   "cell_type": "code",
   "execution_count": 48,
   "id": "b9146498-f95c-427d-9f85-3d666ecd6d48",
   "metadata": {},
   "outputs": [],
   "source": [
    "def bl_os(n_assets, n_obs, return_vec, return_vec_os):\n",
    "    '''\n",
    "    This function evaluates the equillibrium returns of a portfolio and generates the sample\n",
    "    Inputs: \n",
    "    n_assets: Number of assets\n",
    "    n_obs: Number of observations\n",
    "    return_vec: A matrix of returns of shape n_obs x n_assets (a np.array)\n",
    "    Returns: \n",
    "    weights: optimal weights\n",
    "    bl_returns: BL returns\n",
    "    S: BL risk\n",
    "    '''\n",
    "    S = pyp.risk_models.CovarianceShrinkage(return_vec).ledoit_wolf()\n",
    "    #view = pd.Series(np.mean(return_vec_os, axis = 0)) #for absolute certainty\n",
    "    Q = np.reshape(np.mean(return_vec_os, axis = 0),(n_assets,1))[0:4,:] # 4 views\n",
    "    P = np.array(\n",
    "        [\n",
    "            np.random.dirichlet(np.ones(n_assets), size=1)[0],\n",
    "            np.random.dirichlet(np.ones(n_assets), size=1)[0],\n",
    "            np.random.dirichlet(np.ones(n_assets), size=1)[0],\n",
    "            np.random.dirichlet(np.ones(n_assets), size=1)[0],\n",
    "        ]\n",
    "    )\n",
    "    delta = np.random.normal(1)\n",
    "    \n",
    "    bl = pyp.BlackLittermanModel(S, pi = \"equal\", Q = Q, P = P)\n",
    "    bl_return = bl.bl_returns()\n",
    "\n",
    "    ef = pyp.EfficientFrontier(bl_return, S)\n",
    "    bl.bl_weights(delta)\n",
    "    weights = bl.clean_weights()\n",
    "\n",
    "    S_bl = bl.bl_cov()\n",
    "    return weights, bl_return, S_bl"
   ]
  },
  {
   "cell_type": "markdown",
   "id": "13e228ea-c926-411a-b5f1-a8d0befbb5ac",
   "metadata": {},
   "source": [
    "Notes: There's no way around it, I have to give it a view, a vector of data, and absolute views. Otherwise all hell breaks loose."
   ]
  },
  {
   "cell_type": "code",
   "execution_count": 49,
   "id": "aeeeb0a9-c677-42f8-abca-eedecbec7ac7",
   "metadata": {},
   "outputs": [],
   "source": [
    "def one_corr_optimization(n_assets, n_obs, data, r):\n",
    "    '''\n",
    "    First, simulates portfolios then optimizes. \n",
    "    This does 100 replications\n",
    "    '''\n",
    "    weight_res = np.zeros((99,n_assets))\n",
    "    return_res = np.zeros((99,n_assets))\n",
    "    risks_res = np.zeros((99,n_assets))\n",
    "    \n",
    "    for i in range(99):\n",
    "        return_vec = data[i]\n",
    "        weights, returns, risks = bl(n_assets, n_obs, return_vec) \n",
    "        weights = list(weights.items())\n",
    "        w = [x[1] for x in weights]\n",
    "        weight_res[i,:] = w\n",
    "        return_res[i,:] = np.array(returns).T\n",
    "        risks_res[i,:] = np.diagonal(np.array(risks))\n",
    "    return weight_res, return_res, risks_res"
   ]
  },
  {
   "cell_type": "code",
   "execution_count": 50,
   "id": "295d5028-4dbc-41f4-9d6e-ae0e3962df0e",
   "metadata": {},
   "outputs": [],
   "source": [
    "def one_corr_optimization_zeros(n_assets, n_obs, data, data_os):\n",
    "    '''\n",
    "    First, simulates portfolios then optimizes. \n",
    "    This does 100 replications\n",
    "    '''\n",
    "    weight_res = np.zeros((99,n_assets))\n",
    "    return_res = np.zeros((99,n_assets))\n",
    "    risks_res = np.zeros((99,n_assets))\n",
    "    \n",
    "    for i in range(99):\n",
    "        return_vec = data[i]\n",
    "        return_vec_os = data_os[i]\n",
    "        weights, returns, risks = bl_os(n_assets, n_obs, return_vec, return_vec_os)\n",
    "        weights = list(weights.items())\n",
    "        w = [x[1] for x in weights]\n",
    "        weight_res[i,:] = w\n",
    "        return_res[i,:] = np.array(returns).T\n",
    "        risks_res[i,:] = np.diagonal(np.array(risks))\n",
    "    return weight_res, return_res, risks_res"
   ]
  },
  {
   "cell_type": "markdown",
   "id": "db878b0e-84bf-4a7a-a7c1-c997907ef5d1",
   "metadata": {},
   "source": [
    "# Perform Optimization\n",
    "## Correlated"
   ]
  },
  {
   "cell_type": "markdown",
   "id": "4423587d-0f5f-45c3-ad7d-db9d68eefbe4",
   "metadata": {},
   "source": [
    "## $n=4$"
   ]
  },
  {
   "cell_type": "code",
   "execution_count": 51,
   "id": "f04772d7-9ecb-4431-8614-28bd5984fd1d",
   "metadata": {},
   "outputs": [],
   "source": [
    "n_assets = 4\n",
    "n_obs = 1000\n",
    "r = np.random.uniform(0.8, 0.9, (n_assets,n_assets))\n",
    "np.fill_diagonal(r, 1)"
   ]
  },
  {
   "cell_type": "code",
   "execution_count": 52,
   "id": "f5c1de09-e1c4-4bbb-9200-83a3a4255261",
   "metadata": {},
   "outputs": [],
   "source": [
    "n4_weights_corr, n4_returns_corr, n4_risks_corr = one_corr_optimization(n_assets, n_obs, data_n4_corr, r) #"
   ]
  },
  {
   "cell_type": "code",
   "execution_count": 171,
   "id": "c5ae3470-56ae-4d31-b735-dff15f542703",
   "metadata": {},
   "outputs": [
    {
     "name": "stdout",
     "output_type": "stream",
     "text": [
      "weights (mean) = [0.239 0.251 0.257 0.253] \n",
      "returns (mean) = [4.029 4.022 4.047 3.953] \n",
      "risks (mean) =[1.014 1.014 1.014 1.015]\n"
     ]
    }
   ],
   "source": [
    "print('weights (mean) = '+str(np.round(np.mean(n4_weights_corr, axis=0),3)),\n",
    "      '\\nreturns (mean) = '+str(np.round(np.mean(n4_returns_corr, axis=0),3)),\n",
    "      '\\nrisks (mean) ='+str(np.round(np.mean(n4_risks_corr, axis=0),3)))"
   ]
  },
  {
   "cell_type": "code",
   "execution_count": 151,
   "id": "e1832b59-36e7-461a-8384-cdcc961a3cbb",
   "metadata": {},
   "outputs": [
    {
     "name": "stdout",
     "output_type": "stream",
     "text": [
      "weights (std) = [0.096 0.092 0.09  0.089] \n",
      "returns (std) = [0.122 0.13  0.136 0.168] \n",
      "risks (std) =[2.563 3.403 3.797 2.33 ]\n"
     ]
    }
   ],
   "source": [
    "print('weights (std) = '+str(np.round(np.std(n4_weights_corr, axis=0),3)),\n",
    "      '\\nreturns (std) = '+str(np.round(np.std(n4_returns_corr, axis=0),3)),\n",
    "      '\\nrisks (std) ='+str(np.round(np.std(n4_risks_corr, axis=0),3)))"
   ]
  },
  {
   "cell_type": "code",
   "execution_count": 53,
   "id": "eedc266c-1bf8-4ae1-bb28-9ad8226d6cee",
   "metadata": {},
   "outputs": [],
   "source": [
    "n4_weights_corr_os, n4_returns_corr_os, n4_risks_corr_os = one_corr_optimization_zeros(n_assets, n_obs, data_n4_corr, data_n4_corr_os)"
   ]
  },
  {
   "cell_type": "code",
   "execution_count": 173,
   "id": "4cd4d61f-d4ee-4858-a66c-0705aa3537f2",
   "metadata": {},
   "outputs": [
    {
     "name": "stdout",
     "output_type": "stream",
     "text": [
      "weights (mean) = [0.255 0.275 0.262 0.208] \n",
      "returns (mean) = [1.823 1.961 2.794 2.73 ] \n",
      "risks (mean) =[1.033 1.034 1.023 1.024]\n"
     ]
    }
   ],
   "source": [
    "print('weights (mean) = '+str(np.round(np.mean(n4_weights_corr_os, axis=0),3)),\n",
    "      '\\nreturns (mean) = '+str(np.round(np.mean(n4_returns_corr_os, axis=0),3)),\n",
    "      '\\nrisks (mean) ='+str(np.round(np.mean(n4_risks_corr_os, axis=0),3)))"
   ]
  },
  {
   "cell_type": "code",
   "execution_count": 15,
   "id": "4d99b203-2de0-40a6-9414-d2f59f42cfe6",
   "metadata": {},
   "outputs": [
    {
     "name": "stdout",
     "output_type": "stream",
     "text": [
      "weights (std) = [0.024 0.026 0.079 0.059] \n",
      "returns (std) = [0.074 0.082 0.064 0.048] \n",
      "risks (std) =[2.554 3.397 3.806 2.334]\n"
     ]
    }
   ],
   "source": [
    "print('weights (std) = '+str(np.round(np.std(n4_weights_corr_os, axis=0),3)),\n",
    "      '\\nreturns (std) = '+str(np.round(np.std(n4_returns_corr_os, axis=0),3)),\n",
    "      '\\nrisks (std) ='+str(np.round(np.std(n4_risks_corr_os, axis=0),3)))"
   ]
  },
  {
   "cell_type": "markdown",
   "id": "a6e830ca-11ec-43d8-97f2-9b1fc8417bd4",
   "metadata": {},
   "source": [
    "## $ n = 8$"
   ]
  },
  {
   "cell_type": "code",
   "execution_count": 54,
   "id": "ceb357b4-d6fe-4ac6-a38f-b9c133ac679f",
   "metadata": {},
   "outputs": [],
   "source": [
    "n_assets = 8\n",
    "n_obs = 1000\n",
    "r = r = np.random.uniform(0.8, 0.9, (n_assets,n_assets))\n",
    "np.fill_diagonal(r, 1)"
   ]
  },
  {
   "cell_type": "code",
   "execution_count": 55,
   "id": "ec9ad5ee-2f88-4695-bc70-029a33f14cf7",
   "metadata": {},
   "outputs": [],
   "source": [
    "n8_weights_corr, n8_returns_corr, n8_risks_corr = one_corr_optimization(n_assets, n_obs, data_n8_corr, r) "
   ]
  },
  {
   "cell_type": "code",
   "execution_count": 18,
   "id": "57e8e330-1cb2-4fc1-b5c3-2d13308b6b2a",
   "metadata": {},
   "outputs": [
    {
     "name": "stdout",
     "output_type": "stream",
     "text": [
      "weights (mean) = [0.122 0.133 0.118 0.109 0.124 0.12  0.125 0.149] \n",
      "returns (mean) = [4.383 4.343 4.394 4.424 4.377 4.396 4.372 4.293] \n",
      "risks (mean) =[28.088 27.54  27.768 28.871 27.693 28.629 27.974 26.632]\n"
     ]
    }
   ],
   "source": [
    "print('weights (mean) = '+str(np.round(np.mean(n8_weights_corr, axis=0),3)),\n",
    "      '\\nreturns (mean) = '+str(np.round(np.mean(n8_returns_corr, axis=0),3)),\n",
    "      '\\nrisks (mean) ='+str(np.round(np.mean(n8_risks_corr, axis=0),3)))"
   ]
  },
  {
   "cell_type": "code",
   "execution_count": 19,
   "id": "516e52a6-9370-4d59-8483-b96dabce9e3f",
   "metadata": {},
   "outputs": [
    {
     "name": "stdout",
     "output_type": "stream",
     "text": [
      "weights (std) = [0.032 0.032 0.03  0.028 0.027 0.035 0.028 0.029] \n",
      "returns (std) = [0.119 0.112 0.115 0.107 0.091 0.143 0.099 0.099] \n",
      "risks (std) =[2.954 3.485 2.222 3.357 2.632 5.761 2.771 2.395]\n"
     ]
    }
   ],
   "source": [
    "print('weights (std) = '+str(np.round(np.std(n8_weights_corr, axis=0),3)),\n",
    "      '\\nreturns (std) = '+str(np.round(np.std(n8_returns_corr, axis=0),3)),\n",
    "      '\\nrisks (std) ='+str(np.round(np.std(n8_risks_corr, axis=0),3)))"
   ]
  },
  {
   "cell_type": "code",
   "execution_count": 56,
   "id": "98338d50-a2d6-4cd6-9818-6e377152f259",
   "metadata": {},
   "outputs": [],
   "source": [
    "n8_weights_corr_os, n8_returns_corr_os, n8_risks_corr_os = one_corr_optimization_zeros(n_assets, n_obs, data_n8_corr, data_n8_corr_os)"
   ]
  },
  {
   "cell_type": "code",
   "execution_count": 21,
   "id": "e6b1ceaa-bc18-42ac-b20d-464f12a10cae",
   "metadata": {},
   "outputs": [
    {
     "name": "stdout",
     "output_type": "stream",
     "text": [
      "weights (mean) = [-0.441 -0.442  0.317  0.296  0.324  0.283  0.319  0.343] \n",
      "returns (mean) = [3.16  3.124 3.669 3.715 3.657 3.814 3.669 3.643] \n",
      "risks (mean) =[28.088 27.54  27.768 28.871 27.693 28.629 27.974 26.632]\n"
     ]
    }
   ],
   "source": [
    "print('weights (mean) = '+str(np.round(np.mean(n8_weights_corr_os, axis=0),3)),\n",
    "      '\\nreturns (mean) = '+str(np.round(np.mean(n8_returns_corr_os, axis=0),3)),\n",
    "      '\\nrisks (mean) ='+str(np.round(np.mean(n8_risks_corr_os, axis=0),3)))"
   ]
  },
  {
   "cell_type": "code",
   "execution_count": 22,
   "id": "5208f8a0-1be2-40af-9b4f-25591a2b6692",
   "metadata": {},
   "outputs": [
    {
     "name": "stdout",
     "output_type": "stream",
     "text": [
      "weights (std) = [0.027 0.028 0.042 0.042 0.038 0.054 0.041 0.035] \n",
      "returns (std) = [0.134 0.118 0.091 0.087 0.08  0.143 0.079 0.075] \n",
      "risks (std) =[2.954 3.485 2.222 3.357 2.632 5.761 2.771 2.395]\n"
     ]
    }
   ],
   "source": [
    "print('weights (std) = '+str(np.round(np.std(n8_weights_corr_os, axis=0),3)),\n",
    "      '\\nreturns (std) = '+str(np.round(np.std(n8_returns_corr_os, axis=0),3)),\n",
    "      '\\nrisks (std) ='+str(np.round(np.std(n8_risks_corr_os, axis=0),3)))"
   ]
  },
  {
   "cell_type": "markdown",
   "id": "9d647315-3a49-4963-9aff-099a63424881",
   "metadata": {},
   "source": [
    "## $n=16$"
   ]
  },
  {
   "cell_type": "code",
   "execution_count": 57,
   "id": "c3761681-a465-4089-8811-b64a9979bffa",
   "metadata": {},
   "outputs": [],
   "source": [
    "n_assets = 16\n",
    "n_obs = 1000\n",
    "r = np.random.uniform(0.8, 0.9, (n_assets,n_assets))\n",
    "np.fill_diagonal(r, 1)"
   ]
  },
  {
   "cell_type": "code",
   "execution_count": 58,
   "id": "b5332432-0aff-46c9-ade5-bacb5d86d996",
   "metadata": {},
   "outputs": [],
   "source": [
    "n16_weights_corr, n16_returns_corr, n16_risks_corr = one_corr_optimization(n_assets, n_obs, data_n16_corr, r) "
   ]
  },
  {
   "cell_type": "code",
   "execution_count": 25,
   "id": "8dcb6471-c5a9-4700-8b18-6d7e5d8081aa",
   "metadata": {},
   "outputs": [
    {
     "name": "stdout",
     "output_type": "stream",
     "text": [
      "weights (mean) = [0.053 0.062 0.065 0.058 0.062 0.07  0.065 0.062 0.06  0.067 0.053 0.062\n",
      " 0.063 0.069 0.061 0.069] \n",
      "returns (mean) = [4.693 4.646 4.638 4.675 4.652 4.615 4.639 4.649 4.662 4.629 4.697 4.652\n",
      " 4.648 4.615 4.656 4.624] \n",
      "risks (mean) =[28.953 28.139 28.107 27.839 28.287 27.281 27.849 28.465 28.441 28.192\n",
      " 29.063 27.742 27.706 27.949 28.532 27.676]\n"
     ]
    }
   ],
   "source": [
    "print('weights (mean) = '+str(np.round(np.mean(n16_weights_corr, axis=0),3)),\n",
    "      '\\nreturns (mean) = '+str(np.round(np.mean(n16_returns_corr, axis=0),3)),\n",
    "      '\\nrisks (mean) ='+str(np.round(np.mean(n16_risks_corr, axis=0),3)))"
   ]
  },
  {
   "cell_type": "code",
   "execution_count": 26,
   "id": "c2240a27-306e-4ccd-b4bc-9c64fdde318d",
   "metadata": {},
   "outputs": [
    {
     "name": "stdout",
     "output_type": "stream",
     "text": [
      "weights (std) = [0.026 0.023 0.021 0.024 0.023 0.023 0.024 0.026 0.026 0.024 0.021 0.023\n",
      " 0.023 0.023 0.027 0.023] \n",
      "returns (std) = [0.12  0.121 0.103 0.113 0.117 0.107 0.116 0.133 0.128 0.125 0.126 0.102\n",
      " 0.11  0.099 0.131 0.108] \n",
      "risks (std) =[3.257 4.041 5.387 3.319 4.714 2.888 2.987 3.38  3.829 3.713 7.226 3.045\n",
      " 3.188 3.831 3.44  4.254]\n"
     ]
    }
   ],
   "source": [
    "print('weights (std) = '+str(np.round(np.std(n16_weights_corr, axis=0),3)),\n",
    "      '\\nreturns (std) = '+str(np.round(np.std(n16_returns_corr, axis=0),3)),\n",
    "      '\\nrisks (std) ='+str(np.round(np.std(n16_risks_corr, axis=0),3)))"
   ]
  },
  {
   "cell_type": "code",
   "execution_count": 59,
   "id": "d7b289c0-11c3-492b-8c17-56f2c21be3a2",
   "metadata": {},
   "outputs": [],
   "source": [
    "n16_weights_corr_os, n16_returns_corr_os, n16_risks_corr_os = one_corr_optimization_zeros(n_assets, n_obs, data_n16_corr, data_n16_corr_os)"
   ]
  },
  {
   "cell_type": "code",
   "execution_count": 28,
   "id": "0aed17fc-00df-4679-a159-e9c00f29d361",
   "metadata": {},
   "outputs": [
    {
     "name": "stdout",
     "output_type": "stream",
     "text": [
      "weights (mean) = [-0.461 -0.471  0.135  0.119  0.135  0.15   0.133  0.111  0.127  0.163\n",
      "  0.134  0.136  0.147  0.133  0.153  0.156] \n",
      "returns (mean) = [3.747 3.726 4.303 4.386 4.297 4.242 4.316 4.415 4.335 4.16  4.289 4.3\n",
      " 4.247 4.315 4.199 4.212] \n",
      "risks (mean) =[28.953 28.139 28.107 27.839 28.287 27.281 27.849 28.465 28.441 28.192\n",
      " 29.063 27.742 27.706 27.949 28.532 27.676]\n"
     ]
    }
   ],
   "source": [
    "print('weights (mean) = '+str(np.round(np.mean(n16_weights_corr_os, axis=0),3)),\n",
    "      '\\nreturns (mean) = '+str(np.round(np.mean(n16_returns_corr_os, axis=0),3)),\n",
    "      '\\nrisks (mean) ='+str(np.round(np.mean(n16_risks_corr_os, axis=0),3)))"
   ]
  },
  {
   "cell_type": "code",
   "execution_count": 29,
   "id": "49246134-8f07-4ca3-9805-01dd651b8baf",
   "metadata": {},
   "outputs": [
    {
     "name": "stdout",
     "output_type": "stream",
     "text": [
      "weights (std) = [0.028 0.033 0.026 0.029 0.029 0.028 0.03  0.032 0.031 0.032 0.029 0.028\n",
      " 0.029 0.028 0.034 0.03 ] \n",
      "returns (std) = [0.137 0.141 0.105 0.112 0.114 0.099 0.113 0.132 0.123 0.125 0.129 0.099\n",
      " 0.103 0.097 0.122 0.101] \n",
      "risks (std) =[3.257 4.041 5.387 3.319 4.714 2.888 2.987 3.38  3.829 3.713 7.226 3.045\n",
      " 3.188 3.831 3.44  4.254]\n"
     ]
    }
   ],
   "source": [
    "print('weights (std) = '+str(np.round(np.std(n16_weights_corr_os, axis=0),3)),\n",
    "      '\\nreturns (std) = '+str(np.round(np.std(n16_returns_corr_os, axis=0),3)),\n",
    "      '\\nrisks (std) ='+str(np.round(np.std(n16_risks_corr_os, axis=0),3)))"
   ]
  },
  {
   "cell_type": "markdown",
   "id": "f699178e-4fba-4276-b436-83352c491a10",
   "metadata": {},
   "source": [
    "## Independent"
   ]
  },
  {
   "cell_type": "code",
   "execution_count": 60,
   "id": "3eaab865-4a13-45a4-82cf-6057f219fab3",
   "metadata": {},
   "outputs": [],
   "source": [
    "n_assets = 4\n",
    "n_obs = 1000\n",
    "r = np.eye(n_assets)"
   ]
  },
  {
   "cell_type": "code",
   "execution_count": 61,
   "id": "be6b6d63-40cf-46c5-bb8f-1c3e543227bf",
   "metadata": {},
   "outputs": [],
   "source": [
    "n4_weights_ind, n4_returns_ind, n4_risks_ind = one_corr_optimization(n_assets, n_obs, data_n4_ind, r) "
   ]
  },
  {
   "cell_type": "code",
   "execution_count": 32,
   "id": "ed0e3c0c-98b1-4ab0-aa0e-218fa86911c2",
   "metadata": {},
   "outputs": [
    {
     "name": "stdout",
     "output_type": "stream",
     "text": [
      "weights (mean) = [0.25  0.251 0.25  0.249] \n",
      "returns (mean) = [2.625 2.624 2.62  2.625] \n",
      "risks (mean) =[27.569 27.522 27.618 27.654]\n"
     ]
    }
   ],
   "source": [
    "print('weights (mean) = '+str(np.round(np.mean(n4_weights_ind, axis=0),3)),\n",
    "      '\\nreturns (mean) = '+str(np.round(np.mean(n4_returns_ind, axis=0),3)),\n",
    "      '\\nrisks (mean) ='+str(np.round(np.mean(n4_risks_ind, axis=0),3)))"
   ]
  },
  {
   "cell_type": "code",
   "execution_count": 33,
   "id": "ea4db138-2084-4736-814f-535851c1b7b7",
   "metadata": {},
   "outputs": [
    {
     "name": "stdout",
     "output_type": "stream",
     "text": [
      "weights (std) = [0.007 0.007 0.007 0.007] \n",
      "returns (std) = [0.025 0.028 0.031 0.021] \n",
      "risks (std) =[1.44  1.568 1.576 1.677]\n"
     ]
    }
   ],
   "source": [
    "print('weights (std) = '+str(np.round(np.std(n4_weights_ind, axis=0),3)),\n",
    "      '\\nreturns (std) = '+str(np.round(np.std(n4_returns_ind, axis=0),3)),\n",
    "      '\\nrisks (std) ='+str(np.round(np.std(n4_risks_ind, axis=0),3)))"
   ]
  },
  {
   "cell_type": "code",
   "execution_count": 62,
   "id": "2db3d97b-e571-4ae4-b4a4-2cea07b78c9e",
   "metadata": {},
   "outputs": [],
   "source": [
    "n4_weights_ind_os, n4_returns_ind_os, n4_risks_ind_os = one_corr_optimization_zeros(n_assets, n_obs, data_n4_ind, data_n4_ind_os)"
   ]
  },
  {
   "cell_type": "code",
   "execution_count": 35,
   "id": "defe84c2-398f-4dee-9413-b210d8a24fcf",
   "metadata": {},
   "outputs": [
    {
     "name": "stdout",
     "output_type": "stream",
     "text": [
      "weights (mean) = [0.111 0.112 0.389 0.388] \n",
      "returns (mean) = [0.748 0.749 2.622 2.625] \n",
      "risks (mean) =[27.569 27.522 27.618 27.654]\n"
     ]
    }
   ],
   "source": [
    "print('weights (mean) = '+str(np.round(np.mean(n4_weights_ind_os, axis=0),3)),\n",
    "      '\\nreturns (mean) = '+str(np.round(np.mean(n4_returns_ind_os, axis=0),3)),\n",
    "      '\\nrisks (mean) ='+str(np.round(np.mean(n4_risks_ind_os, axis=0),3)))"
   ]
  },
  {
   "cell_type": "code",
   "execution_count": 36,
   "id": "f665c8d5-84f4-4815-aaa2-d08664237a7f",
   "metadata": {},
   "outputs": [
    {
     "name": "stdout",
     "output_type": "stream",
     "text": [
      "weights (std) = [0.005 0.005 0.009 0.009] \n",
      "returns (std) = [0.017 0.019 0.022 0.019] \n",
      "risks (std) =[1.44  1.568 1.576 1.677]\n"
     ]
    }
   ],
   "source": [
    "print('weights (std) = '+str(np.round(np.std(n4_weights_ind_os, axis=0),3)),\n",
    "      '\\nreturns (std) = '+str(np.round(np.std(n4_returns_ind_os, axis=0),3)),\n",
    "      '\\nrisks (std) ='+str(np.round(np.std(n4_risks_ind_os, axis=0),3)))"
   ]
  },
  {
   "cell_type": "markdown",
   "id": "cf93be80-e563-4d65-bdaf-e8e3cf8a5986",
   "metadata": {},
   "source": [
    "## $n=8$"
   ]
  },
  {
   "cell_type": "code",
   "execution_count": 63,
   "id": "01690fcc-a621-4e83-b93f-70b04ef13176",
   "metadata": {},
   "outputs": [],
   "source": [
    "n_assets = 8\n",
    "n_obs = 1000\n",
    "r = np.eye(n_assets)"
   ]
  },
  {
   "cell_type": "code",
   "execution_count": 64,
   "id": "450f46e2-da94-4988-a8db-2b4e87916c17",
   "metadata": {},
   "outputs": [],
   "source": [
    "n8_weights_ind, n8_returns_ind, n8_risks_ind = one_corr_optimization(n_assets, n_obs, data_n8_ind, r) "
   ]
  },
  {
   "cell_type": "code",
   "execution_count": 39,
   "id": "12f8b7b3-af34-48ac-a7cd-c75d73839ca9",
   "metadata": {},
   "outputs": [
    {
     "name": "stdout",
     "output_type": "stream",
     "text": [
      "weights (mean) = [0.126 0.125 0.126 0.124 0.125 0.125 0.125 0.125] \n",
      "returns (mean) = [2.566 2.556 2.561 2.558 2.568 2.567 2.566 2.566] \n",
      "risks (mean) =[27.388 27.516 27.467 27.662 27.501 27.447 27.597 27.579]\n"
     ]
    }
   ],
   "source": [
    "print('weights (mean) = '+str(np.round(np.mean(n8_weights_ind, axis=0),3)),\n",
    "      '\\nreturns (mean) = '+str(np.round(np.mean(n8_returns_ind, axis=0),3)),\n",
    "      '\\nrisks (mean) ='+str(np.round(np.mean(n8_risks_ind, axis=0),3)))"
   ]
  },
  {
   "cell_type": "code",
   "execution_count": 40,
   "id": "8ddbe02c-9f13-4c43-bd4e-cb84b706111b",
   "metadata": {},
   "outputs": [
    {
     "name": "stdout",
     "output_type": "stream",
     "text": [
      "weights (std) = [0.004 0.003 0.003 0.003 0.004 0.004 0.004 0.004] \n",
      "returns (std) = [0.032 0.032 0.036 0.041 0.042 0.033 0.036 0.034] \n",
      "risks (std) =[1.45  1.383 1.344 1.387 1.38  1.552 1.488 1.547]\n"
     ]
    }
   ],
   "source": [
    "print('weights (std) = '+str(np.round(np.std(n8_weights_ind, axis=0),3)),\n",
    "      '\\nreturns (std) = '+str(np.round(np.std(n8_returns_ind, axis=0),3)),\n",
    "      '\\nrisks (std) ='+str(np.round(np.std(n8_risks_ind, axis=0),3)))"
   ]
  },
  {
   "cell_type": "code",
   "execution_count": 65,
   "id": "a05b743f-8a20-4065-b807-5cb4e0b4b573",
   "metadata": {},
   "outputs": [],
   "source": [
    "n8_weights_ind_os, n8_returns_ind_os, n8_risks_ind_os = one_corr_optimization_zeros(n_assets, n_obs, data_n8_ind, data_n8_ind_os)"
   ]
  },
  {
   "cell_type": "code",
   "execution_count": 42,
   "id": "0b59bd3e-6ff1-466c-acd3-aab71fb2700f",
   "metadata": {},
   "outputs": [
    {
     "name": "stdout",
     "output_type": "stream",
     "text": [
      "weights (mean) = [0.041 0.041 0.154 0.152 0.153 0.153 0.153 0.153] \n",
      "returns (mean) = [0.69  0.684 2.563 2.558 2.568 2.567 2.566 2.564] \n",
      "risks (mean) =[27.388 27.516 27.467 27.662 27.501 27.447 27.597 27.579]\n"
     ]
    }
   ],
   "source": [
    "print('weights (mean) = '+str(np.round(np.mean(n8_weights_ind_os, axis=0),3)),\n",
    "      '\\nreturns (mean) = '+str(np.round(np.mean(n8_returns_ind_os, axis=0),3)),\n",
    "      '\\nrisks (mean) ='+str(np.round(np.mean(n8_risks_ind_os, axis=0),3)))"
   ]
  },
  {
   "cell_type": "code",
   "execution_count": 43,
   "id": "a9f56f45-e0ef-4ae8-b8f6-554ca408a759",
   "metadata": {},
   "outputs": [
    {
     "name": "stdout",
     "output_type": "stream",
     "text": [
      "weights (std) = [0.003 0.002 0.004 0.004 0.005 0.005 0.005 0.005] \n",
      "returns (std) = [0.03  0.028 0.034 0.035 0.038 0.031 0.033 0.029] \n",
      "risks (std) =[1.45  1.383 1.344 1.387 1.38  1.552 1.488 1.547]\n"
     ]
    }
   ],
   "source": [
    "print('weights (std) = '+str(np.round(np.std(n8_weights_ind_os, axis=0),3)),\n",
    "      '\\nreturns (std) = '+str(np.round(np.std(n8_returns_ind_os, axis=0),3)),\n",
    "      '\\nrisks (std) ='+str(np.round(np.std(n8_risks_ind_os, axis=0),3)))"
   ]
  },
  {
   "cell_type": "markdown",
   "id": "25a59ca1-8ad7-4bc2-ad65-fc0324e403b9",
   "metadata": {},
   "source": [
    "## $n=16$"
   ]
  },
  {
   "cell_type": "code",
   "execution_count": 66,
   "id": "c14fe2d6-1553-45a1-8426-48a4aa78dae3",
   "metadata": {},
   "outputs": [],
   "source": [
    "n_assets = 16\n",
    "n_obs = 1000\n",
    "r = np.eye(n_assets)"
   ]
  },
  {
   "cell_type": "code",
   "execution_count": 67,
   "id": "f7a765ff-3c4a-4c0c-aaa7-b18f31443b9a",
   "metadata": {},
   "outputs": [],
   "source": [
    "n16_weights_ind, n16_returns_ind, n16_risks_ind = one_corr_optimization(n_assets, n_obs, data_n16_ind, r) "
   ]
  },
  {
   "cell_type": "code",
   "execution_count": 49,
   "id": "29ab7d8b-09ec-45f3-bfbd-89c79358028e",
   "metadata": {},
   "outputs": [
    {
     "name": "stdout",
     "output_type": "stream",
     "text": [
      "weights (mean) = [0.063 0.063 0.062 0.063 0.063 0.062 0.062 0.062 0.063 0.062 0.063 0.062\n",
      " 0.062 0.063 0.062 0.062] \n",
      "returns (mean) = [0.062 0.062 0.062 0.062 0.062 0.062 0.062 0.062 0.062 0.062 0.062 0.062\n",
      " 0.062 0.062 0.062 0.062] \n",
      "risks (mean) =[28.452 28.374 28.483 28.395 28.47  28.598 28.416 28.387 28.431 28.401\n",
      " 28.337 28.408 28.461 28.304 28.364 28.475]\n"
     ]
    }
   ],
   "source": [
    "print('weights (mean) = '+str(np.round(np.mean(n16_weights_ind, axis=0),3)),\n",
    "      '\\nreturns (mean) = '+str(np.round(np.mean(n16_returns_ind, axis=0),3)),\n",
    "      '\\nrisks (mean) ='+str(np.round(np.mean(n16_risks_ind, axis=0),3)))"
   ]
  },
  {
   "cell_type": "code",
   "execution_count": 47,
   "id": "e4be2a7f-5505-46ec-8b24-ffc544391065",
   "metadata": {},
   "outputs": [
    {
     "name": "stdout",
     "output_type": "stream",
     "text": [
      "weights (std) = [0.002 0.002 0.002 0.002 0.002 0.002 0.002 0.002 0.002 0.002 0.002 0.002\n",
      " 0.002 0.001 0.002 0.002] \n",
      "returns (std) = [0.047 0.053 0.044 0.05  0.036 0.048 0.047 0.043 0.043 0.043 0.043 0.048\n",
      " 0.039 0.04  0.039 0.047] \n",
      "risks (std) =[2.246 2.278 2.215 2.244 2.291 2.401 2.355 2.215 2.212 2.227 2.243 2.207\n",
      " 2.247 2.196 2.282 2.26 ]\n"
     ]
    }
   ],
   "source": [
    "print('weights (std) = '+str(np.round(np.std(n16_weights_ind, axis=0),3)),\n",
    "      '\\nreturns (std) = '+str(np.round(np.std(n16_returns_ind, axis=0),3)),\n",
    "      '\\nrisks (std) ='+str(np.round(np.std(n16_risks_ind, axis=0),3)))"
   ]
  },
  {
   "cell_type": "code",
   "execution_count": 68,
   "id": "acac3113-1cb0-4102-830b-4efb1f4b5851",
   "metadata": {},
   "outputs": [],
   "source": [
    "n16_weights_ind_os, n16_returns_ind_os, n16_risks_ind_os = one_corr_optimization_zeros(n_assets, n_obs, data_n16_ind, data_n16_ind_os)"
   ]
  },
  {
   "cell_type": "code",
   "execution_count": 50,
   "id": "8dc3b17a-ebd5-491d-a3c8-56e3bba82285",
   "metadata": {},
   "outputs": [
    {
     "name": "stdout",
     "output_type": "stream",
     "text": [
      "weights (mean) = [0.018 0.018 0.069 0.069 0.069 0.069 0.069 0.069 0.069 0.069 0.069 0.069\n",
      " 0.069 0.069 0.069 0.069] \n",
      "returns (mean) = [0.648 0.655 2.539 2.53  2.526 2.525 2.532 2.532 2.533 2.534 2.524 2.532\n",
      " 2.528 2.531 2.543 2.531] \n",
      "risks (mean) =[27.893 27.85  27.909 27.858 27.923 28.065 27.876 27.859 27.9   27.866\n",
      " 27.777 27.87  27.897 27.773 27.819 27.944]\n"
     ]
    }
   ],
   "source": [
    "print('weights (mean) = '+str(np.round(np.mean(n16_weights_ind_os, axis=0),3)),\n",
    "      '\\nreturns (mean) = '+str(np.round(np.mean(n16_returns_ind_os, axis=0),3)),\n",
    "      '\\nrisks (mean) ='+str(np.round(np.mean(n16_risks_ind_os, axis=0),3)))"
   ]
  },
  {
   "cell_type": "code",
   "execution_count": 52,
   "id": "d992a3a3-f0fe-4287-ad37-eacf0dee759b",
   "metadata": {},
   "outputs": [
    {
     "name": "stdout",
     "output_type": "stream",
     "text": [
      "weights (std) = [0.001 0.001 0.002 0.002 0.002 0.002 0.002 0.002 0.002 0.002 0.002 0.002\n",
      " 0.002 0.001 0.002 0.002] \n",
      "returns (std) = [0.043 0.045 0.042 0.048 0.035 0.044 0.048 0.042 0.043 0.039 0.04  0.047\n",
      " 0.038 0.038 0.036 0.042] \n",
      "risks (std) =[2.246 2.278 2.215 2.244 2.291 2.401 2.355 2.215 2.212 2.227 2.243 2.207\n",
      " 2.247 2.196 2.282 2.26 ]\n"
     ]
    }
   ],
   "source": [
    "print('weights (std) = '+str(np.round(np.std(n16_weights_ind_os, axis=0),3)),\n",
    "      '\\nreturns (std) = '+str(np.round(np.std(n16_returns_ind_os, axis=0),3)),\n",
    "      '\\nrisks (std) ='+str(np.round(np.std(n16_risks_ind_os, axis=0),3)))"
   ]
  },
  {
   "cell_type": "markdown",
   "id": "b0eba142-ab93-4fad-b46b-56b5a65002a6",
   "metadata": {},
   "source": [
    "## Negatively Correlated"
   ]
  },
  {
   "cell_type": "markdown",
   "id": "dbc4f8f9-eebe-448a-9524-a84c300a765a",
   "metadata": {},
   "source": [
    "## $n=4$"
   ]
  },
  {
   "cell_type": "code",
   "execution_count": 69,
   "id": "3262dc77-dabf-4692-9d7b-2466b3e7b552",
   "metadata": {},
   "outputs": [],
   "source": [
    "n_assets = 4\n",
    "n_obs = 1000\n",
    "r = r = np.random.uniform(-0.8, -0.5, (n_assets,n_assets))\n",
    "np.fill_diagonal(r, 1)"
   ]
  },
  {
   "cell_type": "code",
   "execution_count": 70,
   "id": "28d2a99e-8573-48a3-b4de-30da3014c8c8",
   "metadata": {},
   "outputs": [],
   "source": [
    "n4_weights_neg, n4_returns_neg, n4_risks_neg = one_corr_optimization(n_assets, n_obs, data_n4_neg, r) "
   ]
  },
  {
   "cell_type": "code",
   "execution_count": 55,
   "id": "b6acb8d0-e703-49e9-8ea4-efa5cc84d7b6",
   "metadata": {},
   "outputs": [
    {
     "name": "stdout",
     "output_type": "stream",
     "text": [
      "weights (mean) = [0.244 0.251 0.253 0.252] \n",
      "returns (mean) = [2.502 2.502 2.509 2.486] \n",
      "risks (mean) =[79.513 77.851 77.113 77.946]\n"
     ]
    }
   ],
   "source": [
    "print('weights (mean) = '+str(np.round(np.mean(n4_weights_neg, axis=0),3)),\n",
    "      '\\nreturns (mean) = '+str(np.round(np.mean(n4_returns_neg, axis=0),3)),\n",
    "      '\\nrisks (mean) ='+str(np.round(np.mean(n4_risks_neg, axis=0),3)))"
   ]
  },
  {
   "cell_type": "code",
   "execution_count": 56,
   "id": "9a593284-b9ae-4bf0-bd29-c891730f63d0",
   "metadata": {},
   "outputs": [
    {
     "name": "stdout",
     "output_type": "stream",
     "text": [
      "weights (std) = [0.019 0.015 0.014 0.015] \n",
      "returns (std) = [0.109 0.11  0.102 0.121] \n",
      "risks (std) =[129.595 129.801 129.898 129.807]\n"
     ]
    }
   ],
   "source": [
    "print('weights (std) = '+str(np.round(np.std(n4_weights_neg, axis=0),3)),\n",
    "      '\\nreturns (std) = '+str(np.round(np.std(n4_returns_neg, axis=0),3)),\n",
    "      '\\nrisks (std) ='+str(np.round(np.std(n4_risks_neg, axis=0),3)))"
   ]
  },
  {
   "cell_type": "code",
   "execution_count": 71,
   "id": "9fb89858-560e-4fd9-ac5c-9666b7dfcd86",
   "metadata": {},
   "outputs": [],
   "source": [
    "n4_weights_neg_os, n4_returns_neg_os, n4_risks_neg_os = one_corr_optimization_zeros(n_assets, n_obs, data_n4_neg, data_n4_neg_os)"
   ]
  },
  {
   "cell_type": "code",
   "execution_count": 58,
   "id": "3cf35c61-6ffc-41e0-84a7-988f315fc407",
   "metadata": {},
   "outputs": [
    {
     "name": "stdout",
     "output_type": "stream",
     "text": [
      "weights (mean) = [0.118 0.122 0.382 0.379] \n",
      "returns (mean) = [0.656 0.653 2.569 2.561] \n",
      "risks (mean) =[79.513 77.851 77.113 77.946]\n"
     ]
    }
   ],
   "source": [
    "print('weights (mean) = '+str(np.round(np.mean(n4_weights_neg_os, axis=0),3)),\n",
    "      '\\nreturns (mean) = '+str(np.round(np.mean(n4_returns_neg_os, axis=0),3)),\n",
    "      '\\nrisks (mean) ='+str(np.round(np.mean(n4_risks_neg_os, axis=0),3)))"
   ]
  },
  {
   "cell_type": "code",
   "execution_count": 59,
   "id": "db6f651e-8c1f-4ac7-b1b1-b423cc901c75",
   "metadata": {},
   "outputs": [
    {
     "name": "stdout",
     "output_type": "stream",
     "text": [
      "weights (std) = [0.011 0.012 0.02  0.022] \n",
      "returns (std) = [0.084 0.085 0.055 0.061] \n",
      "risks (std) =[129.595 129.801 129.898 129.807]\n"
     ]
    }
   ],
   "source": [
    "print('weights (std) = '+str(np.round(np.std(n4_weights_neg_os, axis=0),3)),\n",
    "      '\\nreturns (std) = '+str(np.round(np.std(n4_returns_neg_os, axis=0),3)),\n",
    "      '\\nrisks (std) ='+str(np.round(np.std(n4_risks_neg_os, axis=0),3)))"
   ]
  },
  {
   "cell_type": "markdown",
   "id": "0f5f624b-a9dc-472b-ad7a-b4a00462a0b5",
   "metadata": {},
   "source": [
    "## $n=8$"
   ]
  },
  {
   "cell_type": "code",
   "execution_count": 72,
   "id": "62ada700-de32-4e03-8321-9b0e90d64555",
   "metadata": {},
   "outputs": [],
   "source": [
    "n_assets = 8\n",
    "n_obs = 1000\n",
    "r = r = np.random.uniform(-0.8, -0.5, (n_assets,n_assets))\n",
    "np.fill_diagonal(r, 1)"
   ]
  },
  {
   "cell_type": "code",
   "execution_count": 73,
   "id": "63bf265c-d466-40cf-b648-419751e9bee6",
   "metadata": {},
   "outputs": [],
   "source": [
    "n8_weights_neg, n8_returns_neg, n8_risks_neg = one_corr_optimization(n_assets, n_obs, data_n8_neg, r) "
   ]
  },
  {
   "cell_type": "code",
   "execution_count": 62,
   "id": "5b2cc85e-68df-409f-9264-792c8e69d3c3",
   "metadata": {},
   "outputs": [
    {
     "name": "stdout",
     "output_type": "stream",
     "text": [
      "weights (mean) = [0.123 0.123 0.126 0.124 0.126 0.127 0.127 0.124] \n",
      "returns (mean) = [2.614 2.616 2.609 2.62  2.616 2.601 2.605 2.615] \n",
      "risks (mean) =[11788.8   11780.73  11777.977 11778.722 11778.409 11776.92  11777.152\n",
      " 11820.304]\n"
     ]
    }
   ],
   "source": [
    "print('weights (mean) = '+str(np.round(np.mean(n8_weights_neg, axis=0),3)),\n",
    "      '\\nreturns (mean) = '+str(np.round(np.mean(n8_returns_neg, axis=0),3)),\n",
    "      '\\nrisks (mean) ='+str(np.round(np.mean(n8_risks_neg, axis=0),3)))"
   ]
  },
  {
   "cell_type": "code",
   "execution_count": 63,
   "id": "f65d26ca-f237-47b4-bb74-73b0c355018b",
   "metadata": {},
   "outputs": [
    {
     "name": "stdout",
     "output_type": "stream",
     "text": [
      "weights (std) = [0.014 0.009 0.007 0.009 0.005 0.007 0.005 0.013] \n",
      "returns (std) = [0.12  0.128 0.106 0.135 0.123 0.094 0.112 0.12 ] \n",
      "risks (std) =[94350.789 94351.755 94352.094 94352.    94352.061 94352.225 94352.202\n",
      " 94348.467]\n"
     ]
    }
   ],
   "source": [
    "print('weights (std) = '+str(np.round(np.std(n8_weights_neg, axis=0),3)),\n",
    "      '\\nreturns (std) = '+str(np.round(np.std(n8_returns_neg, axis=0),3)),\n",
    "      '\\nrisks (std) ='+str(np.round(np.std(n8_risks_neg, axis=0),3)))"
   ]
  },
  {
   "cell_type": "code",
   "execution_count": 74,
   "id": "0449dc9a-46a4-430e-9e3f-3f01359f6ebc",
   "metadata": {},
   "outputs": [],
   "source": [
    "n8_weights_neg_os, n8_returns_neg_os, n8_risks_neg_os = one_corr_optimization_zeros(n_assets, n_obs, data_n8_neg, data_n8_neg_os)"
   ]
  },
  {
   "cell_type": "code",
   "execution_count": 65,
   "id": "25814934-2d2b-432c-a49d-6547b9134eec",
   "metadata": {},
   "outputs": [
    {
     "name": "stdout",
     "output_type": "stream",
     "text": [
      "weights (mean) = [0.038 0.038 0.154 0.152 0.155 0.156 0.155 0.152] \n",
      "returns (mean) = [0.733 0.736 2.601 2.604 2.604 2.594 2.595 2.606] \n",
      "risks (mean) =[11788.8   11780.73  11777.977 11778.722 11778.409 11776.92  11777.152\n",
      " 11820.304]\n"
     ]
    }
   ],
   "source": [
    "print('weights (mean) = '+str(np.round(np.mean(n8_weights_neg_os, axis=0),3)),\n",
    "      '\\nreturns (mean) = '+str(np.round(np.mean(n8_returns_neg_os, axis=0),3)),\n",
    "      '\\nrisks (mean) ='+str(np.round(np.mean(n8_risks_neg_os, axis=0),3)))"
   ]
  },
  {
   "cell_type": "code",
   "execution_count": 66,
   "id": "345e5ae1-3c9a-4f8d-8e14-4b16009017a5",
   "metadata": {},
   "outputs": [
    {
     "name": "stdout",
     "output_type": "stream",
     "text": [
      "weights (std) = [0.008 0.007 0.008 0.01  0.007 0.009 0.006 0.015] \n",
      "returns (std) = [0.108 0.112 0.087 0.097 0.095 0.079 0.09  0.1  ] \n",
      "risks (std) =[94350.789 94351.755 94352.094 94352.    94352.061 94352.225 94352.202\n",
      " 94348.467]\n"
     ]
    }
   ],
   "source": [
    "print('weights (std) = '+str(np.round(np.std(n8_weights_neg_os, axis=0),3)),\n",
    "      '\\nreturns (std) = '+str(np.round(np.std(n8_returns_neg_os, axis=0),3)),\n",
    "      '\\nrisks (std) ='+str(np.round(np.std(n8_risks_neg_os, axis=0),3)))"
   ]
  },
  {
   "cell_type": "markdown",
   "id": "dbdc6fa9-1dae-42ff-92ec-1e6aa4288329",
   "metadata": {},
   "source": [
    "## $n=16$"
   ]
  },
  {
   "cell_type": "code",
   "execution_count": 75,
   "id": "d7189771-d505-4429-b356-a2c3cd617bbc",
   "metadata": {},
   "outputs": [],
   "source": [
    "n_assets = 16\n",
    "n_obs = 1000\n",
    "r = r = np.random.uniform(-0.8, -0.5, (n_assets,n_assets))\n",
    "np.fill_diagonal(r, 1)"
   ]
  },
  {
   "cell_type": "code",
   "execution_count": 76,
   "id": "d9d525e1-5ccb-4ac8-b630-27db5e3eef9b",
   "metadata": {},
   "outputs": [],
   "source": [
    "n16_weights_neg, n16_returns_neg, n16_risks_neg = one_corr_optimization(n_assets, n_obs, data_n16_neg, r) "
   ]
  },
  {
   "cell_type": "code",
   "execution_count": 69,
   "id": "16cd9a89-8490-4fe6-a5ea-2f61dc829aed",
   "metadata": {},
   "outputs": [
    {
     "name": "stdout",
     "output_type": "stream",
     "text": [
      "weights (mean) = [0.062 0.062 0.063 0.063 0.062 0.062 0.062 0.063 0.063 0.063 0.063 0.062\n",
      " 0.063 0.063 0.062 0.062] \n",
      "returns (mean) = [2.573 2.584 2.57  2.57  2.57  2.571 2.569 2.57  2.577 2.572 2.564 2.579\n",
      " 2.575 2.57  2.567 2.575] \n",
      "risks (mean) =[10950.891 10933.715 10931.137 10932.633 10966.737 10992.492 11048.607\n",
      " 10933.507 10931.159 10933.829 10938.266 10940.265 10932.237 10934.607\n",
      " 10946.648 10951.126]\n"
     ]
    }
   ],
   "source": [
    "print('weights (mean) = '+str(np.round(np.mean(n16_weights_neg, axis=0),3)),\n",
    "      '\\nreturns (mean) = '+str(np.round(np.mean(n16_returns_neg, axis=0),3)),\n",
    "      '\\nrisks (mean) ='+str(np.round(np.mean(n16_risks_neg, axis=0),3)))"
   ]
  },
  {
   "cell_type": "code",
   "execution_count": 70,
   "id": "8a73f244-7038-4501-a655-b0f3e5ae6cfa",
   "metadata": {},
   "outputs": [
    {
     "name": "stdout",
     "output_type": "stream",
     "text": [
      "weights (std) = [0.006 0.004 0.004 0.004 0.008 0.007 0.006 0.002 0.003 0.003 0.005 0.006\n",
      " 0.002 0.005 0.006 0.006] \n",
      "returns (std) = [0.146 0.159 0.13  0.129 0.128 0.159 0.143 0.132 0.151 0.142 0.12  0.156\n",
      " 0.136 0.131 0.132 0.144] \n",
      "risks (std) =[35600.646 35605.269 35606.038 35605.613 35596.642 35593.679 35591.529\n",
      " 35605.366 35606.039 35605.344 35603.986 35603.391 35605.726 35605.021\n",
      " 35601.676 35601.096]\n"
     ]
    }
   ],
   "source": [
    "print('weights (std) = '+str(np.round(np.std(n16_weights_neg, axis=0),3)),\n",
    "      '\\nreturns (std) = '+str(np.round(np.std(n16_returns_neg, axis=0),3)),\n",
    "      '\\nrisks (std) ='+str(np.round(np.std(n16_risks_neg, axis=0),3)))"
   ]
  },
  {
   "cell_type": "code",
   "execution_count": 77,
   "id": "480b6266-b3c8-4014-8255-4c70440ac34c",
   "metadata": {},
   "outputs": [],
   "source": [
    "n16_weights_neg_os, n16_returns_neg_os, n16_risks_neg_os = one_corr_optimization_zeros(n_assets, n_obs, data_n16_neg, data_n16_neg_os)"
   ]
  },
  {
   "cell_type": "code",
   "execution_count": 72,
   "id": "9f08b53e-b222-47c0-b26d-431b3b1a7a86",
   "metadata": {},
   "outputs": [
    {
     "name": "stdout",
     "output_type": "stream",
     "text": [
      "weights (mean) = [0.017 0.017 0.07  0.07  0.068 0.068 0.068 0.069 0.07  0.07  0.069 0.068\n",
      " 0.07  0.069 0.069 0.069] \n",
      "returns (mean) = [0.697 0.706 2.565 2.566 2.565 2.567 2.565 2.566 2.572 2.566 2.561 2.574\n",
      " 2.57  2.565 2.562 2.569] \n",
      "risks (mean) =[10950.891 10933.715 10931.137 10932.633 10966.737 10992.492 11048.607\n",
      " 10933.507 10931.159 10933.829 10938.266 10940.265 10932.237 10934.607\n",
      " 10946.648 10951.126]\n"
     ]
    }
   ],
   "source": [
    "print('weights (mean) = '+str(np.round(np.mean(n16_weights_neg_os, axis=0),3)),\n",
    "      '\\nreturns (mean) = '+str(np.round(np.mean(n16_returns_neg_os, axis=0),3)),\n",
    "      '\\nrisks (mean) ='+str(np.round(np.mean(n16_risks_neg_os, axis=0),3)))"
   ]
  },
  {
   "cell_type": "code",
   "execution_count": 73,
   "id": "3bb75f78-28aa-47d7-8a56-f4182975f524",
   "metadata": {},
   "outputs": [
    {
     "name": "stdout",
     "output_type": "stream",
     "text": [
      "weights (std) = [0.004 0.004 0.004 0.005 0.008 0.007 0.007 0.003 0.003 0.003 0.006 0.006\n",
      " 0.003 0.006 0.007 0.006] \n",
      "returns (std) = [0.139 0.155 0.115 0.12  0.111 0.143 0.122 0.118 0.133 0.122 0.111 0.142\n",
      " 0.123 0.114 0.115 0.125] \n",
      "risks (std) =[35600.646 35605.269 35606.038 35605.613 35596.642 35593.679 35591.529\n",
      " 35605.366 35606.039 35605.344 35603.986 35603.391 35605.726 35605.021\n",
      " 35601.676 35601.096]\n"
     ]
    }
   ],
   "source": [
    "print('weights (std) = '+str(np.round(np.std(n16_weights_neg_os, axis=0),3)),\n",
    "      '\\nreturns (std) = '+str(np.round(np.std(n16_returns_neg_os, axis=0),3)),\n",
    "      '\\nrisks (std) ='+str(np.round(np.std(n16_risks_neg_os, axis=0),3)))"
   ]
  },
  {
   "cell_type": "markdown",
   "id": "94181599-153f-45a5-8bac-07cb631d9540",
   "metadata": {},
   "source": [
    "## Save the Results"
   ]
  },
  {
   "cell_type": "code",
   "execution_count": 78,
   "id": "5982bac6-f70a-4b62-9efc-8e81db1e3be0",
   "metadata": {},
   "outputs": [],
   "source": [
    "BlackLittermanResults_Weights = [n4_weights_corr, n8_weights_corr, n16_weights_corr, n4_weights_corr_os, \n",
    "                              n8_weights_corr_os, n16_weights_corr_os, n4_weights_ind, n8_weights_ind,\n",
    "                              n16_weights_ind, n4_weights_ind_os, n8_weights_ind_os, n16_weights_ind_os,\n",
    "                              n4_weights_neg, n8_weights_neg, n16_weights_neg, n4_weights_neg_os, \n",
    "                              n8_weights_neg_os, n16_weights_neg_os]\n",
    "\n",
    "file_name = \"BlackLittermanResultsWeights.pkl\"\n",
    "open_file = open(file_name, \"wb\")\n",
    "pickle.dump(BlackLittermanResults_Weights, open_file)\n",
    "open_file.close()"
   ]
  },
  {
   "cell_type": "code",
   "execution_count": 148,
   "id": "d5cac003-b8ff-418f-9305-76e4ae9d5bc4",
   "metadata": {},
   "outputs": [],
   "source": [
    "BlackLittermanResults_Returns = [n4_returns_corr, n8_returns_corr, n16_returns_corr, n4_returns_corr_os, \n",
    "                              n8_returns_corr_os, n16_returns_corr_os, n4_returns_ind, n8_returns_ind,\n",
    "                              n16_returns_ind, n4_returns_ind_os, n8_returns_ind_os, n16_returns_ind_os,\n",
    "                              n4_returns_neg, n8_returns_neg, n16_returns_neg, n4_returns_neg_os, \n",
    "                              n8_returns_neg_os, n16_returns_neg_os]\n",
    "\n",
    "file_name = \"BlackLittermanResultsReturns.pkl\"\n",
    "open_file = open(file_name, \"wb\")\n",
    "pickle.dump(BlackLittermanResults_Returns, open_file)\n",
    "open_file.close()"
   ]
  },
  {
   "cell_type": "code",
   "execution_count": 149,
   "id": "db0a7439-a548-4920-b490-35231c422874",
   "metadata": {},
   "outputs": [],
   "source": [
    "BlackLittermanResults_Risks = [n4_risks_corr, n8_risks_corr, n16_risks_corr, n4_risks_corr_os, \n",
    "                              n8_risks_corr_os, n16_risks_corr_os, n4_risks_ind, n8_risks_ind,\n",
    "                              n16_risks_ind, n4_risks_ind_os, n8_risks_ind_os, n16_risks_ind_os,\n",
    "                              n4_risks_neg, n8_risks_neg, n16_risks_neg, n4_risks_neg_os, \n",
    "                              n8_risks_neg_os, n16_risks_neg_os]\n",
    "\n",
    "file_name = \"BlackLittermanResultsRisks.pkl\"\n",
    "open_file = open(file_name, \"wb\")\n",
    "pickle.dump(BlackLittermanResults_Risks, open_file)\n",
    "open_file.close()"
   ]
  },
  {
   "cell_type": "markdown",
   "id": "264b47ec-c112-444e-be74-b72f546ed0e1",
   "metadata": {},
   "source": [
    "## Play with the view's values"
   ]
  },
  {
   "cell_type": "markdown",
   "id": "3273e9a5-97d1-4dc2-b66a-921e5a616a75",
   "metadata": {},
   "source": [
    "I let the optimization run with 100 repetitions. In each repetition I randomly select an amount between -10% and 10% of the default views. Then I select the maximum returns and found that returns are maximized when views are 9.9% higher than the prior value.\n",
    "\n",
    "So, The higher the views, the higher the calculated returns. \n",
    "So... I'll just use the views equal to the prior so that views don't sway the results. right.?"
   ]
  },
  {
   "cell_type": "code",
   "execution_count": 1,
   "id": "68910b8d-e9b8-480b-8852-4ea1807c8318",
   "metadata": {},
   "outputs": [],
   "source": [
    "def bl_views(n_assets, n_obs, return_vec, views):\n",
    "    '''\n",
    "    This function evaluates the equillibrium returns of a portfolio and generates the sample\n",
    "    Inputs: \n",
    "    n_assets: Number of assets\n",
    "    n_obs: Number of observations\n",
    "    return_vec: A matrix of returns of shape n_obs x n_assets (a np.array)\n",
    "    Returns: \n",
    "    weights: optimal weights\n",
    "    bl_returns: BL returns\n",
    "    S: BL risk\n",
    "    '''\n",
    "    market_prices = pd.Series(np.random.randn(n_assets)) \n",
    "    rng = np.random.default_rng()\n",
    "    cov_struct = rng.multivariate_normal(np.zeros(n_assets), cov = r, size = n_obs)\n",
    "    S = pyp.risk_models.CovarianceShrinkage(cov_struct).ledoit_wolf()\n",
    "    delta = pyp.black_litterman.market_implied_risk_aversion(market_prices, risk_free_rate=0.5)\n",
    "    \n",
    "    market_prior = pd.Series(np.mean(return_vec + 5, axis = 0))\n",
    "    view = pd.Series(views)#np.ones(n_assets)*(1/n_assets)+ 5.0)\n",
    "    \n",
    "    bl = pyp.BlackLittermanModel(S, pi=market_prior, absolute_views=view)\n",
    "    bl_return = bl.bl_returns()\n",
    "\n",
    "    ef = pyp.EfficientFrontier(bl_return, r)\n",
    "    bl.bl_weights(delta)\n",
    "    weights = bl.clean_weights()\n",
    "\n",
    "    S_bl = bl.bl_cov()\n",
    "    return weights, bl_return, S_bl"
   ]
  },
  {
   "cell_type": "code",
   "execution_count": 118,
   "id": "a06cc3e7-dff5-4998-978f-03bf092bc0af",
   "metadata": {},
   "outputs": [],
   "source": [
    "def views_optimization(n_assets, n_obs, r):\n",
    "    '''\n",
    "    First, simulates portfolios then optimizes. \n",
    "    This does 100 replications\n",
    "    '''\n",
    "    weight_diff = np.zeros((99,n_assets))\n",
    "    return_diff = np.zeros((99,n_assets))\n",
    "    risks_diff = np.zeros((99,n_assets))\n",
    "    view_diff = np.zeros((99,n_assets))\n",
    "    \n",
    "    weight_res = np.zeros((99,n_assets))\n",
    "    return_res = np.zeros((99,n_assets))\n",
    "    risks_res = np.zeros((99,n_assets))\n",
    "    views = np.zeros((99,n_assets))\n",
    "    \n",
    "    rng = np.random.default_rng()\n",
    "    return_vec = rng.multivariate_normal(np.zeros(n_assets), cov = r, size = n_obs)\n",
    "    \n",
    "    for i in range(99):\n",
    "        # Make default calculation\n",
    "        default = np.mean(return_vec + 5, axis = 0)\n",
    "        default_weights, default_ret, default_rsk = bl_views(n_assets, n_obs, return_vec, default)\n",
    "        default_weights = list(default_weights.items())\n",
    "        wt = [x[1] for x in default_weights]\n",
    "        weight_def = wt\n",
    "        return_def = np.array(default_ret).T\n",
    "        risks_def = np.diagonal(np.array(default_rsk))\n",
    "        \n",
    "        views[i] = np.mean(return_vec + 5, axis = 0) + np.round(np.random.uniform(-0.1,0.1,1),3) * np.mean(return_vec + 5, axis=0)\n",
    "        weights, returns, risks = bl_views(n_assets, n_obs, return_vec, views[i]) \n",
    "        weights = list(weights.items())\n",
    "        w = [x[1] for x in weights]\n",
    "        weight_res[i,:] = w\n",
    "        return_res[i,:] = np.array(returns).T\n",
    "        risks_res[i,:] = np.diagonal(np.array(risks))\n",
    "        view_diff[i] = (views[i]-default)/default * 100\n",
    "        weight_diff[i,:] = (weight_res[i] - weight_def)/weight_def * 100\n",
    "        return_diff[i,:] = (return_res[i] - return_def)/return_def * 100\n",
    "        risks_diff[i,:] = (risks_res[i] - risks_def)/risks_def * 100\n",
    "    return views, view_diff, weight_diff, return_res, risks_diff"
   ]
  },
  {
   "cell_type": "code",
   "execution_count": 28,
   "id": "381d2aad-1ed4-4a26-b6ba-504653583bc0",
   "metadata": {},
   "outputs": [],
   "source": [
    "n_assets = 4\n",
    "n_obs = 1000\n",
    "r = np.random.uniform(0.8, 0.9, (n_assets,n_assets))\n",
    "np.fill_diagonal(r, 1)"
   ]
  },
  {
   "cell_type": "code",
   "execution_count": 119,
   "id": "eac01bbb-7392-47a2-86ce-1598537f415a",
   "metadata": {},
   "outputs": [],
   "source": [
    "views, views_diff, views_weights, views_returns, views_risks = views_optimization(n_assets, n_obs, r) "
   ]
  },
  {
   "cell_type": "code",
   "execution_count": 95,
   "id": "74ccd3ef-3044-487d-83aa-449cfc31e91e",
   "metadata": {},
   "outputs": [],
   "source": [
    "out = pd.DataFrame(np.hstack((views_diff, views_returns)))"
   ]
  },
  {
   "cell_type": "code",
   "execution_count": 120,
   "id": "c062206d-5e56-4d79-ad92-7a1ecf96f342",
   "metadata": {},
   "outputs": [
    {
     "data": {
      "text/plain": [
       "array([9.9, 9.9, 9.9, 9.9])"
      ]
     },
     "execution_count": 120,
     "metadata": {},
     "output_type": "execute_result"
    }
   ],
   "source": [
    "views_diff[views_returns.sum(axis=1).argmax()]\n",
    "#np.where(x == np.max(views_returns, axis=0))\n",
    "#views_returns.sum(axis=1)#.argmax()"
   ]
  },
  {
   "cell_type": "code",
   "execution_count": 105,
   "id": "1c837730-b58c-4a45-8bf0-a8674ab16839",
   "metadata": {},
   "outputs": [
    {
     "data": {
      "text/plain": [
       "numpy.float64"
      ]
     },
     "execution_count": 105,
     "metadata": {},
     "output_type": "execute_result"
    }
   ],
   "source": [
    "type(views_returns[1,1])"
   ]
  },
  {
   "cell_type": "code",
   "execution_count": 113,
   "id": "d15101fb-9754-466f-b88b-92c9177df993",
   "metadata": {},
   "outputs": [
    {
     "name": "stdout",
     "output_type": "stream",
     "text": [
      "       0     1     2     3         4         5         6         7\n",
      "0    3.8   3.8   3.8   3.8  5.052776  5.044410  5.079386  5.068058\n",
      "1   -1.5  -1.5  -1.5  -1.5  4.921375  4.913226  4.947292  4.936259\n",
      "2   -9.4  -9.4  -9.4  -9.4  4.725995  4.717771  4.750990  4.739886\n",
      "3    2.7   2.7   2.7   2.7  5.025504  5.017183  5.051971  5.040703\n",
      "4   11.8  11.8  11.8  11.8  5.251559  5.244740  5.279746  5.267524\n",
      "5   14.6  14.6  14.6  14.6  5.320539  5.311729  5.348559  5.336630\n",
      "6   18.1  18.1  18.1  18.1  5.407314  5.398360  5.435791  5.423667\n",
      "7   18.9  18.9  18.9  18.9  5.427148  5.418162  5.455729  5.443562\n",
      "8    3.9   3.9   3.9   3.9  5.055256  5.046885  5.081879  5.070545\n",
      "9    5.2   5.2   5.2   5.2  5.087486  5.079062  5.114279  5.102873\n",
      "10  15.7  15.7  15.7  15.7  5.347777  5.339086  5.376023  5.363993\n",
      "11  17.5  17.5  17.5  17.5  5.392438  5.383509  5.420837  5.408747\n",
      "12  10.6  10.6  10.6  10.6  5.221368  5.212722  5.248865  5.237159\n",
      "13  15.1  15.1  15.1  15.1  5.332926  5.324098  5.361025  5.349061\n",
      "14  -8.7  -8.7  -8.7  -8.7  4.742866  4.735013  4.767844  4.757210\n",
      "15   1.1   1.1   1.1   1.1  4.985844  4.977546  5.012089  5.000914\n",
      "16  20.0  20.0  20.0  20.0  5.454420  5.445389  5.483145  5.470916\n",
      "17   2.6   2.6   2.6   2.6  5.023000  5.014703  5.049476  5.038210\n",
      "18  19.2  19.2  19.2  19.2  5.434586  5.425587  5.463206  5.451022\n",
      "19  10.1  10.1  10.1  10.1  5.208199  5.200080  5.235227  5.224688\n",
      "20   0.9   0.9   0.9   0.9  4.980880  4.972623  5.007115  4.995947\n",
      "21 -13.7 -13.7 -13.7 -13.7  4.618902  4.611254  4.643227  4.632871\n",
      "22  18.0  18.0  18.0  18.0  5.404835  5.395885  5.433298  5.421181\n",
      "23   4.9   4.9   4.9   4.9  5.080079  5.071787  5.106822  5.095467\n",
      "24   1.3   1.3   1.3   1.3  4.990794  4.982531  5.017078  5.005888\n",
      "25  -2.6  -2.6  -2.6  -2.6  4.894076  4.885993  4.919867  4.908901\n",
      "26 -17.8 -17.8 -17.8 -17.8  4.517252  4.509772  4.541041  4.530913\n",
      "27   1.1   1.1   1.1   1.1  4.986022  4.977555  5.012164  5.000961\n",
      "28  -5.8  -5.8  -5.8  -5.8  4.814765  4.806793  4.840122  4.829327\n",
      "29 -17.6 -17.6 -17.6 -17.6  4.522210  4.514722  4.546026  4.535887\n",
      "30 -18.8 -18.8 -18.8 -18.8  4.492459  4.485020  4.516118  4.506046\n",
      "31  -0.2  -0.2  -0.2  -0.2  4.953605  4.945403  4.979693  4.968587\n",
      "32  11.3  11.3  11.3  11.3  5.238723  5.230048  5.266312  5.254566\n",
      "33   6.2   6.2   6.2   6.2  5.112279  5.103814  5.139202  5.127741\n",
      "34   5.9   5.9   5.9   5.9  5.104841  5.096389  5.131725  5.120280\n",
      "35  17.1  17.1  17.1  17.1  5.382521  5.373608  5.410867  5.398800\n",
      "36 -17.2 -17.2 -17.2 -17.2  4.535155  4.524664  4.554496  4.545644\n",
      "37 -18.5 -18.5 -18.5 -18.5  4.500295  4.492522  4.524159  4.513478\n",
      "38  -6.5  -6.5  -6.5  -6.5  4.797410  4.789467  4.822675  4.811920\n",
      "39  15.8  15.8  15.8  15.8  5.350290  5.341431  5.378467  5.366472\n",
      "40 -15.7 -15.7 -15.7 -15.7  4.569317  4.561751  4.593380  4.583136\n",
      "41  -1.2  -1.2  -1.2  -1.2  4.928812  4.920651  4.954769  4.943719\n",
      "42   1.8   1.8   1.8   1.8  5.003191  4.994906  5.029539  5.018322\n",
      "43 -19.5 -19.5 -19.5 -19.5  4.472432  4.466227  4.486875  4.486627\n",
      "44   0.0   0.0   0.0   0.0  4.958564  4.950353  4.984677  4.973560\n",
      "45   3.0   3.0   3.0   3.0  5.032942  5.024614  5.059454  5.048161\n",
      "46   3.5   3.5   3.5   3.5  5.045339  5.036984  5.071909  5.060598\n",
      "47 -16.8 -16.8 -16.8 -16.8  4.542044  4.534524  4.565964  4.555781\n",
      "48  -1.8  -1.8  -1.8  -1.8  4.913929  4.905813  4.939807  4.928779\n",
      "49  -4.1  -4.1  -4.1  -4.1  4.856913  4.848871  4.882492  4.871602\n",
      "50  19.0  19.0  19.0  19.0  5.429627  5.420637  5.458222  5.446048\n",
      "51  17.7  17.7  17.7  17.7  5.397397  5.388459  5.425821  5.413720\n",
      "52  12.0  12.0  12.0  12.0  5.256078  5.247374  5.283758  5.271974\n",
      "53  19.5  19.5  19.5  19.5  5.442024  5.433013  5.470683  5.458482\n",
      "54  19.4  19.4  19.4  19.4  5.439544  5.430537  5.468191  5.455996\n",
      "55   3.5   3.5   3.5   3.5  5.045339  5.036984  5.071909  5.060598\n",
      "56  -9.5  -9.5  -9.5  -9.5  4.723032  4.715211  4.747905  4.737316\n",
      "57 -17.3 -17.3 -17.3 -17.3  4.529648  4.522148  4.553503  4.543347\n",
      "58  11.8  11.8  11.8  11.8  5.251119  5.242424  5.278773  5.267000\n",
      "59  11.2  11.2  11.2  11.2  5.236243  5.227573  5.263819  5.252080\n",
      "60   4.8   4.8   4.8   4.8  5.077569  5.069162  5.104310  5.092926\n",
      "61 -16.3 -16.3 -16.3 -16.3  4.554441  4.546899  4.578426  4.568215\n",
      "62  -5.1  -5.1  -5.1  -5.1  4.832120  4.824119  4.857568  4.846734\n",
      "63  11.6  11.6  11.6  11.6  5.246354  5.236970  5.273802  5.262203\n",
      "64  -7.9  -7.9  -7.9  -7.9  4.762730  4.754813  4.787769  4.777092\n",
      "65  16.8  16.8  16.8  16.8  5.375083  5.366183  5.403390  5.391339\n",
      "66   6.9   6.9   6.9   6.9  5.129634  5.121140  5.156649  5.145148\n",
      "67   0.9   0.9   0.9   0.9  4.980877  4.972630  5.007108  4.995941\n",
      "68 -16.4 -16.4 -16.4 -16.4  4.551962  4.544424  4.575934  4.565728\n",
      "69  11.7  11.7  11.7  11.7  5.248640  5.239949  5.276281  5.264514\n",
      "70 -12.2 -12.2 -12.2 -12.2  4.655838  4.648130  4.680546  4.670357\n",
      "71  10.0  10.0  10.0  10.0  5.206492  5.197871  5.233911  5.222238\n",
      "72   5.2   5.2   5.2   5.2  5.087486  5.079062  5.114279  5.102873\n",
      "73  12.7  12.7  12.7  12.7  5.273433  5.264701  5.301204  5.289381\n",
      "74   6.8   6.8   6.8   6.8  5.127155  5.118665  5.154156  5.142661\n",
      "75 -16.5 -16.5 -16.5 -16.5  4.549482  4.541949  4.573442  4.563242\n",
      "76  -0.7  -0.7  -0.7  -0.7  4.941209  4.933027  4.967231  4.956153\n",
      "77  10.6  10.6  10.6  10.6  5.221368  5.212722  5.248865  5.237159\n",
      "78  -3.6  -3.6  -3.6  -3.6  4.869310  4.861247  4.894953  4.884036\n",
      "79  16.7  16.7  16.7  16.7  5.359571  5.362640  5.398852  5.385847\n",
      "80  -2.6  -2.6  -2.6  -2.6  4.894102  4.885999  4.919877  4.908904\n",
      "81  12.1  12.1  12.1  12.1  5.258557  5.249850  5.286250  5.274461\n",
      "82   6.4   6.4   6.4   6.4  5.117238  5.108765  5.144187  5.132714\n",
      "83  -7.9  -7.9  -7.9  -7.9  4.762701  4.754814  4.787783  4.777105\n",
      "84   9.8   9.8   9.8   9.8  5.201533  5.192921  5.228927  5.217265\n",
      "85 -18.4 -18.4 -18.4 -18.4  4.502376  4.494921  4.526087  4.515993\n",
      "86   1.6   1.6   1.6   1.6  4.998232  4.989956  5.024555  5.013349\n",
      "87 -18.1 -18.1 -18.1 -18.1  4.509814  4.502346  4.533564  4.523453\n",
      "88 -16.7 -16.7 -16.7 -16.7  4.544524  4.536999  4.568457  4.558268\n",
      "89  -1.8  -1.8  -1.8  -1.8  4.913937  4.905800  4.939815  4.928798\n",
      "90  14.0  14.0  14.0  14.0  5.304958  5.295842  5.333441  5.322696\n",
      "91 -18.9 -18.9 -18.9 -18.9  4.490325  4.482649  4.513870  4.503570\n",
      "92  16.7  16.7  16.7  16.7  5.403652  5.362953  5.401250  5.410636\n",
      "93 -14.9 -14.9 -14.9 -14.9  4.589151  4.581552  4.613319  4.603030\n",
      "94   8.7   8.7   8.7   8.7  5.174606  5.165963  5.201694  5.189975\n",
      "95  13.1  13.1  13.1  13.1  5.283350  5.274601  5.311174  5.299328\n",
      "96 -18.9 -18.9 -18.9 -18.9  4.489980  4.482545  4.513625  4.503559\n",
      "97 -10.6 -10.6 -10.6 -10.6  4.695760  4.687985  4.720489  4.709962\n",
      "98 -16.2 -16.2 -16.2 -16.2  4.556920  4.549375  4.580919  4.570702\n"
     ]
    }
   ],
   "source": [
    "with pd.option_context('display.max_rows', None, 'display.max_columns', None):  # more options can be specified also\n",
    "    print(out)"
   ]
  },
  {
   "cell_type": "markdown",
   "id": "11650bf9-7bf1-46e8-a570-e4386a6e2e6a",
   "metadata": {},
   "source": [
    "Archived:\n",
    "    def bl(n_assets, n_obs, return_vec):\n",
    "    '''\n",
    "    This function evaluates the equillibrium returns of a portfolio and generates the sample\n",
    "    Inputs: \n",
    "    n_assets: Number of assets\n",
    "    n_obs: Number of observations\n",
    "    return_vec: A matrix of returns of shape n_obs x n_assets (a np.array)\n",
    "    Returns: \n",
    "    weights: optimal weights\n",
    "    bl_returns: BL returns\n",
    "    S: BL risk\n",
    "    '''\n",
    "    market_prices = pd.Series(np.random.randn(n_assets)) # This needs to be Rf - Rm1\n",
    "    cov_struct = return_vec\n",
    "    S = pyp.risk_models.CovarianceShrinkage(cov_struct).ledoit_wolf()\n",
    "    delta = pyp.black_litterman.market_implied_risk_aversion(market_prices, risk_free_rate=0.5)\n",
    "    \n",
    "    data = pd.Series(np.mean(return_vec + 5, axis = 0))\n",
    "    view = pd.Series(np.mean(return_vec + 5, axis = 0))#np.ones(n_assets)*(1/n_assets)+ 5.0)\n",
    "    \n",
    "    bl = pyp.BlackLittermanModel(S, pi=data, absolute_views=view)\n",
    "    bl_return = bl.bl_returns()\n",
    "\n",
    "    ef = pyp.EfficientFrontier(bl_return, r)\n",
    "    bl.bl_weights(delta)\n",
    "    weights = bl.clean_weights()\n",
    "\n",
    "    S_bl = bl.bl_cov()\n",
    "    return weights, bl_return, S_bl\n",
    "    \n",
    "    ### This is a test - do not run\n",
    "#r = np.random.uniform(0.8, 0.9, (4,4))\n",
    "#rng = np.random.default_rng()\n",
    "#return_vec = rng.multivariate_normal(np.zeros(4), cov = r, size = 100)\n",
    "\n",
    "\n",
    "#market_prices = pd.Series(np.mean(return_vec)) \n",
    "#rng = np.random.default_rng()\n",
    "#cov_struct = rng.multivariate_normal(np.zeros(n_assets), cov = r, size = n_obs)\n",
    "#S = pyp.risk_models.CovarianceShrinkage(cov_struct).ledoit_wolf()\n",
    "#delta = pyp.black_litterman.market_implied_risk_aversion(market_prices, risk_free_rate=0.5)\n",
    "    \n",
    "#market_prior = pd.Series(np.random.randn(n_assets))\n",
    "#view = pd.Series(np.ones(n_assets)*(1/n_assets))\n",
    "    \n",
    "#bl = pyp.BlackLittermanModel(S, pi=market_prior, absolute_views=view)\n",
    "#bl_return = bl.bl_returns()\n",
    "\n",
    "#ef = pyp.EfficientFrontier(bl_return, r)\n",
    "#bl.bl_weights(delta)\n",
    "#weights = bl.clean_weights()\n",
    "\n",
    "#S_bl = bl.bl_cov()\n",
    "#print(cov_struct, S, S_bl)\n",
    "#np.mean(return_vec, axis = 0)"
   ]
  },
  {
   "cell_type": "code",
   "execution_count": null,
   "id": "80156903-1f14-49a7-9fd0-75e30f5c0e7b",
   "metadata": {},
   "outputs": [],
   "source": [
    "def one_corr_optimization_zeros(n_assets, n_obs, data, r):\n",
    "    '''\n",
    "    First, simulates portfolios then optimizes. \n",
    "    This does 100 replications\n",
    "    '''\n",
    "    weight_res = np.zeros((99,n_assets))\n",
    "    return_res = np.zeros((99,n_assets))\n",
    "    risks_res = np.zeros((99,n_assets))\n",
    "    \n",
    "    for i in range(99):\n",
    "        return_vec = data[i]\n",
    "        _75_perct = int(len(return_vec[:,0])*3/4)\n",
    "        return_vec[random.sample(list(range(1000)), _75_perct),0] = 0\n",
    "        np.random.seed(i*5)\n",
    "        return_vec[random.sample(list(range(1000)), _75_perct),1] = 0\n",
    "        \n",
    "        weights, returns, risks = bl(n_assets, n_obs, return_vec)\n",
    "        weights = list(weights.items())\n",
    "        w = [x[1] for x in weights]\n",
    "        weight_res[i,:] = w\n",
    "        return_res[i,:] = np.array(returns).T\n",
    "        risks_res[i,:] = np.diagonal(np.array(risks))\n",
    "    return weight_res, return_res, risks_res"
   ]
  }
 ],
 "metadata": {
  "kernelspec": {
   "display_name": "Python 3",
   "language": "python",
   "name": "python3"
  },
  "language_info": {
   "codemirror_mode": {
    "name": "ipython",
    "version": 3
   },
   "file_extension": ".py",
   "mimetype": "text/x-python",
   "name": "python",
   "nbconvert_exporter": "python",
   "pygments_lexer": "ipython3",
   "version": "3.8.8"
  }
 },
 "nbformat": 4,
 "nbformat_minor": 5
}
