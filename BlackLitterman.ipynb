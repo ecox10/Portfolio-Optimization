{
 "cells": [
  {
   "cell_type": "markdown",
   "id": "fa60bf70-e532-4071-b428-bd948a1bbb85",
   "metadata": {},
   "source": [
    "# Complete Black-Litterman Optimization\n",
    "\n",
    "| | | | \n",
    "|----------------------------------------------------------------------|-----------------------------------------------|---------------------------------------------------------------------------------|\n",
    "| n=4 $returns \\sim \\mathcal{N}(\\mu,\\sigma)$ Correlation from 0.8-0.9  | n=4 $returns \\sim N(\\mu,\\sigma)$ Independent  | n=4 $returns \\sim \\mathcal{N}(\\mu, sigma)$ Negative correlation (-0.8 to -0.5)  |\n",
    "| n=8 $returns \\sim \\mathcal{N}(\\mu,\\sigma)$ Correlation from 0.8-0.9  | n=8 $returns \\sim N(\\mu,\\sigma)$ Independent  | n=8 $returns \\sim \\mathcal{N}(\\mu, sigma)$ Negative correlation (-0.8 to -0.5)  |\n",
    "| n=16 $returns \\sim \\mathcal{N}(\\mu,\\sigma)$ Correlation from 0.8-0.9 | n=16 $returns \\sim N(\\mu,\\sigma)$ Independent | n=16 $returns \\sim \\mathcal{N}(\\mu, sigma)$ Negative correlation (-0.8 to -0.5) |\n",
    "\n",
    "using the method laid out in 4.2, Black-Litterman portfolio optimization\n",
    "\n",
    "using https://python-advanced.quantecon.org/black_litterman.html"
   ]
  },
  {
   "cell_type": "markdown",
   "id": "5110f681-585e-4387-a111-3e4684b44d39",
   "metadata": {},
   "source": [
    "## Read Packages"
   ]
  },
  {
   "cell_type": "code",
   "execution_count": 65,
   "id": "6f897b9d-5ab0-41e4-b642-017a3b9d13e7",
   "metadata": {},
   "outputs": [],
   "source": [
    "import numpy as np\n",
    "import pandas as pd\n",
    "import scipy.stats as stat\n",
    "import matplotlib.pyplot as plt\n",
    "from pylab import rcParams\n",
    "%matplotlib inline\n",
    "import random\n",
    "import trace\n",
    "import pickle\n",
    "import sklearn.covariance"
   ]
  },
  {
   "cell_type": "code",
   "execution_count": 66,
   "id": "00ea9b91-8564-4ee5-8039-5a892fa1e06e",
   "metadata": {},
   "outputs": [],
   "source": [
    "import pypfopt as pyp\n",
    "import warnings\n",
    "from pypfopt.black_litterman import BlackLittermanModel\n",
    "warnings.filterwarnings(\"ignore\")\n"
   ]
  },
  {
   "cell_type": "markdown",
   "id": "fca51a9d-f253-4dc4-a37b-3b2fae525595",
   "metadata": {},
   "source": [
    "## Read Data"
   ]
  },
  {
   "cell_type": "code",
   "execution_count": 69,
   "id": "3c8ae77d-1074-4079-9c6c-a06fe344b2b8",
   "metadata": {},
   "outputs": [],
   "source": [
    "## Read the Data\n",
    "file_name = \"PortfolioOptimizationData.pkl\"\n",
    "\n",
    "open_file = open(file_name, \"rb\")\n",
    "loaded_list = pickle.load(open_file)\n",
    "open_file.close()\n",
    "\n",
    "file_name_os = \"PortfolioOptimizationData_Zeros.pkl\"\n",
    "\n",
    "open_file_os = open(file_name_os, \"rb\")\n",
    "loaded_list_os = pickle.load(open_file_os)\n",
    "open_file_os.close()"
   ]
  },
  {
   "cell_type": "code",
   "execution_count": 70,
   "id": "a1a5aec7-2253-4d7a-a921-8849dcbe3184",
   "metadata": {},
   "outputs": [],
   "source": [
    "data_n4_corr = loaded_list[0]\n",
    "data_n8_corr = loaded_list[1]\n",
    "data_n16_corr = loaded_list[2]\n",
    "\n",
    "data_n4_ind = loaded_list[3]\n",
    "data_n8_ind = loaded_list[4]\n",
    "data_n16_ind = loaded_list[5]\n",
    "\n",
    "data_n4_neg = loaded_list[6]\n",
    "data_n8_neg = loaded_list[7]\n",
    "data_n16_neg = loaded_list[8]\n",
    "\n",
    "data_n4_corr_os = loaded_list_os[0]\n",
    "data_n8_corr_os = loaded_list_os[1]\n",
    "data_n16_corr_os = loaded_list_os[2]\n",
    "\n",
    "data_n4_ind_os = loaded_list_os[3]\n",
    "data_n8_ind_os = loaded_list_os[4]\n",
    "data_n16_ind_os = loaded_list_os[5]\n",
    "\n",
    "data_n4_neg_os = loaded_list_os[6]\n",
    "data_n8_neg_os = loaded_list_os[7]\n",
    "data_n16_neg_os = loaded_list_os[8]"
   ]
  },
  {
   "cell_type": "markdown",
   "id": "17d1f318-f56c-454a-abab-be02c5b02644",
   "metadata": {},
   "source": [
    "## Define Functions"
   ]
  },
  {
   "cell_type": "markdown",
   "id": "682e800f-8ac8-4d8b-b613-8a8cd1515803",
   "metadata": {},
   "source": [
    "Function that Calculated equillibrium values \n",
    "\n",
    "This step generates the sample"
   ]
  },
  {
   "cell_type": "code",
   "execution_count": 56,
   "id": "052d4595-026e-4add-af5d-019bfe882407",
   "metadata": {},
   "outputs": [],
   "source": [
    "def bl(n_assets, n_obs, return_vec):\n",
    "    '''\n",
    "    This function evaluates the equillibrium returns of a portfolio and generates the sample\n",
    "    Inputs: \n",
    "    n_assets: Number of assets\n",
    "    n_obs: Number of observations\n",
    "    return_vec: A matrix of returns of shape n_obs x n_assets (a np.array)\n",
    "    Returns: \n",
    "    weights: optimal weights\n",
    "    bl_returns: BL returns\n",
    "    S: BL risk\n",
    "    '''\n",
    "    S = pyp.risk_models.CovarianceShrinkage(return_vec).ledoit_wolf()\n",
    "    view = pd.Series(np.mean(return_vec, axis = 0))\n",
    "    delta = np.random.normal(1)\n",
    "    \n",
    "    bl = pyp.BlackLittermanModel(S, pi = \"equal\", absolute_views=view)\n",
    "    bl_return = bl.bl_returns()\n",
    "\n",
    "    ef = pyp.EfficientFrontier(bl_return, S)\n",
    "    bl.bl_weights(delta)\n",
    "    weights = bl.clean_weights()\n",
    "\n",
    "    S_bl = bl.bl_cov()\n",
    "    return weights, bl_return, S_bl"
   ]
  },
  {
   "cell_type": "code",
   "execution_count": 97,
   "id": "b9146498-f95c-427d-9f85-3d666ecd6d48",
   "metadata": {},
   "outputs": [],
   "source": [
    "def bl_os(n_assets, n_obs, return_vec, return_vec_os):\n",
    "    '''\n",
    "    This function evaluates the equillibrium returns of a portfolio and generates the sample\n",
    "    Inputs: \n",
    "    n_assets: Number of assets\n",
    "    n_obs: Number of observations\n",
    "    return_vec: A matrix of returns of shape n_obs x n_assets (a np.array)\n",
    "    Returns: \n",
    "    weights: optimal weights\n",
    "    bl_returns: BL returns\n",
    "    S: BL risk\n",
    "    '''\n",
    "    S = pyp.risk_models.CovarianceShrinkage(return_vec).ledoit_wolf()\n",
    "    view = pd.Series(np.mean(return_vec_os, axis = 0))\n",
    "    delta = np.random.normal(1)\n",
    "    \n",
    "    bl = pyp.BlackLittermanModel(S, pi = \"equal\", absolute_views=view)\n",
    "    bl_return = bl.bl_returns()\n",
    "\n",
    "    ef = pyp.EfficientFrontier(bl_return, S)\n",
    "    bl.bl_weights(delta)\n",
    "    weights = bl.clean_weights()\n",
    "\n",
    "    S_bl = bl.bl_cov()\n",
    "    return weights, bl_return, S_bl"
   ]
  },
  {
   "cell_type": "markdown",
   "id": "13e228ea-c926-411a-b5f1-a8d0befbb5ac",
   "metadata": {},
   "source": [
    "Notes: There's no way around it, I have to give it a view, a vector of data, and absolute views. Otherwise all hell breaks loose."
   ]
  },
  {
   "cell_type": "code",
   "execution_count": 58,
   "id": "aeeeb0a9-c677-42f8-abca-eedecbec7ac7",
   "metadata": {},
   "outputs": [],
   "source": [
    "def one_corr_optimization(n_assets, n_obs, data, r):\n",
    "    '''\n",
    "    First, simulates portfolios then optimizes. \n",
    "    This does 100 replications\n",
    "    '''\n",
    "    weight_res = np.zeros((99,n_assets))\n",
    "    return_res = np.zeros((99,n_assets))\n",
    "    risks_res = np.zeros((99,n_assets))\n",
    "    \n",
    "    for i in range(99):\n",
    "        return_vec = data[i]\n",
    "        weights, returns, risks = bl(n_assets, n_obs, return_vec) \n",
    "        weights = list(weights.items())\n",
    "        w = [x[1] for x in weights]\n",
    "        weight_res[i,:] = w\n",
    "        return_res[i,:] = np.array(returns).T\n",
    "        risks_res[i,:] = np.diagonal(np.array(risks))\n",
    "    return weight_res, return_res, risks_res"
   ]
  },
  {
   "cell_type": "code",
   "execution_count": 96,
   "id": "295d5028-4dbc-41f4-9d6e-ae0e3962df0e",
   "metadata": {},
   "outputs": [],
   "source": [
    "def one_corr_optimization_zeros(n_assets, n_obs, data, data_os):\n",
    "    '''\n",
    "    First, simulates portfolios then optimizes. \n",
    "    This does 100 replications\n",
    "    '''\n",
    "    weight_res = np.zeros((99,n_assets))\n",
    "    return_res = np.zeros((99,n_assets))\n",
    "    risks_res = np.zeros((99,n_assets))\n",
    "    \n",
    "    for i in range(99):\n",
    "        return_vec = data[i]\n",
    "        return_vec_os = data_os[i]\n",
    "        weights, returns, risks = bl_os(n_assets, n_obs, return_vec, return_vec_os)\n",
    "        weights = list(weights.items())\n",
    "        w = [x[1] for x in weights]\n",
    "        weight_res[i,:] = w\n",
    "        return_res[i,:] = np.array(returns).T\n",
    "        risks_res[i,:] = np.diagonal(np.array(risks))\n",
    "    return weight_res, return_res, risks_res"
   ]
  },
  {
   "cell_type": "markdown",
   "id": "db878b0e-84bf-4a7a-a7c1-c997907ef5d1",
   "metadata": {},
   "source": [
    "# Perform Optimization\n",
    "## Correlated"
   ]
  },
  {
   "cell_type": "markdown",
   "id": "4423587d-0f5f-45c3-ad7d-db9d68eefbe4",
   "metadata": {},
   "source": [
    "## $n=4$"
   ]
  },
  {
   "cell_type": "code",
   "execution_count": 100,
   "id": "f04772d7-9ecb-4431-8614-28bd5984fd1d",
   "metadata": {},
   "outputs": [],
   "source": [
    "n_assets = 4\n",
    "n_obs = 1000\n",
    "r = np.random.uniform(0.8, 0.9, (n_assets,n_assets))\n",
    "np.fill_diagonal(r, 1)"
   ]
  },
  {
   "cell_type": "code",
   "execution_count": 71,
   "id": "f5c1de09-e1c4-4bbb-9200-83a3a4255261",
   "metadata": {},
   "outputs": [],
   "source": [
    "n4_weights_corr, n4_returns_corr, n4_risks_corr = one_corr_optimization(n_assets, n_obs, data_n4_corr, r) #"
   ]
  },
  {
   "cell_type": "code",
   "execution_count": 61,
   "id": "c5ae3470-56ae-4d31-b735-dff15f542703",
   "metadata": {},
   "outputs": [
    {
     "name": "stdout",
     "output_type": "stream",
     "text": [
      "weights (mean) = [0.266 0.248 0.245 0.241] \n",
      "returns (mean) = [3.912 3.96  3.943 3.969] \n",
      "risks (mean) =[26.988 27.079 28.098 27.639]\n"
     ]
    }
   ],
   "source": [
    "print('weights (mean) = '+str(np.round(np.mean(n4_weights_corr, axis=0),3)),\n",
    "      '\\nreturns (mean) = '+str(np.round(np.mean(n4_returns_corr, axis=0),3)),\n",
    "      '\\nrisks (mean) ='+str(np.round(np.mean(n4_risks_corr, axis=0),3)))"
   ]
  },
  {
   "cell_type": "code",
   "execution_count": null,
   "id": "e1832b59-36e7-461a-8384-cdcc961a3cbb",
   "metadata": {},
   "outputs": [],
   "source": [
    "print('weights (std) = '+str(np.round(np.std(n4_weights_corr, axis=0),3)),\n",
    "      '\\nreturns (std) = '+str(np.round(np.std(n4_returns_corr, axis=0),3)),\n",
    "      '\\nrisks (std) ='+str(np.round(np.std(n4_risks_corr, axis=0),3)))"
   ]
  },
  {
   "cell_type": "code",
   "execution_count": 101,
   "id": "eedc266c-1bf8-4ae1-bb28-9ad8226d6cee",
   "metadata": {},
   "outputs": [],
   "source": [
    "n4_weights_corr_os, n4_returns_corr_os, n4_risks_corr_os = one_corr_optimization_zeros(n_assets, n_obs, data_n4_corr, data_n4_corr_os)"
   ]
  },
  {
   "cell_type": "code",
   "execution_count": 102,
   "id": "4cd4d61f-d4ee-4858-a66c-0705aa3537f2",
   "metadata": {},
   "outputs": [
    {
     "name": "stdout",
     "output_type": "stream",
     "text": [
      "weights (mean) = [-0.289 -0.298  0.775  0.812] \n",
      "returns (mean) = [2.14  2.157 2.797 2.754] \n",
      "risks (mean) =[27.495 27.031 28.547 27.613]\n"
     ]
    }
   ],
   "source": [
    "print('weights (mean) = '+str(np.round(np.mean(n4_weights_corr_os, axis=0),3)),\n",
    "      '\\nreturns (mean) = '+str(np.round(np.mean(n4_returns_corr_os, axis=0),3)),\n",
    "      '\\nrisks (mean) ='+str(np.round(np.mean(n4_risks_corr_os, axis=0),3)))"
   ]
  },
  {
   "cell_type": "code",
   "execution_count": 30,
   "id": "4d99b203-2de0-40a6-9414-d2f59f42cfe6",
   "metadata": {},
   "outputs": [
    {
     "name": "stdout",
     "output_type": "stream",
     "text": [
      "weights (std) = [0.024 0.023 0.024 0.032] \n",
      "returns (std) = [0.008 0.008 0.037 0.039] \n",
      "risks (std) =[80363448.239 80362921.541 80363032.365 80392527.224]\n"
     ]
    }
   ],
   "source": [
    "print('weights (std) = '+str(np.round(np.std(n4_weights_corr_os, axis=0),3)),\n",
    "      '\\nreturns (std) = '+str(np.round(np.std(n4_returns_corr_os, axis=0),3)),\n",
    "      '\\nrisks (std) ='+str(np.round(np.std(n4_risks_corr_os, axis=0),3)))"
   ]
  },
  {
   "cell_type": "markdown",
   "id": "a6e830ca-11ec-43d8-97f2-9b1fc8417bd4",
   "metadata": {},
   "source": [
    "## $ n = 8$"
   ]
  },
  {
   "cell_type": "code",
   "execution_count": 104,
   "id": "ceb357b4-d6fe-4ac6-a38f-b9c133ac679f",
   "metadata": {},
   "outputs": [],
   "source": [
    "n_assets = 8\n",
    "n_obs = 1000\n",
    "r = r = np.random.uniform(0.8, 0.9, (n_assets,n_assets))\n",
    "np.fill_diagonal(r, 1)"
   ]
  },
  {
   "cell_type": "code",
   "execution_count": 75,
   "id": "ec9ad5ee-2f88-4695-bc70-029a33f14cf7",
   "metadata": {},
   "outputs": [],
   "source": [
    "n8_weights_corr, n8_returns_corr, n8_risks_corr = one_corr_optimization(n_assets, n_obs, data_n8_corr, r) "
   ]
  },
  {
   "cell_type": "code",
   "execution_count": 33,
   "id": "57e8e330-1cb2-4fc1-b5c3-2d13308b6b2a",
   "metadata": {},
   "outputs": [
    {
     "name": "stdout",
     "output_type": "stream",
     "text": [
      "weights (mean) = [0.123 0.124 0.125 0.124 0.126 0.126 0.125 0.126] \n",
      "returns (mean) = [4.994 4.994 4.993 4.994 4.995 4.993 4.995 4.993] \n",
      "risks (mean) =[71369026.438 71105179.245 71023931.277 71026708.529 71027187.459\n",
      " 71008524.085 71049610.202 71033945.073]\n"
     ]
    }
   ],
   "source": [
    "print('weights (mean) = '+str(np.round(np.mean(n8_weights_corr, axis=0),3)),\n",
    "      '\\nreturns (mean) = '+str(np.round(np.mean(n8_returns_corr, axis=0),3)),\n",
    "      '\\nrisks (mean) ='+str(np.round(np.mean(n8_risks_corr, axis=0),3)))"
   ]
  },
  {
   "cell_type": "code",
   "execution_count": 34,
   "id": "516e52a6-9370-4d59-8483-b96dabce9e3f",
   "metadata": {},
   "outputs": [
    {
     "name": "stdout",
     "output_type": "stream",
     "text": [
      "weights (std) = [0.012 0.012 0.008 0.007 0.005 0.004 0.009 0.005] \n",
      "returns (std) = [0.034 0.038 0.034 0.037 0.038 0.037 0.037 0.033] \n",
      "risks (std) =[3.35063506e+08 3.35054006e+08 3.35069850e+08 3.35069041e+08\n",
      " 3.35072102e+08 3.35072748e+08 3.35064570e+08 3.35070701e+08]\n"
     ]
    }
   ],
   "source": [
    "print('weights (std) = '+str(np.round(np.std(n8_weights_corr, axis=0),3)),\n",
    "      '\\nreturns (std) = '+str(np.round(np.std(n8_returns_corr, axis=0),3)),\n",
    "      '\\nrisks (std) ='+str(np.round(np.std(n8_risks_corr, axis=0),3)))"
   ]
  },
  {
   "cell_type": "code",
   "execution_count": 106,
   "id": "98338d50-a2d6-4cd6-9818-6e377152f259",
   "metadata": {},
   "outputs": [],
   "source": [
    "n8_weights_corr_os, n8_returns_corr_os, n8_risks_corr_os = one_corr_optimization_zeros(n_assets, n_obs, data_n8_corr, data_n8_corr_os)"
   ]
  },
  {
   "cell_type": "code",
   "execution_count": 107,
   "id": "e6b1ceaa-bc18-42ac-b20d-464f12a10cae",
   "metadata": {},
   "outputs": [
    {
     "name": "stdout",
     "output_type": "stream",
     "text": [
      "weights (mean) = [-0.437 -0.4    0.324  0.301  0.289  0.338  0.3    0.284] \n",
      "returns (mean) = [3.125 3.005 3.682 3.719 3.776 3.611 3.757 3.769] \n",
      "risks (mean) =[27.621 28.059 26.901 28.186 27.787 27.449 27.351 28.258]\n"
     ]
    }
   ],
   "source": [
    "print('weights (mean) = '+str(np.round(np.mean(n8_weights_corr_os, axis=0),3)),\n",
    "      '\\nreturns (mean) = '+str(np.round(np.mean(n8_returns_corr_os, axis=0),3)),\n",
    "      '\\nrisks (mean) ='+str(np.round(np.mean(n8_risks_corr_os, axis=0),3)))"
   ]
  },
  {
   "cell_type": "code",
   "execution_count": 37,
   "id": "5208f8a0-1be2-40af-9b4f-25591a2b6692",
   "metadata": {},
   "outputs": [
    {
     "name": "stdout",
     "output_type": "stream",
     "text": [
      "weights (std) = [0.01  0.012 0.019 0.01  0.017 0.013 0.012 0.012] \n",
      "returns (std) = [0.008 0.007 0.035 0.035 0.036 0.034 0.034 0.035] \n",
      "risks (std) =[49382453.037 49444861.627 49466128.58  49385266.678 49999531.526\n",
      " 49372956.86  49369375.138 49377595.345]\n"
     ]
    }
   ],
   "source": [
    "print('weights (std) = '+str(np.round(np.std(n8_weights_corr_os, axis=0),3)),\n",
    "      '\\nreturns (std) = '+str(np.round(np.std(n8_returns_corr_os, axis=0),3)),\n",
    "      '\\nrisks (std) ='+str(np.round(np.std(n8_risks_corr_os, axis=0),3)))"
   ]
  },
  {
   "cell_type": "markdown",
   "id": "9d647315-3a49-4963-9aff-099a63424881",
   "metadata": {},
   "source": [
    "## $n=16$"
   ]
  },
  {
   "cell_type": "code",
   "execution_count": 108,
   "id": "c3761681-a465-4089-8811-b64a9979bffa",
   "metadata": {},
   "outputs": [],
   "source": [
    "n_assets = 16\n",
    "n_obs = 1000\n",
    "r = np.random.uniform(0.8, 0.9, (n_assets,n_assets))\n",
    "np.fill_diagonal(r, 1)"
   ]
  },
  {
   "cell_type": "code",
   "execution_count": 79,
   "id": "b5332432-0aff-46c9-ade5-bacb5d86d996",
   "metadata": {},
   "outputs": [],
   "source": [
    "n16_weights_corr, n16_returns_corr, n16_risks_corr = one_corr_optimization(n_assets, n_obs, data_n16_corr, r) "
   ]
  },
  {
   "cell_type": "code",
   "execution_count": 40,
   "id": "8dcb6471-c5a9-4700-8b18-6d7e5d8081aa",
   "metadata": {},
   "outputs": [
    {
     "name": "stdout",
     "output_type": "stream",
     "text": [
      "weights (mean) = [0.063 0.062 0.063 0.063 0.062 0.062 0.062 0.062 0.063 0.063 0.062 0.063\n",
      " 0.063 0.063 0.062 0.062] \n",
      "returns (mean) = [5.    4.999 4.999 4.998 4.997 4.999 4.997 5.002 5.002 5.002 4.997 5.001\n",
      " 5.001 5.001 4.999 4.997] \n",
      "risks (mean) =[1.88362128e+08 1.88446506e+08 1.88742708e+08 1.88389878e+08\n",
      " 1.88498229e+08 1.88433493e+08 1.88834628e+08 1.88512220e+08\n",
      " 1.88363824e+08 1.88355001e+08 1.88398233e+08 1.88370701e+08\n",
      " 1.88372286e+08 1.88356901e+08 1.88642166e+08 1.89929768e+08]\n"
     ]
    }
   ],
   "source": [
    "print('weights (mean) = '+str(np.round(np.mean(n16_weights_corr, axis=0),3)),\n",
    "      '\\nreturns (mean) = '+str(np.round(np.mean(n16_returns_corr, axis=0),3)),\n",
    "      '\\nrisks (mean) ='+str(np.round(np.mean(n16_risks_corr, axis=0),3)))"
   ]
  },
  {
   "cell_type": "code",
   "execution_count": 41,
   "id": "c2240a27-306e-4ccd-b4bc-9c64fdde318d",
   "metadata": {},
   "outputs": [
    {
     "name": "stdout",
     "output_type": "stream",
     "text": [
      "weights (std) = [0.002 0.005 0.006 0.003 0.004 0.004 0.008 0.005 0.003 0.003 0.006 0.003\n",
      " 0.003 0.004 0.006 0.008] \n",
      "returns (std) = [0.031 0.033 0.028 0.031 0.03  0.031 0.03  0.031 0.029 0.029 0.032 0.03\n",
      " 0.033 0.033 0.03  0.031] \n",
      "risks (std) =[1.26680051e+09 1.26678829e+09 1.26675136e+09 1.26679650e+09\n",
      " 1.26678167e+09 1.26679037e+09 1.26674065e+09 1.26677997e+09\n",
      " 1.26680028e+09 1.26680152e+09 1.26679521e+09 1.26679927e+09\n",
      " 1.26679907e+09 1.26680124e+09 1.26676306e+09 1.26667478e+09]\n"
     ]
    }
   ],
   "source": [
    "print('weights (std) = '+str(np.round(np.std(n16_weights_corr, axis=0),3)),\n",
    "      '\\nreturns (std) = '+str(np.round(np.std(n16_returns_corr, axis=0),3)),\n",
    "      '\\nrisks (std) ='+str(np.round(np.std(n16_risks_corr, axis=0),3)))"
   ]
  },
  {
   "cell_type": "code",
   "execution_count": 109,
   "id": "d7b289c0-11c3-492b-8c17-56f2c21be3a2",
   "metadata": {},
   "outputs": [],
   "source": [
    "n16_weights_corr_os, n16_returns_corr_os, n16_risks_corr_os = one_corr_optimization_zeros(n_assets, n_obs, data_n16_corr, data_n16_corr_os)"
   ]
  },
  {
   "cell_type": "code",
   "execution_count": 110,
   "id": "0aed17fc-00df-4679-a159-e9c00f29d361",
   "metadata": {},
   "outputs": [
    {
     "name": "stdout",
     "output_type": "stream",
     "text": [
      "weights (mean) = [-0.468 -0.468  0.145  0.145  0.114  0.134  0.135  0.153  0.148  0.138\n",
      "  0.138  0.122  0.149  0.123  0.149  0.145] \n",
      "returns (mean) = [3.615 3.62  4.249 4.26  4.404 4.308 4.332 4.222 4.221 4.277 4.295 4.38\n",
      " 4.253 4.373 4.231 4.263] \n",
      "risks (mean) =[27.727 27.832 28.681 28.294 29.462 29.16  30.101 28.64  28.967 29.336\n",
      " 28.839 29.522 28.278 28.918 29.386 29.174]\n"
     ]
    }
   ],
   "source": [
    "print('weights (mean) = '+str(np.round(np.mean(n16_weights_corr_os, axis=0),3)),\n",
    "      '\\nreturns (mean) = '+str(np.round(np.mean(n16_returns_corr_os, axis=0),3)),\n",
    "      '\\nrisks (mean) ='+str(np.round(np.mean(n16_risks_corr_os, axis=0),3)))"
   ]
  },
  {
   "cell_type": "code",
   "execution_count": 44,
   "id": "49246134-8f07-4ca3-9805-01dd651b8baf",
   "metadata": {},
   "outputs": [
    {
     "name": "stdout",
     "output_type": "stream",
     "text": [
      "weights (std) = [0.003 0.003 0.002 0.002 0.004 0.005 0.002 0.002 0.004 0.001 0.004 0.002\n",
      " 0.002 0.002 0.005 0.006] \n",
      "returns (std) = [0.008 0.007 0.032 0.032 0.033 0.032 0.029 0.033 0.034 0.036 0.035 0.031\n",
      " 0.032 0.035 0.033 0.032] \n",
      "risks (std) =[1.06840197e+10 1.06839889e+10 1.06840200e+10 1.06840135e+10\n",
      " 1.06839523e+10 1.06839996e+10 1.06840214e+10 1.06840221e+10\n",
      " 1.06840188e+10 1.06840220e+10 1.06840155e+10 1.06840203e+10\n",
      " 1.06840199e+10 1.06840221e+10 1.06840139e+10 1.06840013e+10]\n"
     ]
    }
   ],
   "source": [
    "print('weights (std) = '+str(np.round(np.std(n16_weights_corr_os, axis=0),3)),\n",
    "      '\\nreturns (std) = '+str(np.round(np.std(n16_returns_corr_os, axis=0),3)),\n",
    "      '\\nrisks (std) ='+str(np.round(np.std(n16_risks_corr_os, axis=0),3)))"
   ]
  },
  {
   "cell_type": "markdown",
   "id": "f699178e-4fba-4276-b436-83352c491a10",
   "metadata": {},
   "source": [
    "## Independent"
   ]
  },
  {
   "cell_type": "code",
   "execution_count": 111,
   "id": "3eaab865-4a13-45a4-82cf-6057f219fab3",
   "metadata": {},
   "outputs": [],
   "source": [
    "n_assets = 4\n",
    "n_obs = 1000\n",
    "r = np.eye(n_assets)"
   ]
  },
  {
   "cell_type": "code",
   "execution_count": 82,
   "id": "be6b6d63-40cf-46c5-bb8f-1c3e543227bf",
   "metadata": {},
   "outputs": [],
   "source": [
    "n4_weights_ind, n4_returns_ind, n4_risks_ind = one_corr_optimization(n_assets, n_obs, data_n4_ind, r) "
   ]
  },
  {
   "cell_type": "code",
   "execution_count": 47,
   "id": "ed0e3c0c-98b1-4ab0-aa0e-218fa86911c2",
   "metadata": {},
   "outputs": [
    {
     "name": "stdout",
     "output_type": "stream",
     "text": [
      "weights (mean) = [0.252 0.246 0.25  0.252] \n",
      "returns (mean) = [5.003 5.    4.997 4.998] \n",
      "risks (mean) =[41366410.454 41420949.132 41374162.93  41368818.21 ]\n"
     ]
    }
   ],
   "source": [
    "print('weights (mean) = '+str(np.round(np.mean(n4_weights_ind, axis=0),3)),\n",
    "      '\\nreturns (mean) = '+str(np.round(np.mean(n4_returns_ind, axis=0),3)),\n",
    "      '\\nrisks (mean) ='+str(np.round(np.mean(n4_risks_ind, axis=0),3)))"
   ]
  },
  {
   "cell_type": "code",
   "execution_count": 48,
   "id": "ea4db138-2084-4736-814f-535851c1b7b7",
   "metadata": {},
   "outputs": [
    {
     "name": "stdout",
     "output_type": "stream",
     "text": [
      "weights (std) = [0.014 0.022 0.017 0.009] \n",
      "returns (std) = [0.036 0.03  0.035 0.032] \n",
      "risks (std) =[2.25041714e+08 2.25032533e+08 2.25040306e+08 2.25041286e+08]\n"
     ]
    }
   ],
   "source": [
    "print('weights (std) = '+str(np.round(np.std(n4_weights_ind, axis=0),3)),\n",
    "      '\\nreturns (std) = '+str(np.round(np.std(n4_returns_ind, axis=0),3)),\n",
    "      '\\nrisks (std) ='+str(np.round(np.std(n4_risks_ind, axis=0),3)))"
   ]
  },
  {
   "cell_type": "code",
   "execution_count": 112,
   "id": "2db3d97b-e571-4ae4-b4a4-2cea07b78c9e",
   "metadata": {},
   "outputs": [],
   "source": [
    "n4_weights_ind_os, n4_returns_ind_os, n4_risks_ind_os = one_corr_optimization_zeros(n_assets, n_obs, data_n4_ind, data_n4_ind_os)"
   ]
  },
  {
   "cell_type": "code",
   "execution_count": 113,
   "id": "defe84c2-398f-4dee-9413-b210d8a24fcf",
   "metadata": {},
   "outputs": [
    {
     "name": "stdout",
     "output_type": "stream",
     "text": [
      "weights (mean) = [0.111 0.111 0.388 0.39 ] \n",
      "returns (mean) = [0.745 0.749 2.625 2.628] \n",
      "risks (mean) =[27.901 27.708 27.862 27.726]\n"
     ]
    }
   ],
   "source": [
    "print('weights (mean) = '+str(np.round(np.mean(n4_weights_ind_os, axis=0),3)),\n",
    "      '\\nreturns (mean) = '+str(np.round(np.mean(n4_returns_ind_os, axis=0),3)),\n",
    "      '\\nrisks (mean) ='+str(np.round(np.mean(n4_risks_ind_os, axis=0),3)))"
   ]
  },
  {
   "cell_type": "code",
   "execution_count": 114,
   "id": "f665c8d5-84f4-4815-aaa2-d08664237a7f",
   "metadata": {},
   "outputs": [
    {
     "name": "stdout",
     "output_type": "stream",
     "text": [
      "weights (std) = [0.004 0.004 0.007 0.007] \n",
      "returns (std) = [0.018 0.015 0.019 0.02 ] \n",
      "risks (std) =[1.716 1.736 1.711 1.694]\n"
     ]
    }
   ],
   "source": [
    "print('weights (std) = '+str(np.round(np.std(n4_weights_ind_os, axis=0),3)),\n",
    "      '\\nreturns (std) = '+str(np.round(np.std(n4_returns_ind_os, axis=0),3)),\n",
    "      '\\nrisks (std) ='+str(np.round(np.std(n4_risks_ind_os, axis=0),3)))"
   ]
  },
  {
   "cell_type": "markdown",
   "id": "cf93be80-e563-4d65-bdaf-e8e3cf8a5986",
   "metadata": {},
   "source": [
    "## $n=8$"
   ]
  },
  {
   "cell_type": "code",
   "execution_count": 115,
   "id": "01690fcc-a621-4e83-b93f-70b04ef13176",
   "metadata": {},
   "outputs": [],
   "source": [
    "n_assets = 8\n",
    "n_obs = 1000\n",
    "r = np.eye(n_assets)"
   ]
  },
  {
   "cell_type": "code",
   "execution_count": 116,
   "id": "450f46e2-da94-4988-a8db-2b4e87916c17",
   "metadata": {},
   "outputs": [],
   "source": [
    "n8_weights_ind, n8_returns_ind, n8_risks_ind = one_corr_optimization(n_assets, n_obs, data_n8_ind, r) "
   ]
  },
  {
   "cell_type": "code",
   "execution_count": 88,
   "id": "12f8b7b3-af34-48ac-a7cd-c75d73839ca9",
   "metadata": {},
   "outputs": [
    {
     "name": "stdout",
     "output_type": "stream",
     "text": [
      "weights (mean) = [0.126 0.125 0.125 0.125 0.124 0.125 0.125 0.125] \n",
      "returns (mean) = [2.554 2.562 2.558 2.565 2.564 2.56  2.561 2.56 ] \n",
      "risks (mean) =[27.665 27.821 27.774 27.77  27.881 27.841 27.667 27.65 ]\n"
     ]
    }
   ],
   "source": [
    "print('weights (mean) = '+str(np.round(np.mean(n8_weights_ind, axis=0),3)),\n",
    "      '\\nreturns (mean) = '+str(np.round(np.mean(n8_returns_ind, axis=0),3)),\n",
    "      '\\nrisks (mean) ='+str(np.round(np.mean(n8_risks_ind, axis=0),3)))"
   ]
  },
  {
   "cell_type": "code",
   "execution_count": 89,
   "id": "8ddbe02c-9f13-4c43-bd4e-cb84b706111b",
   "metadata": {},
   "outputs": [
    {
     "name": "stdout",
     "output_type": "stream",
     "text": [
      "weights (std) = [0.004 0.004 0.003 0.003 0.003 0.004 0.003 0.003] \n",
      "returns (std) = [0.042 0.034 0.038 0.033 0.033 0.031 0.031 0.028] \n",
      "risks (std) =[1.268 1.302 1.185 1.232 1.291 1.568 1.216 1.279]\n"
     ]
    }
   ],
   "source": [
    "print('weights (std) = '+str(np.round(np.std(n8_weights_ind, axis=0),3)),\n",
    "      '\\nreturns (std) = '+str(np.round(np.std(n8_returns_ind, axis=0),3)),\n",
    "      '\\nrisks (std) ='+str(np.round(np.std(n8_risks_ind, axis=0),3)))"
   ]
  },
  {
   "cell_type": "code",
   "execution_count": 117,
   "id": "a05b743f-8a20-4065-b807-5cb4e0b4b573",
   "metadata": {},
   "outputs": [],
   "source": [
    "n8_weights_ind_os, n8_returns_ind_os, n8_risks_ind_os = one_corr_optimization_zeros(n_assets, n_obs, data_n8_ind, data_n8_ind_os)"
   ]
  },
  {
   "cell_type": "code",
   "execution_count": 118,
   "id": "0b59bd3e-6ff1-466c-acd3-aab71fb2700f",
   "metadata": {},
   "outputs": [
    {
     "name": "stdout",
     "output_type": "stream",
     "text": [
      "weights (mean) = [0.042 0.041 0.153 0.153 0.152 0.153 0.154 0.153] \n",
      "returns (mean) = [0.681 0.691 2.56  2.562 2.562 2.563 2.563 2.56 ] \n",
      "risks (mean) =[27.665 27.821 27.774 27.77  27.881 27.841 27.667 27.65 ]\n"
     ]
    }
   ],
   "source": [
    "print('weights (mean) = '+str(np.round(np.mean(n8_weights_ind_os, axis=0),3)),\n",
    "      '\\nreturns (mean) = '+str(np.round(np.mean(n8_returns_ind_os, axis=0),3)),\n",
    "      '\\nrisks (mean) ='+str(np.round(np.mean(n8_risks_ind_os, axis=0),3)))"
   ]
  },
  {
   "cell_type": "code",
   "execution_count": 58,
   "id": "a9f56f45-e0ef-4ae8-b8f6-554ca408a759",
   "metadata": {},
   "outputs": [
    {
     "name": "stdout",
     "output_type": "stream",
     "text": [
      "weights (std) = [0.016 0.006 0.007 0.009 0.013 0.012 0.019 0.014] \n",
      "returns (std) = [0.008 0.008 0.034 0.036 0.033 0.032 0.034 0.038] \n",
      "risks (std) =[4.58954499e+08 4.59027845e+08 4.59020864e+08 4.59027301e+08\n",
      " 4.58980185e+08 4.59010077e+08 4.58999154e+08 4.58943942e+08]\n"
     ]
    }
   ],
   "source": [
    "print('weights (std) = '+str(np.round(np.std(n8_weights_ind_os, axis=0),3)),\n",
    "      '\\nreturns (std) = '+str(np.round(np.std(n8_returns_ind_os, axis=0),3)),\n",
    "      '\\nrisks (std) ='+str(np.round(np.std(n8_risks_ind_os, axis=0),3)))"
   ]
  },
  {
   "cell_type": "markdown",
   "id": "25a59ca1-8ad7-4bc2-ad65-fc0324e403b9",
   "metadata": {},
   "source": [
    "## $n=16$"
   ]
  },
  {
   "cell_type": "code",
   "execution_count": 119,
   "id": "c14fe2d6-1553-45a1-8426-48a4aa78dae3",
   "metadata": {},
   "outputs": [],
   "source": [
    "n_assets = 16\n",
    "n_obs = 1000\n",
    "r = np.eye(n_assets)"
   ]
  },
  {
   "cell_type": "code",
   "execution_count": 120,
   "id": "f7a765ff-3c4a-4c0c-aaa7-b18f31443b9a",
   "metadata": {},
   "outputs": [],
   "source": [
    "n16_weights_ind, n16_returns_ind, n16_risks_ind = one_corr_optimization(n_assets, n_obs, data_n16_ind, r) "
   ]
  },
  {
   "cell_type": "code",
   "execution_count": 121,
   "id": "29ab7d8b-09ec-45f3-bfbd-89c79358028e",
   "metadata": {},
   "outputs": [
    {
     "name": "stdout",
     "output_type": "stream",
     "text": [
      "weights (mean) = [0.063 0.062 0.062 0.063 0.063 0.062 0.063 0.062 0.062 0.063 0.062 0.062\n",
      " 0.063 0.062 0.063 0.062] \n",
      "returns (mean) = [2.526 2.53  2.529 2.533 2.536 2.531 2.53  2.526 2.526 2.533 2.53  2.526\n",
      " 2.521 2.532 2.539 2.536] \n",
      "risks (mean) =[31.632 31.578 31.66  31.551 31.45  31.733 31.539 31.733 31.648 31.591\n",
      " 31.584 31.69  31.573 31.625 31.473 31.634]\n"
     ]
    }
   ],
   "source": [
    "print('weights (mean) = '+str(np.round(np.mean(n16_weights_ind, axis=0),3)),\n",
    "      '\\nreturns (mean) = '+str(np.round(np.mean(n16_returns_ind, axis=0),3)),\n",
    "      '\\nrisks (mean) ='+str(np.round(np.mean(n16_risks_ind, axis=0),3)))"
   ]
  },
  {
   "cell_type": "code",
   "execution_count": 64,
   "id": "e4be2a7f-5505-46ec-8b24-ffc544391065",
   "metadata": {},
   "outputs": [
    {
     "name": "stdout",
     "output_type": "stream",
     "text": [
      "weights (std) = [0.003 0.004 0.006 0.004 0.003 0.005 0.004 0.004 0.004 0.008 0.007 0.005\n",
      " 0.004 0.004 0.006 0.003] \n",
      "returns (std) = [0.034 0.038 0.032 0.033 0.033 0.031 0.036 0.031 0.032 0.03  0.036 0.037\n",
      " 0.032 0.035 0.032 0.034] \n",
      "risks (std) =[3.21144975e+08 3.21131210e+08 3.23845349e+08 3.21144501e+08\n",
      " 3.21138239e+08 3.21148696e+08 3.21137789e+08 3.21132460e+08\n",
      " 3.21143971e+08 3.21080466e+08 3.21085888e+08 3.21142429e+08\n",
      " 3.21133494e+08 3.21392719e+08 3.21133735e+08 3.21142265e+08]\n"
     ]
    }
   ],
   "source": [
    "print('weights (std) = '+str(np.round(np.std(n16_weights_ind, axis=0),3)),\n",
    "      '\\nreturns (std) = '+str(np.round(np.std(n16_returns_ind, axis=0),3)),\n",
    "      '\\nrisks (std) ='+str(np.round(np.std(n16_risks_ind, axis=0),3)))"
   ]
  },
  {
   "cell_type": "code",
   "execution_count": 142,
   "id": "acac3113-1cb0-4102-830b-4efb1f4b5851",
   "metadata": {},
   "outputs": [],
   "source": [
    "n16_weights_ind_os, n16_returns_ind_os, n16_risks_ind_os = one_corr_optimization_zeros(n_assets, n_obs, data_n16_ind, data_n16_ind_os)"
   ]
  },
  {
   "cell_type": "code",
   "execution_count": 123,
   "id": "8dc3b17a-ebd5-491d-a3c8-56e3bba82285",
   "metadata": {},
   "outputs": [
    {
     "name": "stdout",
     "output_type": "stream",
     "text": [
      "weights (mean) = [0.018 0.018 0.069 0.069 0.069 0.069 0.069 0.069 0.069 0.069 0.069 0.069\n",
      " 0.069 0.069 0.069 0.069] \n",
      "returns (mean) = [0.649 0.657 2.529 2.532 2.534 2.534 2.53  2.529 2.529 2.532 2.529 2.527\n",
      " 2.52  2.53  2.534 2.534] \n",
      "risks (mean) =[31.632 31.578 31.66  31.551 31.45  31.733 31.539 31.733 31.648 31.591\n",
      " 31.584 31.69  31.573 31.625 31.473 31.634]\n"
     ]
    }
   ],
   "source": [
    "print('weights (mean) = '+str(np.round(np.mean(n16_weights_ind_os, axis=0),3)),\n",
    "      '\\nreturns (mean) = '+str(np.round(np.mean(n16_returns_ind_os, axis=0),3)),\n",
    "      '\\nrisks (mean) ='+str(np.round(np.mean(n16_ind_risks_os, axis=0),3)))"
   ]
  },
  {
   "cell_type": "code",
   "execution_count": 69,
   "id": "d992a3a3-f0fe-4287-ad37-eacf0dee759b",
   "metadata": {},
   "outputs": [
    {
     "name": "stdout",
     "output_type": "stream",
     "text": [
      "weights (std) = [0.008 0.003 0.002 0.002 0.002 0.003 0.002 0.002 0.003 0.002 0.004 0.006\n",
      " 0.002 0.004 0.006 0.002] \n",
      "returns (std) = [0.007 0.008 0.03  0.037 0.034 0.037 0.035 0.036 0.031 0.036 0.033 0.033\n",
      " 0.036 0.034 0.033 0.032] \n",
      "risks (std) =[3.92165310e+08 3.92212204e+08 3.92217260e+08 3.92212640e+08\n",
      " 3.92216153e+08 3.92211557e+08 3.92216772e+08 3.92215951e+08\n",
      " 3.92205642e+08 3.92214752e+08 3.92209495e+08 3.92183795e+08\n",
      " 3.92215626e+08 3.92213928e+08 3.92183642e+08 3.92216588e+08]\n"
     ]
    }
   ],
   "source": [
    "print('weights (std) = '+str(np.round(np.std(n16_weights_ind_os, axis=0),3)),\n",
    "      '\\nreturns (std) = '+str(np.round(np.std(n16_returns_ind_os, axis=0),3)),\n",
    "      '\\nrisks (std) ='+str(np.round(np.std(n16_ind_risks_os, axis=0),3)))"
   ]
  },
  {
   "cell_type": "markdown",
   "id": "b0eba142-ab93-4fad-b46b-56b5a65002a6",
   "metadata": {},
   "source": [
    "## Negatively Correlated"
   ]
  },
  {
   "cell_type": "markdown",
   "id": "dbc4f8f9-eebe-448a-9524-a84c300a765a",
   "metadata": {},
   "source": [
    "## $n=4$"
   ]
  },
  {
   "cell_type": "code",
   "execution_count": 124,
   "id": "3262dc77-dabf-4692-9d7b-2466b3e7b552",
   "metadata": {},
   "outputs": [],
   "source": [
    "n_assets = 4\n",
    "n_obs = 1000\n",
    "r = r = np.random.uniform(-0.8, -0.5, (n_assets,n_assets))\n",
    "np.fill_diagonal(r, 1)"
   ]
  },
  {
   "cell_type": "code",
   "execution_count": 125,
   "id": "28d2a99e-8573-48a3-b4de-30da3014c8c8",
   "metadata": {},
   "outputs": [],
   "source": [
    "n4_weights_neg, n4_returns_neg, n4_risks_neg = one_corr_optimization(n_assets, n_obs, data_n4_neg, r) "
   ]
  },
  {
   "cell_type": "code",
   "execution_count": 126,
   "id": "b6acb8d0-e703-49e9-8ea4-efa5cc84d7b6",
   "metadata": {},
   "outputs": [
    {
     "name": "stdout",
     "output_type": "stream",
     "text": [
      "weights (mean) = [0.25  0.237 0.257 0.256] \n",
      "returns (mean) = [2.477 2.461 2.469 2.474] \n",
      "risks (mean) =[140.732 143.802 139.421 139.73 ]\n"
     ]
    }
   ],
   "source": [
    "print('weights (mean) = '+str(np.round(np.mean(n4_weights_neg, axis=0),3)),\n",
    "      '\\nreturns (mean) = '+str(np.round(np.mean(n4_returns_neg, axis=0),3)),\n",
    "      '\\nrisks (mean) ='+str(np.round(np.mean(n4_risks_neg, axis=0),3)))"
   ]
  },
  {
   "cell_type": "code",
   "execution_count": 127,
   "id": "9a593284-b9ae-4bf0-bd29-c891730f63d0",
   "metadata": {},
   "outputs": [
    {
     "name": "stdout",
     "output_type": "stream",
     "text": [
      "weights (std) = [0.015 0.015 0.015 0.014] \n",
      "returns (std) = [0.136 0.139 0.136 0.136] \n",
      "risks (std) =[359.293 358.531 359.621 359.537]\n"
     ]
    }
   ],
   "source": [
    "print('weights (std) = '+str(np.round(np.std(n4_weights_neg, axis=0),3)),\n",
    "      '\\nreturns (std) = '+str(np.round(np.std(n4_returns_neg, axis=0),3)),\n",
    "      '\\nrisks (std) ='+str(np.round(np.std(n4_risks_neg, axis=0),3)))"
   ]
  },
  {
   "cell_type": "code",
   "execution_count": 128,
   "id": "9fb89858-560e-4fd9-ac5c-9666b7dfcd86",
   "metadata": {},
   "outputs": [],
   "source": [
    "n4_weights_neg_os, n4_returns_neg_os, n4_risks_neg_os = one_corr_optimization_zeros(n_assets, n_obs, data_n4_neg, data_n4_neg_os)"
   ]
  },
  {
   "cell_type": "code",
   "execution_count": 129,
   "id": "3cf35c61-6ffc-41e0-84a7-988f315fc407",
   "metadata": {},
   "outputs": [
    {
     "name": "stdout",
     "output_type": "stream",
     "text": [
      "weights (mean) = [0.121 0.115 0.383 0.381] \n",
      "returns (mean) = [0.642 0.632 2.547 2.546] \n",
      "risks (mean) =[140.732 143.802 139.421 139.73 ]\n"
     ]
    }
   ],
   "source": [
    "print('weights (mean) = '+str(np.round(np.mean(n4_weights_neg_os, axis=0),3)),\n",
    "      '\\nreturns (mean) = '+str(np.round(np.mean(n4_returns_neg_os, axis=0),3)),\n",
    "      '\\nrisks (mean) ='+str(np.round(np.mean(n4_risks_neg_os, axis=0),3)))"
   ]
  },
  {
   "cell_type": "code",
   "execution_count": 82,
   "id": "db6f651e-8c1f-4ac7-b1b1-b423cc901c75",
   "metadata": {},
   "outputs": [
    {
     "name": "stdout",
     "output_type": "stream",
     "text": [
      "weights (std) = [0.035 0.027 0.02  0.022] \n",
      "returns (std) = [0.011 0.01  0.045 0.042] \n",
      "risks (std) =[3.55828886e+09 3.55829325e+09 3.55829551e+09 3.55829474e+09]\n"
     ]
    }
   ],
   "source": [
    "print('weights (std) = '+str(np.round(np.std(n4_weights_neg_os, axis=0),3)),\n",
    "      '\\nreturns (std) = '+str(np.round(np.std(n4_returns_neg_os, axis=0),3)),\n",
    "      '\\nrisks (std) ='+str(np.round(np.std(n4_risks_neg_os, axis=0),3)))"
   ]
  },
  {
   "cell_type": "markdown",
   "id": "0f5f624b-a9dc-472b-ad7a-b4a00462a0b5",
   "metadata": {},
   "source": [
    "## $n=8$"
   ]
  },
  {
   "cell_type": "code",
   "execution_count": 130,
   "id": "62ada700-de32-4e03-8321-9b0e90d64555",
   "metadata": {},
   "outputs": [],
   "source": [
    "n_assets = 8\n",
    "n_obs = 1000\n",
    "r = r = np.random.uniform(-0.8, -0.5, (n_assets,n_assets))\n",
    "np.fill_diagonal(r, 1)"
   ]
  },
  {
   "cell_type": "code",
   "execution_count": 131,
   "id": "63bf265c-d466-40cf-b648-419751e9bee6",
   "metadata": {},
   "outputs": [],
   "source": [
    "n8_weights_neg, n8_returns_neg, n8_risks_neg = one_corr_optimization(n_assets, n_obs, data_n8_neg, r) "
   ]
  },
  {
   "cell_type": "code",
   "execution_count": 132,
   "id": "5b2cc85e-68df-409f-9264-792c8e69d3c3",
   "metadata": {},
   "outputs": [
    {
     "name": "stdout",
     "output_type": "stream",
     "text": [
      "weights (mean) = [0.128 0.122 0.126 0.121 0.122 0.127 0.127 0.127] \n",
      "returns (mean) = [2.617 2.641 2.62  2.633 2.626 2.618 2.623 2.617] \n",
      "risks (mean) =[65811.683 65816.267 65813.675 65822.176 65817.51  65812.45  65813.023\n",
      " 65819.143]\n"
     ]
    }
   ],
   "source": [
    "print('weights (mean) = '+str(np.round(np.mean(n8_weights_neg, axis=0),3)),\n",
    "      '\\nreturns (mean) = '+str(np.round(np.mean(n8_returns_neg, axis=0),3)),\n",
    "      '\\nrisks (mean) ='+str(np.round(np.mean(n8_risks_neg, axis=0),3)))"
   ]
  },
  {
   "cell_type": "code",
   "execution_count": 88,
   "id": "f65d26ca-f237-47b4-bb74-73b0c355018b",
   "metadata": {},
   "outputs": [
    {
     "name": "stdout",
     "output_type": "stream",
     "text": [
      "weights (std) = [0.011 0.01  0.01  0.013 0.016 0.018 0.013 0.009] \n",
      "returns (std) = [0.048 0.046 0.049 0.046 0.052 0.048 0.044 0.045] \n",
      "risks (std) =[1.21819660e+09 1.21820042e+09 1.21819552e+09 1.21816814e+09\n",
      " 1.21817365e+09 1.21815383e+09 1.21819658e+09 1.21819837e+09]\n"
     ]
    }
   ],
   "source": [
    "print('weights (std) = '+str(np.round(np.std(n8_weights_neg, axis=0),3)),\n",
    "      '\\nreturns (std) = '+str(np.round(np.std(n8_returns_neg, axis=0),3)),\n",
    "      '\\nrisks (std) ='+str(np.round(np.std(n8_risks_neg, axis=0),3)))"
   ]
  },
  {
   "cell_type": "code",
   "execution_count": 133,
   "id": "0449dc9a-46a4-430e-9e3f-3f01359f6ebc",
   "metadata": {},
   "outputs": [],
   "source": [
    "n8_weights_neg_os, n8_returns_neg_os, n8_risks_neg_os = one_corr_optimization_zeros(n_assets, n_obs, data_n8_neg, data_n8_neg_os)"
   ]
  },
  {
   "cell_type": "code",
   "execution_count": 90,
   "id": "25814934-2d2b-432c-a49d-6547b9134eec",
   "metadata": {},
   "outputs": [
    {
     "name": "stdout",
     "output_type": "stream",
     "text": [
      "weights (mean) = [0.126 0.125 0.122 0.124 0.125 0.125 0.126 0.127] \n",
      "returns (mean) = [5.    5.    4.999 5.003 5.005 4.996 5.002 5.003] \n",
      "risks (mean) =[43475363.595 43451051.369 43539793.923 43494707.403 43549804.317\n",
      " 43463337.628 43493135.641 43454228.897]\n"
     ]
    }
   ],
   "source": [
    "print('weights (mean) = '+str(np.round(np.mean(n8_weights_neg_os, axis=0),3)),\n",
    "      '\\nreturns (mean) = '+str(np.round(np.mean(n8_returns_neg_os, axis=0),3)),\n",
    "      '\\nrisks (mean) ='+str(np.round(np.mean(n8_risks_neg_os, axis=0),3)))"
   ]
  },
  {
   "cell_type": "code",
   "execution_count": 91,
   "id": "345e5ae1-3c9a-4f8d-8e14-4b16009017a5",
   "metadata": {},
   "outputs": [
    {
     "name": "stdout",
     "output_type": "stream",
     "text": [
      "weights (std) = [0.012 0.009 0.015 0.013 0.013 0.009 0.011 0.009] \n",
      "returns (std) = [0.011 0.01  0.05  0.041 0.047 0.052 0.045 0.049] \n",
      "risks (std) =[1.57288003e+08 1.57294193e+08 1.57272035e+08 1.57285533e+08\n",
      " 1.57271436e+08 1.57290992e+08 1.57284416e+08 1.57296817e+08]\n"
     ]
    }
   ],
   "source": [
    "print('weights (std) = '+str(np.round(np.std(n8_weights_neg_os, axis=0),3)),\n",
    "      '\\nreturns (std) = '+str(np.round(np.std(n8_returns_neg_os, axis=0),3)),\n",
    "      '\\nrisks (std) ='+str(np.round(np.std(n8_risks_neg_os, axis=0),3)))"
   ]
  },
  {
   "cell_type": "markdown",
   "id": "dbdc6fa9-1dae-42ff-92ec-1e6aa4288329",
   "metadata": {},
   "source": [
    "## $n=16$"
   ]
  },
  {
   "cell_type": "code",
   "execution_count": 135,
   "id": "d7189771-d505-4429-b356-a2c3cd617bbc",
   "metadata": {},
   "outputs": [],
   "source": [
    "n_assets = 16\n",
    "n_obs = 1000\n",
    "r = r = np.random.uniform(-0.8, -0.5, (n_assets,n_assets))\n",
    "np.fill_diagonal(r, 1)"
   ]
  },
  {
   "cell_type": "code",
   "execution_count": 136,
   "id": "d9d525e1-5ccb-4ac8-b630-27db5e3eef9b",
   "metadata": {},
   "outputs": [],
   "source": [
    "n16_weights_neg, n16_returns_neg, n16_risks_neg = one_corr_optimization(n_assets, n_obs, data_n16_neg, r) "
   ]
  },
  {
   "cell_type": "code",
   "execution_count": 94,
   "id": "16cd9a89-8490-4fe6-a5ea-2f61dc829aed",
   "metadata": {},
   "outputs": [
    {
     "name": "stdout",
     "output_type": "stream",
     "text": [
      "weights (mean) = [0.063 0.063 0.063 0.062 0.063 0.062 0.063 0.062 0.063 0.063 0.061 0.063\n",
      " 0.062 0.063 0.062 0.063] \n",
      "returns (mean) = [5.004 5.004 5.002 4.993 5.001 5.001 4.991 4.998 5.004 4.992 4.992 4.998\n",
      " 5.003 4.993 5.002 4.993] \n",
      "risks (mean) =[89022720.013 88822370.167 88954223.816 88767055.623 88750580.809\n",
      " 88762651.569 88750199.795 88742435.26  88738380.137 88754234.1\n",
      " 88869480.71  88737452.771 88762099.267 88734509.496 88752760.405\n",
      " 88749680.522]\n"
     ]
    }
   ],
   "source": [
    "print('weights (mean) = '+str(np.round(np.mean(n16_weights_neg, axis=0),3)),\n",
    "      '\\nreturns (mean) = '+str(np.round(np.mean(n16_returns_neg, axis=0),3)),\n",
    "      '\\nrisks (mean) ='+str(np.round(np.mean(n16_risks_neg, axis=0),3)))"
   ]
  },
  {
   "cell_type": "code",
   "execution_count": 95,
   "id": "8a73f244-7038-4501-a655-b0f3e5ae6cfa",
   "metadata": {},
   "outputs": [
    {
     "name": "stdout",
     "output_type": "stream",
     "text": [
      "weights (std) = [0.006 0.003 0.006 0.003 0.003 0.005 0.002 0.003 0.002 0.003 0.007 0.003\n",
      " 0.007 0.002 0.005 0.004] \n",
      "returns (std) = [0.056 0.046 0.05  0.043 0.05  0.049 0.047 0.046 0.045 0.055 0.049 0.054\n",
      " 0.051 0.047 0.052 0.05 ] \n",
      "risks (std) =[4.77522527e+08 4.77553159e+08 4.77531856e+08 4.77558289e+08\n",
      " 4.77561163e+08 4.77559019e+08 4.77561269e+08 4.77562517e+08\n",
      " 4.77563552e+08 4.77560435e+08 4.77541238e+08 4.77563427e+08\n",
      " 4.77558907e+08 4.77563960e+08 4.77560730e+08 4.77561226e+08]\n"
     ]
    }
   ],
   "source": [
    "print('weights (std) = '+str(np.round(np.std(n16_weights_neg, axis=0),3)),\n",
    "      '\\nreturns (std) = '+str(np.round(np.std(n16_returns_neg, axis=0),3)),\n",
    "      '\\nrisks (std) ='+str(np.round(np.std(n16_risks_neg, axis=0),3)))"
   ]
  },
  {
   "cell_type": "code",
   "execution_count": 137,
   "id": "480b6266-b3c8-4014-8255-4c70440ac34c",
   "metadata": {},
   "outputs": [],
   "source": [
    "n16_weights_neg_os, n16_returns_neg_os, n16_risks_neg_os = one_corr_optimization_zeros(n_assets, n_obs, data_n16_neg, data_n16_neg_os)"
   ]
  },
  {
   "cell_type": "code",
   "execution_count": 138,
   "id": "9f08b53e-b222-47c0-b26d-431b3b1a7a86",
   "metadata": {},
   "outputs": [
    {
     "name": "stdout",
     "output_type": "stream",
     "text": [
      "weights (mean) = [0.017 0.017 0.069 0.069 0.069 0.068 0.069 0.07  0.07  0.069 0.069 0.069\n",
      " 0.068 0.07  0.069 0.069] \n",
      "returns (mean) = [0.687 0.689 2.562 2.556 2.553 2.555 2.558 2.553 2.559 2.559 2.562 2.554\n",
      " 2.554 2.558 2.55  2.553] \n",
      "risks (mean) =[52564.735 52680.915 52693.577 52599.713 52569.793 52601.014 52562.357\n",
      " 52558.735 52559.373 52572.397 52561.921 52575.614 52627.783 52559.538\n",
      " 52568.25  52578.751]\n"
     ]
    }
   ],
   "source": [
    "print('weights (mean) = '+str(np.round(np.mean(n16_weights_neg_os, axis=0),3)),\n",
    "      '\\nreturns (mean) = '+str(np.round(np.mean(n16_returns_neg_os, axis=0),3)),\n",
    "      '\\nrisks (mean) ='+str(np.round(np.mean(n16_risks_neg_os, axis=0),3)))"
   ]
  },
  {
   "cell_type": "code",
   "execution_count": 98,
   "id": "3bb75f78-28aa-47d7-8a56-f4182975f524",
   "metadata": {},
   "outputs": [
    {
     "name": "stdout",
     "output_type": "stream",
     "text": [
      "weights (std) = [0.005 0.002 0.003 0.006 0.005 0.002 0.003 0.006 0.006 0.005 0.007 0.007\n",
      " 0.002 0.005 0.003 0.005] \n",
      "returns (std) = [0.012 0.01  0.046 0.044 0.044 0.048 0.05  0.055 0.048 0.051 0.052 0.054\n",
      " 0.05  0.051 0.053 0.046] \n",
      "risks (std) =[1.09402416e+10 1.09403576e+10 1.09403556e+10 1.09403437e+10\n",
      " 1.09403483e+10 1.09403563e+10 1.09403523e+10 1.09401958e+10\n",
      " 1.09403286e+10 1.09403256e+10 1.09403255e+10 1.09398427e+10\n",
      " 1.09403567e+10 1.09402520e+10 1.09403562e+10 1.09403266e+10]\n"
     ]
    }
   ],
   "source": [
    "print('weights (std) = '+str(np.round(np.std(n16_weights_neg_os, axis=0),3)),\n",
    "      '\\nreturns (std) = '+str(np.round(np.std(n16_returns_neg_os, axis=0),3)),\n",
    "      '\\nrisks (std) ='+str(np.round(np.std(n16_risks_neg_os, axis=0),3)))"
   ]
  },
  {
   "cell_type": "markdown",
   "id": "94181599-153f-45a5-8bac-07cb631d9540",
   "metadata": {},
   "source": [
    "## Save the Results"
   ]
  },
  {
   "cell_type": "code",
   "execution_count": 139,
   "id": "5982bac6-f70a-4b62-9efc-8e81db1e3be0",
   "metadata": {},
   "outputs": [],
   "source": [
    "BlackLittermanResults_Weights = [n4_weights_corr, n8_weights_corr, n16_weights_corr, n4_weights_corr_os, \n",
    "                              n8_weights_corr_os, n16_weights_corr_os, n4_weights_ind, n8_weights_ind,\n",
    "                              n16_weights_ind, n4_weights_ind_os, n8_weights_ind_os, n16_weights_ind_os,\n",
    "                              n4_weights_neg, n8_weights_neg, n16_weights_neg, n4_weights_neg_os, \n",
    "                              n8_weights_neg_os, n16_weights_neg_os]\n",
    "\n",
    "file_name = \"BlackLittermanResultsWeights.pkl\"\n",
    "open_file = open(file_name, \"wb\")\n",
    "pickle.dump(BlackLittermanResults_Weights, open_file)\n",
    "open_file.close()"
   ]
  },
  {
   "cell_type": "code",
   "execution_count": 140,
   "id": "d5cac003-b8ff-418f-9305-76e4ae9d5bc4",
   "metadata": {},
   "outputs": [],
   "source": [
    "BlackLittermanResults_Returns = [n4_returns_corr, n8_returns_corr, n16_returns_corr, n4_returns_corr_os, \n",
    "                              n8_returns_corr_os, n16_returns_corr_os, n4_returns_ind, n8_returns_ind,\n",
    "                              n16_returns_ind, n4_returns_ind_os, n8_returns_ind_os, n16_returns_ind_os,\n",
    "                              n4_returns_neg, n8_returns_neg, n16_returns_neg, n4_returns_neg_os, \n",
    "                              n8_returns_neg_os, n16_returns_neg_os]\n",
    "\n",
    "file_name = \"BlackLittermanResultsReturns.pkl\"\n",
    "open_file = open(file_name, \"wb\")\n",
    "pickle.dump(BlackLittermanResults_Returns, open_file)\n",
    "open_file.close()"
   ]
  },
  {
   "cell_type": "code",
   "execution_count": 143,
   "id": "db0a7439-a548-4920-b490-35231c422874",
   "metadata": {},
   "outputs": [],
   "source": [
    "BlackLittermanResults_Risks = [n4_risks_corr, n8_risks_corr, n16_risks_corr, n4_risks_corr_os, \n",
    "                              n8_risks_corr_os, n16_risks_corr_os, n4_risks_ind, n8_risks_ind,\n",
    "                              n16_risks_ind, n4_risks_ind_os, n8_risks_ind_os, n16_risks_ind_os,\n",
    "                              n4_risks_neg, n8_risks_neg, n16_risks_neg, n4_risks_neg_os, \n",
    "                              n8_risks_neg_os, n16_risks_neg_os]\n",
    "\n",
    "file_name = \"BlackLittermanResultsRisks.pkl\"\n",
    "open_file = open(file_name, \"wb\")\n",
    "pickle.dump(BlackLittermanResults_Risks, open_file)\n",
    "open_file.close()"
   ]
  },
  {
   "cell_type": "markdown",
   "id": "264b47ec-c112-444e-be74-b72f546ed0e1",
   "metadata": {},
   "source": [
    "## Play with the view's values"
   ]
  },
  {
   "cell_type": "markdown",
   "id": "3273e9a5-97d1-4dc2-b66a-921e5a616a75",
   "metadata": {},
   "source": [
    "I let the optimization run with 100 repetitions. In each repetition I randomly select an amount between -10% and 10% of the default views. Then I select the maximum returns and found that returns are maximized when views are 9.9% higher than the prior value.\n",
    "\n",
    "So, The higher the views, the higher the calculated returns. \n",
    "So... I'll just use the views equal to the prior so that views don't sway the results. right.?"
   ]
  },
  {
   "cell_type": "code",
   "execution_count": 1,
   "id": "68910b8d-e9b8-480b-8852-4ea1807c8318",
   "metadata": {},
   "outputs": [],
   "source": [
    "def bl_views(n_assets, n_obs, return_vec, views):\n",
    "    '''\n",
    "    This function evaluates the equillibrium returns of a portfolio and generates the sample\n",
    "    Inputs: \n",
    "    n_assets: Number of assets\n",
    "    n_obs: Number of observations\n",
    "    return_vec: A matrix of returns of shape n_obs x n_assets (a np.array)\n",
    "    Returns: \n",
    "    weights: optimal weights\n",
    "    bl_returns: BL returns\n",
    "    S: BL risk\n",
    "    '''\n",
    "    market_prices = pd.Series(np.random.randn(n_assets)) \n",
    "    rng = np.random.default_rng()\n",
    "    cov_struct = rng.multivariate_normal(np.zeros(n_assets), cov = r, size = n_obs)\n",
    "    S = pyp.risk_models.CovarianceShrinkage(cov_struct).ledoit_wolf()\n",
    "    delta = pyp.black_litterman.market_implied_risk_aversion(market_prices, risk_free_rate=0.5)\n",
    "    \n",
    "    market_prior = pd.Series(np.mean(return_vec + 5, axis = 0))\n",
    "    view = pd.Series(views)#np.ones(n_assets)*(1/n_assets)+ 5.0)\n",
    "    \n",
    "    bl = pyp.BlackLittermanModel(S, pi=market_prior, absolute_views=view)\n",
    "    bl_return = bl.bl_returns()\n",
    "\n",
    "    ef = pyp.EfficientFrontier(bl_return, r)\n",
    "    bl.bl_weights(delta)\n",
    "    weights = bl.clean_weights()\n",
    "\n",
    "    S_bl = bl.bl_cov()\n",
    "    return weights, bl_return, S_bl"
   ]
  },
  {
   "cell_type": "code",
   "execution_count": 118,
   "id": "a06cc3e7-dff5-4998-978f-03bf092bc0af",
   "metadata": {},
   "outputs": [],
   "source": [
    "def views_optimization(n_assets, n_obs, r):\n",
    "    '''\n",
    "    First, simulates portfolios then optimizes. \n",
    "    This does 100 replications\n",
    "    '''\n",
    "    weight_diff = np.zeros((99,n_assets))\n",
    "    return_diff = np.zeros((99,n_assets))\n",
    "    risks_diff = np.zeros((99,n_assets))\n",
    "    view_diff = np.zeros((99,n_assets))\n",
    "    \n",
    "    weight_res = np.zeros((99,n_assets))\n",
    "    return_res = np.zeros((99,n_assets))\n",
    "    risks_res = np.zeros((99,n_assets))\n",
    "    views = np.zeros((99,n_assets))\n",
    "    \n",
    "    rng = np.random.default_rng()\n",
    "    return_vec = rng.multivariate_normal(np.zeros(n_assets), cov = r, size = n_obs)\n",
    "    \n",
    "    for i in range(99):\n",
    "        # Make default calculation\n",
    "        default = np.mean(return_vec + 5, axis = 0)\n",
    "        default_weights, default_ret, default_rsk = bl_views(n_assets, n_obs, return_vec, default)\n",
    "        default_weights = list(default_weights.items())\n",
    "        wt = [x[1] for x in default_weights]\n",
    "        weight_def = wt\n",
    "        return_def = np.array(default_ret).T\n",
    "        risks_def = np.diagonal(np.array(default_rsk))\n",
    "        \n",
    "        views[i] = np.mean(return_vec + 5, axis = 0) + np.round(np.random.uniform(-0.1,0.1,1),3) * np.mean(return_vec + 5, axis=0)\n",
    "        weights, returns, risks = bl_views(n_assets, n_obs, return_vec, views[i]) \n",
    "        weights = list(weights.items())\n",
    "        w = [x[1] for x in weights]\n",
    "        weight_res[i,:] = w\n",
    "        return_res[i,:] = np.array(returns).T\n",
    "        risks_res[i,:] = np.diagonal(np.array(risks))\n",
    "        view_diff[i] = (views[i]-default)/default * 100\n",
    "        weight_diff[i,:] = (weight_res[i] - weight_def)/weight_def * 100\n",
    "        return_diff[i,:] = (return_res[i] - return_def)/return_def * 100\n",
    "        risks_diff[i,:] = (risks_res[i] - risks_def)/risks_def * 100\n",
    "    return views, view_diff, weight_diff, return_res, risks_diff"
   ]
  },
  {
   "cell_type": "code",
   "execution_count": 28,
   "id": "381d2aad-1ed4-4a26-b6ba-504653583bc0",
   "metadata": {},
   "outputs": [],
   "source": [
    "n_assets = 4\n",
    "n_obs = 1000\n",
    "r = np.random.uniform(0.8, 0.9, (n_assets,n_assets))\n",
    "np.fill_diagonal(r, 1)"
   ]
  },
  {
   "cell_type": "code",
   "execution_count": 119,
   "id": "eac01bbb-7392-47a2-86ce-1598537f415a",
   "metadata": {},
   "outputs": [],
   "source": [
    "views, views_diff, views_weights, views_returns, views_risks = views_optimization(n_assets, n_obs, r) "
   ]
  },
  {
   "cell_type": "code",
   "execution_count": 95,
   "id": "74ccd3ef-3044-487d-83aa-449cfc31e91e",
   "metadata": {},
   "outputs": [],
   "source": [
    "out = pd.DataFrame(np.hstack((views_diff, views_returns)))"
   ]
  },
  {
   "cell_type": "code",
   "execution_count": 120,
   "id": "c062206d-5e56-4d79-ad92-7a1ecf96f342",
   "metadata": {},
   "outputs": [
    {
     "data": {
      "text/plain": [
       "array([9.9, 9.9, 9.9, 9.9])"
      ]
     },
     "execution_count": 120,
     "metadata": {},
     "output_type": "execute_result"
    }
   ],
   "source": [
    "views_diff[views_returns.sum(axis=1).argmax()]\n",
    "#np.where(x == np.max(views_returns, axis=0))\n",
    "#views_returns.sum(axis=1)#.argmax()"
   ]
  },
  {
   "cell_type": "code",
   "execution_count": 105,
   "id": "1c837730-b58c-4a45-8bf0-a8674ab16839",
   "metadata": {},
   "outputs": [
    {
     "data": {
      "text/plain": [
       "numpy.float64"
      ]
     },
     "execution_count": 105,
     "metadata": {},
     "output_type": "execute_result"
    }
   ],
   "source": [
    "type(views_returns[1,1])"
   ]
  },
  {
   "cell_type": "code",
   "execution_count": 113,
   "id": "d15101fb-9754-466f-b88b-92c9177df993",
   "metadata": {},
   "outputs": [
    {
     "name": "stdout",
     "output_type": "stream",
     "text": [
      "       0     1     2     3         4         5         6         7\n",
      "0    3.8   3.8   3.8   3.8  5.052776  5.044410  5.079386  5.068058\n",
      "1   -1.5  -1.5  -1.5  -1.5  4.921375  4.913226  4.947292  4.936259\n",
      "2   -9.4  -9.4  -9.4  -9.4  4.725995  4.717771  4.750990  4.739886\n",
      "3    2.7   2.7   2.7   2.7  5.025504  5.017183  5.051971  5.040703\n",
      "4   11.8  11.8  11.8  11.8  5.251559  5.244740  5.279746  5.267524\n",
      "5   14.6  14.6  14.6  14.6  5.320539  5.311729  5.348559  5.336630\n",
      "6   18.1  18.1  18.1  18.1  5.407314  5.398360  5.435791  5.423667\n",
      "7   18.9  18.9  18.9  18.9  5.427148  5.418162  5.455729  5.443562\n",
      "8    3.9   3.9   3.9   3.9  5.055256  5.046885  5.081879  5.070545\n",
      "9    5.2   5.2   5.2   5.2  5.087486  5.079062  5.114279  5.102873\n",
      "10  15.7  15.7  15.7  15.7  5.347777  5.339086  5.376023  5.363993\n",
      "11  17.5  17.5  17.5  17.5  5.392438  5.383509  5.420837  5.408747\n",
      "12  10.6  10.6  10.6  10.6  5.221368  5.212722  5.248865  5.237159\n",
      "13  15.1  15.1  15.1  15.1  5.332926  5.324098  5.361025  5.349061\n",
      "14  -8.7  -8.7  -8.7  -8.7  4.742866  4.735013  4.767844  4.757210\n",
      "15   1.1   1.1   1.1   1.1  4.985844  4.977546  5.012089  5.000914\n",
      "16  20.0  20.0  20.0  20.0  5.454420  5.445389  5.483145  5.470916\n",
      "17   2.6   2.6   2.6   2.6  5.023000  5.014703  5.049476  5.038210\n",
      "18  19.2  19.2  19.2  19.2  5.434586  5.425587  5.463206  5.451022\n",
      "19  10.1  10.1  10.1  10.1  5.208199  5.200080  5.235227  5.224688\n",
      "20   0.9   0.9   0.9   0.9  4.980880  4.972623  5.007115  4.995947\n",
      "21 -13.7 -13.7 -13.7 -13.7  4.618902  4.611254  4.643227  4.632871\n",
      "22  18.0  18.0  18.0  18.0  5.404835  5.395885  5.433298  5.421181\n",
      "23   4.9   4.9   4.9   4.9  5.080079  5.071787  5.106822  5.095467\n",
      "24   1.3   1.3   1.3   1.3  4.990794  4.982531  5.017078  5.005888\n",
      "25  -2.6  -2.6  -2.6  -2.6  4.894076  4.885993  4.919867  4.908901\n",
      "26 -17.8 -17.8 -17.8 -17.8  4.517252  4.509772  4.541041  4.530913\n",
      "27   1.1   1.1   1.1   1.1  4.986022  4.977555  5.012164  5.000961\n",
      "28  -5.8  -5.8  -5.8  -5.8  4.814765  4.806793  4.840122  4.829327\n",
      "29 -17.6 -17.6 -17.6 -17.6  4.522210  4.514722  4.546026  4.535887\n",
      "30 -18.8 -18.8 -18.8 -18.8  4.492459  4.485020  4.516118  4.506046\n",
      "31  -0.2  -0.2  -0.2  -0.2  4.953605  4.945403  4.979693  4.968587\n",
      "32  11.3  11.3  11.3  11.3  5.238723  5.230048  5.266312  5.254566\n",
      "33   6.2   6.2   6.2   6.2  5.112279  5.103814  5.139202  5.127741\n",
      "34   5.9   5.9   5.9   5.9  5.104841  5.096389  5.131725  5.120280\n",
      "35  17.1  17.1  17.1  17.1  5.382521  5.373608  5.410867  5.398800\n",
      "36 -17.2 -17.2 -17.2 -17.2  4.535155  4.524664  4.554496  4.545644\n",
      "37 -18.5 -18.5 -18.5 -18.5  4.500295  4.492522  4.524159  4.513478\n",
      "38  -6.5  -6.5  -6.5  -6.5  4.797410  4.789467  4.822675  4.811920\n",
      "39  15.8  15.8  15.8  15.8  5.350290  5.341431  5.378467  5.366472\n",
      "40 -15.7 -15.7 -15.7 -15.7  4.569317  4.561751  4.593380  4.583136\n",
      "41  -1.2  -1.2  -1.2  -1.2  4.928812  4.920651  4.954769  4.943719\n",
      "42   1.8   1.8   1.8   1.8  5.003191  4.994906  5.029539  5.018322\n",
      "43 -19.5 -19.5 -19.5 -19.5  4.472432  4.466227  4.486875  4.486627\n",
      "44   0.0   0.0   0.0   0.0  4.958564  4.950353  4.984677  4.973560\n",
      "45   3.0   3.0   3.0   3.0  5.032942  5.024614  5.059454  5.048161\n",
      "46   3.5   3.5   3.5   3.5  5.045339  5.036984  5.071909  5.060598\n",
      "47 -16.8 -16.8 -16.8 -16.8  4.542044  4.534524  4.565964  4.555781\n",
      "48  -1.8  -1.8  -1.8  -1.8  4.913929  4.905813  4.939807  4.928779\n",
      "49  -4.1  -4.1  -4.1  -4.1  4.856913  4.848871  4.882492  4.871602\n",
      "50  19.0  19.0  19.0  19.0  5.429627  5.420637  5.458222  5.446048\n",
      "51  17.7  17.7  17.7  17.7  5.397397  5.388459  5.425821  5.413720\n",
      "52  12.0  12.0  12.0  12.0  5.256078  5.247374  5.283758  5.271974\n",
      "53  19.5  19.5  19.5  19.5  5.442024  5.433013  5.470683  5.458482\n",
      "54  19.4  19.4  19.4  19.4  5.439544  5.430537  5.468191  5.455996\n",
      "55   3.5   3.5   3.5   3.5  5.045339  5.036984  5.071909  5.060598\n",
      "56  -9.5  -9.5  -9.5  -9.5  4.723032  4.715211  4.747905  4.737316\n",
      "57 -17.3 -17.3 -17.3 -17.3  4.529648  4.522148  4.553503  4.543347\n",
      "58  11.8  11.8  11.8  11.8  5.251119  5.242424  5.278773  5.267000\n",
      "59  11.2  11.2  11.2  11.2  5.236243  5.227573  5.263819  5.252080\n",
      "60   4.8   4.8   4.8   4.8  5.077569  5.069162  5.104310  5.092926\n",
      "61 -16.3 -16.3 -16.3 -16.3  4.554441  4.546899  4.578426  4.568215\n",
      "62  -5.1  -5.1  -5.1  -5.1  4.832120  4.824119  4.857568  4.846734\n",
      "63  11.6  11.6  11.6  11.6  5.246354  5.236970  5.273802  5.262203\n",
      "64  -7.9  -7.9  -7.9  -7.9  4.762730  4.754813  4.787769  4.777092\n",
      "65  16.8  16.8  16.8  16.8  5.375083  5.366183  5.403390  5.391339\n",
      "66   6.9   6.9   6.9   6.9  5.129634  5.121140  5.156649  5.145148\n",
      "67   0.9   0.9   0.9   0.9  4.980877  4.972630  5.007108  4.995941\n",
      "68 -16.4 -16.4 -16.4 -16.4  4.551962  4.544424  4.575934  4.565728\n",
      "69  11.7  11.7  11.7  11.7  5.248640  5.239949  5.276281  5.264514\n",
      "70 -12.2 -12.2 -12.2 -12.2  4.655838  4.648130  4.680546  4.670357\n",
      "71  10.0  10.0  10.0  10.0  5.206492  5.197871  5.233911  5.222238\n",
      "72   5.2   5.2   5.2   5.2  5.087486  5.079062  5.114279  5.102873\n",
      "73  12.7  12.7  12.7  12.7  5.273433  5.264701  5.301204  5.289381\n",
      "74   6.8   6.8   6.8   6.8  5.127155  5.118665  5.154156  5.142661\n",
      "75 -16.5 -16.5 -16.5 -16.5  4.549482  4.541949  4.573442  4.563242\n",
      "76  -0.7  -0.7  -0.7  -0.7  4.941209  4.933027  4.967231  4.956153\n",
      "77  10.6  10.6  10.6  10.6  5.221368  5.212722  5.248865  5.237159\n",
      "78  -3.6  -3.6  -3.6  -3.6  4.869310  4.861247  4.894953  4.884036\n",
      "79  16.7  16.7  16.7  16.7  5.359571  5.362640  5.398852  5.385847\n",
      "80  -2.6  -2.6  -2.6  -2.6  4.894102  4.885999  4.919877  4.908904\n",
      "81  12.1  12.1  12.1  12.1  5.258557  5.249850  5.286250  5.274461\n",
      "82   6.4   6.4   6.4   6.4  5.117238  5.108765  5.144187  5.132714\n",
      "83  -7.9  -7.9  -7.9  -7.9  4.762701  4.754814  4.787783  4.777105\n",
      "84   9.8   9.8   9.8   9.8  5.201533  5.192921  5.228927  5.217265\n",
      "85 -18.4 -18.4 -18.4 -18.4  4.502376  4.494921  4.526087  4.515993\n",
      "86   1.6   1.6   1.6   1.6  4.998232  4.989956  5.024555  5.013349\n",
      "87 -18.1 -18.1 -18.1 -18.1  4.509814  4.502346  4.533564  4.523453\n",
      "88 -16.7 -16.7 -16.7 -16.7  4.544524  4.536999  4.568457  4.558268\n",
      "89  -1.8  -1.8  -1.8  -1.8  4.913937  4.905800  4.939815  4.928798\n",
      "90  14.0  14.0  14.0  14.0  5.304958  5.295842  5.333441  5.322696\n",
      "91 -18.9 -18.9 -18.9 -18.9  4.490325  4.482649  4.513870  4.503570\n",
      "92  16.7  16.7  16.7  16.7  5.403652  5.362953  5.401250  5.410636\n",
      "93 -14.9 -14.9 -14.9 -14.9  4.589151  4.581552  4.613319  4.603030\n",
      "94   8.7   8.7   8.7   8.7  5.174606  5.165963  5.201694  5.189975\n",
      "95  13.1  13.1  13.1  13.1  5.283350  5.274601  5.311174  5.299328\n",
      "96 -18.9 -18.9 -18.9 -18.9  4.489980  4.482545  4.513625  4.503559\n",
      "97 -10.6 -10.6 -10.6 -10.6  4.695760  4.687985  4.720489  4.709962\n",
      "98 -16.2 -16.2 -16.2 -16.2  4.556920  4.549375  4.580919  4.570702\n"
     ]
    }
   ],
   "source": [
    "with pd.option_context('display.max_rows', None, 'display.max_columns', None):  # more options can be specified also\n",
    "    print(out)"
   ]
  },
  {
   "cell_type": "markdown",
   "id": "11650bf9-7bf1-46e8-a570-e4386a6e2e6a",
   "metadata": {},
   "source": [
    "Archived:\n",
    "    def bl(n_assets, n_obs, return_vec):\n",
    "    '''\n",
    "    This function evaluates the equillibrium returns of a portfolio and generates the sample\n",
    "    Inputs: \n",
    "    n_assets: Number of assets\n",
    "    n_obs: Number of observations\n",
    "    return_vec: A matrix of returns of shape n_obs x n_assets (a np.array)\n",
    "    Returns: \n",
    "    weights: optimal weights\n",
    "    bl_returns: BL returns\n",
    "    S: BL risk\n",
    "    '''\n",
    "    market_prices = pd.Series(np.random.randn(n_assets)) # This needs to be Rf - Rm1\n",
    "    cov_struct = return_vec\n",
    "    S = pyp.risk_models.CovarianceShrinkage(cov_struct).ledoit_wolf()\n",
    "    delta = pyp.black_litterman.market_implied_risk_aversion(market_prices, risk_free_rate=0.5)\n",
    "    \n",
    "    data = pd.Series(np.mean(return_vec + 5, axis = 0))\n",
    "    view = pd.Series(np.mean(return_vec + 5, axis = 0))#np.ones(n_assets)*(1/n_assets)+ 5.0)\n",
    "    \n",
    "    bl = pyp.BlackLittermanModel(S, pi=data, absolute_views=view)\n",
    "    bl_return = bl.bl_returns()\n",
    "\n",
    "    ef = pyp.EfficientFrontier(bl_return, r)\n",
    "    bl.bl_weights(delta)\n",
    "    weights = bl.clean_weights()\n",
    "\n",
    "    S_bl = bl.bl_cov()\n",
    "    return weights, bl_return, S_bl\n",
    "    \n",
    "    ### This is a test - do not run\n",
    "#r = np.random.uniform(0.8, 0.9, (4,4))\n",
    "#rng = np.random.default_rng()\n",
    "#return_vec = rng.multivariate_normal(np.zeros(4), cov = r, size = 100)\n",
    "\n",
    "\n",
    "#market_prices = pd.Series(np.mean(return_vec)) \n",
    "#rng = np.random.default_rng()\n",
    "#cov_struct = rng.multivariate_normal(np.zeros(n_assets), cov = r, size = n_obs)\n",
    "#S = pyp.risk_models.CovarianceShrinkage(cov_struct).ledoit_wolf()\n",
    "#delta = pyp.black_litterman.market_implied_risk_aversion(market_prices, risk_free_rate=0.5)\n",
    "    \n",
    "#market_prior = pd.Series(np.random.randn(n_assets))\n",
    "#view = pd.Series(np.ones(n_assets)*(1/n_assets))\n",
    "    \n",
    "#bl = pyp.BlackLittermanModel(S, pi=market_prior, absolute_views=view)\n",
    "#bl_return = bl.bl_returns()\n",
    "\n",
    "#ef = pyp.EfficientFrontier(bl_return, r)\n",
    "#bl.bl_weights(delta)\n",
    "#weights = bl.clean_weights()\n",
    "\n",
    "#S_bl = bl.bl_cov()\n",
    "#print(cov_struct, S, S_bl)\n",
    "#np.mean(return_vec, axis = 0)"
   ]
  },
  {
   "cell_type": "code",
   "execution_count": null,
   "id": "80156903-1f14-49a7-9fd0-75e30f5c0e7b",
   "metadata": {},
   "outputs": [],
   "source": [
    "def one_corr_optimization_zeros(n_assets, n_obs, data, r):\n",
    "    '''\n",
    "    First, simulates portfolios then optimizes. \n",
    "    This does 100 replications\n",
    "    '''\n",
    "    weight_res = np.zeros((99,n_assets))\n",
    "    return_res = np.zeros((99,n_assets))\n",
    "    risks_res = np.zeros((99,n_assets))\n",
    "    \n",
    "    for i in range(99):\n",
    "        return_vec = data[i]\n",
    "        _75_perct = int(len(return_vec[:,0])*3/4)\n",
    "        return_vec[random.sample(list(range(1000)), _75_perct),0] = 0\n",
    "        np.random.seed(i*5)\n",
    "        return_vec[random.sample(list(range(1000)), _75_perct),1] = 0\n",
    "        \n",
    "        weights, returns, risks = bl(n_assets, n_obs, return_vec)\n",
    "        weights = list(weights.items())\n",
    "        w = [x[1] for x in weights]\n",
    "        weight_res[i,:] = w\n",
    "        return_res[i,:] = np.array(returns).T\n",
    "        risks_res[i,:] = np.diagonal(np.array(risks))\n",
    "    return weight_res, return_res, risks_res"
   ]
  }
 ],
 "metadata": {
  "kernelspec": {
   "display_name": "Python 3",
   "language": "python",
   "name": "python3"
  },
  "language_info": {
   "codemirror_mode": {
    "name": "ipython",
    "version": 3
   },
   "file_extension": ".py",
   "mimetype": "text/x-python",
   "name": "python",
   "nbconvert_exporter": "python",
   "pygments_lexer": "ipython3",
   "version": "3.8.8"
  }
 },
 "nbformat": 4,
 "nbformat_minor": 5
}
