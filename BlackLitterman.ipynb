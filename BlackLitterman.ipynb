{
 "cells": [
  {
   "cell_type": "markdown",
   "id": "fa60bf70-e532-4071-b428-bd948a1bbb85",
   "metadata": {},
   "source": [
    "# Complete Black-Litterman Optimization\n",
    "\n",
    "| n=4 $returns \\sim \\mathcal{N}(\\mu,\\sigma)$ Correlation from 0.8-0.9  | n=4 $returns \\sim N(\\mu,\\sigma)$ Independent  | n=4 $returns \\sim \\mathcal{N}(\\mu, sigma)$ Negative correlation (-0.8 to -0.5)  |\n",
    "|----------------------------------------------------------------------|-----------------------------------------------|---------------------------------------------------------------------------------|\n",
    "| n=8 $returns \\sim \\mathcal{N}(\\mu,\\sigma)$ Correlation from 0.8-0.9  | n=8 $returns \\sim N(\\mu,\\sigma)$ Independent  | n=8 $returns \\sim \\mathcal{N}(\\mu, sigma)$ Negative correlation (-0.8 to -0.5)  |\n",
    "| n=16 $returns \\sim \\mathcal{N}(\\mu,\\sigma)$ Correlation from 0.8-0.9 | n=16 $returns \\sim N(\\mu,\\sigma)$ Independent | n=16 $returns \\sim \\mathcal{N}(\\mu, sigma)$ Negative correlation (-0.8 to -0.5) |\n",
    "\n",
    "using the method laid out in 4.2, Black-Litterman portfolio optimization\n",
    "\n",
    "using https://python-advanced.quantecon.org/black_litterman.html"
   ]
  },
  {
   "cell_type": "markdown",
   "id": "5110f681-585e-4387-a111-3e4684b44d39",
   "metadata": {},
   "source": [
    "## Read Packages"
   ]
  },
  {
   "cell_type": "code",
   "execution_count": 44,
   "id": "6f897b9d-5ab0-41e4-b642-017a3b9d13e7",
   "metadata": {},
   "outputs": [],
   "source": [
    "import numpy as np\n",
    "import pandas as pd\n",
    "import scipy.stats as stat\n",
    "import matplotlib.pyplot as plt\n",
    "from pylab import rcParams\n",
    "%matplotlib inline\n",
    "import random\n",
    "import trace\n",
    "import sklearn.covariance"
   ]
  },
  {
   "cell_type": "code",
   "execution_count": 3,
   "id": "00ea9b91-8564-4ee5-8039-5a892fa1e06e",
   "metadata": {},
   "outputs": [],
   "source": [
    "import pypfopt as pyp\n",
    "import warnings\n",
    "warnings.filterwarnings(\"ignore\")\n"
   ]
  },
  {
   "cell_type": "markdown",
   "id": "17d1f318-f56c-454a-abab-be02c5b02644",
   "metadata": {},
   "source": [
    "## Define Functions"
   ]
  },
  {
   "cell_type": "markdown",
   "id": "682e800f-8ac8-4d8b-b613-8a8cd1515803",
   "metadata": {},
   "source": [
    "Function that Calculated equillibrium values \n",
    "\n",
    "This step generates the sample"
   ]
  },
  {
   "cell_type": "code",
   "execution_count": 60,
   "id": "0e3872fd-b423-447d-ab33-17ec13b85fbe",
   "metadata": {},
   "outputs": [],
   "source": [
    "def bl(n_assets, n_obs, return_vec):\n",
    "    '''\n",
    "    This function evaluates the equillibrium returns of a portfolio and generates the sample\n",
    "    Returns: \n",
    "    weights: optimal weights\n",
    "    bl_returns: BL returns\n",
    "    S: BL risk\n",
    "    '''\n",
    "    market_prices = pd.Series(np.random.randn(n_obs))\n",
    "    rng = np.random.default_rng()\n",
    "    cov_struct = rng.multivariate_normal(np.zeros(n_assets), cov = r, size = n_obs)\n",
    "    S = pyp.risk_models.CovarianceShrinkage(cov_struct).ledoit_wolf()\n",
    "    delta = pyp.black_litterman.market_implied_risk_aversion(market_prices, risk_free_rate=0.5)\n",
    "\n",
    "    market_prior = pd.Series(np.random.randn(n_assets))\n",
    "    view = pd.Series(np.ones(n_assets)*(1/n_assets))\n",
    "    \n",
    "    bl = pyp.BlackLittermanModel(S, pi=market_prior, absolute_views=view)\n",
    "    bl_return = bl.bl_returns()\n",
    "\n",
    "    ef = pyp.EfficientFrontier(bl_return, r)\n",
    "    bl.bl_weights(delta)\n",
    "    weights = bl.clean_weights()\n",
    "\n",
    "    S_bl = bl.bl_cov()\n",
    "    return weights, bl_return, S_bl"
   ]
  },
  {
   "cell_type": "code",
   "execution_count": 9,
   "id": "aeeeb0a9-c677-42f8-abca-eedecbec7ac7",
   "metadata": {},
   "outputs": [],
   "source": [
    "def one_corr_optimization(n_assets, n_obs, r):\n",
    "    '''\n",
    "    First, simulates portfolios then optimizes. \n",
    "    This does 100 replications\n",
    "    '''\n",
    "    weight_res = np.zeros((99,n_assets))\n",
    "    return_res = np.zeros((99,n_assets))\n",
    "    risks_res = []\n",
    "    \n",
    "    for i in range(99):\n",
    "        n_portfolios = 500\n",
    "        np.random.seed(i)\n",
    "        rng = np.random.default_rng()\n",
    "        return_vec = rng.multivariate_normal(np.zeros(n_assets), cov = r, size = n_obs)\n",
    "        weights, returns, risks = bl(n_assets, n_obs, return_vec) \n",
    "        weights = list(weights.items())\n",
    "        w = [x[1] for x in weights]\n",
    "        weight_res[i,:] = w\n",
    "        return_res[i,:] = np.array(returns).T\n",
    "        risks_res.append([risks])\n",
    "    return weight_res, return_res, risks_res"
   ]
  },
  {
   "cell_type": "code",
   "execution_count": 6,
   "id": "c2328ee3-b867-4658-8547-64e3e0784d9f",
   "metadata": {},
   "outputs": [],
   "source": [
    "def one_corr_optimization_zeros(n_assets, n_obs, r):\n",
    "    '''\n",
    "    First, simulates portfolios then optimizes. \n",
    "    This does 100 replications\n",
    "    '''\n",
    "    weight_res = np.zeros((99,n_assets))\n",
    "    return_res = np.zeros((99,n_assets))\n",
    "    risks_res = []\n",
    "    \n",
    "    for i in range(99):\n",
    "        np.random.seed(i)\n",
    "        rng = np.random.default_rng()\n",
    "        return_vec = rng.multivariate_normal(np.zeros(n_assets), cov = r, size = n_obs)\n",
    "        _75_perct = int(len(return_vec[:,0])*3/4)\n",
    "        return_vec[random.sample(list(range(1000)), _75_perct),0] = 0\n",
    "        np.random.seed(i*5)\n",
    "        return_vec[random.sample(list(range(1000)), _75_perct),1] = 0\n",
    "        \n",
    "        weights, returns, risks = bl(n_assets, n_obs, return_vec)\n",
    "        weights = list(weights.items())\n",
    "        w = [x[1] for x in weights]\n",
    "        weight_res[i,:] = w\n",
    "        return_res[i,:] = np.array(returns).T\n",
    "        risks_res.append([risks])\n",
    "    return weight_res, return_res, risks_res"
   ]
  },
  {
   "cell_type": "markdown",
   "id": "db878b0e-84bf-4a7a-a7c1-c997907ef5d1",
   "metadata": {},
   "source": [
    "# Perform Optimization\n",
    "## Correlated"
   ]
  },
  {
   "cell_type": "markdown",
   "id": "4423587d-0f5f-45c3-ad7d-db9d68eefbe4",
   "metadata": {},
   "source": [
    "## $n=4$"
   ]
  },
  {
   "cell_type": "code",
   "execution_count": 49,
   "id": "f04772d7-9ecb-4431-8614-28bd5984fd1d",
   "metadata": {},
   "outputs": [],
   "source": [
    "n_assets = 4\n",
    "n_obs = 1000\n",
    "r = np.random.uniform(0.8, 0.9, (n_assets,n_assets))\n",
    "np.fill_diagonal(r, 1)"
   ]
  },
  {
   "cell_type": "code",
   "execution_count": 55,
   "id": "f5c1de09-e1c4-4bbb-9200-83a3a4255261",
   "metadata": {},
   "outputs": [
    {
     "data": {
      "text/plain": [
       "array([0.15 , 0.003, 0.75 , 0.098])"
      ]
     },
     "execution_count": 55,
     "metadata": {},
     "output_type": "execute_result"
    }
   ],
   "source": [
    "n4_weights_corr, n4_returns_corr, n4_risks_corr = one_corr_optimization(n_assets, n_obs, r) #\n",
    "np.round(n4_weights_corr.mean(axis=0),3)"
   ]
  },
  {
   "cell_type": "code",
   "execution_count": 56,
   "id": "c5ae3470-56ae-4d31-b735-dff15f542703",
   "metadata": {},
   "outputs": [
    {
     "data": {
      "text/plain": [
       "array([4.553, 4.087, 2.32 , 2.742])"
      ]
     },
     "execution_count": 56,
     "metadata": {},
     "output_type": "execute_result"
    }
   ],
   "source": [
    "np.round(n4_weights_corr.std(axis=0), 3)"
   ]
  },
  {
   "cell_type": "code",
   "execution_count": 271,
   "id": "5edc334e-d40f-4387-a108-3f52609f0e01",
   "metadata": {},
   "outputs": [
    {
     "data": {
      "text/plain": [
       "(99, 1, 4, 4)"
      ]
     },
     "execution_count": 271,
     "metadata": {},
     "output_type": "execute_result"
    }
   ],
   "source": [
    "np.array(n4_risks_corr).shape"
   ]
  },
  {
   "cell_type": "code",
   "execution_count": 54,
   "id": "eedc266c-1bf8-4ae1-bb28-9ad8226d6cee",
   "metadata": {},
   "outputs": [
    {
     "data": {
      "text/plain": [
       "array([ 0.196,  0.201, -0.935,  1.537])"
      ]
     },
     "execution_count": 54,
     "metadata": {},
     "output_type": "execute_result"
    }
   ],
   "source": [
    "n4_weights_corr_os, n4_returns_corr_os, n4_risks_corr_os = one_corr_optimization_zeros(n_assets, n_obs, r)\n",
    "np.round(n4_weights_corr_os.mean(axis=0),3)"
   ]
  },
  {
   "cell_type": "code",
   "execution_count": 57,
   "id": "3b9cdb67-9fa7-4b7b-8486-4243087a7631",
   "metadata": {},
   "outputs": [
    {
     "data": {
      "text/plain": [
       "array([13.198,  4.555,  8.213, 11.316])"
      ]
     },
     "execution_count": 57,
     "metadata": {},
     "output_type": "execute_result"
    }
   ],
   "source": [
    "np.round(n4_weights_corr_os.std(axis=0), 3)"
   ]
  },
  {
   "cell_type": "markdown",
   "id": "a6e830ca-11ec-43d8-97f2-9b1fc8417bd4",
   "metadata": {},
   "source": [
    "## $ n = 8$"
   ]
  },
  {
   "cell_type": "code",
   "execution_count": 61,
   "id": "ceb357b4-d6fe-4ac6-a38f-b9c133ac679f",
   "metadata": {},
   "outputs": [],
   "source": [
    "n_assets = 8\n",
    "n_obs = 1000\n",
    "r = r = np.random.uniform(0.8, 0.9, (n_assets,n_assets))\n",
    "np.fill_diagonal(r, 1)"
   ]
  },
  {
   "cell_type": "code",
   "execution_count": 62,
   "id": "ec9ad5ee-2f88-4695-bc70-029a33f14cf7",
   "metadata": {},
   "outputs": [
    {
     "data": {
      "text/plain": [
       "array([ 0.041, -0.21 ,  0.166,  0.386,  0.056, -0.244,  0.046,  0.759])"
      ]
     },
     "execution_count": 62,
     "metadata": {},
     "output_type": "execute_result"
    }
   ],
   "source": [
    "n8_weights_corr, n8_returns_corr, n8_risks_corr = one_corr_optimization(n_assets, n_obs, r) \n",
    "np.round(n8_weights_corr.mean(axis=0),3)"
   ]
  },
  {
   "cell_type": "code",
   "execution_count": 63,
   "id": "36b7d181-c806-4339-be87-0c858adbf5e5",
   "metadata": {},
   "outputs": [
    {
     "data": {
      "text/plain": [
       "array([2.97 , 2.822, 1.121, 4.244, 1.31 , 2.973, 2.218, 5.21 ])"
      ]
     },
     "execution_count": 63,
     "metadata": {},
     "output_type": "execute_result"
    }
   ],
   "source": [
    "np.round(n8_weights_corr.std(axis=0),3)"
   ]
  },
  {
   "cell_type": "code",
   "execution_count": 64,
   "id": "98338d50-a2d6-4cd6-9818-6e377152f259",
   "metadata": {},
   "outputs": [
    {
     "data": {
      "text/plain": [
       "array([ 0.003, -0.195,  0.036,  0.187,  0.149,  0.008, -0.174,  0.986])"
      ]
     },
     "execution_count": 64,
     "metadata": {},
     "output_type": "execute_result"
    }
   ],
   "source": [
    "n8_weights_corr_os, n8_returns_corr_os, n8_risks_corr_os = one_corr_optimization_zeros(n_assets, n_obs, r)\n",
    "np.round(n8_weights_corr_os.mean(axis=0),3)"
   ]
  },
  {
   "cell_type": "code",
   "execution_count": 65,
   "id": "e6b1ceaa-bc18-42ac-b20d-464f12a10cae",
   "metadata": {},
   "outputs": [
    {
     "data": {
      "text/plain": [
       "array([5.018, 3.012, 2.578, 4.744, 1.638, 4.412, 3.515, 5.753])"
      ]
     },
     "execution_count": 65,
     "metadata": {},
     "output_type": "execute_result"
    }
   ],
   "source": [
    "np.round(n8_weights_corr_os.std(axis=0),3)"
   ]
  },
  {
   "cell_type": "markdown",
   "id": "9d647315-3a49-4963-9aff-099a63424881",
   "metadata": {},
   "source": [
    "## $n=16$"
   ]
  },
  {
   "cell_type": "code",
   "execution_count": 66,
   "id": "c3761681-a465-4089-8811-b64a9979bffa",
   "metadata": {},
   "outputs": [],
   "source": [
    "n_assets = 16\n",
    "n_obs = 1000\n",
    "r = np.random.uniform(0.8, 0.9, (n_assets,n_assets))\n",
    "np.fill_diagonal(r, 1)"
   ]
  },
  {
   "cell_type": "code",
   "execution_count": 67,
   "id": "b5332432-0aff-46c9-ade5-bacb5d86d996",
   "metadata": {},
   "outputs": [
    {
     "data": {
      "text/plain": [
       "array([ 0.324,  0.382,  0.131, -0.796,  0.221,  0.13 ,  0.216, -0.733,\n",
       "        1.137,  0.401, -0.355, -0.055,  0.196,  0.525, -0.387, -0.339])"
      ]
     },
     "execution_count": 67,
     "metadata": {},
     "output_type": "execute_result"
    }
   ],
   "source": [
    "n16_weights_corr, n16_returns_corr, n16_risks_corr = one_corr_optimization(n_assets, n_obs, r) \n",
    "np.round(n16_weights_corr.mean(axis=0),3)"
   ]
  },
  {
   "cell_type": "code",
   "execution_count": 68,
   "id": "8dcb6471-c5a9-4700-8b18-6d7e5d8081aa",
   "metadata": {},
   "outputs": [
    {
     "data": {
      "text/plain": [
       "array([1.379, 2.568, 2.674, 8.792, 3.297, 2.407, 2.608, 6.112, 7.363,\n",
       "       3.816, 4.514, 3.171, 4.434, 2.664, 3.107, 4.96 ])"
      ]
     },
     "execution_count": 68,
     "metadata": {},
     "output_type": "execute_result"
    }
   ],
   "source": [
    "np.round(n16_weights_corr.std(axis=0),3)"
   ]
  },
  {
   "cell_type": "code",
   "execution_count": 69,
   "id": "d7b289c0-11c3-492b-8c17-56f2c21be3a2",
   "metadata": {},
   "outputs": [
    {
     "data": {
      "text/plain": [
       "array([ 0.016,  0.057,  0.224,  0.285,  0.367,  0.038, -0.109, -0.071,\n",
       "        0.211, -0.059,  0.014,  0.28 , -0.073, -0.149, -0.087,  0.055])"
      ]
     },
     "execution_count": 69,
     "metadata": {},
     "output_type": "execute_result"
    }
   ],
   "source": [
    "n16_weights_corr_os, n16_returns_corr_os, n16_risks_corr_os = one_corr_optimization_zeros(n_assets, n_obs, r)\n",
    "np.round(n16_weights_corr_os.mean(axis=0),3)"
   ]
  },
  {
   "cell_type": "code",
   "execution_count": 70,
   "id": "0aed17fc-00df-4679-a159-e9c00f29d361",
   "metadata": {},
   "outputs": [
    {
     "data": {
      "text/plain": [
       "array([1.542, 1.336, 1.738, 1.201, 1.3  , 1.207, 1.457, 2.153, 1.146,\n",
       "       1.252, 1.584, 1.454, 1.442, 1.324, 1.139, 1.406])"
      ]
     },
     "execution_count": 70,
     "metadata": {},
     "output_type": "execute_result"
    }
   ],
   "source": [
    "np.round(n16_weights_corr_os.std(axis=0),3)"
   ]
  },
  {
   "cell_type": "markdown",
   "id": "f699178e-4fba-4276-b436-83352c491a10",
   "metadata": {},
   "source": [
    "## Independent"
   ]
  },
  {
   "cell_type": "code",
   "execution_count": 71,
   "id": "3eaab865-4a13-45a4-82cf-6057f219fab3",
   "metadata": {},
   "outputs": [],
   "source": [
    "n_assets = 4\n",
    "n_obs = 1000\n",
    "r = np.eye(n_assets)"
   ]
  },
  {
   "cell_type": "code",
   "execution_count": 72,
   "id": "be6b6d63-40cf-46c5-bb8f-1c3e543227bf",
   "metadata": {},
   "outputs": [
    {
     "data": {
      "text/plain": [
       "array([ 0.06 ,  0.15 ,  0.855, -0.065])"
      ]
     },
     "execution_count": 72,
     "metadata": {},
     "output_type": "execute_result"
    }
   ],
   "source": [
    "n4_weights_ind, n4_returns_ind, n4_risks_ind = one_corr_optimization(n_assets, n_obs, r) \n",
    "np.round(n4_weights_ind.mean(axis=0),3)"
   ]
  },
  {
   "cell_type": "code",
   "execution_count": 74,
   "id": "ed0e3c0c-98b1-4ab0-aa0e-218fa86911c2",
   "metadata": {},
   "outputs": [
    {
     "data": {
      "text/plain": [
       "array([4.357, 3.681, 2.311, 2.749])"
      ]
     },
     "execution_count": 74,
     "metadata": {},
     "output_type": "execute_result"
    }
   ],
   "source": [
    "np.round(n4_weights_ind.std(axis=0),3)"
   ]
  },
  {
   "cell_type": "code",
   "execution_count": 78,
   "id": "2db3d97b-e571-4ae4-b4a4-2cea07b78c9e",
   "metadata": {},
   "outputs": [
    {
     "data": {
      "text/plain": [
       "array([0.011, 0.032, 0.012, 0.945])"
      ]
     },
     "execution_count": 78,
     "metadata": {},
     "output_type": "execute_result"
    }
   ],
   "source": [
    "n4_weights_ind_os, n4_returns_ind_os, n4_risks_ind_os = one_corr_optimization_zeros(n_assets, n_obs, r)\n",
    "np.round(n4_weights_ind_os.mean(axis=0),3)"
   ]
  },
  {
   "cell_type": "code",
   "execution_count": 79,
   "id": "defe84c2-398f-4dee-9413-b210d8a24fcf",
   "metadata": {},
   "outputs": [
    {
     "data": {
      "text/plain": [
       "array([12.756,  5.021,  5.471, 12.799])"
      ]
     },
     "execution_count": 79,
     "metadata": {},
     "output_type": "execute_result"
    }
   ],
   "source": [
    "np.round(n4_weights_ind_os.std(axis=0),3)"
   ]
  },
  {
   "cell_type": "markdown",
   "id": "cf93be80-e563-4d65-bdaf-e8e3cf8a5986",
   "metadata": {},
   "source": [
    "## $n=8$"
   ]
  },
  {
   "cell_type": "code",
   "execution_count": 80,
   "id": "01690fcc-a621-4e83-b93f-70b04ef13176",
   "metadata": {},
   "outputs": [],
   "source": [
    "n_assets = 8\n",
    "n_obs = 1000\n",
    "r = np.eye(n_assets)"
   ]
  },
  {
   "cell_type": "code",
   "execution_count": 81,
   "id": "450f46e2-da94-4988-a8db-2b4e87916c17",
   "metadata": {},
   "outputs": [
    {
     "data": {
      "text/plain": [
       "array([ 0.446, -0.005,  0.07 , -0.128,  0.308, -0.111, -0.003,  0.424])"
      ]
     },
     "execution_count": 81,
     "metadata": {},
     "output_type": "execute_result"
    }
   ],
   "source": [
    "n8_weights_ind, n8_returns_ind, n8_risks_ind = one_corr_optimization(n_assets, n_obs, r) \n",
    "np.round(n8_weights_ind.mean(axis=0),3)"
   ]
  },
  {
   "cell_type": "code",
   "execution_count": 82,
   "id": "12f8b7b3-af34-48ac-a7cd-c75d73839ca9",
   "metadata": {},
   "outputs": [
    {
     "data": {
      "text/plain": [
       "array([2.427, 1.326, 1.067, 2.595, 3.675, 1.899, 2.876, 1.878])"
      ]
     },
     "execution_count": 82,
     "metadata": {},
     "output_type": "execute_result"
    }
   ],
   "source": [
    "np.round(n8_weights_ind.std(axis=0),3)"
   ]
  },
  {
   "cell_type": "code",
   "execution_count": 83,
   "id": "a05b743f-8a20-4065-b807-5cb4e0b4b573",
   "metadata": {},
   "outputs": [
    {
     "data": {
      "text/plain": [
       "array([ 0.613, -0.042, -0.137, -0.087,  0.043,  0.058,  0.154,  0.397])"
      ]
     },
     "execution_count": 83,
     "metadata": {},
     "output_type": "execute_result"
    }
   ],
   "source": [
    "n8_weights_ind_os, n8_returns_ind_os, n8_risks_ind_os = one_corr_optimization_zeros(n_assets, n_obs, r)\n",
    "np.round(n8_weights_ind_os.mean(axis=0),3)"
   ]
  },
  {
   "cell_type": "code",
   "execution_count": 84,
   "id": "0b59bd3e-6ff1-466c-acd3-aab71fb2700f",
   "metadata": {},
   "outputs": [
    {
     "data": {
      "text/plain": [
       "array([2.941, 1.668, 2.574, 2.297, 1.59 , 1.717, 1.597, 2.198])"
      ]
     },
     "execution_count": 84,
     "metadata": {},
     "output_type": "execute_result"
    }
   ],
   "source": [
    "np.round(n8_weights_ind_os.std(axis=0),3)"
   ]
  },
  {
   "cell_type": "markdown",
   "id": "25a59ca1-8ad7-4bc2-ad65-fc0324e403b9",
   "metadata": {},
   "source": [
    "## $n=16$"
   ]
  },
  {
   "cell_type": "code",
   "execution_count": 89,
   "id": "c14fe2d6-1553-45a1-8426-48a4aa78dae3",
   "metadata": {},
   "outputs": [],
   "source": [
    "n_assets = 16\n",
    "n_obs = 1000\n",
    "r = np.eye(n_assets)"
   ]
  },
  {
   "cell_type": "code",
   "execution_count": 90,
   "id": "f7a765ff-3c4a-4c0c-aaa7-b18f31443b9a",
   "metadata": {},
   "outputs": [
    {
     "data": {
      "text/plain": [
       "array([ 0.173,  0.293,  0.056, -0.796,  0.324, -0.155, -0.101, -0.262,\n",
       "        0.986,  0.257, -0.648,  0.232,  0.464,  0.503, -0.099, -0.227])"
      ]
     },
     "execution_count": 90,
     "metadata": {},
     "output_type": "execute_result"
    }
   ],
   "source": [
    "n16_weights_ind, n16_returns_ind, n16_risks_ind = one_corr_optimization(n_assets, n_obs, r) \n",
    "np.round(n16_weights_ind.mean(axis=0),3)"
   ]
  },
  {
   "cell_type": "code",
   "execution_count": 91,
   "id": "29ab7d8b-09ec-45f3-bfbd-89c79358028e",
   "metadata": {},
   "outputs": [
    {
     "data": {
      "text/plain": [
       "array([1.167, 2.668, 2.517, 8.901, 3.341, 1.593, 2.121, 5.743, 7.398,\n",
       "       3.818, 4.54 , 2.344, 4.051, 2.601, 3.276, 4.823])"
      ]
     },
     "execution_count": 91,
     "metadata": {},
     "output_type": "execute_result"
    }
   ],
   "source": [
    "np.round(n16_weights_ind.std(axis=0),3)"
   ]
  },
  {
   "cell_type": "code",
   "execution_count": 92,
   "id": "acac3113-1cb0-4102-830b-4efb1f4b5851",
   "metadata": {},
   "outputs": [
    {
     "data": {
      "text/plain": [
       "array([ 0.102,  0.26 ,  0.832, -0.769,  0.331,  0.532, -0.021, -0.489,\n",
       "        0.779,  0.614, -0.541,  0.286, -0.608,  0.229, -0.076, -0.462])"
      ]
     },
     "execution_count": 92,
     "metadata": {},
     "output_type": "execute_result"
    }
   ],
   "source": [
    "n16_weights_ind_os, n16_returns_ind_os, n16_ind_risks_os = one_corr_optimization_zeros(n_assets, n_obs, r)\n",
    "np.round(n16_weights_ind_os.mean(axis=0),3)"
   ]
  },
  {
   "cell_type": "code",
   "execution_count": 93,
   "id": "8dc3b17a-ebd5-491d-a3c8-56e3bba82285",
   "metadata": {},
   "outputs": [
    {
     "data": {
      "text/plain": [
       "array([1.864, 2.3  , 3.837, 8.663, 4.355, 3.273, 2.995, 6.391, 7.909,\n",
       "       4.034, 4.266, 3.837, 7.186, 3.12 , 3.889, 4.897])"
      ]
     },
     "execution_count": 93,
     "metadata": {},
     "output_type": "execute_result"
    }
   ],
   "source": [
    "np.round(n16_weights_ind_os.std(axis=0),3)"
   ]
  },
  {
   "cell_type": "markdown",
   "id": "b0eba142-ab93-4fad-b46b-56b5a65002a6",
   "metadata": {},
   "source": [
    "## Negatively Correlated"
   ]
  },
  {
   "cell_type": "markdown",
   "id": "dbc4f8f9-eebe-448a-9524-a84c300a765a",
   "metadata": {},
   "source": [
    "## $n=4$"
   ]
  },
  {
   "cell_type": "code",
   "execution_count": 94,
   "id": "3262dc77-dabf-4692-9d7b-2466b3e7b552",
   "metadata": {},
   "outputs": [],
   "source": [
    "n_assets = 4\n",
    "n_obs = 1000\n",
    "r = r = np.random.uniform(-0.8, -0.5, (n_assets,n_assets))\n",
    "np.fill_diagonal(r, 1)"
   ]
  },
  {
   "cell_type": "code",
   "execution_count": 95,
   "id": "28d2a99e-8573-48a3-b4de-30da3014c8c8",
   "metadata": {},
   "outputs": [
    {
     "data": {
      "text/plain": [
       "array([0.03 , 0.166, 0.802, 0.002])"
      ]
     },
     "execution_count": 95,
     "metadata": {},
     "output_type": "execute_result"
    }
   ],
   "source": [
    "n4_weights_neg, n4_returns_neg, n4_risks_neg = one_corr_optimization(n_assets, n_obs, r) \n",
    "np.round(n4_weights_neg.mean(axis=0),3)"
   ]
  },
  {
   "cell_type": "code",
   "execution_count": 99,
   "id": "b6acb8d0-e703-49e9-8ea4-efa5cc84d7b6",
   "metadata": {},
   "outputs": [
    {
     "data": {
      "text/plain": [
       "array([4.36 , 3.683, 2.36 , 2.768])"
      ]
     },
     "execution_count": 99,
     "metadata": {},
     "output_type": "execute_result"
    }
   ],
   "source": [
    "np.round(n4_weights_neg.std(axis=0),3)"
   ]
  },
  {
   "cell_type": "code",
   "execution_count": 97,
   "id": "9fb89858-560e-4fd9-ac5c-9666b7dfcd86",
   "metadata": {},
   "outputs": [
    {
     "data": {
      "text/plain": [
       "array([-0.987,  0.295,  0.008,  1.685])"
      ]
     },
     "execution_count": 97,
     "metadata": {},
     "output_type": "execute_result"
    }
   ],
   "source": [
    "n4_weights_neg_os, n4_returns_neg_os, n4_risks_neg_os = one_corr_optimization_zeros(n_assets, n_obs, r)\n",
    "np.round(n4_weights_neg_os.mean(axis=0),3)"
   ]
  },
  {
   "cell_type": "code",
   "execution_count": 98,
   "id": "3cf35c61-6ffc-41e0-84a7-988f315fc407",
   "metadata": {},
   "outputs": [
    {
     "data": {
      "text/plain": [
       "array([ 9.785,  4.512,  4.485, 10.763])"
      ]
     },
     "execution_count": 98,
     "metadata": {},
     "output_type": "execute_result"
    }
   ],
   "source": [
    "np.round(n4_weights_neg_os.std(axis=0),3)"
   ]
  },
  {
   "cell_type": "markdown",
   "id": "0f5f624b-a9dc-472b-ad7a-b4a00462a0b5",
   "metadata": {},
   "source": [
    "## $n=8$"
   ]
  },
  {
   "cell_type": "code",
   "execution_count": 100,
   "id": "62ada700-de32-4e03-8321-9b0e90d64555",
   "metadata": {},
   "outputs": [],
   "source": [
    "n_assets = 8\n",
    "n_obs = 1000\n",
    "r = r = np.random.uniform(-0.8, -0.5, (n_assets,n_assets))\n",
    "np.fill_diagonal(r, 1)"
   ]
  },
  {
   "cell_type": "code",
   "execution_count": 101,
   "id": "63bf265c-d466-40cf-b648-419751e9bee6",
   "metadata": {},
   "outputs": [
    {
     "data": {
      "text/plain": [
       "array([ 0.139,  0.334,  0.313,  0.952,  0.172, -0.462, -0.584,  0.135])"
      ]
     },
     "execution_count": 101,
     "metadata": {},
     "output_type": "execute_result"
    }
   ],
   "source": [
    "n8_weights_neg, n8_returns_neg, n8_risks_neg = one_corr_optimization(n_assets, n_obs, r) \n",
    "np.round(n8_weights_neg.mean(axis=0),3)"
   ]
  },
  {
   "cell_type": "code",
   "execution_count": 103,
   "id": "5b2cc85e-68df-409f-9264-792c8e69d3c3",
   "metadata": {},
   "outputs": [
    {
     "data": {
      "text/plain": [
       "array([3.436, 5.399, 2.384, 7.631, 3.782, 3.669, 4.764, 8.791])"
      ]
     },
     "execution_count": 103,
     "metadata": {},
     "output_type": "execute_result"
    }
   ],
   "source": [
    "np.round(n8_weights_neg.std(axis=0),3)"
   ]
  },
  {
   "cell_type": "code",
   "execution_count": 102,
   "id": "0449dc9a-46a4-430e-9e3f-3f01359f6ebc",
   "metadata": {},
   "outputs": [
    {
     "data": {
      "text/plain": [
       "array([-0.036, -0.185,  0.013,  0.079, -0.11 ,  0.122, -0.026,  1.142])"
      ]
     },
     "execution_count": 102,
     "metadata": {},
     "output_type": "execute_result"
    }
   ],
   "source": [
    "n8_weights_neg_os, n8_returns_neg_os, n8_risks_neg_os = one_corr_optimization_zeros(n_assets, n_obs, r)\n",
    "np.round(n8_weights_neg_os.mean(axis=0),3)"
   ]
  },
  {
   "cell_type": "code",
   "execution_count": 104,
   "id": "25814934-2d2b-432c-a49d-6547b9134eec",
   "metadata": {},
   "outputs": [
    {
     "data": {
      "text/plain": [
       "array([5.233, 3.099, 2.821, 4.891, 2.77 , 4.475, 4.249, 5.862])"
      ]
     },
     "execution_count": 104,
     "metadata": {},
     "output_type": "execute_result"
    }
   ],
   "source": [
    "np.round(n8_weights_neg_os.std(axis=0),3)"
   ]
  },
  {
   "cell_type": "markdown",
   "id": "dbdc6fa9-1dae-42ff-92ec-1e6aa4288329",
   "metadata": {},
   "source": [
    "## $n=16$"
   ]
  },
  {
   "cell_type": "code",
   "execution_count": 105,
   "id": "d7189771-d505-4429-b356-a2c3cd617bbc",
   "metadata": {},
   "outputs": [],
   "source": [
    "n_assets = 16\n",
    "n_obs = 1000\n",
    "r = r = np.random.uniform(-0.8, -0.5, (n_assets,n_assets))\n",
    "np.fill_diagonal(r, 1)"
   ]
  },
  {
   "cell_type": "code",
   "execution_count": 106,
   "id": "d9d525e1-5ccb-4ac8-b630-27db5e3eef9b",
   "metadata": {},
   "outputs": [
    {
     "data": {
      "text/plain": [
       "array([ 0.263,  0.673,  0.248, -0.891,  0.128,  0.214,  0.181, -0.804,\n",
       "        1.003,  0.426, -0.231, -0.139,  0.193,  0.424, -0.297, -0.391])"
      ]
     },
     "execution_count": 106,
     "metadata": {},
     "output_type": "execute_result"
    }
   ],
   "source": [
    "n16_weights_neg, n16_returns_neg, n16_risks_neg = one_corr_optimization(n_assets, n_obs, r) \n",
    "np.round(n16_weights_neg.mean(axis=0),3)"
   ]
  },
  {
   "cell_type": "code",
   "execution_count": 107,
   "id": "16cd9a89-8490-4fe6-a5ea-2f61dc829aed",
   "metadata": {},
   "outputs": [
    {
     "data": {
      "text/plain": [
       "array([1.336, 2.543, 2.687, 8.77 , 3.316, 2.437, 2.6  , 6.081, 7.381,\n",
       "       3.842, 4.536, 3.171, 4.433, 2.636, 3.038, 4.962])"
      ]
     },
     "execution_count": 107,
     "metadata": {},
     "output_type": "execute_result"
    }
   ],
   "source": [
    "np.round(n16_weights_neg.std(axis=0),3)"
   ]
  },
  {
   "cell_type": "code",
   "execution_count": 108,
   "id": "480b6266-b3c8-4014-8255-4c70440ac34c",
   "metadata": {},
   "outputs": [
    {
     "data": {
      "text/plain": [
       "array([ 0.217,  0.085,  0.4  , -0.517,  0.514,  0.224,  0.155, -0.711,\n",
       "        0.905,  0.503, -0.292,  0.091,  0.037,  0.122, -0.293, -0.44 ])"
      ]
     },
     "execution_count": 108,
     "metadata": {},
     "output_type": "execute_result"
    }
   ],
   "source": [
    "n16_weights_neg_os, n16_returns_neg_os, n16_risks_neg_os = one_corr_optimization_zeros(n_assets, n_obs, r)\n",
    "np.round(n16_weights_neg_os.mean(axis=0),3)"
   ]
  },
  {
   "cell_type": "code",
   "execution_count": 109,
   "id": "9f08b53e-b222-47c0-b26d-431b3b1a7a86",
   "metadata": {},
   "outputs": [
    {
     "data": {
      "text/plain": [
       "array([1.71 , 1.886, 2.163, 6.919, 2.415, 2.192, 2.42 , 5.206, 5.816,\n",
       "       3.315, 3.645, 3.185, 3.776, 2.139, 2.558, 4.005])"
      ]
     },
     "execution_count": 109,
     "metadata": {},
     "output_type": "execute_result"
    }
   ],
   "source": [
    "np.round(n16_weights_neg_os.std(axis=0),3)"
   ]
  }
 ],
 "metadata": {
  "kernelspec": {
   "display_name": "Python 3",
   "language": "python",
   "name": "python3"
  },
  "language_info": {
   "codemirror_mode": {
    "name": "ipython",
    "version": 3
   },
   "file_extension": ".py",
   "mimetype": "text/x-python",
   "name": "python",
   "nbconvert_exporter": "python",
   "pygments_lexer": "ipython3",
   "version": "3.8.8"
  }
 },
 "nbformat": 4,
 "nbformat_minor": 5
}
