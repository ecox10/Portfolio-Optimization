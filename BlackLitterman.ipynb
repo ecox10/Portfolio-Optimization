{
 "cells": [
  {
   "cell_type": "markdown",
   "id": "fa60bf70-e532-4071-b428-bd948a1bbb85",
   "metadata": {},
   "source": [
    "# Complete Black-Litterman Optimization\n",
    "\n",
    "| | | | \n",
    "|----------------------------------------------------------------------|-----------------------------------------------|---------------------------------------------------------------------------------|\n",
    "| n=4 $returns \\sim \\mathcal{N}(\\mu,\\sigma)$ Correlation from 0.8-0.9  | n=4 $returns \\sim N(\\mu,\\sigma)$ Independent  | n=4 $returns \\sim \\mathcal{N}(\\mu, sigma)$ Negative correlation (-0.8 to -0.5)  |\n",
    "| n=8 $returns \\sim \\mathcal{N}(\\mu,\\sigma)$ Correlation from 0.8-0.9  | n=8 $returns \\sim N(\\mu,\\sigma)$ Independent  | n=8 $returns \\sim \\mathcal{N}(\\mu, sigma)$ Negative correlation (-0.8 to -0.5)  |\n",
    "| n=16 $returns \\sim \\mathcal{N}(\\mu,\\sigma)$ Correlation from 0.8-0.9 | n=16 $returns \\sim N(\\mu,\\sigma)$ Independent | n=16 $returns \\sim \\mathcal{N}(\\mu, sigma)$ Negative correlation (-0.8 to -0.5) |\n",
    "\n",
    "using the method laid out in 4.2, Black-Litterman portfolio optimization\n",
    "\n",
    "using https://python-advanced.quantecon.org/black_litterman.html"
   ]
  },
  {
   "cell_type": "markdown",
   "id": "5110f681-585e-4387-a111-3e4684b44d39",
   "metadata": {},
   "source": [
    "## Read Packages"
   ]
  },
  {
   "cell_type": "code",
   "execution_count": 3,
   "id": "6f897b9d-5ab0-41e4-b642-017a3b9d13e7",
   "metadata": {},
   "outputs": [],
   "source": [
    "import numpy as np\n",
    "import pandas as pd\n",
    "import scipy.stats as stat\n",
    "import matplotlib.pyplot as plt\n",
    "from pylab import rcParams\n",
    "%matplotlib inline\n",
    "import random\n",
    "import trace\n",
    "import sklearn.covariance"
   ]
  },
  {
   "cell_type": "code",
   "execution_count": 4,
   "id": "00ea9b91-8564-4ee5-8039-5a892fa1e06e",
   "metadata": {},
   "outputs": [],
   "source": [
    "import pypfopt as pyp\n",
    "import warnings\n",
    "warnings.filterwarnings(\"ignore\")\n"
   ]
  },
  {
   "cell_type": "markdown",
   "id": "17d1f318-f56c-454a-abab-be02c5b02644",
   "metadata": {},
   "source": [
    "## Define Functions"
   ]
  },
  {
   "cell_type": "markdown",
   "id": "682e800f-8ac8-4d8b-b613-8a8cd1515803",
   "metadata": {},
   "source": [
    "Function that Calculated equillibrium values \n",
    "\n",
    "This step generates the sample"
   ]
  },
  {
   "cell_type": "code",
   "execution_count": 8,
   "id": "0e3872fd-b423-447d-ab33-17ec13b85fbe",
   "metadata": {},
   "outputs": [],
   "source": [
    "def bl(n_assets, n_obs, return_vec):\n",
    "    '''\n",
    "    This function evaluates the equillibrium returns of a portfolio and generates the sample\n",
    "    Inputs: \n",
    "    n_assets: Number of assets\n",
    "    n_obs: Number of observations\n",
    "    return_vec: A matrix of returns of shape n_obs x n_assets (a np.array)\n",
    "    Returns: \n",
    "    weights: optimal weights\n",
    "    bl_returns: BL returns\n",
    "    S: BL risk\n",
    "    '''\n",
    "    market_prices = pd.Series(np.random.randn(n_assets)) \n",
    "    rng = np.random.default_rng()\n",
    "    cov_struct = rng.multivariate_normal(np.zeros(n_assets), cov = r, size = n_obs)\n",
    "    S = pyp.risk_models.CovarianceShrinkage(cov_struct).ledoit_wolf()\n",
    "    delta = pyp.black_litterman.market_implied_risk_aversion(market_prices, risk_free_rate=0.5)\n",
    "    \n",
    "    market_prior = pd.Series(np.mean(return_vec + 5, axis = 0))\n",
    "    view = pd.Series(np.median(return_vec + 5, axis = 0))#np.ones(n_assets)*(1/n_assets)+ 5.0)\n",
    "    \n",
    "    bl = pyp.BlackLittermanModel(S, pi=market_prior, absolute_views=view)\n",
    "    bl_return = bl.bl_returns()\n",
    "\n",
    "    ef = pyp.EfficientFrontier(bl_return, r)\n",
    "    bl.bl_weights(delta)\n",
    "    weights = bl.clean_weights()\n",
    "\n",
    "    S_bl = bl.bl_cov()\n",
    "    return weights, bl_return, S_bl"
   ]
  },
  {
   "cell_type": "code",
   "execution_count": 17,
   "id": "8470f814-4088-44cc-9343-dceaa18c9096",
   "metadata": {},
   "outputs": [],
   "source": [
    "### This is a test - do not run\n",
    "#r = np.random.uniform(0.8, 0.9, (4,4))\n",
    "#rng = np.random.default_rng()\n",
    "#return_vec = rng.multivariate_normal(np.zeros(4), cov = r, size = 100)\n",
    "\n",
    "\n",
    "#market_prices = pd.Series(np.mean(return_vec)) \n",
    "#rng = np.random.default_rng()\n",
    "#cov_struct = rng.multivariate_normal(np.zeros(n_assets), cov = r, size = n_obs)\n",
    "#S = pyp.risk_models.CovarianceShrinkage(cov_struct).ledoit_wolf()\n",
    "#delta = pyp.black_litterman.market_implied_risk_aversion(market_prices, risk_free_rate=0.5)\n",
    "    \n",
    "#market_prior = pd.Series(np.random.randn(n_assets))\n",
    "#view = pd.Series(np.ones(n_assets)*(1/n_assets))\n",
    "    \n",
    "#bl = pyp.BlackLittermanModel(S, pi=market_prior, absolute_views=view)\n",
    "#bl_return = bl.bl_returns()\n",
    "\n",
    "#ef = pyp.EfficientFrontier(bl_return, r)\n",
    "#bl.bl_weights(delta)\n",
    "#weights = bl.clean_weights()\n",
    "\n",
    "#S_bl = bl.bl_cov()\n",
    "#print(cov_struct, S, S_bl)\n",
    "#np.mean(return_vec, axis = 0)"
   ]
  },
  {
   "cell_type": "code",
   "execution_count": 24,
   "id": "aeeeb0a9-c677-42f8-abca-eedecbec7ac7",
   "metadata": {},
   "outputs": [],
   "source": [
    "def one_corr_optimization(n_assets, n_obs, r):\n",
    "    '''\n",
    "    First, simulates portfolios then optimizes. \n",
    "    This does 100 replications\n",
    "    '''\n",
    "    weight_res = np.zeros((99,n_assets))\n",
    "    return_res = np.zeros((99,n_assets))\n",
    "    risks_res = np.zeros((99,n_assets))\n",
    "    \n",
    "    for i in range(99):\n",
    "        n_portfolios = 500\n",
    "        np.random.seed(i)\n",
    "        rng = np.random.default_rng()\n",
    "        return_vec = rng.multivariate_normal(np.zeros(n_assets), cov = r, size = n_obs)\n",
    "        weights, returns, risks = bl(n_assets, n_obs, return_vec) \n",
    "        weights = list(weights.items())\n",
    "        w = [x[1] for x in weights]\n",
    "        weight_res[i,:] = w\n",
    "        return_res[i,:] = np.array(returns).T\n",
    "        risks_res[i,:] = np.diagonal(np.array(risks))\n",
    "    return weight_res, return_res, risks_res"
   ]
  },
  {
   "cell_type": "code",
   "execution_count": 25,
   "id": "c2328ee3-b867-4658-8547-64e3e0784d9f",
   "metadata": {},
   "outputs": [],
   "source": [
    "def one_corr_optimization_zeros(n_assets, n_obs, r):\n",
    "    '''\n",
    "    First, simulates portfolios then optimizes. \n",
    "    This does 100 replications\n",
    "    '''\n",
    "    weight_res = np.zeros((99,n_assets))\n",
    "    return_res = np.zeros((99,n_assets))\n",
    "    risks_res = np.zeros((99,n_assets))\n",
    "    \n",
    "    for i in range(99):\n",
    "        np.random.seed(i)\n",
    "        rng = np.random.default_rng()\n",
    "        return_vec = rng.multivariate_normal(np.zeros(n_assets), cov = r, size = n_obs)\n",
    "        _75_perct = int(len(return_vec[:,0])*3/4)\n",
    "        return_vec[random.sample(list(range(1000)), _75_perct),0] = 0\n",
    "        np.random.seed(i*5)\n",
    "        return_vec[random.sample(list(range(1000)), _75_perct),1] = 0\n",
    "        \n",
    "        weights, returns, risks = bl(n_assets, n_obs, return_vec)\n",
    "        weights = list(weights.items())\n",
    "        w = [x[1] for x in weights]\n",
    "        weight_res[i,:] = w\n",
    "        return_res[i,:] = np.array(returns).T\n",
    "        risks_res[i,:] = np.diagonal(np.array(risks))\n",
    "    return weight_res, return_res, risks_res"
   ]
  },
  {
   "cell_type": "markdown",
   "id": "db878b0e-84bf-4a7a-a7c1-c997907ef5d1",
   "metadata": {},
   "source": [
    "# Perform Optimization\n",
    "## Correlated"
   ]
  },
  {
   "cell_type": "markdown",
   "id": "4423587d-0f5f-45c3-ad7d-db9d68eefbe4",
   "metadata": {},
   "source": [
    "## $n=4$"
   ]
  },
  {
   "cell_type": "code",
   "execution_count": 18,
   "id": "f04772d7-9ecb-4431-8614-28bd5984fd1d",
   "metadata": {},
   "outputs": [],
   "source": [
    "n_assets = 4\n",
    "n_obs = 1000\n",
    "r = np.random.uniform(0.8, 0.9, (n_assets,n_assets))\n",
    "np.fill_diagonal(r, 1)"
   ]
  },
  {
   "cell_type": "code",
   "execution_count": 26,
   "id": "f5c1de09-e1c4-4bbb-9200-83a3a4255261",
   "metadata": {},
   "outputs": [],
   "source": [
    "n4_weights_corr, n4_returns_corr, n4_risks_corr = one_corr_optimization(n_assets, n_obs, r) #"
   ]
  },
  {
   "cell_type": "code",
   "execution_count": 27,
   "id": "c5ae3470-56ae-4d31-b735-dff15f542703",
   "metadata": {},
   "outputs": [
    {
     "name": "stdout",
     "output_type": "stream",
     "text": [
      "weights (mean) = [0.25  0.251 0.249 0.25 ] \n",
      "returns (mean) = [5.001 5.002 5.001 5.003] \n",
      "risks (mean) =[58361975.537 58330435.159 58334748.043 58348001.049]\n"
     ]
    }
   ],
   "source": [
    "print('weights (mean) = '+str(np.round(np.mean(n4_weights_corr, axis=0),3)),\n",
    "      '\\nreturns (mean) = '+str(np.round(np.mean(n4_returns_corr, axis=0),3)),\n",
    "      '\\nrisks (mean) ='+str(np.round(np.mean(n4_risks_corr, axis=0),3)))"
   ]
  },
  {
   "cell_type": "code",
   "execution_count": null,
   "id": "e1832b59-36e7-461a-8384-cdcc961a3cbb",
   "metadata": {},
   "outputs": [],
   "source": [
    "print('weights (std) = '+str(np.round(np.std(n4_weights_corr, axis=0),3)),\n",
    "      '\\nreturns (std) = '+str(np.round(np.std(n4_returns_corr, axis=0),3)),\n",
    "      '\\nrisks (std) ='+str(np.round(np.std(n4_risks_corr, axis=0),3)))"
   ]
  },
  {
   "cell_type": "code",
   "execution_count": 28,
   "id": "eedc266c-1bf8-4ae1-bb28-9ad8226d6cee",
   "metadata": {},
   "outputs": [],
   "source": [
    "n4_weights_corr_os, n4_returns_corr_os, n4_risks_corr_os = one_corr_optimization_zeros(n_assets, n_obs, r)"
   ]
  },
  {
   "cell_type": "code",
   "execution_count": 29,
   "id": "4cd4d61f-d4ee-4858-a66c-0705aa3537f2",
   "metadata": {},
   "outputs": [
    {
     "name": "stdout",
     "output_type": "stream",
     "text": [
      "weights (mean) = [0.251 0.253 0.249 0.246] \n",
      "returns (mean) = [5.    5.001 5.004 5.002] \n",
      "risks (mean) =[20490931.299 20459769.196 20449191.14  20763641.158]\n"
     ]
    }
   ],
   "source": [
    "print('weights (mean) = '+str(np.round(np.mean(n4_weights_corr_os, axis=0),3)),\n",
    "      '\\nreturns (mean) = '+str(np.round(np.mean(n4_returns_corr_os, axis=0),3)),\n",
    "      '\\nrisks (mean) ='+str(np.round(np.mean(n4_risks_corr_os, axis=0),3)))"
   ]
  },
  {
   "cell_type": "code",
   "execution_count": 30,
   "id": "4d99b203-2de0-40a6-9414-d2f59f42cfe6",
   "metadata": {},
   "outputs": [
    {
     "name": "stdout",
     "output_type": "stream",
     "text": [
      "weights (std) = [0.024 0.023 0.024 0.032] \n",
      "returns (std) = [0.008 0.008 0.037 0.039] \n",
      "risks (std) =[80363448.239 80362921.541 80363032.365 80392527.224]\n"
     ]
    }
   ],
   "source": [
    "print('weights (std) = '+str(np.round(np.std(n4_weights_corr_os, axis=0),3)),\n",
    "      '\\nreturns (std) = '+str(np.round(np.std(n4_returns_corr_os, axis=0),3)),\n",
    "      '\\nrisks (std) ='+str(np.round(np.std(n4_risks_corr_os, axis=0),3)))"
   ]
  },
  {
   "cell_type": "markdown",
   "id": "a6e830ca-11ec-43d8-97f2-9b1fc8417bd4",
   "metadata": {},
   "source": [
    "## $ n = 8$"
   ]
  },
  {
   "cell_type": "code",
   "execution_count": 31,
   "id": "ceb357b4-d6fe-4ac6-a38f-b9c133ac679f",
   "metadata": {},
   "outputs": [],
   "source": [
    "n_assets = 8\n",
    "n_obs = 1000\n",
    "r = r = np.random.uniform(0.8, 0.9, (n_assets,n_assets))\n",
    "np.fill_diagonal(r, 1)"
   ]
  },
  {
   "cell_type": "code",
   "execution_count": 32,
   "id": "ec9ad5ee-2f88-4695-bc70-029a33f14cf7",
   "metadata": {},
   "outputs": [],
   "source": [
    "n8_weights_corr, n8_returns_corr, n8_risks_corr = one_corr_optimization(n_assets, n_obs, r) "
   ]
  },
  {
   "cell_type": "code",
   "execution_count": 33,
   "id": "57e8e330-1cb2-4fc1-b5c3-2d13308b6b2a",
   "metadata": {},
   "outputs": [
    {
     "name": "stdout",
     "output_type": "stream",
     "text": [
      "weights (mean) = [0.123 0.124 0.125 0.124 0.126 0.126 0.125 0.126] \n",
      "returns (mean) = [4.994 4.994 4.993 4.994 4.995 4.993 4.995 4.993] \n",
      "risks (mean) =[71369026.438 71105179.245 71023931.277 71026708.529 71027187.459\n",
      " 71008524.085 71049610.202 71033945.073]\n"
     ]
    }
   ],
   "source": [
    "print('weights (mean) = '+str(np.round(np.mean(n8_weights_corr, axis=0),3)),\n",
    "      '\\nreturns (mean) = '+str(np.round(np.mean(n8_returns_corr, axis=0),3)),\n",
    "      '\\nrisks (mean) ='+str(np.round(np.mean(n8_risks_corr, axis=0),3)))"
   ]
  },
  {
   "cell_type": "code",
   "execution_count": 34,
   "id": "516e52a6-9370-4d59-8483-b96dabce9e3f",
   "metadata": {},
   "outputs": [
    {
     "name": "stdout",
     "output_type": "stream",
     "text": [
      "weights (std) = [0.012 0.012 0.008 0.007 0.005 0.004 0.009 0.005] \n",
      "returns (std) = [0.034 0.038 0.034 0.037 0.038 0.037 0.037 0.033] \n",
      "risks (std) =[3.35063506e+08 3.35054006e+08 3.35069850e+08 3.35069041e+08\n",
      " 3.35072102e+08 3.35072748e+08 3.35064570e+08 3.35070701e+08]\n"
     ]
    }
   ],
   "source": [
    "print('weights (std) = '+str(np.round(np.std(n8_weights_corr, axis=0),3)),\n",
    "      '\\nreturns (std) = '+str(np.round(np.std(n8_returns_corr, axis=0),3)),\n",
    "      '\\nrisks (std) ='+str(np.round(np.std(n8_risks_corr, axis=0),3)))"
   ]
  },
  {
   "cell_type": "code",
   "execution_count": 35,
   "id": "98338d50-a2d6-4cd6-9818-6e377152f259",
   "metadata": {},
   "outputs": [],
   "source": [
    "n8_weights_corr_os, n8_returns_corr_os, n8_risks_corr_os = one_corr_optimization_zeros(n_assets, n_obs, r)"
   ]
  },
  {
   "cell_type": "code",
   "execution_count": 36,
   "id": "e6b1ceaa-bc18-42ac-b20d-464f12a10cae",
   "metadata": {},
   "outputs": [
    {
     "name": "stdout",
     "output_type": "stream",
     "text": [
      "weights (mean) = [0.125 0.125 0.122 0.126 0.125 0.125 0.126 0.125] \n",
      "returns (mean) = [4.999 5.    4.993 4.994 4.993 4.997 4.993 4.993] \n",
      "risks (mean) =[19326481.034 19701379.757 19742716.458 19324761.084 20196019.793\n",
      " 19374487.443 19374018.234 19340012.411]\n"
     ]
    }
   ],
   "source": [
    "print('weights (mean) = '+str(np.round(np.mean(n8_weights_corr_os, axis=0),3)),\n",
    "      '\\nreturns (mean) = '+str(np.round(np.mean(n8_returns_corr_os, axis=0),3)),\n",
    "      '\\nrisks (mean) ='+str(np.round(np.mean(n8_risks_corr_os, axis=0),3)))"
   ]
  },
  {
   "cell_type": "code",
   "execution_count": 37,
   "id": "5208f8a0-1be2-40af-9b4f-25591a2b6692",
   "metadata": {},
   "outputs": [
    {
     "name": "stdout",
     "output_type": "stream",
     "text": [
      "weights (std) = [0.01  0.012 0.019 0.01  0.017 0.013 0.012 0.012] \n",
      "returns (std) = [0.008 0.007 0.035 0.035 0.036 0.034 0.034 0.035] \n",
      "risks (std) =[49382453.037 49444861.627 49466128.58  49385266.678 49999531.526\n",
      " 49372956.86  49369375.138 49377595.345]\n"
     ]
    }
   ],
   "source": [
    "print('weights (std) = '+str(np.round(np.std(n8_weights_corr_os, axis=0),3)),\n",
    "      '\\nreturns (std) = '+str(np.round(np.std(n8_returns_corr_os, axis=0),3)),\n",
    "      '\\nrisks (std) ='+str(np.round(np.std(n8_risks_corr_os, axis=0),3)))"
   ]
  },
  {
   "cell_type": "markdown",
   "id": "9d647315-3a49-4963-9aff-099a63424881",
   "metadata": {},
   "source": [
    "## $n=16$"
   ]
  },
  {
   "cell_type": "code",
   "execution_count": 38,
   "id": "c3761681-a465-4089-8811-b64a9979bffa",
   "metadata": {},
   "outputs": [],
   "source": [
    "n_assets = 16\n",
    "n_obs = 1000\n",
    "r = np.random.uniform(0.8, 0.9, (n_assets,n_assets))\n",
    "np.fill_diagonal(r, 1)"
   ]
  },
  {
   "cell_type": "code",
   "execution_count": 39,
   "id": "b5332432-0aff-46c9-ade5-bacb5d86d996",
   "metadata": {},
   "outputs": [],
   "source": [
    "n16_weights_corr, n16_returns_corr, n16_risks_corr = one_corr_optimization(n_assets, n_obs, r) "
   ]
  },
  {
   "cell_type": "code",
   "execution_count": 40,
   "id": "8dcb6471-c5a9-4700-8b18-6d7e5d8081aa",
   "metadata": {},
   "outputs": [
    {
     "name": "stdout",
     "output_type": "stream",
     "text": [
      "weights (mean) = [0.063 0.062 0.063 0.063 0.062 0.062 0.062 0.062 0.063 0.063 0.062 0.063\n",
      " 0.063 0.063 0.062 0.062] \n",
      "returns (mean) = [5.    4.999 4.999 4.998 4.997 4.999 4.997 5.002 5.002 5.002 4.997 5.001\n",
      " 5.001 5.001 4.999 4.997] \n",
      "risks (mean) =[1.88362128e+08 1.88446506e+08 1.88742708e+08 1.88389878e+08\n",
      " 1.88498229e+08 1.88433493e+08 1.88834628e+08 1.88512220e+08\n",
      " 1.88363824e+08 1.88355001e+08 1.88398233e+08 1.88370701e+08\n",
      " 1.88372286e+08 1.88356901e+08 1.88642166e+08 1.89929768e+08]\n"
     ]
    }
   ],
   "source": [
    "print('weights (mean) = '+str(np.round(np.mean(n16_weights_corr, axis=0),3)),\n",
    "      '\\nreturns (mean) = '+str(np.round(np.mean(n16_returns_corr, axis=0),3)),\n",
    "      '\\nrisks (mean) ='+str(np.round(np.mean(n16_risks_corr, axis=0),3)))"
   ]
  },
  {
   "cell_type": "code",
   "execution_count": 41,
   "id": "c2240a27-306e-4ccd-b4bc-9c64fdde318d",
   "metadata": {},
   "outputs": [
    {
     "name": "stdout",
     "output_type": "stream",
     "text": [
      "weights (std) = [0.002 0.005 0.006 0.003 0.004 0.004 0.008 0.005 0.003 0.003 0.006 0.003\n",
      " 0.003 0.004 0.006 0.008] \n",
      "returns (std) = [0.031 0.033 0.028 0.031 0.03  0.031 0.03  0.031 0.029 0.029 0.032 0.03\n",
      " 0.033 0.033 0.03  0.031] \n",
      "risks (std) =[1.26680051e+09 1.26678829e+09 1.26675136e+09 1.26679650e+09\n",
      " 1.26678167e+09 1.26679037e+09 1.26674065e+09 1.26677997e+09\n",
      " 1.26680028e+09 1.26680152e+09 1.26679521e+09 1.26679927e+09\n",
      " 1.26679907e+09 1.26680124e+09 1.26676306e+09 1.26667478e+09]\n"
     ]
    }
   ],
   "source": [
    "print('weights (std) = '+str(np.round(np.std(n16_weights_corr, axis=0),3)),\n",
    "      '\\nreturns (std) = '+str(np.round(np.std(n16_returns_corr, axis=0),3)),\n",
    "      '\\nrisks (std) ='+str(np.round(np.std(n16_risks_corr, axis=0),3)))"
   ]
  },
  {
   "cell_type": "code",
   "execution_count": 42,
   "id": "d7b289c0-11c3-492b-8c17-56f2c21be3a2",
   "metadata": {},
   "outputs": [],
   "source": [
    "n16_weights_corr_os, n16_returns_corr_os, n16_risks_corr_os = one_corr_optimization_zeros(n_assets, n_obs, r)"
   ]
  },
  {
   "cell_type": "code",
   "execution_count": 43,
   "id": "0aed17fc-00df-4679-a159-e9c00f29d361",
   "metadata": {},
   "outputs": [
    {
     "name": "stdout",
     "output_type": "stream",
     "text": [
      "weights (mean) = [0.063 0.062 0.063 0.063 0.062 0.062 0.063 0.063 0.062 0.063 0.062 0.063\n",
      " 0.063 0.063 0.062 0.062] \n",
      "returns (mean) = [5.    5.    5.004 5.003 5.003 5.003 5.001 5.004 5.003 5.001 5.001 5.002\n",
      " 5.002 5.002 5.    4.999] \n",
      "risks (mean) =[1.96301421e+09 1.96318494e+09 1.96301239e+09 1.96304869e+09\n",
      " 1.96338972e+09 1.96312425e+09 1.96300469e+09 1.96300089e+09\n",
      " 1.96301904e+09 1.96300166e+09 1.96303687e+09 1.96301096e+09\n",
      " 1.96301314e+09 1.96300084e+09 1.96304572e+09 1.96311490e+09]\n"
     ]
    }
   ],
   "source": [
    "print('weights (mean) = '+str(np.round(np.mean(n16_weights_corr_os, axis=0),3)),\n",
    "      '\\nreturns (mean) = '+str(np.round(np.mean(n16_returns_corr_os, axis=0),3)),\n",
    "      '\\nrisks (mean) ='+str(np.round(np.mean(n16_risks_corr_os, axis=0),3)))"
   ]
  },
  {
   "cell_type": "code",
   "execution_count": 44,
   "id": "49246134-8f07-4ca3-9805-01dd651b8baf",
   "metadata": {},
   "outputs": [
    {
     "name": "stdout",
     "output_type": "stream",
     "text": [
      "weights (std) = [0.003 0.003 0.002 0.002 0.004 0.005 0.002 0.002 0.004 0.001 0.004 0.002\n",
      " 0.002 0.002 0.005 0.006] \n",
      "returns (std) = [0.008 0.007 0.032 0.032 0.033 0.032 0.029 0.033 0.034 0.036 0.035 0.031\n",
      " 0.032 0.035 0.033 0.032] \n",
      "risks (std) =[1.06840197e+10 1.06839889e+10 1.06840200e+10 1.06840135e+10\n",
      " 1.06839523e+10 1.06839996e+10 1.06840214e+10 1.06840221e+10\n",
      " 1.06840188e+10 1.06840220e+10 1.06840155e+10 1.06840203e+10\n",
      " 1.06840199e+10 1.06840221e+10 1.06840139e+10 1.06840013e+10]\n"
     ]
    }
   ],
   "source": [
    "print('weights (std) = '+str(np.round(np.std(n16_weights_corr_os, axis=0),3)),\n",
    "      '\\nreturns (std) = '+str(np.round(np.std(n16_returns_corr_os, axis=0),3)),\n",
    "      '\\nrisks (std) ='+str(np.round(np.std(n16_risks_corr_os, axis=0),3)))"
   ]
  },
  {
   "cell_type": "markdown",
   "id": "f699178e-4fba-4276-b436-83352c491a10",
   "metadata": {},
   "source": [
    "## Independent"
   ]
  },
  {
   "cell_type": "code",
   "execution_count": 45,
   "id": "3eaab865-4a13-45a4-82cf-6057f219fab3",
   "metadata": {},
   "outputs": [],
   "source": [
    "n_assets = 4\n",
    "n_obs = 1000\n",
    "r = np.eye(n_assets)"
   ]
  },
  {
   "cell_type": "code",
   "execution_count": 46,
   "id": "be6b6d63-40cf-46c5-bb8f-1c3e543227bf",
   "metadata": {},
   "outputs": [],
   "source": [
    "n4_weights_ind, n4_returns_ind, n4_risks_ind = one_corr_optimization(n_assets, n_obs, r) "
   ]
  },
  {
   "cell_type": "code",
   "execution_count": 47,
   "id": "ed0e3c0c-98b1-4ab0-aa0e-218fa86911c2",
   "metadata": {},
   "outputs": [
    {
     "name": "stdout",
     "output_type": "stream",
     "text": [
      "weights (mean) = [0.252 0.246 0.25  0.252] \n",
      "returns (mean) = [5.003 5.    4.997 4.998] \n",
      "risks (mean) =[41366410.454 41420949.132 41374162.93  41368818.21 ]\n"
     ]
    }
   ],
   "source": [
    "print('weights (mean) = '+str(np.round(np.mean(n4_weights_ind, axis=0),3)),\n",
    "      '\\nreturns (mean) = '+str(np.round(np.mean(n4_returns_ind, axis=0),3)),\n",
    "      '\\nrisks (mean) ='+str(np.round(np.mean(n4_risks_ind, axis=0),3)))"
   ]
  },
  {
   "cell_type": "code",
   "execution_count": 48,
   "id": "ea4db138-2084-4736-814f-535851c1b7b7",
   "metadata": {},
   "outputs": [
    {
     "name": "stdout",
     "output_type": "stream",
     "text": [
      "weights (std) = [0.014 0.022 0.017 0.009] \n",
      "returns (std) = [0.036 0.03  0.035 0.032] \n",
      "risks (std) =[2.25041714e+08 2.25032533e+08 2.25040306e+08 2.25041286e+08]\n"
     ]
    }
   ],
   "source": [
    "print('weights (std) = '+str(np.round(np.std(n4_weights_ind, axis=0),3)),\n",
    "      '\\nreturns (std) = '+str(np.round(np.std(n4_returns_ind, axis=0),3)),\n",
    "      '\\nrisks (std) ='+str(np.round(np.std(n4_risks_ind, axis=0),3)))"
   ]
  },
  {
   "cell_type": "code",
   "execution_count": 49,
   "id": "2db3d97b-e571-4ae4-b4a4-2cea07b78c9e",
   "metadata": {},
   "outputs": [],
   "source": [
    "n4_weights_ind_os, n4_returns_ind_os, n4_risks_ind_os = one_corr_optimization_zeros(n_assets, n_obs, r)"
   ]
  },
  {
   "cell_type": "code",
   "execution_count": 50,
   "id": "defe84c2-398f-4dee-9413-b210d8a24fcf",
   "metadata": {},
   "outputs": [
    {
     "name": "stdout",
     "output_type": "stream",
     "text": [
      "weights (mean) = [0.249 0.252 0.247 0.252] \n",
      "returns (mean) = [5.001 5.001 5.005 5.   ] \n",
      "risks (mean) =[2.26811071e+08 2.26715110e+08 2.26952088e+08 2.26715803e+08]\n"
     ]
    }
   ],
   "source": [
    "print('weights (mean) = '+str(np.round(np.mean(n4_weights_ind_os, axis=0),3)),\n",
    "      '\\nreturns (mean) = '+str(np.round(np.mean(n4_returns_ind_os, axis=0),3)),\n",
    "      '\\nrisks (mean) ='+str(np.round(np.mean(n4_risks_ind_os, axis=0),3)))"
   ]
  },
  {
   "cell_type": "code",
   "execution_count": 51,
   "id": "f665c8d5-84f4-4815-aaa2-d08664237a7f",
   "metadata": {},
   "outputs": [
    {
     "name": "stdout",
     "output_type": "stream",
     "text": [
      "weights (std) = [0.026 0.019 0.025 0.015] \n",
      "returns (std) = [0.007 0.009 0.033 0.035] \n",
      "risks (std) =[1.72935528e+09 1.72936727e+09 1.72933855e+09 1.72936717e+09]\n"
     ]
    }
   ],
   "source": [
    "print('weights (std) = '+str(np.round(np.std(n4_weights_ind_os, axis=0),3)),\n",
    "      '\\nreturns (std) = '+str(np.round(np.std(n4_returns_ind_os, axis=0),3)),\n",
    "      '\\nrisks (std) ='+str(np.round(np.std(n4_risks_ind_os, axis=0),3)))"
   ]
  },
  {
   "cell_type": "markdown",
   "id": "cf93be80-e563-4d65-bdaf-e8e3cf8a5986",
   "metadata": {},
   "source": [
    "## $n=8$"
   ]
  },
  {
   "cell_type": "code",
   "execution_count": 52,
   "id": "01690fcc-a621-4e83-b93f-70b04ef13176",
   "metadata": {},
   "outputs": [],
   "source": [
    "n_assets = 8\n",
    "n_obs = 1000\n",
    "r = np.eye(n_assets)"
   ]
  },
  {
   "cell_type": "code",
   "execution_count": 53,
   "id": "450f46e2-da94-4988-a8db-2b4e87916c17",
   "metadata": {},
   "outputs": [],
   "source": [
    "n8_weights_ind, n8_returns_ind, n8_risks_ind = one_corr_optimization(n_assets, n_obs, r) "
   ]
  },
  {
   "cell_type": "code",
   "execution_count": 54,
   "id": "12f8b7b3-af34-48ac-a7cd-c75d73839ca9",
   "metadata": {},
   "outputs": [
    {
     "name": "stdout",
     "output_type": "stream",
     "text": [
      "weights (mean) = [0.127 0.124 0.125 0.123 0.126 0.126 0.125 0.124] \n",
      "returns (mean) = [4.997 4.997 5.    4.998 4.995 5.002 4.999 5.01 ] \n",
      "risks (mean) =[1.41164242e+08 1.41254981e+08 1.41264050e+08 1.41309672e+08\n",
      " 1.41175698e+08 1.41190328e+08 1.41979280e+08 1.41288954e+08]\n"
     ]
    }
   ],
   "source": [
    "print('weights (mean) = '+str(np.round(np.mean(n8_weights_ind, axis=0),3)),\n",
    "      '\\nreturns (mean) = '+str(np.round(np.mean(n8_returns_ind, axis=0),3)),\n",
    "      '\\nrisks (mean) ='+str(np.round(np.mean(n8_risks_ind, axis=0),3)))"
   ]
  },
  {
   "cell_type": "code",
   "execution_count": 55,
   "id": "8ddbe02c-9f13-4c43-bd4e-cb84b706111b",
   "metadata": {},
   "outputs": [
    {
     "name": "stdout",
     "output_type": "stream",
     "text": [
      "weights (std) = [0.006 0.015 0.01  0.014 0.006 0.006 0.013 0.01 ] \n",
      "returns (std) = [0.035 0.032 0.032 0.035 0.036 0.031 0.034 0.034] \n",
      "risks (std) =[1.15767234e+09 1.15766166e+09 1.15766193e+09 1.15765616e+09\n",
      " 1.15767101e+09 1.15766935e+09 1.15764631e+09 1.15765807e+09]\n"
     ]
    }
   ],
   "source": [
    "print('weights (std) = '+str(np.round(np.std(n8_weights_ind, axis=0),3)),\n",
    "      '\\nreturns (std) = '+str(np.round(np.std(n8_returns_ind, axis=0),3)),\n",
    "      '\\nrisks (std) ='+str(np.round(np.std(n8_risks_ind, axis=0),3)))"
   ]
  },
  {
   "cell_type": "code",
   "execution_count": 56,
   "id": "a05b743f-8a20-4065-b807-5cb4e0b4b573",
   "metadata": {},
   "outputs": [],
   "source": [
    "n8_weights_ind_os, n8_returns_ind_os, n8_risks_ind_os = one_corr_optimization_zeros(n_assets, n_obs, r)"
   ]
  },
  {
   "cell_type": "code",
   "execution_count": 57,
   "id": "0b59bd3e-6ff1-466c-acd3-aab71fb2700f",
   "metadata": {},
   "outputs": [
    {
     "name": "stdout",
     "output_type": "stream",
     "text": [
      "weights (mean) = [0.124 0.127 0.126 0.127 0.125 0.125 0.122 0.124] \n",
      "returns (mean) = [5.    5.    5.    4.996 4.999 5.    4.999 4.999] \n",
      "risks (mean) =[1.00710593e+08 1.00290226e+08 1.00321320e+08 1.00288875e+08\n",
      " 1.00568162e+08 1.00374957e+08 1.02139223e+08 1.00741253e+08]\n"
     ]
    }
   ],
   "source": [
    "print('weights (mean) = '+str(np.round(np.mean(n8_weights_ind_os, axis=0),3)),\n",
    "      '\\nreturns (mean) = '+str(np.round(np.mean(n8_returns_ind_os, axis=0),3)),\n",
    "      '\\nrisks (mean) ='+str(np.round(np.mean(n8_risks_ind_os, axis=0),3)))"
   ]
  },
  {
   "cell_type": "code",
   "execution_count": 58,
   "id": "a9f56f45-e0ef-4ae8-b8f6-554ca408a759",
   "metadata": {},
   "outputs": [
    {
     "name": "stdout",
     "output_type": "stream",
     "text": [
      "weights (std) = [0.016 0.006 0.007 0.009 0.013 0.012 0.019 0.014] \n",
      "returns (std) = [0.008 0.008 0.034 0.036 0.033 0.032 0.034 0.038] \n",
      "risks (std) =[4.58954499e+08 4.59027845e+08 4.59020864e+08 4.59027301e+08\n",
      " 4.58980185e+08 4.59010077e+08 4.58999154e+08 4.58943942e+08]\n"
     ]
    }
   ],
   "source": [
    "print('weights (std) = '+str(np.round(np.std(n8_weights_ind_os, axis=0),3)),\n",
    "      '\\nreturns (std) = '+str(np.round(np.std(n8_returns_ind_os, axis=0),3)),\n",
    "      '\\nrisks (std) ='+str(np.round(np.std(n8_risks_ind_os, axis=0),3)))"
   ]
  },
  {
   "cell_type": "markdown",
   "id": "25a59ca1-8ad7-4bc2-ad65-fc0324e403b9",
   "metadata": {},
   "source": [
    "## $n=16$"
   ]
  },
  {
   "cell_type": "code",
   "execution_count": 60,
   "id": "c14fe2d6-1553-45a1-8426-48a4aa78dae3",
   "metadata": {},
   "outputs": [],
   "source": [
    "n_assets = 16\n",
    "n_obs = 1000\n",
    "r = np.eye(n_assets)"
   ]
  },
  {
   "cell_type": "code",
   "execution_count": 61,
   "id": "f7a765ff-3c4a-4c0c-aaa7-b18f31443b9a",
   "metadata": {},
   "outputs": [],
   "source": [
    "n16_weights_ind, n16_returns_ind, n16_risks_ind = one_corr_optimization(n_assets, n_obs, r) "
   ]
  },
  {
   "cell_type": "code",
   "execution_count": 62,
   "id": "29ab7d8b-09ec-45f3-bfbd-89c79358028e",
   "metadata": {},
   "outputs": [
    {
     "name": "stdout",
     "output_type": "stream",
     "text": [
      "weights (mean) = [0.063 0.062 0.062 0.063 0.063 0.062 0.062 0.062 0.063 0.061 0.063 0.063\n",
      " 0.063 0.062 0.062 0.063] \n",
      "returns (mean) = [5.002 4.999 4.994 5.    4.999 4.996 4.998 5.002 4.995 5.    5.005 5.\n",
      " 5.003 4.997 4.998 5.003] \n",
      "risks (mean) =[84472047.856 84485269.367 88592205.958 84431393.951 84455899.423\n",
      " 84656129.326 84463279.917 84478242.769 84435650.549 84725395.743\n",
      " 84708431.108 84440187.198 84475077.828 85679986.632 84473093.814\n",
      " 84439233.516]\n"
     ]
    }
   ],
   "source": [
    "print('weights (mean) = '+str(np.round(np.mean(n16_weights_ind, axis=0),3)),\n",
    "      '\\nreturns (mean) = '+str(np.round(np.mean(n16_returns_ind, axis=0),3)),\n",
    "      '\\nrisks (mean) ='+str(np.round(np.mean(n16_risks_ind, axis=0),3)))"
   ]
  },
  {
   "cell_type": "code",
   "execution_count": 64,
   "id": "e4be2a7f-5505-46ec-8b24-ffc544391065",
   "metadata": {},
   "outputs": [
    {
     "name": "stdout",
     "output_type": "stream",
     "text": [
      "weights (std) = [0.003 0.004 0.006 0.004 0.003 0.005 0.004 0.004 0.004 0.008 0.007 0.005\n",
      " 0.004 0.004 0.006 0.003] \n",
      "returns (std) = [0.034 0.038 0.032 0.033 0.033 0.031 0.036 0.031 0.032 0.03  0.036 0.037\n",
      " 0.032 0.035 0.032 0.034] \n",
      "risks (std) =[3.21144975e+08 3.21131210e+08 3.23845349e+08 3.21144501e+08\n",
      " 3.21138239e+08 3.21148696e+08 3.21137789e+08 3.21132460e+08\n",
      " 3.21143971e+08 3.21080466e+08 3.21085888e+08 3.21142429e+08\n",
      " 3.21133494e+08 3.21392719e+08 3.21133735e+08 3.21142265e+08]\n"
     ]
    }
   ],
   "source": [
    "print('weights (std) = '+str(np.round(np.std(n16_weights_ind, axis=0),3)),\n",
    "      '\\nreturns (std) = '+str(np.round(np.std(n16_returns_ind, axis=0),3)),\n",
    "      '\\nrisks (std) ='+str(np.round(np.std(n16_risks_ind, axis=0),3)))"
   ]
  },
  {
   "cell_type": "code",
   "execution_count": 66,
   "id": "acac3113-1cb0-4102-830b-4efb1f4b5851",
   "metadata": {},
   "outputs": [],
   "source": [
    "n16_weights_ind_os, n16_returns_ind_os, n16_ind_risks_os = one_corr_optimization_zeros(n_assets, n_obs, r)"
   ]
  },
  {
   "cell_type": "code",
   "execution_count": 68,
   "id": "8dc3b17a-ebd5-491d-a3c8-56e3bba82285",
   "metadata": {},
   "outputs": [
    {
     "name": "stdout",
     "output_type": "stream",
     "text": [
      "weights (mean) = [0.061 0.063 0.063 0.063 0.063 0.063 0.063 0.063 0.062 0.063 0.062 0.062\n",
      " 0.063 0.062 0.062 0.063] \n",
      "returns (mean) = [5.001 5.001 4.993 4.998 4.997 4.996 5.    4.998 5.003 5.001 4.998 4.999\n",
      " 4.997 4.995 5.005 4.999] \n",
      "risks (mean) =[1.03423257e+08 1.03227886e+08 1.03208064e+08 1.03226886e+08\n",
      " 1.03212351e+08 1.03230600e+08 1.03210045e+08 1.03213153e+08\n",
      " 1.03255032e+08 1.03217907e+08 1.03238442e+08 1.03346370e+08\n",
      " 1.03214401e+08 1.03221027e+08 1.03344355e+08 1.03210704e+08]\n"
     ]
    }
   ],
   "source": [
    "print('weights (mean) = '+str(np.round(np.mean(n16_weights_ind_os, axis=0),3)),\n",
    "      '\\nreturns (mean) = '+str(np.round(np.mean(n16_returns_ind_os, axis=0),3)),\n",
    "      '\\nrisks (mean) ='+str(np.round(np.mean(n16_ind_risks_os, axis=0),3)))"
   ]
  },
  {
   "cell_type": "code",
   "execution_count": 69,
   "id": "d992a3a3-f0fe-4287-ad37-eacf0dee759b",
   "metadata": {},
   "outputs": [
    {
     "name": "stdout",
     "output_type": "stream",
     "text": [
      "weights (std) = [0.008 0.003 0.002 0.002 0.002 0.003 0.002 0.002 0.003 0.002 0.004 0.006\n",
      " 0.002 0.004 0.006 0.002] \n",
      "returns (std) = [0.007 0.008 0.03  0.037 0.034 0.037 0.035 0.036 0.031 0.036 0.033 0.033\n",
      " 0.036 0.034 0.033 0.032] \n",
      "risks (std) =[3.92165310e+08 3.92212204e+08 3.92217260e+08 3.92212640e+08\n",
      " 3.92216153e+08 3.92211557e+08 3.92216772e+08 3.92215951e+08\n",
      " 3.92205642e+08 3.92214752e+08 3.92209495e+08 3.92183795e+08\n",
      " 3.92215626e+08 3.92213928e+08 3.92183642e+08 3.92216588e+08]\n"
     ]
    }
   ],
   "source": [
    "print('weights (std) = '+str(np.round(np.std(n16_weights_ind_os, axis=0),3)),\n",
    "      '\\nreturns (std) = '+str(np.round(np.std(n16_returns_ind_os, axis=0),3)),\n",
    "      '\\nrisks (std) ='+str(np.round(np.std(n16_ind_risks_os, axis=0),3)))"
   ]
  },
  {
   "cell_type": "markdown",
   "id": "b0eba142-ab93-4fad-b46b-56b5a65002a6",
   "metadata": {},
   "source": [
    "## Negatively Correlated"
   ]
  },
  {
   "cell_type": "markdown",
   "id": "dbc4f8f9-eebe-448a-9524-a84c300a765a",
   "metadata": {},
   "source": [
    "## $n=4$"
   ]
  },
  {
   "cell_type": "code",
   "execution_count": 74,
   "id": "3262dc77-dabf-4692-9d7b-2466b3e7b552",
   "metadata": {},
   "outputs": [],
   "source": [
    "n_assets = 4\n",
    "n_obs = 1000\n",
    "r = r = np.random.uniform(-0.8, -0.5, (n_assets,n_assets))\n",
    "np.fill_diagonal(r, 1)"
   ]
  },
  {
   "cell_type": "code",
   "execution_count": 75,
   "id": "28d2a99e-8573-48a3-b4de-30da3014c8c8",
   "metadata": {},
   "outputs": [],
   "source": [
    "n4_weights_neg, n4_returns_neg, n4_risks_neg = one_corr_optimization(n_assets, n_obs, r) "
   ]
  },
  {
   "cell_type": "code",
   "execution_count": 76,
   "id": "b6acb8d0-e703-49e9-8ea4-efa5cc84d7b6",
   "metadata": {},
   "outputs": [
    {
     "name": "stdout",
     "output_type": "stream",
     "text": [
      "weights (mean) = [0.252 0.25  0.248 0.249] \n",
      "returns (mean) = [4.991 5.003 5.003 4.997] \n",
      "risks (mean) =[1.34205046e+08 1.34233612e+08 1.34259989e+08 1.34269039e+08]\n"
     ]
    }
   ],
   "source": [
    "print('weights (mean) = '+str(np.round(np.mean(n4_weights_neg, axis=0),3)),\n",
    "      '\\nreturns (mean) = '+str(np.round(np.mean(n4_returns_neg, axis=0),3)),\n",
    "      '\\nrisks (mean) ='+str(np.round(np.mean(n4_risks_neg, axis=0),3)))"
   ]
  },
  {
   "cell_type": "code",
   "execution_count": 77,
   "id": "9a593284-b9ae-4bf0-bd29-c891730f63d0",
   "metadata": {},
   "outputs": [
    {
     "name": "stdout",
     "output_type": "stream",
     "text": [
      "weights (std) = [0.013 0.018 0.022 0.022] \n",
      "returns (std) = [0.043 0.037 0.04  0.04 ] \n",
      "risks (std) =[1.14142861e+09 1.14142532e+09 1.14142239e+09 1.14142160e+09]\n"
     ]
    }
   ],
   "source": [
    "print('weights (std) = '+str(np.round(np.std(n4_weights_neg, axis=0),3)),\n",
    "      '\\nreturns (std) = '+str(np.round(np.std(n4_returns_neg, axis=0),3)),\n",
    "      '\\nrisks (std) ='+str(np.round(np.std(n4_risks_neg, axis=0),3)))"
   ]
  },
  {
   "cell_type": "code",
   "execution_count": 80,
   "id": "9fb89858-560e-4fd9-ac5c-9666b7dfcd86",
   "metadata": {},
   "outputs": [],
   "source": [
    "n4_weights_neg_os, n4_returns_neg_os, n4_risks_neg_os = one_corr_optimization_zeros(n_assets, n_obs, r)"
   ]
  },
  {
   "cell_type": "code",
   "execution_count": 81,
   "id": "3cf35c61-6ffc-41e0-84a7-988f315fc407",
   "metadata": {},
   "outputs": [
    {
     "name": "stdout",
     "output_type": "stream",
     "text": [
      "weights (mean) = [0.245 0.25  0.253 0.252] \n",
      "returns (mean) = [4.999 5.001 5.006 5.003] \n",
      "risks (mean) =[4.06298611e+08 4.06259933e+08 4.06240020e+08 4.06246835e+08]\n"
     ]
    }
   ],
   "source": [
    "print('weights (mean) = '+str(np.round(np.mean(n4_weights_neg_os, axis=0),3)),\n",
    "      '\\nreturns (mean) = '+str(np.round(np.mean(n4_returns_neg_os, axis=0),3)),\n",
    "      '\\nrisks (mean) ='+str(np.round(np.mean(n4_risks_neg_os, axis=0),3)))"
   ]
  },
  {
   "cell_type": "code",
   "execution_count": 82,
   "id": "db6f651e-8c1f-4ac7-b1b1-b423cc901c75",
   "metadata": {},
   "outputs": [
    {
     "name": "stdout",
     "output_type": "stream",
     "text": [
      "weights (std) = [0.035 0.027 0.02  0.022] \n",
      "returns (std) = [0.011 0.01  0.045 0.042] \n",
      "risks (std) =[3.55828886e+09 3.55829325e+09 3.55829551e+09 3.55829474e+09]\n"
     ]
    }
   ],
   "source": [
    "print('weights (std) = '+str(np.round(np.std(n4_weights_neg_os, axis=0),3)),\n",
    "      '\\nreturns (std) = '+str(np.round(np.std(n4_returns_neg_os, axis=0),3)),\n",
    "      '\\nrisks (std) ='+str(np.round(np.std(n4_risks_neg_os, axis=0),3)))"
   ]
  },
  {
   "cell_type": "markdown",
   "id": "0f5f624b-a9dc-472b-ad7a-b4a00462a0b5",
   "metadata": {},
   "source": [
    "## $n=8$"
   ]
  },
  {
   "cell_type": "code",
   "execution_count": 85,
   "id": "62ada700-de32-4e03-8321-9b0e90d64555",
   "metadata": {},
   "outputs": [],
   "source": [
    "n_assets = 8\n",
    "n_obs = 1000\n",
    "r = r = np.random.uniform(-0.8, -0.5, (n_assets,n_assets))\n",
    "np.fill_diagonal(r, 1)"
   ]
  },
  {
   "cell_type": "code",
   "execution_count": 86,
   "id": "63bf265c-d466-40cf-b648-419751e9bee6",
   "metadata": {},
   "outputs": [],
   "source": [
    "n8_weights_neg, n8_returns_neg, n8_risks_neg = one_corr_optimization(n_assets, n_obs, r) "
   ]
  },
  {
   "cell_type": "code",
   "execution_count": 87,
   "id": "5b2cc85e-68df-409f-9264-792c8e69d3c3",
   "metadata": {},
   "outputs": [
    {
     "name": "stdout",
     "output_type": "stream",
     "text": [
      "weights (mean) = [0.126 0.127 0.126 0.125 0.124 0.122 0.125 0.126] \n",
      "returns (mean) = [4.996 5.002 4.996 5.    4.995 5.007 4.994 5.003] \n",
      "risks (mean) =[1.62531183e+08 1.62501807e+08 1.62541940e+08 1.62775557e+08\n",
      " 1.62712462e+08 1.62882554e+08 1.62531995e+08 1.62517607e+08]\n"
     ]
    }
   ],
   "source": [
    "print('weights (mean) = '+str(np.round(np.mean(n8_weights_neg, axis=0),3)),\n",
    "      '\\nreturns (mean) = '+str(np.round(np.mean(n8_returns_neg, axis=0),3)),\n",
    "      '\\nrisks (mean) ='+str(np.round(np.mean(n8_risks_neg, axis=0),3)))"
   ]
  },
  {
   "cell_type": "code",
   "execution_count": 88,
   "id": "f65d26ca-f237-47b4-bb74-73b0c355018b",
   "metadata": {},
   "outputs": [
    {
     "name": "stdout",
     "output_type": "stream",
     "text": [
      "weights (std) = [0.011 0.01  0.01  0.013 0.016 0.018 0.013 0.009] \n",
      "returns (std) = [0.048 0.046 0.049 0.046 0.052 0.048 0.044 0.045] \n",
      "risks (std) =[1.21819660e+09 1.21820042e+09 1.21819552e+09 1.21816814e+09\n",
      " 1.21817365e+09 1.21815383e+09 1.21819658e+09 1.21819837e+09]\n"
     ]
    }
   ],
   "source": [
    "print('weights (std) = '+str(np.round(np.std(n8_weights_neg, axis=0),3)),\n",
    "      '\\nreturns (std) = '+str(np.round(np.std(n8_returns_neg, axis=0),3)),\n",
    "      '\\nrisks (std) ='+str(np.round(np.std(n8_risks_neg, axis=0),3)))"
   ]
  },
  {
   "cell_type": "code",
   "execution_count": 89,
   "id": "0449dc9a-46a4-430e-9e3f-3f01359f6ebc",
   "metadata": {},
   "outputs": [],
   "source": [
    "n8_weights_neg_os, n8_returns_neg_os, n8_risks_neg_os = one_corr_optimization_zeros(n_assets, n_obs, r)"
   ]
  },
  {
   "cell_type": "code",
   "execution_count": 90,
   "id": "25814934-2d2b-432c-a49d-6547b9134eec",
   "metadata": {},
   "outputs": [
    {
     "name": "stdout",
     "output_type": "stream",
     "text": [
      "weights (mean) = [0.126 0.125 0.122 0.124 0.125 0.125 0.126 0.127] \n",
      "returns (mean) = [5.    5.    4.999 5.003 5.005 4.996 5.002 5.003] \n",
      "risks (mean) =[43475363.595 43451051.369 43539793.923 43494707.403 43549804.317\n",
      " 43463337.628 43493135.641 43454228.897]\n"
     ]
    }
   ],
   "source": [
    "print('weights (mean) = '+str(np.round(np.mean(n8_weights_neg_os, axis=0),3)),\n",
    "      '\\nreturns (mean) = '+str(np.round(np.mean(n8_returns_neg_os, axis=0),3)),\n",
    "      '\\nrisks (mean) ='+str(np.round(np.mean(n8_risks_neg_os, axis=0),3)))"
   ]
  },
  {
   "cell_type": "code",
   "execution_count": 91,
   "id": "345e5ae1-3c9a-4f8d-8e14-4b16009017a5",
   "metadata": {},
   "outputs": [
    {
     "name": "stdout",
     "output_type": "stream",
     "text": [
      "weights (std) = [0.012 0.009 0.015 0.013 0.013 0.009 0.011 0.009] \n",
      "returns (std) = [0.011 0.01  0.05  0.041 0.047 0.052 0.045 0.049] \n",
      "risks (std) =[1.57288003e+08 1.57294193e+08 1.57272035e+08 1.57285533e+08\n",
      " 1.57271436e+08 1.57290992e+08 1.57284416e+08 1.57296817e+08]\n"
     ]
    }
   ],
   "source": [
    "print('weights (std) = '+str(np.round(np.std(n8_weights_neg_os, axis=0),3)),\n",
    "      '\\nreturns (std) = '+str(np.round(np.std(n8_returns_neg_os, axis=0),3)),\n",
    "      '\\nrisks (std) ='+str(np.round(np.std(n8_risks_neg_os, axis=0),3)))"
   ]
  },
  {
   "cell_type": "markdown",
   "id": "dbdc6fa9-1dae-42ff-92ec-1e6aa4288329",
   "metadata": {},
   "source": [
    "## $n=16$"
   ]
  },
  {
   "cell_type": "code",
   "execution_count": 92,
   "id": "d7189771-d505-4429-b356-a2c3cd617bbc",
   "metadata": {},
   "outputs": [],
   "source": [
    "n_assets = 16\n",
    "n_obs = 1000\n",
    "r = r = np.random.uniform(-0.8, -0.5, (n_assets,n_assets))\n",
    "np.fill_diagonal(r, 1)"
   ]
  },
  {
   "cell_type": "code",
   "execution_count": 93,
   "id": "d9d525e1-5ccb-4ac8-b630-27db5e3eef9b",
   "metadata": {},
   "outputs": [],
   "source": [
    "n16_weights_neg, n16_returns_neg, n16_risks_neg = one_corr_optimization(n_assets, n_obs, r) "
   ]
  },
  {
   "cell_type": "code",
   "execution_count": 94,
   "id": "16cd9a89-8490-4fe6-a5ea-2f61dc829aed",
   "metadata": {},
   "outputs": [
    {
     "name": "stdout",
     "output_type": "stream",
     "text": [
      "weights (mean) = [0.063 0.063 0.063 0.062 0.063 0.062 0.063 0.062 0.063 0.063 0.061 0.063\n",
      " 0.062 0.063 0.062 0.063] \n",
      "returns (mean) = [5.004 5.004 5.002 4.993 5.001 5.001 4.991 4.998 5.004 4.992 4.992 4.998\n",
      " 5.003 4.993 5.002 4.993] \n",
      "risks (mean) =[89022720.013 88822370.167 88954223.816 88767055.623 88750580.809\n",
      " 88762651.569 88750199.795 88742435.26  88738380.137 88754234.1\n",
      " 88869480.71  88737452.771 88762099.267 88734509.496 88752760.405\n",
      " 88749680.522]\n"
     ]
    }
   ],
   "source": [
    "print('weights (mean) = '+str(np.round(np.mean(n16_weights_neg, axis=0),3)),\n",
    "      '\\nreturns (mean) = '+str(np.round(np.mean(n16_returns_neg, axis=0),3)),\n",
    "      '\\nrisks (mean) ='+str(np.round(np.mean(n16_risks_neg, axis=0),3)))"
   ]
  },
  {
   "cell_type": "code",
   "execution_count": 95,
   "id": "8a73f244-7038-4501-a655-b0f3e5ae6cfa",
   "metadata": {},
   "outputs": [
    {
     "name": "stdout",
     "output_type": "stream",
     "text": [
      "weights (std) = [0.006 0.003 0.006 0.003 0.003 0.005 0.002 0.003 0.002 0.003 0.007 0.003\n",
      " 0.007 0.002 0.005 0.004] \n",
      "returns (std) = [0.056 0.046 0.05  0.043 0.05  0.049 0.047 0.046 0.045 0.055 0.049 0.054\n",
      " 0.051 0.047 0.052 0.05 ] \n",
      "risks (std) =[4.77522527e+08 4.77553159e+08 4.77531856e+08 4.77558289e+08\n",
      " 4.77561163e+08 4.77559019e+08 4.77561269e+08 4.77562517e+08\n",
      " 4.77563552e+08 4.77560435e+08 4.77541238e+08 4.77563427e+08\n",
      " 4.77558907e+08 4.77563960e+08 4.77560730e+08 4.77561226e+08]\n"
     ]
    }
   ],
   "source": [
    "print('weights (std) = '+str(np.round(np.std(n16_weights_neg, axis=0),3)),\n",
    "      '\\nreturns (std) = '+str(np.round(np.std(n16_returns_neg, axis=0),3)),\n",
    "      '\\nrisks (std) ='+str(np.round(np.std(n16_risks_neg, axis=0),3)))"
   ]
  },
  {
   "cell_type": "code",
   "execution_count": 96,
   "id": "480b6266-b3c8-4014-8255-4c70440ac34c",
   "metadata": {},
   "outputs": [],
   "source": [
    "n16_weights_neg_os, n16_returns_neg_os, n16_risks_neg_os = one_corr_optimization_zeros(n_assets, n_obs, r)"
   ]
  },
  {
   "cell_type": "code",
   "execution_count": 97,
   "id": "9f08b53e-b222-47c0-b26d-431b3b1a7a86",
   "metadata": {},
   "outputs": [
    {
     "name": "stdout",
     "output_type": "stream",
     "text": [
      "weights (mean) = [0.063 0.063 0.063 0.062 0.062 0.063 0.063 0.062 0.063 0.063 0.061 0.062\n",
      " 0.063 0.063 0.063 0.062] \n",
      "returns (mean) = [5.002 5.    4.997 5.    5.009 4.993 5.003 5.005 5.001 5.    4.999 5.001\n",
      " 5.001 5.007 5.005 5.008] \n",
      "risks (mean) =[1.21517929e+09 1.21398150e+09 1.21399952e+09 1.21410781e+09\n",
      " 1.21406513e+09 1.21399314e+09 1.21403115e+09 1.21556084e+09\n",
      " 1.21424668e+09 1.21427803e+09 1.21427607e+09 1.22005933e+09\n",
      " 1.21398907e+09 1.21499894e+09 1.21399337e+09 1.21428311e+09]\n"
     ]
    }
   ],
   "source": [
    "print('weights (mean) = '+str(np.round(np.mean(n16_weights_neg_os, axis=0),3)),\n",
    "      '\\nreturns (mean) = '+str(np.round(np.mean(n16_returns_neg_os, axis=0),3)),\n",
    "      '\\nrisks (mean) ='+str(np.round(np.mean(n16_risks_neg_os, axis=0),3)))"
   ]
  },
  {
   "cell_type": "code",
   "execution_count": 98,
   "id": "3bb75f78-28aa-47d7-8a56-f4182975f524",
   "metadata": {},
   "outputs": [
    {
     "name": "stdout",
     "output_type": "stream",
     "text": [
      "weights (std) = [0.005 0.002 0.003 0.006 0.005 0.002 0.003 0.006 0.006 0.005 0.007 0.007\n",
      " 0.002 0.005 0.003 0.005] \n",
      "returns (std) = [0.012 0.01  0.046 0.044 0.044 0.048 0.05  0.055 0.048 0.051 0.052 0.054\n",
      " 0.05  0.051 0.053 0.046] \n",
      "risks (std) =[1.09402416e+10 1.09403576e+10 1.09403556e+10 1.09403437e+10\n",
      " 1.09403483e+10 1.09403563e+10 1.09403523e+10 1.09401958e+10\n",
      " 1.09403286e+10 1.09403256e+10 1.09403255e+10 1.09398427e+10\n",
      " 1.09403567e+10 1.09402520e+10 1.09403562e+10 1.09403266e+10]\n"
     ]
    }
   ],
   "source": [
    "print('weights (std) = '+str(np.round(np.std(n16_weights_neg_os, axis=0),3)),\n",
    "      '\\nreturns (std) = '+str(np.round(np.std(n16_returns_neg_os, axis=0),3)),\n",
    "      '\\nrisks (std) ='+str(np.round(np.std(n16_risks_neg_os, axis=0),3)))"
   ]
  }
 ],
 "metadata": {
  "kernelspec": {
   "display_name": "Python 3",
   "language": "python",
   "name": "python3"
  },
  "language_info": {
   "codemirror_mode": {
    "name": "ipython",
    "version": 3
   },
   "file_extension": ".py",
   "mimetype": "text/x-python",
   "name": "python",
   "nbconvert_exporter": "python",
   "pygments_lexer": "ipython3",
   "version": "3.8.8"
  }
 },
 "nbformat": 4,
 "nbformat_minor": 5
}
