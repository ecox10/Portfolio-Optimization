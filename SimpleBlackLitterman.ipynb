{
 "cells": [
  {
   "cell_type": "markdown",
   "id": "9cea67bd-ca46-46e7-8eaa-3b1ffabe1b85",
   "metadata": {},
   "source": [
    "# Simple Black-Litterman"
   ]
  },
  {
   "cell_type": "markdown",
   "id": "46889bea-fe59-4252-85db-af057df609eb",
   "metadata": {},
   "source": [
    "## Read Packages"
   ]
  },
  {
   "cell_type": "code",
   "execution_count": 112,
   "id": "952fc5c2-6281-4f31-8276-d168974cc983",
   "metadata": {},
   "outputs": [],
   "source": [
    "import numpy as np\n",
    "import pandas as pd\n",
    "import scipy.stats as stat\n",
    "import matplotlib.pyplot as plt\n",
    "from pylab import rcParams\n",
    "%matplotlib inline\n",
    "import pypfopt as pyp\n",
    "import random"
   ]
  },
  {
   "cell_type": "markdown",
   "id": "b5fcf480-88ae-433d-9b17-2b88a4901c23",
   "metadata": {},
   "source": [
    "## Step 1"
   ]
  },
  {
   "cell_type": "code",
   "execution_count": 34,
   "id": "61857675-18a3-4deb-9483-84699cbd7303",
   "metadata": {},
   "outputs": [
    {
     "name": "stderr",
     "output_type": "stream",
     "text": [
      "<ipython-input-34-576e9b590cce>:10: RuntimeWarning: covariance is not positive-semidefinite.\n",
      "  sample = return_vec = np.random.multivariate_normal(np.zeros(n_assets), cov = r, size = n_obs)\n"
     ]
    }
   ],
   "source": [
    "# Set assets and observations\n",
    "n_assets = 16\n",
    "n_obs = 1000\n",
    "\n",
    "# Set covariance - this is the same as Markowitz\n",
    "r = np.random.uniform(0.8, 0.9, (n_assets,n_assets))\n",
    "np.fill_diagonal(r, 1)\n",
    "\n",
    "# Generate Sample - this is the same as Markowitz\n",
    "sample = return_vec = np.random.multivariate_normal(np.zeros(n_assets), cov = r, size = n_obs)\n",
    "\n",
    "# Calculate risk aversion parameter delta\n",
    "w_m = np.random.randn(n_assets) # market portfolio\n",
    "w_m = w_m / (w_m.sum()) # sets sum of market portfolio to 1\n",
    "sigma_m = w_m.T * r * w_m\n",
    "delta = w_m/sigma_m**2"
   ]
  },
  {
   "cell_type": "code",
   "execution_count": 57,
   "id": "5b6feeb9-d490-4a69-aa47-1f9208810370",
   "metadata": {},
   "outputs": [
    {
     "data": {
      "text/plain": [
       "array([-4.2791025 ,  0.1413914 ,  2.89925624, -2.64069321,  1.96479555,\n",
       "       -0.54059767,  3.55048307, -4.74191789, -2.39212122,  2.82025414,\n",
       "       -1.78505366,  2.26572623, -0.05146613,  4.83964692, -0.75185528,\n",
       "       -0.298746  ])"
      ]
     },
     "execution_count": 57,
     "metadata": {},
     "output_type": "execute_result"
    }
   ],
   "source": [
    "w_m"
   ]
  },
  {
   "cell_type": "code",
   "execution_count": 35,
   "id": "9abd0478-1676-4c38-8768-d1646f9045f0",
   "metadata": {},
   "outputs": [
    {
     "data": {
      "text/plain": [
       "array([[ 1.62451461e+01],\n",
       "       [ 1.09527626e-04],\n",
       "       [-8.15048359e-01],\n",
       "       [ 2.48876739e+00],\n",
       "       [-1.63457440e+00],\n",
       "       [-8.74898146e-03],\n",
       "       [-3.16189307e+00],\n",
       "       [-2.05968538e+01],\n",
       "       [-1.59969186e+00],\n",
       "       [ 9.79291434e-01],\n",
       "       [-6.05039912e-01],\n",
       "       [ 7.61650002e-01],\n",
       "       [-2.17295980e-05],\n",
       "       [ 1.87711078e+01],\n",
       "       [ 1.44496069e-01],\n",
       "       [-2.28524871e-03]])"
      ]
     },
     "execution_count": 35,
     "metadata": {},
     "output_type": "execute_result"
    }
   ],
   "source": [
    "# This is step 1: equilibrium returns\n",
    "mu_est = sample.mean(0).reshape(n_assets,1)\n",
    "sigma_est = np.cov(sample.T)\n",
    "\n",
    "w_eq = np.linalg.solve(delta * sigma_est, mu_est)\n",
    "w_eq"
   ]
  },
  {
   "cell_type": "markdown",
   "id": "21d2253d-8a6e-43de-b039-0711511797f3",
   "metadata": {},
   "source": [
    "## Step 2\n",
    "Add market information"
   ]
  },
  {
   "cell_type": "code",
   "execution_count": 56,
   "id": "2a6bf05a-9c59-44fe-bd43-1f8311c2e9bc",
   "metadata": {},
   "outputs": [
    {
     "data": {
      "text/plain": [
       "array([-0.00190767])"
      ]
     },
     "execution_count": 56,
     "metadata": {},
     "output_type": "execute_result"
    }
   ],
   "source": [
    "r_m = w_m @ mu_est # mean excess market return\n",
    "sigma_m = w_m @ sigma_est @ w_m # variance of market portfolio\n",
    "sr_m = r_m / np.sqrt(sigma_m) # sharpe-ratio\n",
    "d_m = r_m/sigma_m # risk aversion of market portfolio holder\n",
    "\n",
    "# Calculate market view\n",
    "#mu_m = (d_m * sigma_est @ w_m).reshape(n_assets,1)\n",
    "r_m"
   ]
  },
  {
   "cell_type": "markdown",
   "id": "b98068aa-2475-4141-9a7e-6049a11db0f7",
   "metadata": {},
   "source": [
    "## Step 3\n",
    "Combine Market Equilibrium and Market Information/Investor Views"
   ]
  },
  {
   "cell_type": "code",
   "execution_count": 37,
   "id": "bf2b5de3-7a0c-41f7-9b2c-b1988cee4561",
   "metadata": {},
   "outputs": [],
   "source": [
    "def black_litterman(mu1, mu2, sigma, delta):\n",
    "    '''\n",
    "    Calculates the Black-Literman portfolio weights, for simplicity assumes that investor views \n",
    "    are equal to equilibrium and P omega is 1\n",
    "    '''\n",
    "    # pre-calculate inverses\n",
    "    sigma1_inv = np.linalg.inv(sigma)\n",
    "    sigma2_inv = sigma1_inv\n",
    "    \n",
    "    #mean\n",
    "    M = np.linalg.solve(sigma1_inv + 1 * sigma2_inv,\n",
    "                              sigma1_inv @ mu1 + 1 * sigma2_inv @ mu2)\n",
    "    V = np.linalg.inv(sigma1_inv + 1 * sigma2_inv)\n",
    "    w_tilde = np.linalg.solve(delta * sigma, M)\n",
    "    return w_tilde, M, V"
   ]
  },
  {
   "cell_type": "code",
   "execution_count": 38,
   "id": "0f5b1799-98f4-4a5e-8f44-36416238432c",
   "metadata": {},
   "outputs": [
    {
     "data": {
      "text/plain": [
       "array([[ 8.10822267e+00],\n",
       "       [ 5.46695897e-05],\n",
       "       [-4.05256835e-01],\n",
       "       [ 1.24480503e+00],\n",
       "       [-8.14983016e-01],\n",
       "       [-4.35007619e-03],\n",
       "       [-1.57814829e+00],\n",
       "       [-1.02636488e+01],\n",
       "       [-7.96942921e-01],\n",
       "       [ 4.92079227e-01],\n",
       "       [-3.02227898e-01],\n",
       "       [ 3.79827041e-01],\n",
       "       [-1.08411414e-05],\n",
       "       [ 9.38474869e+00],\n",
       "       [ 7.20962376e-02],\n",
       "       [-1.14075402e-03]])"
      ]
     },
     "execution_count": 38,
     "metadata": {},
     "output_type": "execute_result"
    }
   ],
   "source": [
    "weights, mu, v = black_litterman(mu_m, mu_est, sigma_est, delta)\n",
    "weights"
   ]
  },
  {
   "cell_type": "code",
   "execution_count": 44,
   "id": "a02c78fb-317d-4319-9bf9-d24ae3a089e2",
   "metadata": {},
   "outputs": [
    {
     "data": {
      "image/png": "[encoded data removed]",
      "text/plain": [
       "<Figure size 576x360 with 1 Axes>"
      ]
     },
     "metadata": {
      "needs_background": "light"
     },
     "output_type": "display_data"
    }
   ],
   "source": [
    "fig, ax = plt.subplots(figsize=(8, 5))\n",
    "ax.set_title('Mean-variance portfolio weights recommendation and the market portfolio')\n",
    "ax.plot(np.arange(n_assets)+1, w_eq, 'o', c='k', label='$w$ (mean-variance)')\n",
    "ax.plot(np.arange(n_assets)+1, w_m, 'o', c='r', label='$w_m$ (market portfolio)')\n",
    "ax.vlines(np.arange(n_assets)+1, 0, w_eq, lw=1)\n",
    "ax.vlines(np.arange(n_assets)+1, 0, w_m, lw=1)\n",
    "ax.axhline(0, c='k')\n",
    "ax.axhline(-1, c='k', ls='--')\n",
    "ax.axhline(1, c='k', ls='--')\n",
    "ax.set_xlabel('Assets')\n",
    "ax.xaxis.set_ticks(np.arange(1, n_assets+1, 1))\n",
    "plt.legend(numpoints=1, fontsize=11)\n",
    "plt.show()\n",
    "\n",
    "rcParams['figure.figsize'] = 40, 12\n",
    "fig.savefig('BlackLittermanPlot.png', dpi = 199, bbox_inches='tight')"
   ]
  },
  {
   "cell_type": "code",
   "execution_count": 46,
   "id": "9a4e07c2-6cdb-4a2b-b8cf-62cf58cde50b",
   "metadata": {},
   "outputs": [],
   "source": [
    "n_assets = 4\n",
    "n_obs = 1000\n",
    "r = np.random.uniform(0.8, 0.9, (n_assets,n_assets))\n",
    "np.fill_diagonal(r, 1)"
   ]
  },
  {
   "cell_type": "code",
   "execution_count": 88,
   "id": "d97931c7-b4d0-4fad-a7f3-22fbf268c030",
   "metadata": {},
   "outputs": [
    {
     "name": "stderr",
     "output_type": "stream",
     "text": [
      "<ipython-input-88-14e8b49d30ff>:2: RuntimeWarning: covariance is not positive-semidefinite.\n",
      "  return_vec = rng.multivariate_normal(np.zeros(n_assets), cov = r, size = n_obs)\n",
      "/Users/elizabeth/opt/anaconda3/lib/python3.8/site-packages/pypfopt/risk_models.py:389: RuntimeWarning: data is not in a dataframe\n",
      "  warnings.warn(\"data is not in a dataframe\", RuntimeWarning)\n"
     ]
    }
   ],
   "source": [
    "rng = np.random.default_rng()\n",
    "return_vec = rng.multivariate_normal(np.zeros(n_assets), cov = r, size = n_obs)\n",
    "market_prices = pd.Series(np.random.randn(n_obs))\n",
    "\n",
    "S = pyp.risk_models.CovarianceShrinkage(return_vec).ledoit_wolf()\n",
    "delta = pyp.black_litterman.market_implied_risk_aversion(market_prices, risk_free_rate=0.5)\n",
    "\n",
    "market_prior = pd.Series(np.ones(n_assets)*5)\n",
    "view = pd.Series(np.ones(n_assets)*(1/n_assets))"
   ]
  },
  {
   "cell_type": "code",
   "execution_count": 104,
   "id": "ae1fc5ee-05ad-4aa1-b0b9-d9e6e559f719",
   "metadata": {},
   "outputs": [
    {
     "data": {
      "text/plain": [
       "pandas.core.series.Series"
      ]
     },
     "execution_count": 104,
     "metadata": {},
     "output_type": "execute_result"
    }
   ],
   "source": [
    "bl = pyp.BlackLittermanModel(S, pi=market_prior, absolute_views=view)\n",
    "bl_return = bl.bl_returns()\n",
    "\n",
    "ef = pyp.EfficientFrontier(bl_return, S)\n",
    "bl.bl_weights(delta)\n",
    "weights = bl.clean_weights()\n",
    "\n",
    "S = bl.bl_cov()\n",
    "type(bl_return)"
   ]
  },
  {
   "cell_type": "code",
   "execution_count": 121,
   "id": "a0e86b76-b88d-45ce-a454-ab3dff7d0a78",
   "metadata": {},
   "outputs": [
    {
     "data": {
      "text/plain": [
       "array([[ 0.        ,  0.02815974,  0.55242507,  0.53139977],\n",
       "       [ 0.        ,  1.15855555,  0.95146226,  1.4496924 ],\n",
       "       [-0.635711  ,  0.61910003,  0.42706851,  0.52960938],\n",
       "       ...,\n",
       "       [ 0.        , -1.82540306, -1.97874152, -2.06881258],\n",
       "       [ 0.        ,  0.64877477,  1.09691011,  1.21232955],\n",
       "       [ 0.        ,  0.50393353, -0.18678895,  0.0724312 ]])"
      ]
     },
     "execution_count": 121,
     "metadata": {},
     "output_type": "execute_result"
    }
   ],
   "source": [
    "_75_perct = int(len(return_vec[:,0])*3/4)\n",
    "return_vec[random.sample(list(range(1000)), _75_perct),0] = 0\n",
    "return_vec"
   ]
  }
 ],
 "metadata": {
  "kernelspec": {
   "display_name": "Python 3",
   "language": "python",
   "name": "python3"
  },
  "language_info": {
   "codemirror_mode": {
    "name": "ipython",
    "version": 3
   },
   "file_extension": ".py",
   "mimetype": "text/x-python",
   "name": "python",
   "nbconvert_exporter": "python",
   "pygments_lexer": "ipython3",
   "version": "3.8.8"
  }
 },
 "nbformat": 4,
 "nbformat_minor": 5
}
