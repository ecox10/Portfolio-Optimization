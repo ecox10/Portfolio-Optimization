{
 "cells": [
  {
   "cell_type": "markdown",
   "id": "01415104-9d73-43c5-b21c-3a88095112f4",
   "metadata": {},
   "source": [
    "# Markowitz Analysis on Eurostat Data\n",
    "Ellie Cox\n",
    "\n",
    "This file will conduct markowitz and black-litterman analysis on energy supply data retrieved from eurostat. \n",
    "First with the full data, then taking the average when excluding one country at a time, the average when excluding one year of data at a time, and lastly using a randomly selected 75\\% of the data"
   ]
  },
  {
   "cell_type": "markdown",
   "id": "5337c658-dc6a-4462-a8d2-27a19e70bd2a",
   "metadata": {},
   "source": [
    "## Read Packages"
   ]
  },
  {
   "cell_type": "code",
   "execution_count": 93,
   "id": "4db1723e-9a8a-43fb-b82e-5f0fa29b4f07",
   "metadata": {},
   "outputs": [],
   "source": [
    "import pandas as pd\n",
    "import numpy as np\n",
    "import matplotlib.pyplot as plt\n",
    "import pypfopt as pyp\n",
    "import math\n",
    "from pypfopt import risk_models\n",
    "from pypfopt import expected_returns\n",
    "from pypfopt import plotting\n",
    "import cvxopt as opt\n",
    "from cvxopt import blas, solvers\n",
    "solvers.options['show_progress'] = False"
   ]
  },
  {
   "cell_type": "markdown",
   "id": "f7944652-3b66-4bd0-ae1a-8158c8d9ab73",
   "metadata": {},
   "source": [
    "## Read Data"
   ]
  },
  {
   "cell_type": "code",
   "execution_count": 182,
   "id": "9d3d440a-66d4-4eeb-b945-5935bc452a31",
   "metadata": {},
   "outputs": [],
   "source": [
    "# Read data using pandas\n",
    "data = pd.read_csv(\"/Users/elizabeth/Documents/Master's Project/Data/EU_TotalEnergySupply.csv\")\n",
    "\n",
    "# Create list of column names\n",
    "data.columns.values.tolist()\n",
    "# Rename columns to make life easier\n",
    "data.columns = [c.replace(' ', '_') for c in data.columns] # remove spaces\n",
    "data.columns = [c.replace('(', '') for c in data.columns] # remove open parenthesis\n",
    "data.columns = [c.replace(')', '') for c in data.columns] # remove close parenthesis\n",
    "data.columns.values.tolist()\n",
    "\n",
    "# Get rid of ':' and shorten other names\n",
    "data = data.replace([':'],'')\n",
    "data = data.replace(['European Union - 27 countries (from 2020)'],'EU')\n",
    "data = data.replace(['Euro area - 19 countries  (from 2015)'],'Euro area')\n",
    "data = data.replace(['Germany (until 1990 former territory of the FRG)'],'Germany')\n",
    "data = data.replace(['Kosovo (under United Nations Security Council Resolution 1244/99)'],'Kosovo')\n",
    "\n",
    "# Change Data type to numeric\n",
    "data[data.columns[2:]] = data[data.columns[2:]].apply(pd.to_numeric, errors ='coerce')"
   ]
  },
  {
   "cell_type": "markdown",
   "id": "e6e26da5-c9b4-41f9-8c86-4b9d1dd07a5d",
   "metadata": {},
   "source": [
    "## Missing Data\n",
    "Missing Data is handled in 2 ways:\n",
    "\n",
    "    1) Replacing missing data with the country's average\n",
    "    2) Dropping it"
   ]
  },
  {
   "cell_type": "code",
   "execution_count": 186,
   "id": "cd5adfe4-c9e9-452b-92a2-52e4932d51c1",
   "metadata": {},
   "outputs": [
    {
     "data": {
      "text/plain": [
       "(420, 18)"
      ]
     },
     "execution_count": 186,
     "metadata": {},
     "output_type": "execute_result"
    }
   ],
   "source": [
    "## 1) Impute data with the average\n",
    "frames = []\n",
    "for i in list(set(data['Country'])):\n",
    "            df_country = data[data['Country'] == i] \n",
    "            df_country['Total_GWH'].fillna(df_country['Total_GWH'].mean(),inplace = True)\n",
    "            df_country['Solid_fossil_fuels'].fillna(df_country['Solid_fossil_fuels'].mean(), inplace = True)\n",
    "            df_country['Peat_and_peat_products'].fillna(df_country['Peat_and_peat_products'].mean(), inplace = True)\n",
    "            df_country['Solar_Thermal'].fillna(df_country['Solar_Thermal'].mean(), inplace = True)\n",
    "            df_country['Oil_and_petroleum_products'].fillna(df_country['Oil_and_petroleum_products'].mean(), inplace = True)\n",
    "            df_country['Natural_gas'].fillna(df_country['Natural_gas'].mean(), inplace = True)\n",
    "            df_country['Renewables_and_biofuels'].fillna(df_country['Renewables_and_biofuels'].mean(), inplace = True)\n",
    "            df_country['Nuclear_heat'].fillna(df_country['Nuclear_heat'].mean(),inplace = True)\n",
    "            df_country['Hydro'].fillna(df_country['Hydro'].mean(),inplace = True)\n",
    "            df_country['Geothermal'].fillna(df_country['Geothermal'].mean(),inplace = True)\n",
    "            df_country['Ambient_Heat'].fillna(df_country['Ambient_Heat'].mean(),inplace = True)\n",
    "            df_country['Tide_wave_and_ocean'].fillna(df_country['Tide_wave_and_ocean'].mean(),inplace = True)\n",
    "            df_country['Wind'].fillna(df_country['Wind'].mean(),inplace = True)\n",
    "            df_country['Biofuels_solid'].fillna(df_country['Biofuels_solid'].mean(),inplace = True)\n",
    "            df_country['Biofuels_other'].fillna(df_country['Biofuels_other'].mean(),inplace = True)\n",
    "            df_country['Biofuels'].fillna(df_country['Biofuels'].mean(),inplace = True)\n",
    "            frames.append(df_country)\n",
    "            final_df = pd.concat(frames)\n",
    "#final_df[(final_df.Country == 'United Kingdom') & (final_df.Year == 2020)]\n",
    "data_impute = final_df\n",
    "data_impute.shape"
   ]
  },
  {
   "cell_type": "code",
   "execution_count": 123,
   "id": "3bfd85d0-c33d-433d-a147-21853e4c4a1a",
   "metadata": {},
   "outputs": [],
   "source": [
    "#with pd.option_context('display.max_rows', None, 'display.max_columns', None):  # more options can be specified also\n",
    "#    print(data_impute)"
   ]
  },
  {
   "cell_type": "markdown",
   "id": "dc592286-40ab-4506-97ae-16eb99cac0dd",
   "metadata": {},
   "source": [
    "## Full Data\n",
    "Using aggregated renewables for now"
   ]
  },
  {
   "cell_type": "code",
   "execution_count": 187,
   "id": "4a1a0ea4-60f9-46df-bcf5-209239690200",
   "metadata": {},
   "outputs": [],
   "source": [
    "cdat = data_impute.loc[:,['Solid_fossil_fuels','Peat_and_peat_products','Oil_and_petroleum_products', \n",
    "                  'Natural_gas', 'Nuclear_heat', 'Renewables_and_biofuels']]"
   ]
  },
  {
   "cell_type": "code",
   "execution_count": 188,
   "id": "52181af1-fd44-4318-8b60-2c9823dc60b7",
   "metadata": {},
   "outputs": [
    {
     "name": "stderr",
     "output_type": "stream",
     "text": [
      "/Users/elizabeth/opt/anaconda3/lib/python3.8/site-packages/IPython/core/interactiveshell.py:3437: RankWarning: Polyfit may be poorly conditioned\n",
      "  exec(code_obj, self.user_global_ns, self.user_ns)\n"
     ]
    }
   ],
   "source": [
    "n = len(cdat.T) # n assets\n",
    "returns = np.array(cdat).T\n",
    "    \n",
    "N = len(cdat) # n obs\n",
    "mus = [(1/n) + t/N for t in range(N)]#[np.mean(returns, axis=0)]#[10**(5.0 * t/N - 1.0) for t in range(N)]\n",
    "    \n",
    "# Convert to cvxopt matrices\n",
    "S = opt.matrix(np.cov(returns))\n",
    "pbar = opt.matrix(np.mean(returns, axis = 1))\n",
    "    \n",
    "# Create constraint matrices\n",
    "G = -opt.matrix(np.eye(n)) # negative nxn identity matrix\n",
    "h = opt.matrix(0.0, (n,1))\n",
    "A = opt.matrix(1.0, (1,n))\n",
    "b = opt.matrix(1.0)\n",
    "    \n",
    "# Calculate efficient frontier weights using quadratic programming\n",
    "portfolios = [solvers.qp(mu*S, -pbar, G, h, A, b)['x']\n",
    "                  for mu in mus]\n",
    "## Calculate risk and returns for frontier\n",
    "ret = [blas.dot(pbar, x) for x in portfolios]\n",
    "risks = [np.sqrt(blas.dot(x, S*x)) for x in portfolios]\n",
    "## Calculate the 2nd degree polynomail of the frontier curve\n",
    "m1 = np.polyfit(ret, risks, 2)\n",
    "x1 = np.sqrt(m1[2] / m1[0])\n",
    "## Calculate the optimal portfolio\n",
    "wt = solvers.qp(opt.matrix(x1 * S), -pbar, G, h, A, b)['x']\n",
    "ret = np.zeros((n,1))\n",
    "rsk = np.zeros((n,1))\n",
    "for j in range(n):\n",
    "    ret[j] = np.sum(np.array(wt)[j] * np.mean(returns, axis = 1))\n",
    "    rsk = wt.T @ np.cov(returns) @ wt\n"
   ]
  },
  {
   "cell_type": "code",
   "execution_count": 153,
   "id": "f32c58b3-7099-4ad5-af62-e618ebb07ab9",
   "metadata": {},
   "outputs": [
    {
     "data": {
      "text/plain": [
       "(6, 1)"
      ]
     },
     "execution_count": 153,
     "metadata": {},
     "output_type": "execute_result"
    }
   ],
   "source": [
    "np.array(wt).shape"
   ]
  },
  {
   "cell_type": "code",
   "execution_count": 160,
   "id": "7e0b0c95-af54-4cf2-a743-4ad9c8b9fac2",
   "metadata": {},
   "outputs": [
    {
     "name": "stdout",
     "output_type": "stream",
     "text": [
      "[[5.20240713e-11]\n",
      " [9.99999999e-01]\n",
      " [1.10133542e-10]\n",
      " [5.78058399e-11]\n",
      " [1.92247506e-10]\n",
      " [3.46906499e-10]] [[6.35393641e-05]\n",
      " [1.22134547e+06]\n",
      " [1.34511103e-04]\n",
      " [7.06009010e-05]\n",
      " [2.34800621e-04]\n",
      " [4.23692682e-04]] [[39562171.71864054]]\n"
     ]
    }
   ],
   "source": [
    "print(np.asarray(wt),ret,rsk)"
   ]
  },
  {
   "cell_type": "markdown",
   "id": "f249cddf-1e8d-4266-ad15-28672e15a34d",
   "metadata": {},
   "source": [
    "## Repeat average excluding one country at a time"
   ]
  },
  {
   "cell_type": "code",
   "execution_count": 172,
   "id": "084b03f6-aacc-4267-9918-5d21f1ac9afb",
   "metadata": {},
   "outputs": [],
   "source": [
    "def markowitz(ret_mat):\n",
    "    '''\n",
    "    Calculates the markowitz optimal portfolio weights, returns, and risks for one set of return data\n",
    "    returns are of shape: n_obs x n_assets\n",
    "    '''\n",
    "    n = len(ret_mat.T) # n assets\n",
    "    return_vec = np.array(ret_mat).T\n",
    "    \n",
    "    N = len(ret_mat) # n obs\n",
    "    mus = [(1/n) + t/N for t in range(N)]#[np.mean(returns, axis=0)]#[10**(5.0 * t/N - 1.0) for t in range(N)]\n",
    "    \n",
    "    # Convert to cvxopt matrices\n",
    "    S = opt.matrix(np.cov(return_vec))\n",
    "    pbar = opt.matrix(np.mean(return_vec, axis = 1))\n",
    "    \n",
    "    # Create constraint matrices\n",
    "    G = -opt.matrix(np.eye(n)) # negative nxn identity matrix\n",
    "    h = opt.matrix(0.0, (n,1))\n",
    "    A = opt.matrix(1.0, (1,n))\n",
    "    b = opt.matrix(1.0)\n",
    "    \n",
    "    # Calculate efficient frontier weights using quadratic programming\n",
    "    portfolios = [solvers.qp(mu*S, -pbar, G, h, A, b)['x']\n",
    "                  for mu in mus]\n",
    "    ## Calculate risk and returns for frontier\n",
    "    ret = [blas.dot(pbar, x) for x in portfolios]\n",
    "    risks = [np.sqrt(blas.dot(x, S*x)) for x in portfolios]\n",
    "    ## Calculate the 2nd degree polynomail of the frontier curve\n",
    "    m1 = np.polyfit(ret, risks, 2)\n",
    "    x1 = np.sqrt(m1[2] / m1[0])\n",
    "    ## Calculate the optimal portfolio\n",
    "    wt = solvers.qp(opt.matrix(x1 * S), -pbar, G, h, A, b)['x']\n",
    "    ret = np.zeros((n,1))\n",
    "    rsk = np.zeros((n,1))\n",
    "    for j in range(n):\n",
    "        ret[j] = np.sum(np.array(wt)[j] * np.mean(returns, axis = 1))\n",
    "        rsk = wt.T @ np.cov(returns) @ wt\n",
    "    return np.asarray(wt), ret, rsk"
   ]
  },
  {
   "cell_type": "code",
   "execution_count": 190,
   "id": "a2b057e7-1bc5-41a7-95b5-e3614539c41a",
   "metadata": {},
   "outputs": [],
   "source": [
    "cdat = data_impute.loc[:,['Country','Year','Solid_fossil_fuels','Peat_and_peat_products','Oil_and_petroleum_products', \n",
    "                  'Natural_gas', 'Nuclear_heat', 'Renewables_and_biofuels']]"
   ]
  },
  {
   "cell_type": "code",
   "execution_count": 191,
   "id": "6788a754-6e2e-426f-b771-fb3d509a7d7e",
   "metadata": {},
   "outputs": [
    {
     "name": "stderr",
     "output_type": "stream",
     "text": [
      "<ipython-input-191-58541f65e2d5>:9: RankWarning: Polyfit may be poorly conditioned\n",
      "  weights, returns, risks = markowitz(country_dat)\n",
      "<ipython-input-191-58541f65e2d5>:9: RankWarning: Polyfit may be poorly conditioned\n",
      "  weights, returns, risks = markowitz(country_dat)\n",
      "<ipython-input-172-3e9f9c405d3b>:37: RuntimeWarning: Degrees of freedom <= 0 for slice\n",
      "  rsk = wt.T @ np.cov(returns) @ wt\n",
      "/Users/elizabeth/opt/anaconda3/lib/python3.8/site-packages/numpy/lib/function_base.py:2680: RuntimeWarning: divide by zero encountered in true_divide\n",
      "  c *= np.true_divide(1, fact)\n",
      "/Users/elizabeth/opt/anaconda3/lib/python3.8/site-packages/numpy/lib/function_base.py:2680: RuntimeWarning: invalid value encountered in multiply\n",
      "  c *= np.true_divide(1, fact)\n",
      "<ipython-input-191-58541f65e2d5>:9: RankWarning: Polyfit may be poorly conditioned\n",
      "  weights, returns, risks = markowitz(country_dat)\n",
      "<ipython-input-191-58541f65e2d5>:9: RankWarning: Polyfit may be poorly conditioned\n",
      "  weights, returns, risks = markowitz(country_dat)\n",
      "<ipython-input-191-58541f65e2d5>:9: RankWarning: Polyfit may be poorly conditioned\n",
      "  weights, returns, risks = markowitz(country_dat)\n",
      "<ipython-input-191-58541f65e2d5>:9: RankWarning: Polyfit may be poorly conditioned\n",
      "  weights, returns, risks = markowitz(country_dat)\n",
      "<ipython-input-191-58541f65e2d5>:9: RankWarning: Polyfit may be poorly conditioned\n",
      "  weights, returns, risks = markowitz(country_dat)\n",
      "<ipython-input-191-58541f65e2d5>:9: RankWarning: Polyfit may be poorly conditioned\n",
      "  weights, returns, risks = markowitz(country_dat)\n",
      "<ipython-input-191-58541f65e2d5>:9: RankWarning: Polyfit may be poorly conditioned\n",
      "  weights, returns, risks = markowitz(country_dat)\n",
      "<ipython-input-191-58541f65e2d5>:9: RankWarning: Polyfit may be poorly conditioned\n",
      "  weights, returns, risks = markowitz(country_dat)\n",
      "<ipython-input-191-58541f65e2d5>:9: RankWarning: Polyfit may be poorly conditioned\n",
      "  weights, returns, risks = markowitz(country_dat)\n",
      "<ipython-input-191-58541f65e2d5>:9: RankWarning: Polyfit may be poorly conditioned\n",
      "  weights, returns, risks = markowitz(country_dat)\n",
      "<ipython-input-191-58541f65e2d5>:9: RankWarning: Polyfit may be poorly conditioned\n",
      "  weights, returns, risks = markowitz(country_dat)\n",
      "<ipython-input-191-58541f65e2d5>:9: RankWarning: Polyfit may be poorly conditioned\n",
      "  weights, returns, risks = markowitz(country_dat)\n",
      "<ipython-input-191-58541f65e2d5>:9: RankWarning: Polyfit may be poorly conditioned\n",
      "  weights, returns, risks = markowitz(country_dat)\n",
      "<ipython-input-191-58541f65e2d5>:9: RankWarning: Polyfit may be poorly conditioned\n",
      "  weights, returns, risks = markowitz(country_dat)\n",
      "<ipython-input-191-58541f65e2d5>:9: RankWarning: Polyfit may be poorly conditioned\n",
      "  weights, returns, risks = markowitz(country_dat)\n",
      "<ipython-input-191-58541f65e2d5>:9: RankWarning: Polyfit may be poorly conditioned\n",
      "  weights, returns, risks = markowitz(country_dat)\n",
      "<ipython-input-191-58541f65e2d5>:9: RankWarning: Polyfit may be poorly conditioned\n",
      "  weights, returns, risks = markowitz(country_dat)\n",
      "<ipython-input-191-58541f65e2d5>:9: RankWarning: Polyfit may be poorly conditioned\n",
      "  weights, returns, risks = markowitz(country_dat)\n",
      "<ipython-input-191-58541f65e2d5>:9: RankWarning: Polyfit may be poorly conditioned\n",
      "  weights, returns, risks = markowitz(country_dat)\n",
      "<ipython-input-191-58541f65e2d5>:9: RankWarning: Polyfit may be poorly conditioned\n",
      "  weights, returns, risks = markowitz(country_dat)\n",
      "<ipython-input-191-58541f65e2d5>:9: RankWarning: Polyfit may be poorly conditioned\n",
      "  weights, returns, risks = markowitz(country_dat)\n",
      "<ipython-input-191-58541f65e2d5>:9: RankWarning: Polyfit may be poorly conditioned\n",
      "  weights, returns, risks = markowitz(country_dat)\n",
      "<ipython-input-191-58541f65e2d5>:9: RankWarning: Polyfit may be poorly conditioned\n",
      "  weights, returns, risks = markowitz(country_dat)\n",
      "<ipython-input-191-58541f65e2d5>:9: RankWarning: Polyfit may be poorly conditioned\n",
      "  weights, returns, risks = markowitz(country_dat)\n",
      "<ipython-input-191-58541f65e2d5>:9: RankWarning: Polyfit may be poorly conditioned\n",
      "  weights, returns, risks = markowitz(country_dat)\n",
      "<ipython-input-191-58541f65e2d5>:9: RankWarning: Polyfit may be poorly conditioned\n",
      "  weights, returns, risks = markowitz(country_dat)\n",
      "<ipython-input-191-58541f65e2d5>:9: RankWarning: Polyfit may be poorly conditioned\n",
      "  weights, returns, risks = markowitz(country_dat)\n",
      "<ipython-input-191-58541f65e2d5>:9: RankWarning: Polyfit may be poorly conditioned\n",
      "  weights, returns, risks = markowitz(country_dat)\n",
      "<ipython-input-191-58541f65e2d5>:9: RankWarning: Polyfit may be poorly conditioned\n",
      "  weights, returns, risks = markowitz(country_dat)\n",
      "<ipython-input-191-58541f65e2d5>:9: RankWarning: Polyfit may be poorly conditioned\n",
      "  weights, returns, risks = markowitz(country_dat)\n",
      "<ipython-input-191-58541f65e2d5>:9: RankWarning: Polyfit may be poorly conditioned\n",
      "  weights, returns, risks = markowitz(country_dat)\n",
      "<ipython-input-191-58541f65e2d5>:9: RankWarning: Polyfit may be poorly conditioned\n",
      "  weights, returns, risks = markowitz(country_dat)\n",
      "<ipython-input-191-58541f65e2d5>:9: RankWarning: Polyfit may be poorly conditioned\n",
      "  weights, returns, risks = markowitz(country_dat)\n",
      "<ipython-input-191-58541f65e2d5>:9: RankWarning: Polyfit may be poorly conditioned\n",
      "  weights, returns, risks = markowitz(country_dat)\n",
      "<ipython-input-191-58541f65e2d5>:9: RankWarning: Polyfit may be poorly conditioned\n",
      "  weights, returns, risks = markowitz(country_dat)\n",
      "<ipython-input-191-58541f65e2d5>:9: RankWarning: Polyfit may be poorly conditioned\n",
      "  weights, returns, risks = markowitz(country_dat)\n",
      "<ipython-input-191-58541f65e2d5>:9: RankWarning: Polyfit may be poorly conditioned\n",
      "  weights, returns, risks = markowitz(country_dat)\n",
      "<ipython-input-191-58541f65e2d5>:9: RankWarning: Polyfit may be poorly conditioned\n",
      "  weights, returns, risks = markowitz(country_dat)\n",
      "<ipython-input-191-58541f65e2d5>:9: RankWarning: Polyfit may be poorly conditioned\n",
      "  weights, returns, risks = markowitz(country_dat)\n",
      "<ipython-input-191-58541f65e2d5>:9: RankWarning: Polyfit may be poorly conditioned\n",
      "  weights, returns, risks = markowitz(country_dat)\n"
     ]
    }
   ],
   "source": [
    "weight_res = np.zeros((len(data.groupby('Country')),len(cdat.T)-2))\n",
    "return_res = np.zeros((len(data.groupby('Country')),len(cdat.T)-2))\n",
    "risks_res = np.zeros((len(data.groupby('Country')),len(cdat.T)-2))\n",
    "\n",
    "for i in range(len(data.groupby('Country'))):\n",
    "    country_dat = cdat.loc[(cdat.Country != cdat.Country.unique()[i])]\n",
    "    country_dat = country_dat.loc[:,['Solid_fossil_fuels','Peat_and_peat_products','Oil_and_petroleum_products', \n",
    "                  'Natural_gas', 'Nuclear_heat', 'Renewables_and_biofuels']]\n",
    "    weights, returns, risks = markowitz(country_dat)\n",
    "    weight_res[i,:] = weights.T\n",
    "    return_res[i,:] = np.array(returns).T\n",
    "    risks_res[i,:] = np.array(risks).T"
   ]
  },
  {
   "cell_type": "code",
   "execution_count": 199,
   "id": "2291995b-1289-4b5c-8db6-7650983bd213",
   "metadata": {},
   "outputs": [
    {
     "name": "stdout",
     "output_type": "stream",
     "text": [
      "weights (mean) = [8.72009909e-11 9.99999999e-01 1.28920129e-10 7.59508692e-11\n",
      " 4.41303026e-10 6.23036381e-10] \n",
      "returns (mean) = [1.04244229e-04 1.19544776e+06 1.54117279e-04 9.07952966e-05\n",
      " 5.27554715e-04 7.44807447e-04] \n",
      "risks (mean) =[nan nan nan nan nan nan]\n"
     ]
    }
   ],
   "source": [
    "print('weights (mean) = '+str(np.mean(weight_res, axis=0)),\n",
    "      '\\nreturns (mean) = '+str(np.mean(return_res, axis=0)),\n",
    "      '\\nrisks (mean) ='+str(np.mean(risks_res, axis=0)))"
   ]
  },
  {
   "cell_type": "code",
   "execution_count": 192,
   "id": "70e81585-f212-4e52-affe-4c0e2c876e8a",
   "metadata": {},
   "outputs": [
    {
     "name": "stderr",
     "output_type": "stream",
     "text": [
      "<ipython-input-192-1da8031fae31>:9: RankWarning: Polyfit may be poorly conditioned\n",
      "  weights, returns, risks = markowitz(year_dat)\n",
      "<ipython-input-172-3e9f9c405d3b>:37: RuntimeWarning: Degrees of freedom <= 0 for slice\n",
      "  rsk = wt.T @ np.cov(returns) @ wt\n",
      "/Users/elizabeth/opt/anaconda3/lib/python3.8/site-packages/numpy/lib/function_base.py:2680: RuntimeWarning: divide by zero encountered in true_divide\n",
      "  c *= np.true_divide(1, fact)\n",
      "/Users/elizabeth/opt/anaconda3/lib/python3.8/site-packages/numpy/lib/function_base.py:2680: RuntimeWarning: invalid value encountered in multiply\n",
      "  c *= np.true_divide(1, fact)\n",
      "<ipython-input-192-1da8031fae31>:9: RankWarning: Polyfit may be poorly conditioned\n",
      "  weights, returns, risks = markowitz(year_dat)\n",
      "<ipython-input-172-3e9f9c405d3b>:37: RuntimeWarning: Degrees of freedom <= 0 for slice\n",
      "  rsk = wt.T @ np.cov(returns) @ wt\n",
      "/Users/elizabeth/opt/anaconda3/lib/python3.8/site-packages/numpy/lib/function_base.py:2680: RuntimeWarning: divide by zero encountered in true_divide\n",
      "  c *= np.true_divide(1, fact)\n",
      "/Users/elizabeth/opt/anaconda3/lib/python3.8/site-packages/numpy/lib/function_base.py:2680: RuntimeWarning: invalid value encountered in multiply\n",
      "  c *= np.true_divide(1, fact)\n",
      "<ipython-input-192-1da8031fae31>:9: RankWarning: Polyfit may be poorly conditioned\n",
      "  weights, returns, risks = markowitz(year_dat)\n",
      "<ipython-input-172-3e9f9c405d3b>:37: RuntimeWarning: Degrees of freedom <= 0 for slice\n",
      "  rsk = wt.T @ np.cov(returns) @ wt\n",
      "/Users/elizabeth/opt/anaconda3/lib/python3.8/site-packages/numpy/lib/function_base.py:2680: RuntimeWarning: divide by zero encountered in true_divide\n",
      "  c *= np.true_divide(1, fact)\n",
      "/Users/elizabeth/opt/anaconda3/lib/python3.8/site-packages/numpy/lib/function_base.py:2680: RuntimeWarning: invalid value encountered in multiply\n",
      "  c *= np.true_divide(1, fact)\n",
      "<ipython-input-192-1da8031fae31>:9: RankWarning: Polyfit may be poorly conditioned\n",
      "  weights, returns, risks = markowitz(year_dat)\n",
      "<ipython-input-172-3e9f9c405d3b>:37: RuntimeWarning: Degrees of freedom <= 0 for slice\n",
      "  rsk = wt.T @ np.cov(returns) @ wt\n",
      "/Users/elizabeth/opt/anaconda3/lib/python3.8/site-packages/numpy/lib/function_base.py:2680: RuntimeWarning: divide by zero encountered in true_divide\n",
      "  c *= np.true_divide(1, fact)\n",
      "/Users/elizabeth/opt/anaconda3/lib/python3.8/site-packages/numpy/lib/function_base.py:2680: RuntimeWarning: invalid value encountered in multiply\n",
      "  c *= np.true_divide(1, fact)\n",
      "<ipython-input-192-1da8031fae31>:9: RankWarning: Polyfit may be poorly conditioned\n",
      "  weights, returns, risks = markowitz(year_dat)\n",
      "<ipython-input-172-3e9f9c405d3b>:37: RuntimeWarning: Degrees of freedom <= 0 for slice\n",
      "  rsk = wt.T @ np.cov(returns) @ wt\n",
      "/Users/elizabeth/opt/anaconda3/lib/python3.8/site-packages/numpy/lib/function_base.py:2680: RuntimeWarning: divide by zero encountered in true_divide\n",
      "  c *= np.true_divide(1, fact)\n",
      "/Users/elizabeth/opt/anaconda3/lib/python3.8/site-packages/numpy/lib/function_base.py:2680: RuntimeWarning: invalid value encountered in multiply\n",
      "  c *= np.true_divide(1, fact)\n",
      "<ipython-input-192-1da8031fae31>:9: RankWarning: Polyfit may be poorly conditioned\n",
      "  weights, returns, risks = markowitz(year_dat)\n",
      "<ipython-input-172-3e9f9c405d3b>:37: RuntimeWarning: Degrees of freedom <= 0 for slice\n",
      "  rsk = wt.T @ np.cov(returns) @ wt\n",
      "/Users/elizabeth/opt/anaconda3/lib/python3.8/site-packages/numpy/lib/function_base.py:2680: RuntimeWarning: divide by zero encountered in true_divide\n",
      "  c *= np.true_divide(1, fact)\n",
      "/Users/elizabeth/opt/anaconda3/lib/python3.8/site-packages/numpy/lib/function_base.py:2680: RuntimeWarning: invalid value encountered in multiply\n",
      "  c *= np.true_divide(1, fact)\n",
      "<ipython-input-192-1da8031fae31>:9: RankWarning: Polyfit may be poorly conditioned\n",
      "  weights, returns, risks = markowitz(year_dat)\n",
      "<ipython-input-172-3e9f9c405d3b>:37: RuntimeWarning: Degrees of freedom <= 0 for slice\n",
      "  rsk = wt.T @ np.cov(returns) @ wt\n",
      "/Users/elizabeth/opt/anaconda3/lib/python3.8/site-packages/numpy/lib/function_base.py:2680: RuntimeWarning: divide by zero encountered in true_divide\n",
      "  c *= np.true_divide(1, fact)\n",
      "/Users/elizabeth/opt/anaconda3/lib/python3.8/site-packages/numpy/lib/function_base.py:2680: RuntimeWarning: invalid value encountered in multiply\n",
      "  c *= np.true_divide(1, fact)\n",
      "<ipython-input-192-1da8031fae31>:9: RankWarning: Polyfit may be poorly conditioned\n",
      "  weights, returns, risks = markowitz(year_dat)\n",
      "<ipython-input-172-3e9f9c405d3b>:37: RuntimeWarning: Degrees of freedom <= 0 for slice\n",
      "  rsk = wt.T @ np.cov(returns) @ wt\n",
      "/Users/elizabeth/opt/anaconda3/lib/python3.8/site-packages/numpy/lib/function_base.py:2680: RuntimeWarning: divide by zero encountered in true_divide\n",
      "  c *= np.true_divide(1, fact)\n",
      "/Users/elizabeth/opt/anaconda3/lib/python3.8/site-packages/numpy/lib/function_base.py:2680: RuntimeWarning: invalid value encountered in multiply\n",
      "  c *= np.true_divide(1, fact)\n",
      "<ipython-input-192-1da8031fae31>:9: RankWarning: Polyfit may be poorly conditioned\n",
      "  weights, returns, risks = markowitz(year_dat)\n",
      "<ipython-input-172-3e9f9c405d3b>:37: RuntimeWarning: Degrees of freedom <= 0 for slice\n",
      "  rsk = wt.T @ np.cov(returns) @ wt\n",
      "/Users/elizabeth/opt/anaconda3/lib/python3.8/site-packages/numpy/lib/function_base.py:2680: RuntimeWarning: divide by zero encountered in true_divide\n",
      "  c *= np.true_divide(1, fact)\n",
      "/Users/elizabeth/opt/anaconda3/lib/python3.8/site-packages/numpy/lib/function_base.py:2680: RuntimeWarning: invalid value encountered in multiply\n",
      "  c *= np.true_divide(1, fact)\n",
      "<ipython-input-192-1da8031fae31>:9: RankWarning: Polyfit may be poorly conditioned\n",
      "  weights, returns, risks = markowitz(year_dat)\n",
      "<ipython-input-172-3e9f9c405d3b>:37: RuntimeWarning: Degrees of freedom <= 0 for slice\n",
      "  rsk = wt.T @ np.cov(returns) @ wt\n",
      "/Users/elizabeth/opt/anaconda3/lib/python3.8/site-packages/numpy/lib/function_base.py:2680: RuntimeWarning: divide by zero encountered in true_divide\n",
      "  c *= np.true_divide(1, fact)\n",
      "/Users/elizabeth/opt/anaconda3/lib/python3.8/site-packages/numpy/lib/function_base.py:2680: RuntimeWarning: invalid value encountered in multiply\n",
      "  c *= np.true_divide(1, fact)\n"
     ]
    }
   ],
   "source": [
    "weight_res = np.zeros((len(data.groupby('Year')),len(cdat.T)-2))\n",
    "return_res = np.zeros((len(data.groupby('Year')),len(cdat.T)-2))\n",
    "risks_res = np.zeros((len(data.groupby('Year')),len(cdat.T)-2))\n",
    "\n",
    "for i in range(len(data.groupby('Year'))):\n",
    "    year_dat = cdat.loc[(cdat.Year != cdat.Year.unique()[i])]\n",
    "    year_dat = year_dat.loc[:,['Solid_fossil_fuels','Peat_and_peat_products','Oil_and_petroleum_products', \n",
    "                  'Natural_gas', 'Nuclear_heat', 'Renewables_and_biofuels']]\n",
    "    weights, returns, risks = markowitz(year_dat)\n",
    "    weight_res[i,:] = weights.T\n",
    "    return_res[i,:] = np.array(returns).T\n",
    "    risks_res[i,:] = np.array(risks).T"
   ]
  },
  {
   "cell_type": "code",
   "execution_count": 200,
   "id": "a85619c2-1565-482f-a47c-5bffce6bf4fe",
   "metadata": {},
   "outputs": [
    {
     "name": "stdout",
     "output_type": "stream",
     "text": [
      "weights (mean) = [8.72009909e-11 9.99999999e-01 1.28920129e-10 7.59508692e-11\n",
      " 4.41303026e-10 6.23036381e-10] \n",
      "returns (mean) = [1.04244229e-04 1.19544776e+06 1.54117279e-04 9.07952966e-05\n",
      " 5.27554715e-04 7.44807447e-04] \n",
      "risks (mean) =[nan nan nan nan nan nan]\n"
     ]
    }
   ],
   "source": [
    "print('weights (mean) = '+str(np.mean(weight_res, axis=0)),\n",
    "      '\\nreturns (mean) = '+str(np.mean(return_res, axis=0)),\n",
    "      '\\nrisks (mean) ='+str(np.mean(risks_res, axis=0)))"
   ]
  },
  {
   "cell_type": "markdown",
   "id": "df6c6ede-2f9e-48b1-ba7f-109675af76e9",
   "metadata": {},
   "source": [
    "## Repeat now dropping missing data"
   ]
  },
  {
   "cell_type": "code",
   "execution_count": 175,
   "id": "88531b57-55a2-4d39-a2ac-d7d996fce58e",
   "metadata": {},
   "outputs": [
    {
     "data": {
      "text/plain": [
       "(413, 18)"
      ]
     },
     "execution_count": 175,
     "metadata": {},
     "output_type": "execute_result"
    }
   ],
   "source": [
    "data_drop = data.dropna()\n",
    "data_drop.shape    "
   ]
  },
  {
   "cell_type": "code",
   "execution_count": 193,
   "id": "d9995014-e280-43ce-bb66-7455f8ebec85",
   "metadata": {},
   "outputs": [],
   "source": [
    "cdat = data_drop.loc[:,['Solid_fossil_fuels','Peat_and_peat_products','Oil_and_petroleum_products', \n",
    "                  'Natural_gas', 'Nuclear_heat', 'Renewables_and_biofuels']]"
   ]
  },
  {
   "cell_type": "code",
   "execution_count": 194,
   "id": "d0682dcf-0372-4d7a-943f-7dc39e195c3e",
   "metadata": {},
   "outputs": [
    {
     "name": "stderr",
     "output_type": "stream",
     "text": [
      "/Users/elizabeth/opt/anaconda3/lib/python3.8/site-packages/IPython/core/interactiveshell.py:3437: RankWarning: Polyfit may be poorly conditioned\n",
      "  exec(code_obj, self.user_global_ns, self.user_ns)\n"
     ]
    }
   ],
   "source": [
    "n = len(cdat.T) # n assets\n",
    "returns = np.array(cdat).T\n",
    "    \n",
    "N = len(cdat) # n obs\n",
    "mus = [(1/n) + t/N for t in range(N)]#[np.mean(returns, axis=0)]#[10**(5.0 * t/N - 1.0) for t in range(N)]\n",
    "    \n",
    "# Convert to cvxopt matrices\n",
    "S = opt.matrix(np.cov(returns))\n",
    "pbar = opt.matrix(np.mean(returns, axis = 1))\n",
    "    \n",
    "# Create constraint matrices\n",
    "G = -opt.matrix(np.eye(n)) # negative nxn identity matrix\n",
    "h = opt.matrix(0.0, (n,1))\n",
    "A = opt.matrix(1.0, (1,n))\n",
    "b = opt.matrix(1.0)\n",
    "    \n",
    "# Calculate efficient frontier weights using quadratic programming\n",
    "portfolios = [solvers.qp(mu*S, -pbar, G, h, A, b)['x']\n",
    "                  for mu in mus]\n",
    "## Calculate risk and returns for frontier\n",
    "ret = [blas.dot(pbar, x) for x in portfolios]\n",
    "risks = [np.sqrt(blas.dot(x, S*x)) for x in portfolios]\n",
    "## Calculate the 2nd degree polynomail of the frontier curve\n",
    "m1 = np.polyfit(ret, risks, 2)\n",
    "x1 = np.sqrt(m1[2] / m1[0])\n",
    "## Calculate the optimal portfolio\n",
    "wt = solvers.qp(opt.matrix(x1 * S), -pbar, G, h, A, b)['x']\n",
    "ret = np.zeros((n,1))\n",
    "rsk = np.zeros((n,1))\n",
    "for j in range(n):\n",
    "    ret[j] = np.sum(np.array(wt)[j] * np.mean(returns, axis = 1))\n",
    "    rsk = wt.T @ np.cov(returns) @ wt"
   ]
  },
  {
   "cell_type": "code",
   "execution_count": 203,
   "id": "bc1560fe-7eca-400e-94fb-419abaf1afa0",
   "metadata": {},
   "outputs": [
    {
     "name": "stdout",
     "output_type": "stream",
     "text": [
      "weights = [ 3.96e-11]\n",
      "[ 1.00e+00]\n",
      "[ 6.82e-11]\n",
      "[ 1.95e-11]\n",
      "[ 2.34e-10]\n",
      "[ 3.44e-10]\n",
      " \n",
      "returns = [[4.73611556e-05]\n",
      " [1.19544776e+06]\n",
      " [8.14834554e-05]\n",
      " [2.33189393e-05]\n",
      " [2.80026965e-04]\n",
      " [4.11535725e-04]] \n",
      "risks (mean) =[[37246969.01880678]]\n"
     ]
    }
   ],
   "source": [
    "print('weights = '+str(wt),\n",
    "      '\\nreturns = '+str(ret),\n",
    "      '\\nrisks (mean) ='+str(rsk))"
   ]
  },
  {
   "cell_type": "markdown",
   "id": "24c85069-a9ff-44f6-9a1f-7ccc82c5d8c0",
   "metadata": {},
   "source": [
    "## Now drop one country at a time"
   ]
  },
  {
   "cell_type": "code",
   "execution_count": 195,
   "id": "face4ad6-e3aa-43f2-82a4-0340dff5a7e7",
   "metadata": {},
   "outputs": [],
   "source": [
    "cdat = data_drop.loc[:,['Country','Year','Solid_fossil_fuels','Peat_and_peat_products','Oil_and_petroleum_products', \n",
    "                  'Natural_gas', 'Nuclear_heat', 'Renewables_and_biofuels']]"
   ]
  },
  {
   "cell_type": "code",
   "execution_count": 196,
   "id": "e527813b-ed42-4e58-8a0d-221eb3d82f01",
   "metadata": {},
   "outputs": [
    {
     "name": "stderr",
     "output_type": "stream",
     "text": [
      "<ipython-input-196-58541f65e2d5>:9: RankWarning: Polyfit may be poorly conditioned\n",
      "  weights, returns, risks = markowitz(country_dat)\n",
      "<ipython-input-196-58541f65e2d5>:9: RankWarning: Polyfit may be poorly conditioned\n",
      "  weights, returns, risks = markowitz(country_dat)\n",
      "<ipython-input-172-3e9f9c405d3b>:37: RuntimeWarning: Degrees of freedom <= 0 for slice\n",
      "  rsk = wt.T @ np.cov(returns) @ wt\n",
      "<ipython-input-196-58541f65e2d5>:9: RankWarning: Polyfit may be poorly conditioned\n",
      "  weights, returns, risks = markowitz(country_dat)\n",
      "<ipython-input-196-58541f65e2d5>:9: RankWarning: Polyfit may be poorly conditioned\n",
      "  weights, returns, risks = markowitz(country_dat)\n",
      "<ipython-input-196-58541f65e2d5>:9: RankWarning: Polyfit may be poorly conditioned\n",
      "  weights, returns, risks = markowitz(country_dat)\n",
      "<ipython-input-196-58541f65e2d5>:9: RankWarning: Polyfit may be poorly conditioned\n",
      "  weights, returns, risks = markowitz(country_dat)\n",
      "<ipython-input-196-58541f65e2d5>:9: RankWarning: Polyfit may be poorly conditioned\n",
      "  weights, returns, risks = markowitz(country_dat)\n",
      "<ipython-input-196-58541f65e2d5>:9: RankWarning: Polyfit may be poorly conditioned\n",
      "  weights, returns, risks = markowitz(country_dat)\n",
      "<ipython-input-196-58541f65e2d5>:9: RankWarning: Polyfit may be poorly conditioned\n",
      "  weights, returns, risks = markowitz(country_dat)\n",
      "<ipython-input-196-58541f65e2d5>:9: RankWarning: Polyfit may be poorly conditioned\n",
      "  weights, returns, risks = markowitz(country_dat)\n",
      "<ipython-input-196-58541f65e2d5>:9: RankWarning: Polyfit may be poorly conditioned\n",
      "  weights, returns, risks = markowitz(country_dat)\n",
      "<ipython-input-196-58541f65e2d5>:9: RankWarning: Polyfit may be poorly conditioned\n",
      "  weights, returns, risks = markowitz(country_dat)\n",
      "<ipython-input-196-58541f65e2d5>:9: RankWarning: Polyfit may be poorly conditioned\n",
      "  weights, returns, risks = markowitz(country_dat)\n",
      "<ipython-input-196-58541f65e2d5>:9: RankWarning: Polyfit may be poorly conditioned\n",
      "  weights, returns, risks = markowitz(country_dat)\n",
      "<ipython-input-196-58541f65e2d5>:9: RankWarning: Polyfit may be poorly conditioned\n",
      "  weights, returns, risks = markowitz(country_dat)\n",
      "<ipython-input-196-58541f65e2d5>:9: RankWarning: Polyfit may be poorly conditioned\n",
      "  weights, returns, risks = markowitz(country_dat)\n",
      "<ipython-input-196-58541f65e2d5>:9: RankWarning: Polyfit may be poorly conditioned\n",
      "  weights, returns, risks = markowitz(country_dat)\n",
      "<ipython-input-196-58541f65e2d5>:9: RankWarning: Polyfit may be poorly conditioned\n",
      "  weights, returns, risks = markowitz(country_dat)\n",
      "<ipython-input-196-58541f65e2d5>:9: RankWarning: Polyfit may be poorly conditioned\n",
      "  weights, returns, risks = markowitz(country_dat)\n",
      "<ipython-input-196-58541f65e2d5>:9: RankWarning: Polyfit may be poorly conditioned\n",
      "  weights, returns, risks = markowitz(country_dat)\n",
      "<ipython-input-196-58541f65e2d5>:9: RankWarning: Polyfit may be poorly conditioned\n",
      "  weights, returns, risks = markowitz(country_dat)\n",
      "<ipython-input-196-58541f65e2d5>:9: RankWarning: Polyfit may be poorly conditioned\n",
      "  weights, returns, risks = markowitz(country_dat)\n",
      "<ipython-input-196-58541f65e2d5>:9: RankWarning: Polyfit may be poorly conditioned\n",
      "  weights, returns, risks = markowitz(country_dat)\n",
      "<ipython-input-196-58541f65e2d5>:9: RankWarning: Polyfit may be poorly conditioned\n",
      "  weights, returns, risks = markowitz(country_dat)\n",
      "<ipython-input-196-58541f65e2d5>:9: RankWarning: Polyfit may be poorly conditioned\n",
      "  weights, returns, risks = markowitz(country_dat)\n",
      "<ipython-input-196-58541f65e2d5>:9: RankWarning: Polyfit may be poorly conditioned\n",
      "  weights, returns, risks = markowitz(country_dat)\n",
      "<ipython-input-196-58541f65e2d5>:9: RankWarning: Polyfit may be poorly conditioned\n",
      "  weights, returns, risks = markowitz(country_dat)\n",
      "<ipython-input-196-58541f65e2d5>:9: RankWarning: Polyfit may be poorly conditioned\n",
      "  weights, returns, risks = markowitz(country_dat)\n",
      "<ipython-input-196-58541f65e2d5>:9: RankWarning: Polyfit may be poorly conditioned\n",
      "  weights, returns, risks = markowitz(country_dat)\n",
      "<ipython-input-196-58541f65e2d5>:9: RankWarning: Polyfit may be poorly conditioned\n",
      "  weights, returns, risks = markowitz(country_dat)\n",
      "<ipython-input-196-58541f65e2d5>:9: RankWarning: Polyfit may be poorly conditioned\n",
      "  weights, returns, risks = markowitz(country_dat)\n",
      "<ipython-input-196-58541f65e2d5>:9: RankWarning: Polyfit may be poorly conditioned\n",
      "  weights, returns, risks = markowitz(country_dat)\n",
      "<ipython-input-196-58541f65e2d5>:9: RankWarning: Polyfit may be poorly conditioned\n",
      "  weights, returns, risks = markowitz(country_dat)\n",
      "<ipython-input-196-58541f65e2d5>:9: RankWarning: Polyfit may be poorly conditioned\n",
      "  weights, returns, risks = markowitz(country_dat)\n",
      "<ipython-input-196-58541f65e2d5>:9: RankWarning: Polyfit may be poorly conditioned\n",
      "  weights, returns, risks = markowitz(country_dat)\n",
      "<ipython-input-196-58541f65e2d5>:9: RankWarning: Polyfit may be poorly conditioned\n",
      "  weights, returns, risks = markowitz(country_dat)\n",
      "<ipython-input-196-58541f65e2d5>:9: RankWarning: Polyfit may be poorly conditioned\n",
      "  weights, returns, risks = markowitz(country_dat)\n",
      "<ipython-input-196-58541f65e2d5>:9: RankWarning: Polyfit may be poorly conditioned\n",
      "  weights, returns, risks = markowitz(country_dat)\n",
      "<ipython-input-196-58541f65e2d5>:9: RankWarning: Polyfit may be poorly conditioned\n",
      "  weights, returns, risks = markowitz(country_dat)\n",
      "<ipython-input-196-58541f65e2d5>:9: RankWarning: Polyfit may be poorly conditioned\n",
      "  weights, returns, risks = markowitz(country_dat)\n",
      "<ipython-input-196-58541f65e2d5>:9: RankWarning: Polyfit may be poorly conditioned\n",
      "  weights, returns, risks = markowitz(country_dat)\n",
      "<ipython-input-196-58541f65e2d5>:9: RankWarning: Polyfit may be poorly conditioned\n",
      "  weights, returns, risks = markowitz(country_dat)\n"
     ]
    }
   ],
   "source": [
    "weight_res = np.zeros((len(data.groupby('Country')),len(cdat.T)-2))\n",
    "return_res = np.zeros((len(data.groupby('Country')),len(cdat.T)-2))\n",
    "risks_res = np.zeros((len(data.groupby('Country')),len(cdat.T)-2))\n",
    "\n",
    "for i in range(len(data.groupby('Country'))):\n",
    "    country_dat = cdat.loc[(cdat.Country != cdat.Country.unique()[i])]\n",
    "    country_dat = country_dat.loc[:,['Solid_fossil_fuels','Peat_and_peat_products','Oil_and_petroleum_products', \n",
    "                  'Natural_gas', 'Nuclear_heat', 'Renewables_and_biofuels']]\n",
    "    weights, returns, risks = markowitz(country_dat)\n",
    "    weight_res[i,:] = weights.T\n",
    "    return_res[i,:] = np.array(returns).T\n",
    "    risks_res[i,:] = np.array(risks).T"
   ]
  },
  {
   "cell_type": "code",
   "execution_count": 204,
   "id": "5412c768-4c82-4198-ad79-135784cca075",
   "metadata": {},
   "outputs": [
    {
     "name": "stdout",
     "output_type": "stream",
     "text": [
      "weights (mean) = [8.72009909e-11 9.99999999e-01 1.28920129e-10 7.59508692e-11\n",
      " 4.41303026e-10 6.23036381e-10] \n",
      "returns (mean) = [1.04244229e-04 1.19544776e+06 1.54117279e-04 9.07952966e-05\n",
      " 5.27554715e-04 7.44807447e-04] \n",
      "risks (mean) =[nan nan nan nan nan nan]\n"
     ]
    }
   ],
   "source": [
    "print('weights (mean) = '+str(np.mean(weight_res, axis=0)),\n",
    "      '\\nreturns (mean) = '+str(np.mean(return_res, axis=0)),\n",
    "      '\\nrisks (mean) ='+str(np.mean(risks_res, axis=0)))"
   ]
  },
  {
   "cell_type": "markdown",
   "id": "2469a46c-d148-4897-8b94-6d4944316857",
   "metadata": {},
   "source": [
    "## Drop one year at a time"
   ]
  },
  {
   "cell_type": "code",
   "execution_count": 197,
   "id": "17e75eec-1fc9-4072-b401-87a724c660f7",
   "metadata": {},
   "outputs": [
    {
     "name": "stderr",
     "output_type": "stream",
     "text": [
      "<ipython-input-197-1da8031fae31>:9: RankWarning: Polyfit may be poorly conditioned\n",
      "  weights, returns, risks = markowitz(year_dat)\n",
      "<ipython-input-172-3e9f9c405d3b>:37: RuntimeWarning: Degrees of freedom <= 0 for slice\n",
      "  rsk = wt.T @ np.cov(returns) @ wt\n",
      "/Users/elizabeth/opt/anaconda3/lib/python3.8/site-packages/numpy/lib/function_base.py:2680: RuntimeWarning: divide by zero encountered in true_divide\n",
      "  c *= np.true_divide(1, fact)\n",
      "/Users/elizabeth/opt/anaconda3/lib/python3.8/site-packages/numpy/lib/function_base.py:2680: RuntimeWarning: invalid value encountered in multiply\n",
      "  c *= np.true_divide(1, fact)\n",
      "<ipython-input-197-1da8031fae31>:9: RankWarning: Polyfit may be poorly conditioned\n",
      "  weights, returns, risks = markowitz(year_dat)\n",
      "<ipython-input-172-3e9f9c405d3b>:37: RuntimeWarning: Degrees of freedom <= 0 for slice\n",
      "  rsk = wt.T @ np.cov(returns) @ wt\n",
      "/Users/elizabeth/opt/anaconda3/lib/python3.8/site-packages/numpy/lib/function_base.py:2680: RuntimeWarning: divide by zero encountered in true_divide\n",
      "  c *= np.true_divide(1, fact)\n",
      "/Users/elizabeth/opt/anaconda3/lib/python3.8/site-packages/numpy/lib/function_base.py:2680: RuntimeWarning: invalid value encountered in multiply\n",
      "  c *= np.true_divide(1, fact)\n",
      "<ipython-input-197-1da8031fae31>:9: RankWarning: Polyfit may be poorly conditioned\n",
      "  weights, returns, risks = markowitz(year_dat)\n",
      "<ipython-input-172-3e9f9c405d3b>:37: RuntimeWarning: Degrees of freedom <= 0 for slice\n",
      "  rsk = wt.T @ np.cov(returns) @ wt\n",
      "/Users/elizabeth/opt/anaconda3/lib/python3.8/site-packages/numpy/lib/function_base.py:2680: RuntimeWarning: divide by zero encountered in true_divide\n",
      "  c *= np.true_divide(1, fact)\n",
      "/Users/elizabeth/opt/anaconda3/lib/python3.8/site-packages/numpy/lib/function_base.py:2680: RuntimeWarning: invalid value encountered in multiply\n",
      "  c *= np.true_divide(1, fact)\n",
      "<ipython-input-197-1da8031fae31>:9: RankWarning: Polyfit may be poorly conditioned\n",
      "  weights, returns, risks = markowitz(year_dat)\n",
      "<ipython-input-172-3e9f9c405d3b>:37: RuntimeWarning: Degrees of freedom <= 0 for slice\n",
      "  rsk = wt.T @ np.cov(returns) @ wt\n",
      "/Users/elizabeth/opt/anaconda3/lib/python3.8/site-packages/numpy/lib/function_base.py:2680: RuntimeWarning: divide by zero encountered in true_divide\n",
      "  c *= np.true_divide(1, fact)\n",
      "/Users/elizabeth/opt/anaconda3/lib/python3.8/site-packages/numpy/lib/function_base.py:2680: RuntimeWarning: invalid value encountered in multiply\n",
      "  c *= np.true_divide(1, fact)\n",
      "<ipython-input-197-1da8031fae31>:9: RankWarning: Polyfit may be poorly conditioned\n",
      "  weights, returns, risks = markowitz(year_dat)\n",
      "<ipython-input-172-3e9f9c405d3b>:37: RuntimeWarning: Degrees of freedom <= 0 for slice\n",
      "  rsk = wt.T @ np.cov(returns) @ wt\n",
      "/Users/elizabeth/opt/anaconda3/lib/python3.8/site-packages/numpy/lib/function_base.py:2680: RuntimeWarning: divide by zero encountered in true_divide\n",
      "  c *= np.true_divide(1, fact)\n",
      "/Users/elizabeth/opt/anaconda3/lib/python3.8/site-packages/numpy/lib/function_base.py:2680: RuntimeWarning: invalid value encountered in multiply\n",
      "  c *= np.true_divide(1, fact)\n",
      "<ipython-input-197-1da8031fae31>:9: RankWarning: Polyfit may be poorly conditioned\n",
      "  weights, returns, risks = markowitz(year_dat)\n",
      "<ipython-input-172-3e9f9c405d3b>:37: RuntimeWarning: Degrees of freedom <= 0 for slice\n",
      "  rsk = wt.T @ np.cov(returns) @ wt\n",
      "/Users/elizabeth/opt/anaconda3/lib/python3.8/site-packages/numpy/lib/function_base.py:2680: RuntimeWarning: divide by zero encountered in true_divide\n",
      "  c *= np.true_divide(1, fact)\n",
      "/Users/elizabeth/opt/anaconda3/lib/python3.8/site-packages/numpy/lib/function_base.py:2680: RuntimeWarning: invalid value encountered in multiply\n",
      "  c *= np.true_divide(1, fact)\n",
      "<ipython-input-197-1da8031fae31>:9: RankWarning: Polyfit may be poorly conditioned\n",
      "  weights, returns, risks = markowitz(year_dat)\n",
      "<ipython-input-172-3e9f9c405d3b>:37: RuntimeWarning: Degrees of freedom <= 0 for slice\n",
      "  rsk = wt.T @ np.cov(returns) @ wt\n",
      "/Users/elizabeth/opt/anaconda3/lib/python3.8/site-packages/numpy/lib/function_base.py:2680: RuntimeWarning: divide by zero encountered in true_divide\n",
      "  c *= np.true_divide(1, fact)\n",
      "/Users/elizabeth/opt/anaconda3/lib/python3.8/site-packages/numpy/lib/function_base.py:2680: RuntimeWarning: invalid value encountered in multiply\n",
      "  c *= np.true_divide(1, fact)\n",
      "<ipython-input-197-1da8031fae31>:9: RankWarning: Polyfit may be poorly conditioned\n",
      "  weights, returns, risks = markowitz(year_dat)\n",
      "<ipython-input-172-3e9f9c405d3b>:37: RuntimeWarning: Degrees of freedom <= 0 for slice\n",
      "  rsk = wt.T @ np.cov(returns) @ wt\n",
      "/Users/elizabeth/opt/anaconda3/lib/python3.8/site-packages/numpy/lib/function_base.py:2680: RuntimeWarning: divide by zero encountered in true_divide\n",
      "  c *= np.true_divide(1, fact)\n",
      "/Users/elizabeth/opt/anaconda3/lib/python3.8/site-packages/numpy/lib/function_base.py:2680: RuntimeWarning: invalid value encountered in multiply\n",
      "  c *= np.true_divide(1, fact)\n",
      "<ipython-input-197-1da8031fae31>:9: RankWarning: Polyfit may be poorly conditioned\n",
      "  weights, returns, risks = markowitz(year_dat)\n",
      "<ipython-input-172-3e9f9c405d3b>:37: RuntimeWarning: Degrees of freedom <= 0 for slice\n",
      "  rsk = wt.T @ np.cov(returns) @ wt\n",
      "/Users/elizabeth/opt/anaconda3/lib/python3.8/site-packages/numpy/lib/function_base.py:2680: RuntimeWarning: divide by zero encountered in true_divide\n",
      "  c *= np.true_divide(1, fact)\n",
      "/Users/elizabeth/opt/anaconda3/lib/python3.8/site-packages/numpy/lib/function_base.py:2680: RuntimeWarning: invalid value encountered in multiply\n",
      "  c *= np.true_divide(1, fact)\n",
      "<ipython-input-197-1da8031fae31>:9: RankWarning: Polyfit may be poorly conditioned\n",
      "  weights, returns, risks = markowitz(year_dat)\n",
      "<ipython-input-172-3e9f9c405d3b>:37: RuntimeWarning: Degrees of freedom <= 0 for slice\n",
      "  rsk = wt.T @ np.cov(returns) @ wt\n",
      "/Users/elizabeth/opt/anaconda3/lib/python3.8/site-packages/numpy/lib/function_base.py:2680: RuntimeWarning: divide by zero encountered in true_divide\n",
      "  c *= np.true_divide(1, fact)\n",
      "/Users/elizabeth/opt/anaconda3/lib/python3.8/site-packages/numpy/lib/function_base.py:2680: RuntimeWarning: invalid value encountered in multiply\n",
      "  c *= np.true_divide(1, fact)\n"
     ]
    }
   ],
   "source": [
    "weight_res = np.zeros((len(data.groupby('Year')),len(cdat.T)-2))\n",
    "return_res = np.zeros((len(data.groupby('Year')),len(cdat.T)-2))\n",
    "risks_res = np.zeros((len(data.groupby('Year')),len(cdat.T)-2))\n",
    "\n",
    "for i in range(len(data.groupby('Year'))):\n",
    "    year_dat = cdat.loc[(cdat.Year != cdat.Year.unique()[i])]\n",
    "    year_dat = year_dat.loc[:,['Solid_fossil_fuels','Peat_and_peat_products','Oil_and_petroleum_products', \n",
    "                  'Natural_gas', 'Nuclear_heat', 'Renewables_and_biofuels']]\n",
    "    weights, returns, risks = markowitz(year_dat)\n",
    "    weight_res[i,:] = weights.T\n",
    "    return_res[i,:] = np.array(returns).T\n",
    "    risks_res[i,:] = np.array(risks).T"
   ]
  },
  {
   "cell_type": "code",
   "execution_count": 205,
   "id": "aa6a549f-2599-40a3-9a67-5020d8117fcd",
   "metadata": {},
   "outputs": [
    {
     "name": "stdout",
     "output_type": "stream",
     "text": [
      "weights (mean) = [8.72009909e-11 9.99999999e-01 1.28920129e-10 7.59508692e-11\n",
      " 4.41303026e-10 6.23036381e-10] \n",
      "returns (mean) = [1.04244229e-04 1.19544776e+06 1.54117279e-04 9.07952966e-05\n",
      " 5.27554715e-04 7.44807447e-04] \n",
      "risks (mean) =[nan nan nan nan nan nan]\n"
     ]
    }
   ],
   "source": [
    "print('weights (mean) = '+str(np.mean(weight_res, axis=0)),\n",
    "      '\\nreturns (mean) = '+str(np.mean(return_res, axis=0)),\n",
    "      '\\nrisks (mean) ='+str(np.mean(risks_res, axis=0)))"
   ]
  }
 ],
 "metadata": {
  "kernelspec": {
   "display_name": "Python 3",
   "language": "python",
   "name": "python3"
  },
  "language_info": {
   "codemirror_mode": {
    "name": "ipython",
    "version": 3
   },
   "file_extension": ".py",
   "mimetype": "text/x-python",
   "name": "python",
   "nbconvert_exporter": "python",
   "pygments_lexer": "ipython3",
   "version": "3.8.8"
  }
 },
 "nbformat": 4,
 "nbformat_minor": 5
}
